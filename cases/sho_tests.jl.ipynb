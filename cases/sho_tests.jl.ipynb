{
 "cells": [
  {
   "cell_type": "code",
   "execution_count": 1,
   "metadata": {},
   "outputs": [
    {
     "data": {
      "text/plain": [
       "4-element Array{String,1}:\n",
       " \"@\"      \n",
       " \"@v#.#\"  \n",
       " \"@stdlib\"\n",
       " \"../src/\""
      ]
     },
     "execution_count": 1,
     "metadata": {},
     "output_type": "execute_result"
    }
   ],
   "source": [
    "# Add locations of modules\n",
    "push!(LOAD_PATH, \"../src/\")"
   ]
  },
  {
   "cell_type": "code",
   "execution_count": 5,
   "metadata": {},
   "outputs": [
    {
     "name": "stderr",
     "output_type": "stream",
     "text": [
      "┌ Info: Precompiling GraphicalModelLearning [top-level]\n",
      "└ @ Base loading.jl:1192\n"
     ]
    }
   ],
   "source": [
    "# Required packages\n",
    "using LinearAlgebra\n",
    "using Convex, SCS, Mosek, MosekTools\n",
    "\n",
    "using GraphicalModelLearning\n",
    "using LightGraphs\n",
    "\n",
    "# Function definitions\n",
    "using Printf, SparseArrays\n",
    "include(\"beta_scaling.jl\")\n",
    "include(\"active_learning.jl\")\n",
    "\n",
    "using DelimitedFiles"
   ]
  },
  {
   "cell_type": "code",
   "execution_count": 6,
   "metadata": {},
   "outputs": [],
   "source": [
    "using Revise"
   ]
  },
  {
   "cell_type": "code",
   "execution_count": 7,
   "metadata": {},
   "outputs": [],
   "source": [
    "import Random"
   ]
  },
  {
   "cell_type": "markdown",
   "metadata": {},
   "source": [
    "### Experiments for Spin History Only case"
   ]
  },
  {
   "cell_type": "markdown",
   "metadata": {},
   "source": [
    "#### Create the dictionary over samples"
   ]
  },
  {
   "cell_type": "code",
   "execution_count": 8,
   "metadata": {},
   "outputs": [
    {
     "name": "stderr",
     "output_type": "stream",
     "text": [
      "┌ Info: assuming spin alphabet\n",
      "└ @ GraphicalModelLearning /Users/gogol/Dropbox (Personal)/Research/LANL/Code/GML_Glauber_Dynamics.jl/src/models.jl:108\n"
     ]
    },
    {
     "name": "stdout",
     "output_type": "stream",
     "text": [
      "  (1, 2) => "
     ]
    },
    {
     "data": {
      "text/plain": [
       "alphabet: spin\n",
       "vars: 3\n",
       "terms: 3\n"
      ]
     },
     "execution_count": 8,
     "metadata": {},
     "output_type": "execute_result"
    },
    {
     "name": "stdout",
     "output_type": "stream",
     "text": [
      "0.9\n",
      "  (1, 3) => 0.1\n",
      "  (2, 3) => 0.1\n"
     ]
    }
   ],
   "source": [
    "Random.seed!(10)\n",
    "\n",
    "# Sample considering a simple factor graph\n",
    "gm_true = FactorGraph([0.0 0.9 0.1; 0.9 0.0 0.1; 0.1 0.1 0.0])\n",
    "#gm_true = FactorGraph([0.4 0.9 0.1; 0.9 0.4 0.1; 0.1 0.1 0.4])"
   ]
  },
  {
   "cell_type": "code",
   "execution_count": 11,
   "metadata": {},
   "outputs": [
    {
     "name": "stderr",
     "output_type": "stream",
     "text": [
      "┌ Info: using Glauber dynamics v1 to generate T-regime samples\n",
      "└ @ GraphicalModelLearning /Users/gogol/Dropbox (Personal)/Research/LANL/Code/GML_Glauber_Dynamics.jl/src/sampling.jl:328\n"
     ]
    },
    {
     "name": "stdout",
     "output_type": "stream",
     "text": [
      "done"
     ]
    }
   ],
   "source": [
    "# Gibbs Samples\n",
    "samples_T, samples_mixed = gibbs_sampling(gm_true, n_samples, T_regime())\n",
    "print(\"done\")"
   ]
  },
  {
   "cell_type": "code",
   "execution_count": 8,
   "metadata": {},
   "outputs": [
    {
     "data": {
      "text/plain": [
       "48×8 Array{Int64,2}:\n",
       " 3384  3  -1  -1  -1  -1  -1   1\n",
       " 7756  1   1   1   1   1   1   1\n",
       " 5277  3   1   1   1   1   1   1\n",
       "  934  2   1   1  -1   1  -1  -1\n",
       "  936  1   1   1  -1  -1   1  -1\n",
       "  142  2  -1   1  -1  -1   1  -1\n",
       "  543  3   1  -1   1   1  -1   1\n",
       "  945  1  -1  -1   1   1  -1   1\n",
       " 4636  1  -1  -1   1  -1  -1   1\n",
       " 3423  3  -1  -1   1  -1  -1  -1\n",
       " 4763  2   1   1  -1   1   1  -1\n",
       "  578  3   1  -1  -1   1  -1   1\n",
       "  563  3  -1   1  -1  -1   1  -1\n",
       "    ⋮                  ⋮        \n",
       "  607  3  -1   1   1  -1   1   1\n",
       "  195  1  -1   1  -1  -1   1  -1\n",
       "  581  3  -1   1  -1  -1   1   1\n",
       "  918  1  -1   1  -1   1   1  -1\n",
       " 1060  2  -1   1  -1  -1  -1  -1\n",
       "  979  2  -1   1   1  -1  -1   1\n",
       "  578  3   1  -1   1   1  -1  -1\n",
       " 4626  2  -1  -1   1  -1  -1   1\n",
       "  982  1   1  -1   1  -1  -1   1\n",
       "  190  2  -1   1   1  -1   1   1\n",
       "  123  1  -1   1   1  -1   1   1\n",
       "  128  2   1  -1   1   1  -1   1"
      ]
     },
     "execution_count": 8,
     "metadata": {},
     "output_type": "execute_result"
    }
   ],
   "source": [
    "samples_T"
   ]
  },
  {
   "cell_type": "code",
   "execution_count": 9,
   "metadata": {},
   "outputs": [
    {
     "data": {
      "text/plain": [
       "(48, 8)"
      ]
     },
     "execution_count": 9,
     "metadata": {},
     "output_type": "execute_result"
    }
   ],
   "source": [
    "size(samples_T)"
   ]
  },
  {
   "cell_type": "code",
   "execution_count": 10,
   "metadata": {},
   "outputs": [
    {
     "data": {
      "text/plain": [
       "24×8 Array{Int64,2}:\n",
       " 7756  1   1   1   1   1   1   1\n",
       " 5277  3   1   1   1   1   1   1\n",
       "  142  2  -1   1  -1  -1   1  -1\n",
       "  543  3   1  -1   1   1  -1   1\n",
       " 4636  1  -1  -1   1  -1  -1   1\n",
       " 4763  2   1   1  -1   1   1  -1\n",
       "  563  3  -1   1  -1  -1   1  -1\n",
       "  140  1   1  -1  -1   1  -1  -1\n",
       " 7537  2  -1  -1  -1  -1  -1  -1\n",
       " 2263  3  -1  -1   1  -1  -1   1\n",
       "  168  2   1  -1  -1   1  -1  -1\n",
       " 7451  1  -1  -1  -1  -1  -1  -1\n",
       "  209  1   1  -1   1   1  -1   1\n",
       " 4866  1   1   1  -1   1   1  -1\n",
       " 2278  3   1   1  -1   1   1  -1\n",
       "  599  3   1  -1  -1   1  -1  -1\n",
       " 7776  2   1   1   1   1   1   1\n",
       " 5040  3  -1  -1  -1  -1  -1  -1\n",
       "  607  3  -1   1   1  -1   1   1\n",
       "  195  1  -1   1  -1  -1   1  -1\n",
       " 4626  2  -1  -1   1  -1  -1   1\n",
       "  190  2  -1   1   1  -1   1   1\n",
       "  123  1  -1   1   1  -1   1   1\n",
       "  128  2   1  -1   1   1  -1   1"
      ]
     },
     "execution_count": 10,
     "metadata": {},
     "output_type": "execute_result"
    }
   ],
   "source": [
    "# Create a dictionary over samples_T\n",
    "dict_samples_sho = Dict{UInt8, Array{Int64, 2}}()\n",
    "num_spins = 3\n",
    "\n",
    "# Node number is the key of the dictionary\n",
    "# Should include those which are flips and those which are not\n",
    "# For the cases where there are flips, we know node i is being updated because this is single-site dynamics and we see a change\n",
    "# Where there are no flips, we don't know which node is being updated so include all possibilities \n",
    "\n",
    "# For each dict[key], array should be of form (n_samples, FLAG_flip, \\sigma^{(t)}, \\sigma^{(t+1)})\n",
    "\n",
    "# First get all those samples where there is no flip\n",
    "ind_samples_T_no_flip = []\n",
    "ind_samples_T_flip = []\n",
    "\n",
    "for ind_config = 1:size(samples_T,1)\n",
    "    if dot(samples_T[ind_config,3:(2+num_spins)],samples_T[ind_config,(3+num_spins):end]) == num_spins\n",
    "        push!(ind_samples_T_no_flip,ind_config)\n",
    "    else\n",
    "        push!(ind_samples_T_flip,ind_config)\n",
    "    end\n",
    "end\n",
    "\n",
    "samples_T_flip = samples_T[ind_samples_T_flip,:]\n",
    "samples_T_no_flip = samples_T[ind_samples_T_no_flip,:]"
   ]
  },
  {
   "cell_type": "code",
   "execution_count": 11,
   "metadata": {},
   "outputs": [
    {
     "data": {
      "text/plain": [
       "24×8 Array{Int64,2}:\n",
       " 3384  3  -1  -1  -1  -1  -1   1\n",
       "  934  2   1   1  -1   1  -1  -1\n",
       "  936  1   1   1  -1  -1   1  -1\n",
       "  945  1  -1  -1   1   1  -1   1\n",
       " 3423  3  -1  -1   1  -1  -1  -1\n",
       "  578  3   1  -1  -1   1  -1   1\n",
       " 1087  1  -1   1   1   1   1   1\n",
       "  973  2   1  -1  -1   1   1  -1\n",
       " 3557  3   1   1  -1   1   1   1\n",
       "  563  3  -1   1   1  -1   1  -1\n",
       "  970  2   1   1   1   1  -1   1\n",
       " 1060  2  -1  -1  -1  -1   1  -1\n",
       "  977  2  -1  -1   1  -1   1   1\n",
       " 1069  1  -1  -1  -1   1  -1  -1\n",
       " 1071  1   1   1   1  -1   1   1\n",
       "  933  2   1  -1   1   1   1   1\n",
       " 1030  1   1  -1  -1  -1  -1  -1\n",
       " 3535  3   1   1   1   1   1  -1\n",
       "  581  3  -1   1  -1  -1   1   1\n",
       "  918  1  -1   1  -1   1   1  -1\n",
       " 1060  2  -1   1  -1  -1  -1  -1\n",
       "  979  2  -1   1   1  -1  -1   1\n",
       "  578  3   1  -1   1   1  -1  -1\n",
       "  982  1   1  -1   1  -1  -1   1"
      ]
     },
     "metadata": {},
     "output_type": "display_data"
    }
   ],
   "source": [
    "display(samples_T_flip)"
   ]
  },
  {
   "cell_type": "code",
   "execution_count": 12,
   "metadata": {},
   "outputs": [
    {
     "data": {
      "text/plain": [
       "24×8 Array{Int64,2}:\n",
       " 7756  1   1   1   1   1   1   1\n",
       " 5277  3   1   1   1   1   1   1\n",
       "  142  2  -1   1  -1  -1   1  -1\n",
       "  543  3   1  -1   1   1  -1   1\n",
       " 4636  1  -1  -1   1  -1  -1   1\n",
       " 4763  2   1   1  -1   1   1  -1\n",
       "  563  3  -1   1  -1  -1   1  -1\n",
       "  140  1   1  -1  -1   1  -1  -1\n",
       " 7537  2  -1  -1  -1  -1  -1  -1\n",
       " 2263  3  -1  -1   1  -1  -1   1\n",
       "  168  2   1  -1  -1   1  -1  -1\n",
       " 7451  1  -1  -1  -1  -1  -1  -1\n",
       "  209  1   1  -1   1   1  -1   1\n",
       " 4866  1   1   1  -1   1   1  -1\n",
       " 2278  3   1   1  -1   1   1  -1\n",
       "  599  3   1  -1  -1   1  -1  -1\n",
       " 7776  2   1   1   1   1   1   1\n",
       " 5040  3  -1  -1  -1  -1  -1  -1\n",
       "  607  3  -1   1   1  -1   1   1\n",
       "  195  1  -1   1  -1  -1   1  -1\n",
       " 4626  2  -1  -1   1  -1  -1   1\n",
       "  190  2  -1   1   1  -1   1   1\n",
       "  123  1  -1   1   1  -1   1   1\n",
       "  128  2   1  -1   1   1  -1   1"
      ]
     },
     "metadata": {},
     "output_type": "display_data"
    }
   ],
   "source": [
    "display(samples_T_no_flip)"
   ]
  },
  {
   "cell_type": "code",
   "execution_count": 16,
   "metadata": {},
   "outputs": [
    {
     "name": "stdout",
     "output_type": "stream",
     "text": [
      "done"
     ]
    }
   ],
   "source": [
    "samples_T_no_flip[:,2] .= 0\n",
    "# Now create the dictionary\n",
    "for current_spin = 1:num_spins\n",
    "    samples_current_spin = samples_T_flip[findall(isequal(current_spin),samples_T_flip[:,2]),:]\n",
    "    samples_current_spin[:,2] .= 1\n",
    "    dict_samples_sho[current_spin] = vcat(samples_current_spin,samples_T_no_flip)\n",
    "end\n",
    "print(\"done\")"
   ]
  },
  {
   "cell_type": "code",
   "execution_count": 17,
   "metadata": {},
   "outputs": [
    {
     "data": {
      "text/plain": [
       "Dict{UInt8,Array{Int64,2}} with 3 entries:\n",
       "  0x02 => [934 1 … -1 -1; 973 1 … 1 -1; … ; 123 0 … 1 1; 128 0 … -1 1]\n",
       "  0x03 => [3384 1 … -1 1; 3423 1 … -1 -1; … ; 123 0 … 1 1; 128 0 … -1 1]\n",
       "  0x01 => [936 1 … 1 -1; 945 1 … -1 1; … ; 123 0 … 1 1; 128 0 … -1 1]"
      ]
     },
     "execution_count": 17,
     "metadata": {},
     "output_type": "execute_result"
    }
   ],
   "source": [
    "dict_samples_sho"
   ]
  },
  {
   "cell_type": "code",
   "execution_count": 18,
   "metadata": {},
   "outputs": [
    {
     "data": {
      "text/plain": [
       "32×8 Array{Int64,2}:\n",
       "  936  1   1   1  -1  -1   1  -1\n",
       "  945  1  -1  -1   1   1  -1   1\n",
       " 1087  1  -1   1   1   1   1   1\n",
       " 1069  1  -1  -1  -1   1  -1  -1\n",
       " 1071  1   1   1   1  -1   1   1\n",
       " 1030  1   1  -1  -1  -1  -1  -1\n",
       "  918  1  -1   1  -1   1   1  -1\n",
       "  982  1   1  -1   1  -1  -1   1\n",
       " 7756  0   1   1   1   1   1   1\n",
       " 5277  0   1   1   1   1   1   1\n",
       "  142  0  -1   1  -1  -1   1  -1\n",
       "  543  0   1  -1   1   1  -1   1\n",
       " 4636  0  -1  -1   1  -1  -1   1\n",
       "    ⋮                  ⋮        \n",
       "  209  0   1  -1   1   1  -1   1\n",
       " 4866  0   1   1  -1   1   1  -1\n",
       " 2278  0   1   1  -1   1   1  -1\n",
       "  599  0   1  -1  -1   1  -1  -1\n",
       " 7776  0   1   1   1   1   1   1\n",
       " 5040  0  -1  -1  -1  -1  -1  -1\n",
       "  607  0  -1   1   1  -1   1   1\n",
       "  195  0  -1   1  -1  -1   1  -1\n",
       " 4626  0  -1  -1   1  -1  -1   1\n",
       "  190  0  -1   1   1  -1   1   1\n",
       "  123  0  -1   1   1  -1   1   1\n",
       "  128  0   1  -1   1   1  -1   1"
      ]
     },
     "execution_count": 18,
     "metadata": {},
     "output_type": "execute_result"
    }
   ],
   "source": [
    "dict_samples_sho[1]"
   ]
  },
  {
   "cell_type": "markdown",
   "metadata": {},
   "source": [
    "#### \"Try\" to learn the structure"
   ]
  },
  {
   "cell_type": "code",
   "execution_count": 22,
   "metadata": {},
   "outputs": [],
   "source": [
    "using GraphicalModelLearning"
   ]
  },
  {
   "cell_type": "code",
   "execution_count": 23,
   "metadata": {},
   "outputs": [
    {
     "name": "stderr",
     "output_type": "stream",
     "text": [
      "┌ Info: using Glauber dynamics v1 to generate M-regime samples\n",
      "└ @ GraphicalModelLearning /Users/gogol/Dropbox (Personal)/Research/LANL/Code/GML_Glauber_Dynamics.jl/src/sampling.jl:403\n"
     ]
    },
    {
     "data": {
      "text/plain": [
       "([346 3 … -1 1; 708 1 … 1 1; … ; 94 1 … 1 1; 97 2 … -1 1], [3914 -1 -1 -1; 3453 -1 -1 1; … ; 1324 -1 1 1; 1382 1 -1 -1])"
      ]
     },
     "execution_count": 23,
     "metadata": {},
     "output_type": "execute_result"
    }
   ],
   "source": [
    "# M-Regime Sampling\n",
    "n_samples = 20000\n",
    "samples_M, samples_mixed = gibbs_sampling(gm_true, n_samples, M_regime())"
   ]
  },
  {
   "cell_type": "code",
   "execution_count": 24,
   "metadata": {},
   "outputs": [
    {
     "data": {
      "text/plain": [
       "Dict{Int64,Array{Int64,2}} with 3 entries:\n",
       "  2 => [150 1 … -1 -1; 714 1 … 1 -1; … ; 94 0 … 1 1; 97 0 … -1 1]\n",
       "  3 => [346 1 … -1 1; 541 1 … -1 -1; … ; 94 0 … 1 1; 97 0 … -1 1]\n",
       "  1 => [131 1 … 1 -1; 121 1 … -1 1; … ; 94 0 … 1 1; 97 0 … -1 1]"
      ]
     },
     "execution_count": 24,
     "metadata": {},
     "output_type": "execute_result"
    }
   ],
   "source": [
    "dict_samples_M_sho = get_sho_samples(samples_M)"
   ]
  },
  {
   "cell_type": "code",
   "execution_count": 28,
   "metadata": {},
   "outputs": [
    {
     "name": "stderr",
     "output_type": "stream",
     "text": [
      "┌ Info: using JuMP for RISE to learn Glauber dynamics from SHO samples\n",
      "└ @ GraphicalModelLearning /Users/gogol/Dropbox (Personal)/Research/LANL/Code/GML_Glauber_Dynamics.jl/src/GraphicalModelLearning.jl:587\n"
     ]
    },
    {
     "data": {
      "text/plain": [
       "3×3 Array{Float64,2}:\n",
       " 0.0124695   0.870837    0.0812382 \n",
       " 0.870837   -0.00261021  0.0933278 \n",
       " 0.0812382   0.0933278   0.00443327"
      ]
     },
     "execution_count": 28,
     "metadata": {},
     "output_type": "execute_result"
    }
   ],
   "source": [
    "learned_gm_RISE_flip = learn_glauber_dynamics_sho(dict_samples_M_sho, n_samples)"
   ]
  },
  {
   "cell_type": "code",
   "execution_count": 26,
   "metadata": {},
   "outputs": [
    {
     "data": {
      "text/plain": [
       "3×3 Array{Float64,2}:\n",
       " 0.0  0.9  0.1\n",
       " 0.9  0.0  0.1\n",
       " 0.1  0.1  0.0"
      ]
     },
     "execution_count": 26,
     "metadata": {},
     "output_type": "execute_result"
    }
   ],
   "source": [
    "true_gm = [0.0 0.9 0.1; 0.9 0.0 0.1; 0.1 0.1 0.0]"
   ]
  },
  {
   "cell_type": "code",
   "execution_count": 29,
   "metadata": {},
   "outputs": [
    {
     "name": "stderr",
     "output_type": "stream",
     "text": [
      "┌ Info: using JuMP for RISE to learn Glauber dynamics from SHO samples v2\n",
      "└ @ GraphicalModelLearning /Users/gogol/Dropbox (Personal)/Research/LANL/Code/GML_Glauber_Dynamics.jl/src/GraphicalModelLearning.jl:695\n"
     ]
    },
    {
     "data": {
      "text/plain": [
       "3×3 Array{Float64,2}:\n",
       " 0.00733476   0.760801    0.0633369  \n",
       " 0.760801    -0.00208234  0.0708959  \n",
       " 0.0633369    0.0708959   0.000849266"
      ]
     },
     "execution_count": 29,
     "metadata": {},
     "output_type": "execute_result"
    }
   ],
   "source": [
    "learned_gm_RISE_sho = learn_glauber_dynamics_sho2(dict_samples_M_sho, n_samples)"
   ]
  },
  {
   "cell_type": "code",
   "execution_count": 30,
   "metadata": {},
   "outputs": [
    {
     "name": "stderr",
     "output_type": "stream",
     "text": [
      "┌ Info: using JuMP for RPLE to learn Glauber dynamics from SHO samples\n",
      "└ @ GraphicalModelLearning /Users/gogol/Dropbox (Personal)/Research/LANL/Code/GML_Glauber_Dynamics.jl/src/GraphicalModelLearning.jl:636\n"
     ]
    },
    {
     "data": {
      "text/plain": [
       "3×3 Array{Float64,2}:\n",
       " 0.0115918   0.873391    0.0839716 \n",
       " 0.873391   -0.00177943  0.0962509 \n",
       " 0.0839716   0.0962509   0.00444651"
      ]
     },
     "execution_count": 30,
     "metadata": {},
     "output_type": "execute_result"
    }
   ],
   "source": [
    "learned_gm_RPLE_flip = learn_glauber_dynamics_sho(dict_samples_M_sho, n_samples, RPLE())"
   ]
  },
  {
   "cell_type": "code",
   "execution_count": 35,
   "metadata": {},
   "outputs": [
    {
     "name": "stderr",
     "output_type": "stream",
     "text": [
      "┌ Info: using JuMP for RPLE to learn Glauber dynamics from SHO samples v2\n",
      "└ @ GraphicalModelLearning /Users/gogol/Dropbox (Personal)/Research/LANL/Code/GML_Glauber_Dynamics.jl/src/GraphicalModelLearning.jl:752\n"
     ]
    },
    {
     "data": {
      "text/plain": [
       "3×3 Array{Float64,2}:\n",
       " 0.00639941   0.750567    0.0565638 \n",
       " 0.750567    -0.00166431  0.0647878 \n",
       " 0.0565638    0.0647878   0.00102197"
      ]
     },
     "execution_count": 35,
     "metadata": {},
     "output_type": "execute_result"
    }
   ],
   "source": [
    "learned_gm_RPLE_sho = learn_glauber_dynamics_sho2(dict_samples_M_sho, n_samples, RPLE())"
   ]
  },
  {
   "cell_type": "markdown",
   "metadata": {},
   "source": [
    "#### More complicated case"
   ]
  },
  {
   "cell_type": "code",
   "execution_count": 42,
   "metadata": {},
   "outputs": [
    {
     "name": "stderr",
     "output_type": "stream",
     "text": [
      "┌ Info: using Glauber dynamics v1 to generate T-regime samples\n",
      "└ @ GraphicalModelLearning /Users/gogol/Dropbox (Personal)/Research/LANL/Code/GML_Glauber_Dynamics.jl/src/sampling.jl:328\n"
     ]
    },
    {
     "data": {
      "text/plain": [
       "([686 3 … -1 1; 1540 1 … 1 1; … ; 20 1 … 1 1; 34 2 … -1 1], [5080 -1 -1 -1; 3456 -1 -1 1; … ; 665 -1 1 1; 700 1 -1 -1])"
      ]
     },
     "execution_count": 42,
     "metadata": {},
     "output_type": "execute_result"
    }
   ],
   "source": [
    "samples_T, samples_mixed = gibbs_sampling(gm_true, n_samples, T_regime())"
   ]
  },
  {
   "cell_type": "code",
   "execution_count": 43,
   "metadata": {},
   "outputs": [
    {
     "data": {
      "text/plain": [
       "Dict{Int64,Array{Int64,2}} with 3 entries:\n",
       "  2 => [181 1 … -1 -1; 180 1 … 1 -1; … ; 20 0 … 1 1; 34 0 … -1 1]\n",
       "  3 => [686 1 … -1 1; 690 1 … -1 -1; … ; 20 0 … 1 1; 34 0 … -1 1]\n",
       "  1 => [205 1 … 1 -1; 218 1 … -1 1; … ; 20 0 … 1 1; 34 0 … -1 1]"
      ]
     },
     "execution_count": 43,
     "metadata": {},
     "output_type": "execute_result"
    }
   ],
   "source": [
    "dict_samples_T_sho = get_sho_samples(samples_T)"
   ]
  },
  {
   "cell_type": "code",
   "execution_count": 44,
   "metadata": {},
   "outputs": [
    {
     "name": "stderr",
     "output_type": "stream",
     "text": [
      "┌ Info: using JuMP for RISE to learn Glauber dynamics from SHO samples\n",
      "└ @ GraphicalModelLearning /Users/gogol/Dropbox (Personal)/Research/LANL/Code/GML_Glauber_Dynamics.jl/src/GraphicalModelLearning.jl:587\n"
     ]
    },
    {
     "data": {
      "text/plain": [
       "3×3 Array{Float64,2}:\n",
       " -0.000278117   0.000102904  -8.13848e-8\n",
       "  0.000102904  -0.000584112   0.00433094\n",
       " -8.13848e-8    0.00433094   -9.61294e-5"
      ]
     },
     "execution_count": 44,
     "metadata": {},
     "output_type": "execute_result"
    }
   ],
   "source": [
    "learned_gm_RISE_T_flip = learn_glauber_dynamics_sho(dict_samples_T_sho, n_samples)"
   ]
  },
  {
   "cell_type": "code",
   "execution_count": 45,
   "metadata": {},
   "outputs": [
    {
     "name": "stderr",
     "output_type": "stream",
     "text": [
      "┌ Info: using JuMP for RISE to learn Glauber dynamics from SHO samples v2\n",
      "└ @ GraphicalModelLearning /Users/gogol/Dropbox (Personal)/Research/LANL/Code/GML_Glauber_Dynamics.jl/src/GraphicalModelLearning.jl:695\n"
     ]
    },
    {
     "data": {
      "text/plain": [
       "3×3 Array{Float64,2}:\n",
       " 0.00583255   0.218506    0.0481435 \n",
       " 0.218506    -0.00268667  0.0307352 \n",
       " 0.0481435    0.0307352   0.00280869"
      ]
     },
     "execution_count": 45,
     "metadata": {},
     "output_type": "execute_result"
    }
   ],
   "source": [
    "learned_gm_RISE_T_sho = learn_glauber_dynamics_sho2(dict_samples_T_sho, n_samples)"
   ]
  },
  {
   "cell_type": "code",
   "execution_count": 46,
   "metadata": {},
   "outputs": [
    {
     "data": {
      "text/plain": [
       "3×3 Array{Float64,2}:\n",
       " 0.0  0.9  0.1\n",
       " 0.9  0.0  0.1\n",
       " 0.1  0.1  0.0"
      ]
     },
     "execution_count": 46,
     "metadata": {},
     "output_type": "execute_result"
    }
   ],
   "source": [
    "true_gm"
   ]
  },
  {
   "cell_type": "code",
   "execution_count": 47,
   "metadata": {},
   "outputs": [
    {
     "name": "stderr",
     "output_type": "stream",
     "text": [
      "┌ Info: using JuMP for RPLE to learn Glauber dynamics from SHO samples\n",
      "└ @ GraphicalModelLearning /Users/gogol/Dropbox (Personal)/Research/LANL/Code/GML_Glauber_Dynamics.jl/src/GraphicalModelLearning.jl:636\n"
     ]
    },
    {
     "data": {
      "text/plain": [
       "3×3 Array{Float64,2}:\n",
       " -0.000340842   3.27325e-6    0.0025095  \n",
       "  3.27325e-6   -0.000723803   0.00245471 \n",
       "  0.0025095     0.00245471   -0.000256115"
      ]
     },
     "execution_count": 47,
     "metadata": {},
     "output_type": "execute_result"
    }
   ],
   "source": [
    "learned_gm_RPLE_T_flip = learn_glauber_dynamics_sho(dict_samples_T_sho, n_samples, RPLE())"
   ]
  },
  {
   "cell_type": "code",
   "execution_count": 48,
   "metadata": {},
   "outputs": [
    {
     "name": "stderr",
     "output_type": "stream",
     "text": [
      "┌ Info: using JuMP for RPLE to learn Glauber dynamics from SHO samples v2\n",
      "└ @ GraphicalModelLearning /Users/gogol/Dropbox (Personal)/Research/LANL/Code/GML_Glauber_Dynamics.jl/src/GraphicalModelLearning.jl:752\n"
     ]
    },
    {
     "data": {
      "text/plain": [
       "3×3 Array{Float64,2}:\n",
       " 0.0157311   0.681672    0.0847279 \n",
       " 0.681672   -0.00688494  0.058279  \n",
       " 0.0847279   0.058279    0.00455379"
      ]
     },
     "execution_count": 48,
     "metadata": {},
     "output_type": "execute_result"
    }
   ],
   "source": [
    "learned_gm_RPLE_T_sho = learn_glauber_dynamics_sho2(dict_samples_T_sho, n_samples, RPLE())"
   ]
  },
  {
   "cell_type": "code",
   "execution_count": null,
   "metadata": {},
   "outputs": [],
   "source": []
  }
 ],
 "metadata": {
  "kernelspec": {
   "display_name": "Julia 1.0.5",
   "language": "julia",
   "name": "julia-1.0"
  },
  "language_info": {
   "file_extension": ".jl",
   "mimetype": "application/julia",
   "name": "julia",
   "version": "1.0.5"
  }
 },
 "nbformat": 4,
 "nbformat_minor": 4
}
