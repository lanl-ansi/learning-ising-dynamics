{
 "cells": [
  {
   "cell_type": "code",
   "execution_count": 1,
   "metadata": {},
   "outputs": [
    {
     "data": {
      "text/plain": [
       "4-element Array{String,1}:\n",
       " \"@\"      \n",
       " \"@v#.#\"  \n",
       " \"@stdlib\"\n",
       " \"../src/\""
      ]
     },
     "execution_count": 1,
     "metadata": {},
     "output_type": "execute_result"
    }
   ],
   "source": [
    "# Add locations of modules\n",
    "push!(LOAD_PATH, \"../src/\")"
   ]
  },
  {
   "cell_type": "code",
   "execution_count": 2,
   "metadata": {},
   "outputs": [],
   "source": [
    "# Required packages\n",
    "using LinearAlgebra\n",
    "using Convex, SCS, Mosek, MosekTools\n",
    "\n",
    "using GraphicalModelLearning\n",
    "using LightGraphs\n",
    "\n",
    "# Function definitions\n",
    "using Printf, SparseArrays\n",
    "include(\"beta_scaling.jl\")\n",
    "include(\"active_learning.jl\")\n",
    "\n",
    "using DelimitedFiles"
   ]
  },
  {
   "cell_type": "code",
   "execution_count": 3,
   "metadata": {},
   "outputs": [],
   "source": [
    "using Revise"
   ]
  },
  {
   "cell_type": "code",
   "execution_count": 4,
   "metadata": {},
   "outputs": [
    {
     "name": "stderr",
     "output_type": "stream",
     "text": [
      "┌ Warning: `with_optimizer` is deprecated. Adapt the following example to update your code:\n",
      "│ `with_optimizer(Ipopt.Optimizer, max_cpu_time=60.0)` becomes `optimizer_with_attributes(Ipopt.Optimizer, \"max_cpu_time\" => 60.0)`.\n",
      "│   caller = ip:0x0\n",
      "└ @ Core :-1\n"
     ]
    },
    {
     "data": {
      "text/plain": [
       "NLP(MathOptInterface.OptimizerWithAttributes(Ipopt.Optimizer, Pair{MathOptInterface.AbstractOptimizerAttribute,Any}[RawParameter(\"print_level\")=>0]))"
      ]
     },
     "execution_count": 4,
     "metadata": {},
     "output_type": "execute_result"
    }
   ],
   "source": [
    "# parameters\n",
    "FLAG_create_struct_gm = true\n",
    "FLAG_regular_random_gm = false\n",
    "FLAG_lattice_gm = true\n",
    "FLAG_weak_impurity = true\n",
    "sampling_regime = M_regime()\n",
    "learning_algo = NLP()"
   ]
  },
  {
   "cell_type": "code",
   "execution_count": 5,
   "metadata": {},
   "outputs": [
    {
     "data": {
      "text/plain": [
       "\"M_opt_Ferro_Lattice_E_MEE.txt\""
      ]
     },
     "execution_count": 5,
     "metadata": {},
     "output_type": "execute_result"
    }
   ],
   "source": [
    "if FLAG_lattice_gm\n",
    "    # text file to save adjacency matrix in\n",
    "    file_adj_matrix_gm = \"adj_matrix_ferro_lattice_gm_E_MEE.txt\"\n",
    "    # name of picture to save graphical model in\n",
    "    file_plot_gm = \"ferro_lattice_gm_E_MEE.eps\"\n",
    "    # File to save final results\n",
    "    file_M_opt_gm = \"M_opt_Ferro_Lattice_E_MEE.txt\"\n",
    "elseif FLAG_regular_random_gm\n",
    "    # text file to save adjacency matrix in\n",
    "    file_adj_matrix_gm = \"adj_matrix_spin_glass_gm.txt\"\n",
    "    # name of picture to save graphical model in\n",
    "    file_plot_gm = \"spin_glass_gm3.eps\"\n",
    "    # File to save final results\n",
    "    file_M_opt_gm = \"M_opt_M_Regime_Regular_Random_B.txt\"\n",
    "end"
   ]
  },
  {
   "cell_type": "code",
   "execution_count": 6,
   "metadata": {},
   "outputs": [],
   "source": [
    "# Simple test\n",
    "N = 16\n",
    "d = 4\n",
    "α = 0.4\n",
    "β_array = [1.0+0.5*i for i=1:5]\n",
    "\n",
    "# Create and plot the initial graphical graphical model\n",
    "β = copy(β_array[1])\n",
    "adj_matrix, struct_adj_matrix = ferro_lattice(N,α,β,FLAG_weak_impurity)\n",
    "m = n = Int(sqrt(N))\n",
    "open(file_adj_matrix_gm, \"w\") do io\n",
    "    writedlm(io, adj_matrix)\n",
    "end;\n"
   ]
  },
  {
   "cell_type": "code",
   "execution_count": 7,
   "metadata": {},
   "outputs": [
    {
     "data": {
      "text/plain": [
       "5-element Array{Int64,1}:\n",
       " 4973202032\n",
       " 4973202160\n",
       " 4973202224\n",
       " 4973202288\n",
       " 4542625952"
      ]
     },
     "execution_count": 7,
     "metadata": {},
     "output_type": "execute_result"
    }
   ],
   "source": [
    "## Start the complexity studies\n",
    "τ = α/2\n",
    "L = 45\n",
    "M_g = 4000\n",
    "M_factor = 0.05\n",
    "\n",
    "M_opt = Array{Int64,1}(undef,length(β_array))"
   ]
  },
  {
   "cell_type": "code",
   "execution_count": 9,
   "metadata": {},
   "outputs": [
    {
     "name": "stdout",
     "output_type": "stream",
     "text": [
      "1.5\n",
      "6000\n"
     ]
    },
    {
     "name": "stderr",
     "output_type": "stream",
     "text": [
      "┌ Info: assuming spin alphabet\n",
      "└ @ GraphicalModelLearning /Users/gogol/Dropbox (Personal)/Research/LANL/Code/GML_Glauber_Dynamics.jl/src/models.jl:108\n",
      "┌ Info: assuming spin alphabet\n",
      "└ @ GraphicalModelLearning /Users/gogol/Dropbox (Personal)/Research/LANL/Code/GML_Glauber_Dynamics.jl/src/models.jl:108\n",
      "┌ Info: using Glauber dynamics v1 to generate M-regime samples\n",
      "└ @ GraphicalModelLearning /Users/gogol/Dropbox (Personal)/Research/LANL/Code/GML_Glauber_Dynamics.jl/src/sampling.jl:909\n",
      "┌ Info: using JuMP for RISE to learn Glauber dynamics\n",
      "└ @ GraphicalModelLearning /Users/gogol/Dropbox (Personal)/Research/LANL/Code/GML_Glauber_Dynamics.jl/src/GraphicalModelLearning.jl:368\n",
      "┌ Info: using Glauber dynamics v1 to generate M-regime samples\n",
      "└ @ GraphicalModelLearning /Users/gogol/Dropbox (Personal)/Research/LANL/Code/GML_Glauber_Dynamics.jl/src/sampling.jl:909\n",
      "┌ Info: using JuMP for RISE to learn Glauber dynamics\n",
      "└ @ GraphicalModelLearning /Users/gogol/Dropbox (Personal)/Research/LANL/Code/GML_Glauber_Dynamics.jl/src/GraphicalModelLearning.jl:368\n",
      "┌ Info: using Glauber dynamics v1 to generate M-regime samples\n",
      "└ @ GraphicalModelLearning /Users/gogol/Dropbox (Personal)/Research/LANL/Code/GML_Glauber_Dynamics.jl/src/sampling.jl:909\n",
      "┌ Info: using JuMP for RISE to learn Glauber dynamics\n",
      "└ @ GraphicalModelLearning /Users/gogol/Dropbox (Personal)/Research/LANL/Code/GML_Glauber_Dynamics.jl/src/GraphicalModelLearning.jl:368\n",
      "┌ Info: using Glauber dynamics v1 to generate M-regime samples\n",
      "└ @ GraphicalModelLearning /Users/gogol/Dropbox (Personal)/Research/LANL/Code/GML_Glauber_Dynamics.jl/src/sampling.jl:909\n",
      "┌ Info: using JuMP for RISE to learn Glauber dynamics\n",
      "└ @ GraphicalModelLearning /Users/gogol/Dropbox (Personal)/Research/LANL/Code/GML_Glauber_Dynamics.jl/src/GraphicalModelLearning.jl:368\n",
      "┌ Info: using Glauber dynamics v1 to generate M-regime samples\n",
      "└ @ GraphicalModelLearning /Users/gogol/Dropbox (Personal)/Research/LANL/Code/GML_Glauber_Dynamics.jl/src/sampling.jl:909\n",
      "┌ Info: using JuMP for RISE to learn Glauber dynamics\n",
      "└ @ GraphicalModelLearning /Users/gogol/Dropbox (Personal)/Research/LANL/Code/GML_Glauber_Dynamics.jl/src/GraphicalModelLearning.jl:368\n",
      "┌ Info: using Glauber dynamics v1 to generate M-regime samples\n",
      "└ @ GraphicalModelLearning /Users/gogol/Dropbox (Personal)/Research/LANL/Code/GML_Glauber_Dynamics.jl/src/sampling.jl:909\n",
      "┌ Info: using JuMP for RISE to learn Glauber dynamics\n",
      "└ @ GraphicalModelLearning /Users/gogol/Dropbox (Personal)/Research/LANL/Code/GML_Glauber_Dynamics.jl/src/GraphicalModelLearning.jl:368\n",
      "┌ Info: using Glauber dynamics v1 to generate M-regime samples\n",
      "└ @ GraphicalModelLearning /Users/gogol/Dropbox (Personal)/Research/LANL/Code/GML_Glauber_Dynamics.jl/src/sampling.jl:909\n",
      "┌ Info: using JuMP for RISE to learn Glauber dynamics\n",
      "└ @ GraphicalModelLearning /Users/gogol/Dropbox (Personal)/Research/LANL/Code/GML_Glauber_Dynamics.jl/src/GraphicalModelLearning.jl:368\n",
      "┌ Info: using Glauber dynamics v1 to generate M-regime samples\n",
      "└ @ GraphicalModelLearning /Users/gogol/Dropbox (Personal)/Research/LANL/Code/GML_Glauber_Dynamics.jl/src/sampling.jl:909\n",
      "┌ Info: using JuMP for RISE to learn Glauber dynamics\n",
      "└ @ GraphicalModelLearning /Users/gogol/Dropbox (Personal)/Research/LANL/Code/GML_Glauber_Dynamics.jl/src/GraphicalModelLearning.jl:368\n",
      "┌ Info: using Glauber dynamics v1 to generate M-regime samples\n",
      "└ @ GraphicalModelLearning /Users/gogol/Dropbox (Personal)/Research/LANL/Code/GML_Glauber_Dynamics.jl/src/sampling.jl:909\n",
      "┌ Info: using JuMP for RISE to learn Glauber dynamics\n",
      "└ @ GraphicalModelLearning /Users/gogol/Dropbox (Personal)/Research/LANL/Code/GML_Glauber_Dynamics.jl/src/GraphicalModelLearning.jl:368\n",
      "┌ Info: using Glauber dynamics v1 to generate M-regime samples\n",
      "└ @ GraphicalModelLearning /Users/gogol/Dropbox (Personal)/Research/LANL/Code/GML_Glauber_Dynamics.jl/src/sampling.jl:909\n",
      "┌ Info: using JuMP for RISE to learn Glauber dynamics\n",
      "└ @ GraphicalModelLearning /Users/gogol/Dropbox (Personal)/Research/LANL/Code/GML_Glauber_Dynamics.jl/src/GraphicalModelLearning.jl:368\n",
      "┌ Info: using Glauber dynamics v1 to generate M-regime samples\n",
      "└ @ GraphicalModelLearning /Users/gogol/Dropbox (Personal)/Research/LANL/Code/GML_Glauber_Dynamics.jl/src/sampling.jl:909\n"
     ]
    },
    {
     "name": "stdout",
     "output_type": "stream",
     "text": [
      "FLAG=0, M=6300, n_trials=0, P=0/45\n"
     ]
    },
    {
     "name": "stderr",
     "output_type": "stream",
     "text": [
      "┌ Info: assuming spin alphabet\n",
      "└ @ GraphicalModelLearning /Users/gogol/Dropbox (Personal)/Research/LANL/Code/GML_Glauber_Dynamics.jl/src/models.jl:108\n",
      "┌ Info: using Glauber dynamics v1 to generate M-regime samples\n",
      "└ @ GraphicalModelLearning /Users/gogol/Dropbox (Personal)/Research/LANL/Code/GML_Glauber_Dynamics.jl/src/sampling.jl:909\n",
      "┌ Info: using JuMP for RISE to learn Glauber dynamics\n",
      "└ @ GraphicalModelLearning /Users/gogol/Dropbox (Personal)/Research/LANL/Code/GML_Glauber_Dynamics.jl/src/GraphicalModelLearning.jl:368\n"
     ]
    },
    {
     "ename": "InterruptException",
     "evalue": "InterruptException:",
     "output_type": "error",
     "traceback": [
      "InterruptException:",
      "",
      "Stacktrace:",
      " [1] Type at ./boot.jl:394 [inlined]",
      " [2] Type at ./boot.jl:403 [inlined]",
      " [3] zeros at ./array.jl:467 [inlined]",
      " [4] zeros at ./array.jl:465 [inlined]",
      " [5] zeros at ./array.jl:463 [inlined]",
      " [6] entropy_configs(::Array{Float64,2}, ::Array{Int64,1}, ::Int64) at /Users/gogol/Dropbox (Personal)/Research/LANL/Code/GML_Glauber_Dynamics.jl/cases/active_learning.jl:197",
      " [7] active_learning_run(::Int64, ::Int64, ::Int64, ::Int64, ::Array{Float64,2}, ::RISE, ::NLP, ::Float64, ::Bool) at /Users/gogol/Dropbox (Personal)/Research/LANL/Code/GML_Glauber_Dynamics.jl/cases/beta_scaling.jl:513",
      " [8] get_M_opt_glauber_dynamics_AL(::Array{Float64,2}, ::Float64, ::Int64, ::Int64, ::Float64) at /Users/gogol/Dropbox (Personal)/Research/LANL/Code/GML_Glauber_Dynamics.jl/cases/beta_scaling.jl:555",
      " [9] top-level scope at ./In[9]:15"
     ]
    }
   ],
   "source": [
    "for i = 1:length(β_array)\n",
    "    # define β\n",
    "    β = copy(β_array[i])\n",
    "    println(β)\n",
    "\n",
    "    if i==1\n",
    "        M_g = 6000\n",
    "    end\n",
    "    println(M_g)\n",
    "    \n",
    "    # Create the adjacency matrix\n",
    "    adj_matrix, struct_adj_matrix = ferro_lattice(N,α,β,FLAG_weak_impurity)\n",
    "\n",
    "    # Get the optimum number of samples\n",
    "    M_opt[i] = get_M_opt_glauber_dynamics_AL(adj_matrix, τ, L, M_g, M_factor)\n",
    "\n",
    "    # Update the guess of M_opt\n",
    "    M_g = Int(floor(0.8*M_opt[i]))\n",
    "end"
   ]
  },
  {
   "cell_type": "code",
   "execution_count": null,
   "metadata": {},
   "outputs": [],
   "source": []
  }
 ],
 "metadata": {
  "kernelspec": {
   "display_name": "Julia 1.0.5",
   "language": "julia",
   "name": "julia-1.0"
  },
  "language_info": {
   "file_extension": ".jl",
   "mimetype": "application/julia",
   "name": "julia",
   "version": "1.0.5"
  }
 },
 "nbformat": 4,
 "nbformat_minor": 4
}
