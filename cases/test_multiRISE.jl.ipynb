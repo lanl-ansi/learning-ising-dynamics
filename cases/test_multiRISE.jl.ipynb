{
 "cells": [
  {
   "cell_type": "markdown",
   "metadata": {},
   "source": [
    "### Testing multiRISE"
   ]
  },
  {
   "cell_type": "code",
   "execution_count": 1,
   "metadata": {},
   "outputs": [
    {
     "data": {
      "text/plain": [
       "4-element Array{String,1}:\n",
       " \"@\"      \n",
       " \"@v#.#\"  \n",
       " \"@stdlib\"\n",
       " \"../src/\""
      ]
     },
     "execution_count": 1,
     "metadata": {},
     "output_type": "execute_result"
    }
   ],
   "source": [
    "# Add locations of modules\n",
    "push!(LOAD_PATH, \"../src/\")"
   ]
  },
  {
   "cell_type": "code",
   "execution_count": 2,
   "metadata": {},
   "outputs": [],
   "source": [
    "using GML_Glauber_Dynamics\n",
    "using LightGraphs\n",
    "#using Cairo\n",
    "#using Junet\n",
    "#using LaTeXStrings\n",
    "\n",
    "#include(\"beta_scaling.jl\")"
   ]
  },
  {
   "cell_type": "markdown",
   "metadata": {},
   "source": [
    "#### Simple Testcase"
   ]
  },
  {
   "cell_type": "code",
   "execution_count": 3,
   "metadata": {},
   "outputs": [
    {
     "name": "stderr",
     "output_type": "stream",
     "text": [
      "┌ Info: assuming spin alphabet\n",
      "└ @ GML_Glauber_Dynamics /Users/gogol/Dropbox (Personal)/Research/LANL/Code/GML_Glauber_Dynamics.jl/src/models.jl:108\n",
      "┌ Info: using Glauber dynamics v1 to generate T-regime samples\n",
      "└ @ GML_Glauber_Dynamics /Users/gogol/Dropbox (Personal)/Research/LANL/Code/GML_Glauber_Dynamics.jl/src/sampling.jl:328\n"
     ]
    },
    {
     "data": {
      "text/plain": [
       "([3391 3 … -1 1; 5234 3 … 1 1; … ; 138 1 … 1 1; 156 2 … -1 1], [25929 -1 -1 -1; 17033 -1 -1 1; … ; 3424 -1 1 1; 3549 1 -1 -1])"
      ]
     },
     "execution_count": 3,
     "metadata": {},
     "output_type": "execute_result"
    }
   ],
   "source": [
    "model = FactorGraph([0.0 0.9 0.1; 0.9 0.0 0.1; 0.1 0.1 0.0])\n",
    "\n",
    "n_samples = 100000\n",
    "\n",
    "samples_T, samples_mixed_T = gibbs_sampling(model, n_samples, T_regime())"
   ]
  },
  {
   "cell_type": "code",
   "execution_count": 4,
   "metadata": {},
   "outputs": [
    {
     "name": "stderr",
     "output_type": "stream",
     "text": [
      "┌ Warning: `with_optimizer` is deprecated. Adapt the following example to update your code:\n",
      "│ `with_optimizer(Ipopt.Optimizer, max_cpu_time=60.0)` becomes `optimizer_with_attributes(Ipopt.Optimizer, \"max_cpu_time\" => 60.0)`.\n",
      "│   caller = ip:0x0\n",
      "└ @ Core :-1\n",
      "┌ Info: using JuMP for RISE to learn Glauber dynamics\n",
      "└ @ GML_Glauber_Dynamics /Users/gogol/Dropbox (Personal)/Research/LANL/Code/GML_Glauber_Dynamics.jl/src/GML_Glauber_Dynamics.jl:370\n"
     ]
    },
    {
     "name": "stdout",
     "output_type": "stream",
     "text": [
      "\n",
      "******************************************************************************\n",
      "This program contains Ipopt, a library for large-scale nonlinear optimization.\n",
      " Ipopt is released as open source code under the Eclipse Public License (EPL).\n",
      "         For more information visit http://projects.coin-or.org/Ipopt\n",
      "******************************************************************************\n",
      "\n",
      "  (1,) => 0.009747938455754362\n",
      "  (2,) => -0.008152316314908514\n",
      "  (3,) => -0.002871808984381792\n",
      "  (1, 2) => 0.8946977724955967\n",
      "  (1, 3) => 0.10139051084221504\n",
      "  (2, 3) => 0.09984914055230201\n",
      "  "
     ]
    },
    {
     "data": {
      "text/plain": [
       "alphabet: spin\n",
       "vars: 3\n",
       "terms: 7\n"
      ]
     },
     "execution_count": 4,
     "metadata": {},
     "output_type": "execute_result"
    },
    {
     "name": "stdout",
     "output_type": "stream",
     "text": [
      "(1, 2, 3) => -1.1496229918313846e-10\n"
     ]
    }
   ],
   "source": [
    "learned_gm_RISE = learn_glauber_dynamics(samples_T, RISE())\n",
    "learned_gm_multiRISE = learn(samples_mixed_T, multiRISE(0.4, true, 3))"
   ]
  },
  {
   "cell_type": "code",
   "execution_count": 5,
   "metadata": {},
   "outputs": [
    {
     "data": {
      "text/plain": [
       "3×3 Array{Float64,2}:\n",
       " 0.00501096  0.00687002  0.00454456\n",
       " 0.00687002  0.0115013   0.00101906\n",
       " 0.00454456  0.00101906  0.00318872"
      ]
     },
     "execution_count": 5,
     "metadata": {},
     "output_type": "execute_result"
    }
   ],
   "source": [
    "err = abs.(convert(Array{Float64,2}, model) - learned_gm_RISE)"
   ]
  },
  {
   "cell_type": "code",
   "execution_count": 7,
   "metadata": {},
   "outputs": [
    {
     "data": {
      "text/plain": [
       "3×3 Array{Float64,2}:\n",
       " 0.00726479  0.893378     0.093071  \n",
       " 0.893378    0.00392335   0.100196  \n",
       " 0.093071    0.100196    -0.00251901"
      ]
     },
     "metadata": {},
     "output_type": "display_data"
    }
   ],
   "source": [
    "display(learned_gm_RISE)"
   ]
  },
  {
   "cell_type": "code",
   "execution_count": 8,
   "metadata": {},
   "outputs": [
    {
     "data": {
      "text/plain": [
       "alphabet: spin\n",
       "vars: 3\n",
       "terms: 7\n"
      ]
     },
     "metadata": {},
     "output_type": "display_data"
    },
    {
     "name": "stdout",
     "output_type": "stream",
     "text": [
      "  (1,) => -0.00938635018755445\n",
      "  (2,) => -0.0026349885190796204\n",
      "  (3,) => -0.00905271990683063\n",
      "  (1, 2) => 0.8946357693699625\n",
      "  (1, 3) => 0.09130485486514876\n",
      "  (2, 3) => 0.09707767082961076\n",
      "  (1, 2, 3) => 7.460193748815757e-11\n"
     ]
    }
   ],
   "source": [
    "display(learned_gm_multiRISE)"
   ]
  },
  {
   "cell_type": "code",
   "execution_count": 13,
   "metadata": {},
   "outputs": [
    {
     "data": {
      "text/plain": [
       "alphabet: spin\n",
       "vars: 3\n",
       "terms: 7\n"
      ]
     },
     "execution_count": 13,
     "metadata": {},
     "output_type": "execute_result"
    },
    {
     "name": "stdout",
     "output_type": "stream",
     "text": [
      "  (1,) => -0.005615601159019212\n",
      "  (2,) => -0.0016703469040866559\n",
      "  (3,) => -0.016355837895662258\n",
      "  (1, 2) => 0.9014966469041946\n",
      "  (1, 3) => 0.10354008322553893\n",
      "  (2, 3) => 0.09593418142549995\n",
      "  (1, 2, 3) => -0.00030060086607083456\n"
     ]
    }
   ],
   "source": [
    "learned_gm_multiRISE4 = learn(samples_mixed_T, multiRISE(0.4, true, 5))"
   ]
  },
  {
   "cell_type": "markdown",
   "metadata": {},
   "source": [
    "#### p=16 system"
   ]
  },
  {
   "cell_type": "code",
   "execution_count": 21,
   "metadata": {},
   "outputs": [
    {
     "data": {
      "text/plain": [
       "1.2"
      ]
     },
     "execution_count": 21,
     "metadata": {},
     "output_type": "execute_result"
    }
   ],
   "source": [
    "N = 32\n",
    "d = 3\n",
    "α = 0.4\n",
    "β = 1.2"
   ]
  },
  {
   "cell_type": "code",
   "execution_count": 22,
   "metadata": {},
   "outputs": [
    {
     "data": {
      "image/svg+xml": [
       "<?xml version=\"1.0\" encoding=\"UTF-8\"?>\n",
       "<svg xmlns=\"http://www.w3.org/2000/svg\" xmlns:xlink=\"http://www.w3.org/1999/xlink\" width=\"300pt\" height=\"300pt\" viewBox=\"0 0 300 300\" version=\"1.1\">\n",
       "<g id=\"surface5\">\n",
       "<rect x=\"0\" y=\"0\" width=\"300\" height=\"300\" style=\"fill:rgb(100%,100%,100%);fill-opacity:1;stroke:none;\"/>\n",
       "<path style=\"fill:none;stroke-width:2;stroke-linecap:butt;stroke-linejoin:miter;stroke:rgb(0%,100%,100%);stroke-opacity:0.8;stroke-miterlimit:10;\" d=\"M 170.640625 21.757812 L 120.359375 38.242188 \"/>\n",
       "<path style=\"fill:none;stroke-width:2;stroke-linecap:butt;stroke-linejoin:miter;stroke:rgb(100%,0%,0%);stroke-opacity:0.8;stroke-miterlimit:10;\" d=\"M 179.035156 24.753906 L 202.964844 62.246094 \"/>\n",
       "<path style=\"fill:none;stroke-width:2;stroke-linecap:butt;stroke-linejoin:miter;stroke:rgb(100%,0%,0%);stroke-opacity:0.8;stroke-miterlimit:10;\" d=\"M 181.488281 21.308594 L 212.511719 28.691406 \"/>\n",
       "<path style=\"fill:none;stroke-width:2;stroke-linecap:butt;stroke-linejoin:miter;stroke:rgb(100%,0%,0%);stroke-opacity:0.8;stroke-miterlimit:10;\" d=\"M 93.410156 157.398438 L 153.589844 139.601562 \"/>\n",
       "<path style=\"fill:none;stroke-width:2;stroke-linecap:butt;stroke-linejoin:miter;stroke:rgb(100%,0%,0%);stroke-opacity:0.8;stroke-miterlimit:10;\" d=\"M 86.132812 153.675781 L 69.867188 107.324219 \"/>\n",
       "<path style=\"fill:none;stroke-width:2;stroke-linecap:butt;stroke-linejoin:miter;stroke:rgb(100%,0%,0%);stroke-opacity:0.8;stroke-miterlimit:10;\" d=\"M 85.945312 164.253906 L 65.054688 217.746094 \"/>\n",
       "<path style=\"fill:none;stroke-width:2;stroke-linecap:butt;stroke-linejoin:miter;stroke:rgb(0%,100%,100%);stroke-opacity:0.8;stroke-miterlimit:10;\" d=\"M 120.359375 38.242188 L 170.640625 21.757812 \"/>\n",
       "<path style=\"fill:none;stroke-width:2;stroke-linecap:butt;stroke-linejoin:miter;stroke:rgb(100%,0%,0%);stroke-opacity:0.8;stroke-miterlimit:10;\" d=\"M 120.1875 37.777344 L 151.8125 24.222656 \"/>\n",
       "<path style=\"fill:none;stroke-width:2;stroke-linecap:butt;stroke-linejoin:miter;stroke:rgb(100%,0%,0%);stroke-opacity:0.8;stroke-miterlimit:10;\" d=\"M 111.589844 44.496094 L 71.410156 97.503906 \"/>\n",
       "<path style=\"fill:none;stroke-width:2;stroke-linecap:butt;stroke-linejoin:miter;stroke:rgb(0%,0%,100%);stroke-opacity:0.8;stroke-miterlimit:10;\" d=\"M 233.605469 83.621094 L 258.394531 86.378906 \"/>\n",
       "<path style=\"fill:none;stroke-width:2;stroke-linecap:butt;stroke-linejoin:miter;stroke:rgb(100%,0%,0%);stroke-opacity:0.8;stroke-miterlimit:10;\" d=\"M 222.382812 83.539062 L 181.617188 87.460938 \"/>\n",
       "<path style=\"fill:none;stroke-width:2;stroke-linecap:butt;stroke-linejoin:miter;stroke:rgb(100%,0%,0%);stroke-opacity:0.8;stroke-miterlimit:10;\" d=\"M 224.367188 87.316406 L 199.632812 116.683594 \"/>\n",
       "<path style=\"fill:none;stroke-width:2;stroke-linecap:butt;stroke-linejoin:miter;stroke:rgb(100%,0%,0%);stroke-opacity:0.8;stroke-miterlimit:10;\" d=\"M 147.167969 68.480469 L 155.832031 27.519531 \"/>\n",
       "<path style=\"fill:none;stroke-width:2;stroke-linecap:butt;stroke-linejoin:miter;stroke:rgb(0%,0%,100%);stroke-opacity:0.8;stroke-miterlimit:10;\" d=\"M 145.707031 79.632812 L 143.292969 126.367188 \"/>\n",
       "<path style=\"fill:none;stroke-width:2;stroke-linecap:butt;stroke-linejoin:miter;stroke:rgb(100%,0%,0%);stroke-opacity:0.8;stroke-miterlimit:10;\" d=\"M 151.113281 76.386719 L 170.886719 85.613281 \"/>\n",
       "<path style=\"fill:none;stroke-width:2;stroke-linecap:butt;stroke-linejoin:miter;stroke:rgb(100%,0%,0%);stroke-opacity:0.8;stroke-miterlimit:10;\" d=\"M 151.8125 24.222656 L 120.1875 37.777344 \"/>\n",
       "<path style=\"fill:none;stroke-width:2;stroke-linecap:butt;stroke-linejoin:miter;stroke:rgb(100%,0%,0%);stroke-opacity:0.8;stroke-miterlimit:10;\" d=\"M 155.832031 27.519531 L 147.167969 68.480469 \"/>\n",
       "<path style=\"fill:none;stroke-width:2;stroke-linecap:butt;stroke-linejoin:miter;stroke:rgb(100%,0%,0%);stroke-opacity:0.8;stroke-miterlimit:10;\" d=\"M 162.59375 22.734375 L 212.40625 29.265625 \"/>\n",
       "<path style=\"fill:none;stroke-width:2;stroke-linecap:butt;stroke-linejoin:miter;stroke:rgb(0%,0%,100%);stroke-opacity:0.8;stroke-miterlimit:10;\" d=\"M 258.394531 86.378906 L 233.605469 83.621094 \"/>\n",
       "<path style=\"fill:none;stroke-width:2;stroke-linecap:butt;stroke-linejoin:miter;stroke:rgb(0%,0%,100%);stroke-opacity:0.8;stroke-miterlimit:10;\" d=\"M 265.105469 92.53125 L 278.894531 161.46875 \"/>\n",
       "<path style=\"fill:none;stroke-width:2;stroke-linecap:butt;stroke-linejoin:miter;stroke:rgb(100%,0%,0%);stroke-opacity:0.8;stroke-miterlimit:10;\" d=\"M 260.457031 82.609375 L 221.542969 34.390625 \"/>\n",
       "<path style=\"fill:none;stroke-width:2;stroke-linecap:butt;stroke-linejoin:miter;stroke:rgb(0%,0%,100%);stroke-opacity:0.8;stroke-miterlimit:10;\" d=\"M 278.894531 161.46875 L 265.105469 92.53125 \"/>\n",
       "<path style=\"fill:none;stroke-width:2;stroke-linecap:butt;stroke-linejoin:miter;stroke:rgb(100%,0%,0%);stroke-opacity:0.8;stroke-miterlimit:10;\" d=\"M 277.851562 172.21875 L 254.148438 229.78125 \"/>\n",
       "<path style=\"fill:none;stroke-width:2;stroke-linecap:butt;stroke-linejoin:miter;stroke:rgb(100%,0%,0%);stroke-opacity:0.8;stroke-miterlimit:10;\" d=\"M 275.804688 170.773438 L 264.195312 181.226562 \"/>\n",
       "<path style=\"fill:none;stroke-width:2;stroke-linecap:butt;stroke-linejoin:miter;stroke:rgb(0%,0%,100%);stroke-opacity:0.8;stroke-miterlimit:10;\" d=\"M 157.378906 279.519531 L 98.621094 274.480469 \"/>\n",
       "<path style=\"fill:none;stroke-width:2;stroke-linecap:butt;stroke-linejoin:miter;stroke:rgb(0%,0%,100%);stroke-opacity:0.8;stroke-miterlimit:10;\" d=\"M 167.050781 276.074219 L 191.949219 251.925781 \"/>\n",
       "<path style=\"fill:none;stroke-width:2;stroke-linecap:butt;stroke-linejoin:miter;stroke:rgb(100%,0%,0%);stroke-opacity:0.8;stroke-miterlimit:10;\" d=\"M 168.5 278.746094 L 214.5 268.253906 \"/>\n",
       "<path style=\"fill:none;stroke-width:2;stroke-linecap:butt;stroke-linejoin:miter;stroke:rgb(0%,0%,100%);stroke-opacity:0.8;stroke-miterlimit:10;\" d=\"M 98.621094 274.480469 L 157.378906 279.519531 \"/>\n",
       "<path style=\"fill:none;stroke-width:2;stroke-linecap:butt;stroke-linejoin:miter;stroke:rgb(100%,0%,0%);stroke-opacity:0.8;stroke-miterlimit:10;\" d=\"M 87.898438 271.59375 L 45.101562 251.40625 \"/>\n",
       "<path style=\"fill:none;stroke-width:2;stroke-linecap:butt;stroke-linejoin:miter;stroke:rgb(100%,0%,0%);stroke-opacity:0.8;stroke-miterlimit:10;\" d=\"M 90.140625 269.136719 L 65.859375 227.863281 \"/>\n",
       "<path style=\"fill:none;stroke-width:2;stroke-linecap:butt;stroke-linejoin:miter;stroke:rgb(100%,0%,0%);stroke-opacity:0.8;stroke-miterlimit:10;\" d=\"M 45.101562 251.40625 L 87.898438 271.59375 \"/>\n",
       "<path style=\"fill:none;stroke-width:2;stroke-linecap:butt;stroke-linejoin:miter;stroke:rgb(0%,0%,100%);stroke-opacity:0.8;stroke-miterlimit:10;\" d=\"M 41.519531 243.566406 L 52.480469 204.433594 \"/>\n",
       "<path style=\"fill:none;stroke-width:2;stroke-linecap:butt;stroke-linejoin:miter;stroke:rgb(0%,0%,100%);stroke-opacity:0.8;stroke-miterlimit:10;\" d=\"M 37.199219 244.101562 L 22.800781 218.898438 \"/>\n",
       "<path style=\"fill:none;stroke-width:2;stroke-linecap:butt;stroke-linejoin:miter;stroke:rgb(0%,0%,100%);stroke-opacity:0.8;stroke-miterlimit:10;\" d=\"M 33.09375 155.28125 L 64.90625 106.71875 \"/>\n",
       "<path style=\"fill:none;stroke-width:2;stroke-linecap:butt;stroke-linejoin:miter;stroke:rgb(0%,0%,100%);stroke-opacity:0.8;stroke-miterlimit:10;\" d=\"M 32.957031 164.804688 L 51.042969 194.195312 \"/>\n",
       "<path style=\"fill:none;stroke-width:2;stroke-linecap:butt;stroke-linejoin:miter;stroke:rgb(100%,0%,0%);stroke-opacity:0.8;stroke-miterlimit:10;\" d=\"M 28.972656 165.546875 L 21.027344 208.453125 \"/>\n",
       "<path style=\"fill:none;stroke-width:2;stroke-linecap:butt;stroke-linejoin:miter;stroke:rgb(100%,0%,0%);stroke-opacity:0.8;stroke-miterlimit:10;\" d=\"M 195.988281 159.40625 L 148.011719 134.59375 \"/>\n",
       "<path style=\"fill:none;stroke-width:2;stroke-linecap:butt;stroke-linejoin:miter;stroke:rgb(100%,0%,0%);stroke-opacity:0.8;stroke-miterlimit:10;\" d=\"M 203.523438 156.953125 L 223.476562 117.046875 \"/>\n",
       "<path style=\"fill:none;stroke-width:2;stroke-linecap:butt;stroke-linejoin:miter;stroke:rgb(0%,0%,100%);stroke-opacity:0.8;stroke-miterlimit:10;\" d=\"M 204.152344 166.679688 L 230.847656 206.320312 \"/>\n",
       "<path style=\"fill:none;stroke-width:2;stroke-linecap:butt;stroke-linejoin:miter;stroke:rgb(0%,0%,100%);stroke-opacity:0.8;stroke-miterlimit:10;\" d=\"M 143.292969 126.367188 L 145.707031 79.632812 \"/>\n",
       "<path style=\"fill:none;stroke-width:2;stroke-linecap:butt;stroke-linejoin:miter;stroke:rgb(100%,0%,0%);stroke-opacity:0.8;stroke-miterlimit:10;\" d=\"M 148.011719 134.59375 L 195.988281 159.40625 \"/>\n",
       "<path style=\"fill:none;stroke-width:2;stroke-linecap:butt;stroke-linejoin:miter;stroke:rgb(100%,0%,0%);stroke-opacity:0.8;stroke-miterlimit:10;\" d=\"M 140.042969 136.804688 L 113.957031 179.195312 \"/>\n",
       "<path style=\"fill:none;stroke-width:2;stroke-linecap:butt;stroke-linejoin:miter;stroke:rgb(100%,0%,0%);stroke-opacity:0.8;stroke-miterlimit:10;\" d=\"M 223.476562 117.046875 L 203.523438 156.953125 \"/>\n",
       "<path style=\"fill:none;stroke-width:2;stroke-linecap:butt;stroke-linejoin:miter;stroke:rgb(100%,0%,0%);stroke-opacity:0.8;stroke-miterlimit:10;\" d=\"M 223.707031 106.84375 L 208.292969 72.15625 \"/>\n",
       "<path style=\"fill:none;stroke-width:2;stroke-linecap:butt;stroke-linejoin:miter;stroke:rgb(100%,0%,0%);stroke-opacity:0.8;stroke-miterlimit:10;\" d=\"M 225.554688 117.625 L 223.445312 144.375 \"/>\n",
       "<path style=\"fill:none;stroke-width:2;stroke-linecap:butt;stroke-linejoin:miter;stroke:rgb(100%,0%,0%);stroke-opacity:0.8;stroke-miterlimit:10;\" d=\"M 202.964844 62.246094 L 179.035156 24.753906 \"/>\n",
       "<path style=\"fill:none;stroke-width:2;stroke-linecap:butt;stroke-linejoin:miter;stroke:rgb(100%,0%,0%);stroke-opacity:0.8;stroke-miterlimit:10;\" d=\"M 208.292969 72.15625 L 223.707031 106.84375 \"/>\n",
       "<path style=\"fill:none;stroke-width:2;stroke-linecap:butt;stroke-linejoin:miter;stroke:rgb(100%,0%,0%);stroke-opacity:0.8;stroke-miterlimit:10;\" d=\"M 204.972656 72.546875 L 197.027344 115.453125 \"/>\n",
       "<path style=\"fill:none;stroke-width:2;stroke-linecap:butt;stroke-linejoin:miter;stroke:rgb(100%,0%,0%);stroke-opacity:0.8;stroke-miterlimit:10;\" d=\"M 153.589844 139.601562 L 93.410156 157.398438 \"/>\n",
       "<path style=\"fill:none;stroke-width:2;stroke-linecap:butt;stroke-linejoin:miter;stroke:rgb(100%,0%,0%);stroke-opacity:0.8;stroke-miterlimit:10;\" d=\"M 160.816406 132.660156 L 174.183594 93.339844 \"/>\n",
       "<path style=\"fill:none;stroke-width:2;stroke-linecap:butt;stroke-linejoin:miter;stroke:rgb(0%,0%,100%);stroke-opacity:0.8;stroke-miterlimit:10;\" d=\"M 164.546875 139.039062 L 217.453125 148.960938 \"/>\n",
       "<path style=\"fill:none;stroke-width:2;stroke-linecap:butt;stroke-linejoin:miter;stroke:rgb(100%,0%,0%);stroke-opacity:0.8;stroke-miterlimit:10;\" d=\"M 69.867188 107.324219 L 86.132812 153.675781 \"/>\n",
       "<path style=\"fill:none;stroke-width:2;stroke-linecap:butt;stroke-linejoin:miter;stroke:rgb(100%,0%,0%);stroke-opacity:0.8;stroke-miterlimit:10;\" d=\"M 71.410156 97.503906 L 111.589844 44.496094 \"/>\n",
       "<path style=\"fill:none;stroke-width:2;stroke-linecap:butt;stroke-linejoin:miter;stroke:rgb(0%,0%,100%);stroke-opacity:0.8;stroke-miterlimit:10;\" d=\"M 64.90625 106.71875 L 33.09375 155.28125 \"/>\n",
       "<path style=\"fill:none;stroke-width:2;stroke-linecap:butt;stroke-linejoin:miter;stroke:rgb(100%,0%,0%);stroke-opacity:0.8;stroke-miterlimit:10;\" d=\"M 181.617188 87.460938 L 222.382812 83.539062 \"/>\n",
       "<path style=\"fill:none;stroke-width:2;stroke-linecap:butt;stroke-linejoin:miter;stroke:rgb(100%,0%,0%);stroke-opacity:0.8;stroke-miterlimit:10;\" d=\"M 170.886719 85.613281 L 151.113281 76.386719 \"/>\n",
       "<path style=\"fill:none;stroke-width:2;stroke-linecap:butt;stroke-linejoin:miter;stroke:rgb(100%,0%,0%);stroke-opacity:0.8;stroke-miterlimit:10;\" d=\"M 174.183594 93.339844 L 160.816406 132.660156 \"/>\n",
       "<path style=\"fill:none;stroke-width:2;stroke-linecap:butt;stroke-linejoin:miter;stroke:rgb(100%,0%,0%);stroke-opacity:0.8;stroke-miterlimit:10;\" d=\"M 65.054688 217.746094 L 85.945312 164.253906 \"/>\n",
       "<path style=\"fill:none;stroke-width:2;stroke-linecap:butt;stroke-linejoin:miter;stroke:rgb(100%,0%,0%);stroke-opacity:0.8;stroke-miterlimit:10;\" d=\"M 65.859375 227.863281 L 90.140625 269.136719 \"/>\n",
       "<path style=\"fill:none;stroke-width:2;stroke-linecap:butt;stroke-linejoin:miter;stroke:rgb(100%,0%,0%);stroke-opacity:0.8;stroke-miterlimit:10;\" d=\"M 57.476562 221.84375 L 25.523438 215.15625 \"/>\n",
       "<path style=\"fill:none;stroke-width:2;stroke-linecap:butt;stroke-linejoin:miter;stroke:rgb(100%,0%,0%);stroke-opacity:0.8;stroke-miterlimit:10;\" d=\"M 212.511719 28.691406 L 181.488281 21.308594 \"/>\n",
       "<path style=\"fill:none;stroke-width:2;stroke-linecap:butt;stroke-linejoin:miter;stroke:rgb(100%,0%,0%);stroke-opacity:0.8;stroke-miterlimit:10;\" d=\"M 212.40625 29.265625 L 162.59375 22.734375 \"/>\n",
       "<path style=\"fill:none;stroke-width:2;stroke-linecap:butt;stroke-linejoin:miter;stroke:rgb(100%,0%,0%);stroke-opacity:0.8;stroke-miterlimit:10;\" d=\"M 221.542969 34.390625 L 260.457031 82.609375 \"/>\n",
       "<path style=\"fill:none;stroke-width:2;stroke-linecap:butt;stroke-linejoin:miter;stroke:rgb(100%,0%,0%);stroke-opacity:0.8;stroke-miterlimit:10;\" d=\"M 113.957031 179.195312 L 140.042969 136.804688 \"/>\n",
       "<path style=\"fill:none;stroke-width:2;stroke-linecap:butt;stroke-linejoin:miter;stroke:rgb(100%,0%,0%);stroke-opacity:0.8;stroke-miterlimit:10;\" d=\"M 105.542969 185.4375 L 59.457031 197.5625 \"/>\n",
       "<path style=\"fill:none;stroke-width:2;stroke-linecap:butt;stroke-linejoin:miter;stroke:rgb(100%,64.705882%,0%);stroke-opacity:0.8;stroke-miterlimit:10;\" d=\"M 116.613281 184.582031 L 163.386719 189.417969 \"/>\n",
       "<path style=\"fill:none;stroke-width:2;stroke-linecap:butt;stroke-linejoin:miter;stroke:rgb(100%,0%,0%);stroke-opacity:0.8;stroke-miterlimit:10;\" d=\"M 223.445312 144.375 L 225.554688 117.625 \"/>\n",
       "<path style=\"fill:none;stroke-width:2;stroke-linecap:butt;stroke-linejoin:miter;stroke:rgb(0%,0%,100%);stroke-opacity:0.8;stroke-miterlimit:10;\" d=\"M 217.453125 148.960938 L 164.546875 139.039062 \"/>\n",
       "<path style=\"fill:none;stroke-width:2;stroke-linecap:butt;stroke-linejoin:miter;stroke:rgb(100%,0%,0%);stroke-opacity:0.8;stroke-miterlimit:10;\" d=\"M 227.097656 153.878906 L 255.902344 181.121094 \"/>\n",
       "<path style=\"fill:none;stroke-width:2;stroke-linecap:butt;stroke-linejoin:miter;stroke:rgb(100%,0%,0%);stroke-opacity:0.8;stroke-miterlimit:10;\" d=\"M 254.148438 229.78125 L 277.851562 172.21875 \"/>\n",
       "<path style=\"fill:none;stroke-width:2;stroke-linecap:butt;stroke-linejoin:miter;stroke:rgb(0%,0%,100%);stroke-opacity:0.8;stroke-miterlimit:10;\" d=\"M 246.503906 236.277344 L 201.496094 246.722656 \"/>\n",
       "<path style=\"fill:none;stroke-width:2;stroke-linecap:butt;stroke-linejoin:miter;stroke:rgb(100%,0%,0%);stroke-opacity:0.8;stroke-miterlimit:10;\" d=\"M 248.011719 238.988281 L 223.988281 263.011719 \"/>\n",
       "<path style=\"fill:none;stroke-width:2;stroke-linecap:butt;stroke-linejoin:miter;stroke:rgb(0%,0%,100%);stroke-opacity:0.8;stroke-miterlimit:10;\" d=\"M 230.847656 206.320312 L 204.152344 166.679688 \"/>\n",
       "<path style=\"fill:none;stroke-width:2;stroke-linecap:butt;stroke-linejoin:miter;stroke:rgb(0%,0%,100%);stroke-opacity:0.8;stroke-miterlimit:10;\" d=\"M 237.988281 207.011719 L 256.011719 188.988281 \"/>\n",
       "<path style=\"fill:none;stroke-width:2;stroke-linecap:butt;stroke-linejoin:miter;stroke:rgb(0%,0%,100%);stroke-opacity:0.8;stroke-miterlimit:10;\" d=\"M 232.632812 216.472656 L 221.367188 261.527344 \"/>\n",
       "<path style=\"fill:none;stroke-width:2;stroke-linecap:butt;stroke-linejoin:miter;stroke:rgb(100%,0%,0%);stroke-opacity:0.8;stroke-miterlimit:10;\" d=\"M 264.195312 181.226562 L 275.804688 170.773438 \"/>\n",
       "<path style=\"fill:none;stroke-width:2;stroke-linecap:butt;stroke-linejoin:miter;stroke:rgb(100%,0%,0%);stroke-opacity:0.8;stroke-miterlimit:10;\" d=\"M 255.902344 181.121094 L 227.097656 153.878906 \"/>\n",
       "<path style=\"fill:none;stroke-width:2;stroke-linecap:butt;stroke-linejoin:miter;stroke:rgb(0%,0%,100%);stroke-opacity:0.8;stroke-miterlimit:10;\" d=\"M 256.011719 188.988281 L 237.988281 207.011719 \"/>\n",
       "<path style=\"fill:none;stroke-width:2;stroke-linecap:butt;stroke-linejoin:miter;stroke:rgb(0%,0%,100%);stroke-opacity:0.8;stroke-miterlimit:10;\" d=\"M 191.949219 251.925781 L 167.050781 276.074219 \"/>\n",
       "<path style=\"fill:none;stroke-width:2;stroke-linecap:butt;stroke-linejoin:miter;stroke:rgb(0%,0%,100%);stroke-opacity:0.8;stroke-miterlimit:10;\" d=\"M 201.496094 246.722656 L 246.503906 236.277344 \"/>\n",
       "<path style=\"fill:none;stroke-width:2;stroke-linecap:butt;stroke-linejoin:miter;stroke:rgb(100%,0%,0%);stroke-opacity:0.8;stroke-miterlimit:10;\" d=\"M 193.617188 242.886719 L 171.382812 195.113281 \"/>\n",
       "<path style=\"fill:none;stroke-width:2;stroke-linecap:butt;stroke-linejoin:miter;stroke:rgb(0%,0%,100%);stroke-opacity:0.8;stroke-miterlimit:10;\" d=\"M 52.480469 204.433594 L 41.519531 243.566406 \"/>\n",
       "<path style=\"fill:none;stroke-width:2;stroke-linecap:butt;stroke-linejoin:miter;stroke:rgb(0%,0%,100%);stroke-opacity:0.8;stroke-miterlimit:10;\" d=\"M 51.042969 194.195312 L 32.957031 164.804688 \"/>\n",
       "<path style=\"fill:none;stroke-width:2;stroke-linecap:butt;stroke-linejoin:miter;stroke:rgb(100%,0%,0%);stroke-opacity:0.8;stroke-miterlimit:10;\" d=\"M 59.457031 197.5625 L 105.542969 185.4375 \"/>\n",
       "<path style=\"fill:none;stroke-width:2;stroke-linecap:butt;stroke-linejoin:miter;stroke:rgb(100%,64.705882%,0%);stroke-opacity:0.8;stroke-miterlimit:10;\" d=\"M 163.386719 189.417969 L 116.613281 184.582031 \"/>\n",
       "<path style=\"fill:none;stroke-width:2;stroke-linecap:butt;stroke-linejoin:miter;stroke:rgb(100%,0%,0%);stroke-opacity:0.8;stroke-miterlimit:10;\" d=\"M 171.382812 195.113281 L 193.617188 242.886719 \"/>\n",
       "<path style=\"fill:none;stroke-width:2;stroke-linecap:butt;stroke-linejoin:miter;stroke:rgb(0%,0%,100%);stroke-opacity:0.8;stroke-miterlimit:10;\" d=\"M 171.054688 184.746094 L 193.945312 126.253906 \"/>\n",
       "<path style=\"fill:none;stroke-width:2;stroke-linecap:butt;stroke-linejoin:miter;stroke:rgb(100%,0%,0%);stroke-opacity:0.8;stroke-miterlimit:10;\" d=\"M 199.632812 116.683594 L 224.367188 87.316406 \"/>\n",
       "<path style=\"fill:none;stroke-width:2;stroke-linecap:butt;stroke-linejoin:miter;stroke:rgb(100%,0%,0%);stroke-opacity:0.8;stroke-miterlimit:10;\" d=\"M 197.027344 115.453125 L 204.972656 72.546875 \"/>\n",
       "<path style=\"fill:none;stroke-width:2;stroke-linecap:butt;stroke-linejoin:miter;stroke:rgb(0%,0%,100%);stroke-opacity:0.8;stroke-miterlimit:10;\" d=\"M 193.945312 126.253906 L 171.054688 184.746094 \"/>\n",
       "<path style=\"fill:none;stroke-width:2;stroke-linecap:butt;stroke-linejoin:miter;stroke:rgb(0%,0%,100%);stroke-opacity:0.8;stroke-miterlimit:10;\" d=\"M 22.800781 218.898438 L 37.199219 244.101562 \"/>\n",
       "<path style=\"fill:none;stroke-width:2;stroke-linecap:butt;stroke-linejoin:miter;stroke:rgb(100%,0%,0%);stroke-opacity:0.8;stroke-miterlimit:10;\" d=\"M 21.027344 208.453125 L 28.972656 165.546875 \"/>\n",
       "<path style=\"fill:none;stroke-width:2;stroke-linecap:butt;stroke-linejoin:miter;stroke:rgb(100%,0%,0%);stroke-opacity:0.8;stroke-miterlimit:10;\" d=\"M 25.523438 215.15625 L 57.476562 221.84375 \"/>\n",
       "<path style=\"fill:none;stroke-width:2;stroke-linecap:butt;stroke-linejoin:miter;stroke:rgb(100%,0%,0%);stroke-opacity:0.8;stroke-miterlimit:10;\" d=\"M 214.5 268.253906 L 168.5 278.746094 \"/>\n",
       "<path style=\"fill:none;stroke-width:2;stroke-linecap:butt;stroke-linejoin:miter;stroke:rgb(100%,0%,0%);stroke-opacity:0.8;stroke-miterlimit:10;\" d=\"M 223.988281 263.011719 L 248.011719 238.988281 \"/>\n",
       "<path style=\"fill:none;stroke-width:2;stroke-linecap:butt;stroke-linejoin:miter;stroke:rgb(0%,0%,100%);stroke-opacity:0.8;stroke-miterlimit:10;\" d=\"M 221.367188 261.527344 L 232.632812 216.472656 \"/>\n",
       "<path style=\"fill-rule:nonzero;fill:rgb(100%,100%,100%);fill-opacity:0.8;stroke-width:2;stroke-linecap:butt;stroke-linejoin:miter;stroke:rgb(0%,0%,0%);stroke-opacity:0.8;stroke-miterlimit:10;\" d=\"M 181.640625 20 C 181.640625 23.117188 179.117188 25.640625 176 25.640625 C 172.882812 25.640625 170.359375 23.117188 170.359375 20 C 170.359375 16.882812 172.882812 14.359375 176 14.359375 C 179.117188 14.359375 181.640625 16.882812 181.640625 20 \"/>\n",
       "<path style=\"fill-rule:nonzero;fill:rgb(100%,100%,100%);fill-opacity:0.8;stroke-width:2;stroke-linecap:butt;stroke-linejoin:miter;stroke:rgb(0%,0%,0%);stroke-opacity:0.8;stroke-miterlimit:10;\" d=\"M 93.640625 159 C 93.640625 162.117188 91.117188 164.640625 88 164.640625 C 84.882812 164.640625 82.359375 162.117188 82.359375 159 C 82.359375 155.882812 84.882812 153.359375 88 153.359375 C 91.117188 153.359375 93.640625 155.882812 93.640625 159 \"/>\n",
       "<path style=\"fill-rule:nonzero;fill:rgb(100%,100%,100%);fill-opacity:0.8;stroke-width:2;stroke-linecap:butt;stroke-linejoin:miter;stroke:rgb(0%,0%,0%);stroke-opacity:0.8;stroke-miterlimit:10;\" d=\"M 120.640625 40 C 120.640625 43.117188 118.117188 45.640625 115 45.640625 C 111.882812 45.640625 109.359375 43.117188 109.359375 40 C 109.359375 36.882812 111.882812 34.359375 115 34.359375 C 118.117188 34.359375 120.640625 36.882812 120.640625 40 \"/>\n",
       "<path style=\"fill-rule:nonzero;fill:rgb(100%,100%,100%);fill-opacity:0.8;stroke-width:2;stroke-linecap:butt;stroke-linejoin:miter;stroke:rgb(0%,0%,0%);stroke-opacity:0.8;stroke-miterlimit:10;\" d=\"M 233.640625 83 C 233.640625 86.117188 231.117188 88.640625 228 88.640625 C 224.882812 88.640625 222.359375 86.117188 222.359375 83 C 222.359375 79.882812 224.882812 77.359375 228 77.359375 C 231.117188 77.359375 233.640625 79.882812 233.640625 83 \"/>\n",
       "<path style=\"fill-rule:nonzero;fill:rgb(100%,100%,100%);fill-opacity:0.8;stroke-width:2;stroke-linecap:butt;stroke-linejoin:miter;stroke:rgb(0%,0%,0%);stroke-opacity:0.8;stroke-miterlimit:10;\" d=\"M 151.640625 74 C 151.640625 77.117188 149.117188 79.640625 146 79.640625 C 142.882812 79.640625 140.359375 77.117188 140.359375 74 C 140.359375 70.882812 142.882812 68.359375 146 68.359375 C 149.117188 68.359375 151.640625 70.882812 151.640625 74 \"/>\n",
       "<path style=\"fill-rule:nonzero;fill:rgb(100%,100%,100%);fill-opacity:0.8;stroke-width:2;stroke-linecap:butt;stroke-linejoin:miter;stroke:rgb(0%,0%,0%);stroke-opacity:0.8;stroke-miterlimit:10;\" d=\"M 162.640625 22 C 162.640625 25.117188 160.117188 27.640625 157 27.640625 C 153.882812 27.640625 151.359375 25.117188 151.359375 22 C 151.359375 18.882812 153.882812 16.359375 157 16.359375 C 160.117188 16.359375 162.640625 18.882812 162.640625 22 \"/>\n",
       "<path style=\"fill-rule:nonzero;fill:rgb(100%,100%,100%);fill-opacity:0.8;stroke-width:2;stroke-linecap:butt;stroke-linejoin:miter;stroke:rgb(0%,0%,0%);stroke-opacity:0.8;stroke-miterlimit:10;\" d=\"M 269.640625 87 C 269.640625 90.117188 267.117188 92.640625 264 92.640625 C 260.882812 92.640625 258.359375 90.117188 258.359375 87 C 258.359375 83.882812 260.882812 81.359375 264 81.359375 C 267.117188 81.359375 269.640625 83.882812 269.640625 87 \"/>\n",
       "<path style=\"fill-rule:nonzero;fill:rgb(100%,100%,100%);fill-opacity:0.8;stroke-width:2;stroke-linecap:butt;stroke-linejoin:miter;stroke:rgb(0%,0%,0%);stroke-opacity:0.8;stroke-miterlimit:10;\" d=\"M 285.640625 167 C 285.640625 170.117188 283.117188 172.640625 280 172.640625 C 276.882812 172.640625 274.359375 170.117188 274.359375 167 C 274.359375 163.882812 276.882812 161.359375 280 161.359375 C 283.117188 161.359375 285.640625 163.882812 285.640625 167 \"/>\n",
       "<path style=\"fill-rule:nonzero;fill:rgb(100%,100%,100%);fill-opacity:0.8;stroke-width:2;stroke-linecap:butt;stroke-linejoin:miter;stroke:rgb(0%,0%,0%);stroke-opacity:0.8;stroke-miterlimit:10;\" d=\"M 168.640625 280 C 168.640625 283.117188 166.117188 285.640625 163 285.640625 C 159.882812 285.640625 157.359375 283.117188 157.359375 280 C 157.359375 276.882812 159.882812 274.359375 163 274.359375 C 166.117188 274.359375 168.640625 276.882812 168.640625 280 \"/>\n",
       "<path style=\"fill-rule:nonzero;fill:rgb(100%,100%,100%);fill-opacity:0.8;stroke-width:2;stroke-linecap:butt;stroke-linejoin:miter;stroke:rgb(0%,0%,0%);stroke-opacity:0.8;stroke-miterlimit:10;\" d=\"M 98.640625 274 C 98.640625 277.117188 96.117188 279.640625 93 279.640625 C 89.882812 279.640625 87.359375 277.117188 87.359375 274 C 87.359375 270.882812 89.882812 268.359375 93 268.359375 C 96.117188 268.359375 98.640625 270.882812 98.640625 274 \"/>\n",
       "<path style=\"fill-rule:nonzero;fill:rgb(100%,100%,100%);fill-opacity:0.8;stroke-width:2;stroke-linecap:butt;stroke-linejoin:miter;stroke:rgb(0%,0%,0%);stroke-opacity:0.8;stroke-miterlimit:10;\" d=\"M 45.640625 249 C 45.640625 252.117188 43.117188 254.640625 40 254.640625 C 36.882812 254.640625 34.359375 252.117188 34.359375 249 C 34.359375 245.882812 36.882812 243.359375 40 243.359375 C 43.117188 243.359375 45.640625 245.882812 45.640625 249 \"/>\n",
       "<path style=\"fill-rule:nonzero;fill:rgb(100%,100%,100%);fill-opacity:0.8;stroke-width:2;stroke-linecap:butt;stroke-linejoin:miter;stroke:rgb(0%,0%,0%);stroke-opacity:0.8;stroke-miterlimit:10;\" d=\"M 35.640625 160 C 35.640625 163.117188 33.117188 165.640625 30 165.640625 C 26.882812 165.640625 24.359375 163.117188 24.359375 160 C 24.359375 156.882812 26.882812 154.359375 30 154.359375 C 33.117188 154.359375 35.640625 156.882812 35.640625 160 \"/>\n",
       "<path style=\"fill-rule:nonzero;fill:rgb(100%,100%,100%);fill-opacity:0.8;stroke-width:2;stroke-linecap:butt;stroke-linejoin:miter;stroke:rgb(0%,0%,0%);stroke-opacity:0.8;stroke-miterlimit:10;\" d=\"M 206.640625 162 C 206.640625 165.117188 204.117188 167.640625 201 167.640625 C 197.882812 167.640625 195.359375 165.117188 195.359375 162 C 195.359375 158.882812 197.882812 156.359375 201 156.359375 C 204.117188 156.359375 206.640625 158.882812 206.640625 162 \"/>\n",
       "<path style=\"fill-rule:nonzero;fill:rgb(100%,100%,100%);fill-opacity:0.8;stroke-width:2;stroke-linecap:butt;stroke-linejoin:miter;stroke:rgb(0%,0%,0%);stroke-opacity:0.8;stroke-miterlimit:10;\" d=\"M 148.640625 132 C 148.640625 135.117188 146.117188 137.640625 143 137.640625 C 139.882812 137.640625 137.359375 135.117188 137.359375 132 C 137.359375 128.882812 139.882812 126.359375 143 126.359375 C 146.117188 126.359375 148.640625 128.882812 148.640625 132 \"/>\n",
       "<path style=\"fill-rule:nonzero;fill:rgb(100%,100%,100%);fill-opacity:0.8;stroke-width:2;stroke-linecap:butt;stroke-linejoin:miter;stroke:rgb(0%,0%,0%);stroke-opacity:0.8;stroke-miterlimit:10;\" d=\"M 231.640625 112 C 231.640625 115.117188 229.117188 117.640625 226 117.640625 C 222.882812 117.640625 220.359375 115.117188 220.359375 112 C 220.359375 108.882812 222.882812 106.359375 226 106.359375 C 229.117188 106.359375 231.640625 108.882812 231.640625 112 \"/>\n",
       "<path style=\"fill-rule:nonzero;fill:rgb(100%,100%,100%);fill-opacity:0.8;stroke-width:2;stroke-linecap:butt;stroke-linejoin:miter;stroke:rgb(0%,0%,0%);stroke-opacity:0.8;stroke-miterlimit:10;\" d=\"M 211.640625 67 C 211.640625 70.117188 209.117188 72.640625 206 72.640625 C 202.882812 72.640625 200.359375 70.117188 200.359375 67 C 200.359375 63.882812 202.882812 61.359375 206 61.359375 C 209.117188 61.359375 211.640625 63.882812 211.640625 67 \"/>\n",
       "<path style=\"fill-rule:nonzero;fill:rgb(100%,100%,100%);fill-opacity:0.8;stroke-width:2;stroke-linecap:butt;stroke-linejoin:miter;stroke:rgb(0%,0%,0%);stroke-opacity:0.8;stroke-miterlimit:10;\" d=\"M 164.640625 138 C 164.640625 141.117188 162.117188 143.640625 159 143.640625 C 155.882812 143.640625 153.359375 141.117188 153.359375 138 C 153.359375 134.882812 155.882812 132.359375 159 132.359375 C 162.117188 132.359375 164.640625 134.882812 164.640625 138 \"/>\n",
       "<path style=\"fill-rule:nonzero;fill:rgb(100%,100%,100%);fill-opacity:0.8;stroke-width:2;stroke-linecap:butt;stroke-linejoin:miter;stroke:rgb(0%,0%,0%);stroke-opacity:0.8;stroke-miterlimit:10;\" d=\"M 73.640625 102 C 73.640625 105.117188 71.117188 107.640625 68 107.640625 C 64.882812 107.640625 62.359375 105.117188 62.359375 102 C 62.359375 98.882812 64.882812 96.359375 68 96.359375 C 71.117188 96.359375 73.640625 98.882812 73.640625 102 \"/>\n",
       "<path style=\"fill-rule:nonzero;fill:rgb(100%,100%,100%);fill-opacity:0.8;stroke-width:2;stroke-linecap:butt;stroke-linejoin:miter;stroke:rgb(0%,0%,0%);stroke-opacity:0.8;stroke-miterlimit:10;\" d=\"M 181.640625 88 C 181.640625 91.117188 179.117188 93.640625 176 93.640625 C 172.882812 93.640625 170.359375 91.117188 170.359375 88 C 170.359375 84.882812 172.882812 82.359375 176 82.359375 C 179.117188 82.359375 181.640625 84.882812 181.640625 88 \"/>\n",
       "<path style=\"fill-rule:nonzero;fill:rgb(100%,100%,100%);fill-opacity:0.8;stroke-width:2;stroke-linecap:butt;stroke-linejoin:miter;stroke:rgb(0%,0%,0%);stroke-opacity:0.8;stroke-miterlimit:10;\" d=\"M 68.640625 223 C 68.640625 226.117188 66.117188 228.640625 63 228.640625 C 59.882812 228.640625 57.359375 226.117188 57.359375 223 C 57.359375 219.882812 59.882812 217.359375 63 217.359375 C 66.117188 217.359375 68.640625 219.882812 68.640625 223 \"/>\n",
       "<path style=\"fill-rule:nonzero;fill:rgb(100%,100%,100%);fill-opacity:0.8;stroke-width:2;stroke-linecap:butt;stroke-linejoin:miter;stroke:rgb(0%,0%,0%);stroke-opacity:0.8;stroke-miterlimit:10;\" d=\"M 223.640625 30 C 223.640625 33.117188 221.117188 35.640625 218 35.640625 C 214.882812 35.640625 212.359375 33.117188 212.359375 30 C 212.359375 26.882812 214.882812 24.359375 218 24.359375 C 221.117188 24.359375 223.640625 26.882812 223.640625 30 \"/>\n",
       "<path style=\"fill-rule:nonzero;fill:rgb(100%,100%,100%);fill-opacity:0.8;stroke-width:2;stroke-linecap:butt;stroke-linejoin:miter;stroke:rgb(0%,0%,0%);stroke-opacity:0.8;stroke-miterlimit:10;\" d=\"M 116.640625 184 C 116.640625 187.117188 114.117188 189.640625 111 189.640625 C 107.882812 189.640625 105.359375 187.117188 105.359375 184 C 105.359375 180.882812 107.882812 178.359375 111 178.359375 C 114.117188 178.359375 116.640625 180.882812 116.640625 184 \"/>\n",
       "<path style=\"fill-rule:nonzero;fill:rgb(100%,100%,100%);fill-opacity:0.8;stroke-width:2;stroke-linecap:butt;stroke-linejoin:miter;stroke:rgb(0%,0%,0%);stroke-opacity:0.8;stroke-miterlimit:10;\" d=\"M 228.640625 150 C 228.640625 153.117188 226.117188 155.640625 223 155.640625 C 219.882812 155.640625 217.359375 153.117188 217.359375 150 C 217.359375 146.882812 219.882812 144.359375 223 144.359375 C 226.117188 144.359375 228.640625 146.882812 228.640625 150 \"/>\n",
       "<path style=\"fill-rule:nonzero;fill:rgb(100%,100%,100%);fill-opacity:0.8;stroke-width:2;stroke-linecap:butt;stroke-linejoin:miter;stroke:rgb(0%,0%,0%);stroke-opacity:0.8;stroke-miterlimit:10;\" d=\"M 257.640625 235 C 257.640625 238.117188 255.117188 240.640625 252 240.640625 C 248.882812 240.640625 246.359375 238.117188 246.359375 235 C 246.359375 231.882812 248.882812 229.359375 252 229.359375 C 255.117188 229.359375 257.640625 231.882812 257.640625 235 \"/>\n",
       "<path style=\"fill-rule:nonzero;fill:rgb(100%,100%,100%);fill-opacity:0.8;stroke-width:2;stroke-linecap:butt;stroke-linejoin:miter;stroke:rgb(0%,0%,0%);stroke-opacity:0.8;stroke-miterlimit:10;\" d=\"M 239.640625 211 C 239.640625 214.117188 237.117188 216.640625 234 216.640625 C 230.882812 216.640625 228.359375 214.117188 228.359375 211 C 228.359375 207.882812 230.882812 205.359375 234 205.359375 C 237.117188 205.359375 239.640625 207.882812 239.640625 211 \"/>\n",
       "<path style=\"fill-rule:nonzero;fill:rgb(100%,100%,100%);fill-opacity:0.8;stroke-width:2;stroke-linecap:butt;stroke-linejoin:miter;stroke:rgb(0%,0%,0%);stroke-opacity:0.8;stroke-miterlimit:10;\" d=\"M 265.640625 185 C 265.640625 188.117188 263.117188 190.640625 260 190.640625 C 256.882812 190.640625 254.359375 188.117188 254.359375 185 C 254.359375 181.882812 256.882812 179.359375 260 179.359375 C 263.117188 179.359375 265.640625 181.882812 265.640625 185 \"/>\n",
       "<path style=\"fill-rule:nonzero;fill:rgb(100%,100%,100%);fill-opacity:0.8;stroke-width:2;stroke-linecap:butt;stroke-linejoin:miter;stroke:rgb(0%,0%,0%);stroke-opacity:0.8;stroke-miterlimit:10;\" d=\"M 201.640625 248 C 201.640625 251.117188 199.117188 253.640625 196 253.640625 C 192.882812 253.640625 190.359375 251.117188 190.359375 248 C 190.359375 244.882812 192.882812 242.359375 196 242.359375 C 199.117188 242.359375 201.640625 244.882812 201.640625 248 \"/>\n",
       "<path style=\"fill-rule:nonzero;fill:rgb(100%,100%,100%);fill-opacity:0.8;stroke-width:2;stroke-linecap:butt;stroke-linejoin:miter;stroke:rgb(0%,0%,0%);stroke-opacity:0.8;stroke-miterlimit:10;\" d=\"M 59.640625 199 C 59.640625 202.117188 57.117188 204.640625 54 204.640625 C 50.882812 204.640625 48.359375 202.117188 48.359375 199 C 48.359375 195.882812 50.882812 193.359375 54 193.359375 C 57.117188 193.359375 59.640625 195.882812 59.640625 199 \"/>\n",
       "<path style=\"fill-rule:nonzero;fill:rgb(100%,100%,100%);fill-opacity:0.8;stroke-width:2;stroke-linecap:butt;stroke-linejoin:miter;stroke:rgb(0%,0%,0%);stroke-opacity:0.8;stroke-miterlimit:10;\" d=\"M 174.640625 190 C 174.640625 193.117188 172.117188 195.640625 169 195.640625 C 165.882812 195.640625 163.359375 193.117188 163.359375 190 C 163.359375 186.882812 165.882812 184.359375 169 184.359375 C 172.117188 184.359375 174.640625 186.882812 174.640625 190 \"/>\n",
       "<path style=\"fill-rule:nonzero;fill:rgb(100%,100%,100%);fill-opacity:0.8;stroke-width:2;stroke-linecap:butt;stroke-linejoin:miter;stroke:rgb(0%,0%,0%);stroke-opacity:0.8;stroke-miterlimit:10;\" d=\"M 201.640625 121 C 201.640625 124.117188 199.117188 126.640625 196 126.640625 C 192.882812 126.640625 190.359375 124.117188 190.359375 121 C 190.359375 117.882812 192.882812 115.359375 196 115.359375 C 199.117188 115.359375 201.640625 117.882812 201.640625 121 \"/>\n",
       "<path style=\"fill-rule:nonzero;fill:rgb(100%,100%,100%);fill-opacity:0.8;stroke-width:2;stroke-linecap:butt;stroke-linejoin:miter;stroke:rgb(0%,0%,0%);stroke-opacity:0.8;stroke-miterlimit:10;\" d=\"M 25.640625 214 C 25.640625 217.117188 23.117188 219.640625 20 219.640625 C 16.882812 219.640625 14.359375 217.117188 14.359375 214 C 14.359375 210.882812 16.882812 208.359375 20 208.359375 C 23.117188 208.359375 25.640625 210.882812 25.640625 214 \"/>\n",
       "<path style=\"fill-rule:nonzero;fill:rgb(100%,100%,100%);fill-opacity:0.8;stroke-width:2;stroke-linecap:butt;stroke-linejoin:miter;stroke:rgb(0%,0%,0%);stroke-opacity:0.8;stroke-miterlimit:10;\" d=\"M 225.640625 267 C 225.640625 270.117188 223.117188 272.640625 220 272.640625 C 216.882812 272.640625 214.359375 270.117188 214.359375 267 C 214.359375 263.882812 216.882812 261.359375 220 261.359375 C 223.117188 261.359375 225.640625 263.882812 225.640625 267 \"/>\n",
       "</g>\n",
       "</svg>\n"
      ]
     },
     "metadata": {},
     "output_type": "display_data"
    }
   ],
   "source": [
    "adj_matrix, struct_adj_matrix = spin_glass_random_regular_model(N,d,α,β)\n",
    "gm = Junet.Graph(struct_adj_matrix,directed=false)\n",
    "\n",
    "plot(gm, size=(300,300), layout=layout_fruchterman_reingold(gm), node_color=\"white\", node_border_color=\"black\",\n",
    "    node_border_width=2, edge_color=[edge_color_gm(i, adj_matrix, α, β) for i = 1:edgecount(gm)],\n",
    "    edge_width=2)"
   ]
  },
  {
   "cell_type": "code",
   "execution_count": 24,
   "metadata": {},
   "outputs": [
    {
     "name": "stderr",
     "output_type": "stream",
     "text": [
      "\u001b[1m\u001b[36mINFO: \u001b[39m\u001b[22m\u001b[36massuming spin alphabet\n",
      "\u001b[39m\u001b[1m\u001b[36mINFO: \u001b[39m\u001b[22m\u001b[36musing Glauber dynamics v2 to generate T-regime samples\n",
      "\u001b[39m"
     ]
    },
    {
     "data": {
      "text/plain": [
       "\"done\""
      ]
     },
     "metadata": {},
     "output_type": "display_data"
    },
    {
     "name": "stdout",
     "output_type": "stream",
     "text": [
      "1130286244\n"
     ]
    }
   ],
   "source": [
    "model = FactorGraph(adj_matrix)\n",
    "n_samples = 100000\n",
    "samples_T, samples_mixed_T = gibbs_sampling2(model, n_samples, T_regime())\n",
    "display(\"done\")"
   ]
  },
  {
   "cell_type": "code",
   "execution_count": 25,
   "metadata": {},
   "outputs": [
    {
     "name": "stderr",
     "output_type": "stream",
     "text": [
      "\u001b[1m\u001b[36mINFO: \u001b[39m\u001b[22m\u001b[36musing JuMP for RISE to learn Glauber dynamics\n",
      "\u001b[39m"
     ]
    },
    {
     "data": {
      "text/plain": [
       "32×32 Array{Float64,2}:\n",
       "  0.00136916   -0.0537706    -0.357055     …   0.0104088    -0.0790345  \n",
       " -0.0537706    -0.0600668     0.0101477        0.205075     -2.10403e-11\n",
       " -0.357055      0.0101477     0.183613        -8.56836e-12  -0.00827513 \n",
       "  0.0268569    -0.0358802    -0.0143672       -0.00393973   -0.0652647  \n",
       "  3.54707e-11  -0.100019      0.0620258       -0.0231027     4.68941e-10\n",
       " -0.0110622     1.5963e-11    1.09902      …  -0.119095      0.0849312  \n",
       " -0.0586119     0.0314049    -0.0768759        0.0269803    -0.00538571 \n",
       "  0.0670522     0.0868267    -2.64309e-11     -0.0153217     0.137859   \n",
       " -0.0480843     1.7083e-10   -0.137612         0.124088      1.01329    \n",
       " -0.00990684    0.0774124    -7.15855e-12      0.0511696    -0.0734894  \n",
       "  0.00926292   -0.0490145     0.0291791    …  -1.113         7.23822e-11\n",
       "  0.0269984    -0.00588292    1.64417e-11      1.19626       0.114663   \n",
       "  0.0582716     1.51531e-11   2.27066e-10     -4.56745e-11   2.99775e-10\n",
       "  ⋮                                        ⋱   ⋮                        \n",
       "  1.31931      -0.0370992     0.0714651    …  -0.00826204    0.112081   \n",
       "  4.35122e-11  -0.0562786    -0.0210433        0.00134972   -2.19802e-11\n",
       "  0.0363306    -0.00222342   -1.22284e-10     -0.0955905     7.56164e-11\n",
       " -0.204648     -4.59484e-11  -3.20955e-10     -1.18672e-11   1.03099    \n",
       "  0.154441      0.0972233     0.0201979       -0.0431288    -1.10798    \n",
       " -0.0768534    -6.36383e-11  -0.293302     …  -0.0409226     0.0597377  \n",
       "  0.107926      0.00873482   -1.06409e-11     -0.0365851    -0.0475558  \n",
       "  0.0307314     0.0501416     0.0254145       -0.00236156    0.116376   \n",
       " -2.6393e-11   -0.0231696     0.0549811        0.0660428     1.90456e-12\n",
       "  0.01065      -0.00944492    0.00875539      -0.0527376     1.52417e-11\n",
       "  0.0104088     0.205075     -8.56836e-12  …  -0.000122672   0.11294    \n",
       " -0.0790345    -2.10403e-11  -0.00827513       0.11294       0.351113   "
      ]
     },
     "execution_count": 25,
     "metadata": {},
     "output_type": "execute_result"
    }
   ],
   "source": [
    "learned_gm_RISE = learn_glauber_dynamics(samples_T, RISE())"
   ]
  },
  {
   "cell_type": "code",
   "execution_count": null,
   "metadata": {},
   "outputs": [],
   "source": [
    "learned_gm_multiRISE = learn(samples_mixed_T, multiRISE(0.4, true, 3))"
   ]
  }
 ],
 "metadata": {
  "kernelspec": {
   "display_name": "Julia 1.0.5",
   "language": "julia",
   "name": "julia-1.0"
  },
  "language_info": {
   "file_extension": ".jl",
   "mimetype": "application/julia",
   "name": "julia",
   "version": "1.0.5"
  }
 },
 "nbformat": 4,
 "nbformat_minor": 2
}
