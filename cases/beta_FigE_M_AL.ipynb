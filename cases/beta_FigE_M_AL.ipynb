{
 "cells": [
  {
   "cell_type": "code",
   "execution_count": 1,
   "metadata": {},
   "outputs": [
    {
     "data": {
      "text/plain": [
       "4-element Array{String,1}:\n",
       " \"@\"      \n",
       " \"@v#.#\"  \n",
       " \"@stdlib\"\n",
       " \"../src/\""
      ]
     },
     "execution_count": 1,
     "metadata": {},
     "output_type": "execute_result"
    }
   ],
   "source": [
    "# Add locations of modules\n",
    "push!(LOAD_PATH, \"../src/\")"
   ]
  },
  {
   "cell_type": "code",
   "execution_count": 2,
   "metadata": {},
   "outputs": [],
   "source": [
    "# Required packages\n",
    "using LinearAlgebra\n",
    "using Convex, SCS, Mosek, MosekTools\n",
    "\n",
    "using GraphicalModelLearning\n",
    "using LightGraphs\n",
    "\n",
    "# Function definitions\n",
    "using Printf, SparseArrays\n",
    "include(\"beta_scaling.jl\")\n",
    "include(\"active_learning.jl\")\n",
    "\n",
    "using DelimitedFiles"
   ]
  },
  {
   "cell_type": "code",
   "execution_count": 3,
   "metadata": {},
   "outputs": [],
   "source": [
    "using Revise"
   ]
  },
  {
   "cell_type": "code",
   "execution_count": 4,
   "metadata": {},
   "outputs": [
    {
     "name": "stderr",
     "output_type": "stream",
     "text": [
      "┌ Warning: `with_optimizer` is deprecated. Adapt the following example to update your code:\n",
      "│ `with_optimizer(Ipopt.Optimizer, max_cpu_time=60.0)` becomes `optimizer_with_attributes(Ipopt.Optimizer, \"max_cpu_time\" => 60.0)`.\n",
      "│   caller = ip:0x0\n",
      "└ @ Core :-1\n"
     ]
    },
    {
     "data": {
      "text/plain": [
       "NLP(MathOptInterface.OptimizerWithAttributes(Ipopt.Optimizer, Pair{MathOptInterface.AbstractOptimizerAttribute,Any}[RawParameter(\"print_level\")=>0]))"
      ]
     },
     "execution_count": 4,
     "metadata": {},
     "output_type": "execute_result"
    }
   ],
   "source": [
    "# parameters\n",
    "FLAG_create_struct_gm = true\n",
    "FLAG_regular_random_gm = false\n",
    "FLAG_lattice_gm = true\n",
    "FLAG_weak_impurity = true\n",
    "sampling_regime = M_regime()\n",
    "learning_algo = NLP()"
   ]
  },
  {
   "cell_type": "code",
   "execution_count": 5,
   "metadata": {},
   "outputs": [
    {
     "data": {
      "text/plain": [
       "\"M_opt_Ferro_Lattice_E_MEE.txt\""
      ]
     },
     "execution_count": 5,
     "metadata": {},
     "output_type": "execute_result"
    }
   ],
   "source": [
    "if FLAG_lattice_gm\n",
    "    # text file to save adjacency matrix in\n",
    "    file_adj_matrix_gm = \"adj_matrix_ferro_lattice_gm_E_MEE.txt\"\n",
    "    # name of picture to save graphical model in\n",
    "    file_plot_gm = \"ferro_lattice_gm_E_MEE.eps\"\n",
    "    # File to save final results\n",
    "    file_M_opt_gm = \"M_opt_Ferro_Lattice_E_MEE.txt\"\n",
    "elseif FLAG_regular_random_gm\n",
    "    # text file to save adjacency matrix in\n",
    "    file_adj_matrix_gm = \"adj_matrix_spin_glass_gm.txt\"\n",
    "    # name of picture to save graphical model in\n",
    "    file_plot_gm = \"spin_glass_gm3.eps\"\n",
    "    # File to save final results\n",
    "    file_M_opt_gm = \"M_opt_M_Regime_Regular_Random_B.txt\"\n",
    "end"
   ]
  },
  {
   "cell_type": "code",
   "execution_count": 6,
   "metadata": {},
   "outputs": [],
   "source": [
    "# Simple test\n",
    "N = 16\n",
    "d = 4\n",
    "α = 0.4\n",
    "β_array = [1.0+0.5*i for i=1:5]\n",
    "\n",
    "# Create and plot the initial graphical graphical model\n",
    "β = copy(β_array[1])\n",
    "adj_matrix, struct_adj_matrix = ferro_lattice(N,α,β,FLAG_weak_impurity)\n",
    "m = n = Int(sqrt(N))\n",
    "open(file_adj_matrix_gm, \"w\") do io\n",
    "    writedlm(io, adj_matrix)\n",
    "end;\n"
   ]
  },
  {
   "cell_type": "code",
   "execution_count": 7,
   "metadata": {},
   "outputs": [
    {
     "data": {
      "text/plain": [
       "5-element Array{Int64,1}:\n",
       " 4973202032\n",
       " 4973202160\n",
       " 4973202224\n",
       " 4973202288\n",
       " 4542625952"
      ]
     },
     "execution_count": 7,
     "metadata": {},
     "output_type": "execute_result"
    }
   ],
   "source": [
    "## Start the complexity studies\n",
    "τ = α/2\n",
    "L = 45\n",
    "M_g = 4000\n",
    "M_factor = 0.05\n",
    "\n",
    "M_opt = Array{Int64,1}(undef,length(β_array))"
   ]
  },
  {
   "cell_type": "code",
   "execution_count": 9,
   "metadata": {},
   "outputs": [
    {
     "name": "stdout",
     "output_type": "stream",
     "text": [
      "1.5\n",
      "6000\n"
     ]
    },
    {
     "name": "stderr",
     "output_type": "stream",
     "text": [
      "┌ Info: assuming spin alphabet\n",
      "└ @ GraphicalModelLearning /Users/gogol/Dropbox (Personal)/Research/LANL/Code/GML_Glauber_Dynamics.jl/src/models.jl:108\n",
      "┌ Info: assuming spin alphabet\n",
      "└ @ GraphicalModelLearning /Users/gogol/Dropbox (Personal)/Research/LANL/Code/GML_Glauber_Dynamics.jl/src/models.jl:108\n",
      "┌ Info: using Glauber dynamics v1 to generate M-regime samples\n",
      "└ @ GraphicalModelLearning /Users/gogol/Dropbox (Personal)/Research/LANL/Code/GML_Glauber_Dynamics.jl/src/sampling.jl:909\n",
      "┌ Info: using JuMP for RISE to learn Glauber dynamics\n",
      "└ @ GraphicalModelLearning /Users/gogol/Dropbox (Personal)/Research/LANL/Code/GML_Glauber_Dynamics.jl/src/GraphicalModelLearning.jl:368\n",
      "┌ Info: using Glauber dynamics v1 to generate M-regime samples\n",
      "└ @ GraphicalModelLearning /Users/gogol/Dropbox (Personal)/Research/LANL/Code/GML_Glauber_Dynamics.jl/src/sampling.jl:909\n",
      "┌ Info: using JuMP for RISE to learn Glauber dynamics\n",
      "└ @ GraphicalModelLearning /Users/gogol/Dropbox (Personal)/Research/LANL/Code/GML_Glauber_Dynamics.jl/src/GraphicalModelLearning.jl:368\n",
      "┌ Info: using Glauber dynamics v1 to generate M-regime samples\n",
      "└ @ GraphicalModelLearning /Users/gogol/Dropbox (Personal)/Research/LANL/Code/GML_Glauber_Dynamics.jl/src/sampling.jl:909\n",
      "┌ Info: using JuMP for RISE to learn Glauber dynamics\n",
      "└ @ GraphicalModelLearning /Users/gogol/Dropbox (Personal)/Research/LANL/Code/GML_Glauber_Dynamics.jl/src/GraphicalModelLearning.jl:368\n",
      "┌ Info: using Glauber dynamics v1 to generate M-regime samples\n",
      "└ @ GraphicalModelLearning /Users/gogol/Dropbox (Personal)/Research/LANL/Code/GML_Glauber_Dynamics.jl/src/sampling.jl:909\n",
      "┌ Info: using JuMP for RISE to learn Glauber dynamics\n",
      "└ @ GraphicalModelLearning /Users/gogol/Dropbox (Personal)/Research/LANL/Code/GML_Glauber_Dynamics.jl/src/GraphicalModelLearning.jl:368\n",
      "┌ Info: using Glauber dynamics v1 to generate M-regime samples\n",
      "└ @ GraphicalModelLearning /Users/gogol/Dropbox (Personal)/Research/LANL/Code/GML_Glauber_Dynamics.jl/src/sampling.jl:909\n",
      "┌ Info: using JuMP for RISE to learn Glauber dynamics\n",
      "└ @ GraphicalModelLearning /Users/gogol/Dropbox (Personal)/Research/LANL/Code/GML_Glauber_Dynamics.jl/src/GraphicalModelLearning.jl:368\n",
      "┌ Info: using Glauber dynamics v1 to generate M-regime samples\n",
      "└ @ GraphicalModelLearning /Users/gogol/Dropbox (Personal)/Research/LANL/Code/GML_Glauber_Dynamics.jl/src/sampling.jl:909\n",
      "┌ Info: using JuMP for RISE to learn Glauber dynamics\n",
      "└ @ GraphicalModelLearning /Users/gogol/Dropbox (Personal)/Research/LANL/Code/GML_Glauber_Dynamics.jl/src/GraphicalModelLearning.jl:368\n",
      "┌ Info: using Glauber dynamics v1 to generate M-regime samples\n",
      "└ @ GraphicalModelLearning /Users/gogol/Dropbox (Personal)/Research/LANL/Code/GML_Glauber_Dynamics.jl/src/sampling.jl:909\n",
      "┌ Info: using JuMP for RISE to learn Glauber dynamics\n",
      "└ @ GraphicalModelLearning /Users/gogol/Dropbox (Personal)/Research/LANL/Code/GML_Glauber_Dynamics.jl/src/GraphicalModelLearning.jl:368\n",
      "┌ Info: using Glauber dynamics v1 to generate M-regime samples\n",
      "└ @ GraphicalModelLearning /Users/gogol/Dropbox (Personal)/Research/LANL/Code/GML_Glauber_Dynamics.jl/src/sampling.jl:909\n",
      "┌ Info: using JuMP for RISE to learn Glauber dynamics\n",
      "└ @ GraphicalModelLearning /Users/gogol/Dropbox (Personal)/Research/LANL/Code/GML_Glauber_Dynamics.jl/src/GraphicalModelLearning.jl:368\n",
      "┌ Info: using Glauber dynamics v1 to generate M-regime samples\n",
      "└ @ GraphicalModelLearning /Users/gogol/Dropbox (Personal)/Research/LANL/Code/GML_Glauber_Dynamics.jl/src/sampling.jl:909\n",
      "┌ Info: using JuMP for RISE to learn Glauber dynamics\n",
      "└ @ GraphicalModelLearning /Users/gogol/Dropbox (Personal)/Research/LANL/Code/GML_Glauber_Dynamics.jl/src/GraphicalModelLearning.jl:368\n",
      "┌ Info: using Glauber dynamics v1 to generate M-regime samples\n",
      "└ @ GraphicalModelLearning /Users/gogol/Dropbox (Personal)/Research/LANL/Code/GML_Glauber_Dynamics.jl/src/sampling.jl:909\n",
      "┌ Info: using JuMP for RISE to learn Glauber dynamics\n",
      "└ @ GraphicalModelLearning /Users/gogol/Dropbox (Personal)/Research/LANL/Code/GML_Glauber_Dynamics.jl/src/GraphicalModelLearning.jl:368\n",
      "┌ Info: using Glauber dynamics v1 to generate M-regime samples\n",
      "└ @ GraphicalModelLearning /Users/gogol/Dropbox (Personal)/Research/LANL/Code/GML_Glauber_Dynamics.jl/src/sampling.jl:909\n"
     ]
    },
    {
     "name": "stdout",
     "output_type": "stream",
     "text": [
      "FLAG=0, M=6300, n_trials=0, P=0/45\n"
     ]
    },
    {
     "name": "stderr",
     "output_type": "stream",
     "text": [
      "┌ Info: assuming spin alphabet\n",
      "└ @ GraphicalModelLearning /Users/gogol/Dropbox (Personal)/Research/LANL/Code/GML_Glauber_Dynamics.jl/src/models.jl:108\n",
      "┌ Info: using Glauber dynamics v1 to generate M-regime samples\n",
      "└ @ GraphicalModelLearning /Users/gogol/Dropbox (Personal)/Research/LANL/Code/GML_Glauber_Dynamics.jl/src/sampling.jl:909\n",
      "┌ Info: using JuMP for RISE to learn Glauber dynamics\n",
      "└ @ GraphicalModelLearning /Users/gogol/Dropbox (Personal)/Research/LANL/Code/GML_Glauber_Dynamics.jl/src/GraphicalModelLearning.jl:368\n"
     ]
    },
    {
     "ename": "InterruptException",
     "evalue": "InterruptException:",
     "output_type": "error",
     "traceback": [
      "InterruptException:",
      "",
      "Stacktrace:",
      " [1] Type at ./boot.jl:394 [inlined]",
      " [2] Type at ./boot.jl:403 [inlined]",
      " [3] zeros at ./array.jl:467 [inlined]",
      " [4] zeros at ./array.jl:465 [inlined]",
      " [5] zeros at ./array.jl:463 [inlined]",
      " [6] entropy_configs(::Array{Float64,2}, ::Array{Int64,1}, ::Int64) at /Users/gogol/Dropbox (Personal)/Research/LANL/Code/GML_Glauber_Dynamics.jl/cases/active_learning.jl:197",
      " [7] active_learning_run(::Int64, ::Int64, ::Int64, ::Int64, ::Array{Float64,2}, ::RISE, ::NLP, ::Float64, ::Bool) at /Users/gogol/Dropbox (Personal)/Research/LANL/Code/GML_Glauber_Dynamics.jl/cases/beta_scaling.jl:513",
      " [8] get_M_opt_glauber_dynamics_AL(::Array{Float64,2}, ::Float64, ::Int64, ::Int64, ::Float64) at /Users/gogol/Dropbox (Personal)/Research/LANL/Code/GML_Glauber_Dynamics.jl/cases/beta_scaling.jl:555",
      " [9] top-level scope at ./In[9]:15"
     ]
    }
   ],
   "source": [
    "for i = 1:length(β_array)\n",
    "    # define β\n",
    "    β = copy(β_array[i])\n",
    "    println(β)\n",
    "\n",
    "    if i==1\n",
    "        M_g = 6000\n",
    "    end\n",
    "    println(M_g)\n",
    "    \n",
    "    # Create the adjacency matrix\n",
    "    adj_matrix, struct_adj_matrix = ferro_lattice(N,α,β,FLAG_weak_impurity)\n",
    "\n",
    "    # Get the optimum number of samples\n",
    "    M_opt[i] = get_M_opt_glauber_dynamics_AL(adj_matrix, τ, L, M_g, M_factor)\n",
    "\n",
    "    # Update the guess of M_opt\n",
    "    M_g = Int(floor(0.8*M_opt[i]))\n",
    "end"
   ]
  },
  {
   "cell_type": "code",
   "execution_count": 54,
   "metadata": {},
   "outputs": [
    {
     "data": {
      "text/plain": [
       "15750"
      ]
     },
     "execution_count": 54,
     "metadata": {},
     "output_type": "execute_result"
    }
   ],
   "source": [
    "#mtot = 300000\n",
    "#mtot = 315000\n",
    "mtot = 15750"
   ]
  },
  {
   "cell_type": "code",
   "execution_count": 57,
   "metadata": {},
   "outputs": [
    {
     "data": {
      "text/plain": [
       "716"
      ]
     },
     "execution_count": 57,
     "metadata": {},
     "output_type": "execute_result"
    }
   ],
   "source": [
    "#m0 = Int(floor(mtot/3))\n",
    "m0 = 5000\n",
    "mbatch = min(2000,Int(floor((mtot-m0)/15)))"
   ]
  },
  {
   "cell_type": "code",
   "execution_count": 58,
   "metadata": {},
   "outputs": [
    {
     "name": "stdout",
     "output_type": "stream",
     "text": [
      "lambda=0.758173,m_remaining=10034,M=5716\n",
      "lambda=0.763507,m_remaining=9318,M=6432\n",
      "lambda=0.768113,m_remaining=8602,M=7148\n",
      "lambda=0.772157,m_remaining=7886,M=7864\n",
      "lambda=0.775753,m_remaining=7170,M=8580\n",
      "lambda=0.778987,m_remaining=6454,M=9296\n",
      "lambda=0.781919,m_remaining=5738,M=10012\n",
      "lambda=0.784600,m_remaining=5022,M=10728\n",
      "lambda=0.787065,m_remaining=4306,M=11444\n",
      "lambda=0.789346,m_remaining=3590,M=12160\n",
      "lambda=0.791466,m_remaining=2874,M=12876\n",
      "lambda=0.793445,m_remaining=2158,M=13592\n",
      "lambda=0.795299,m_remaining=1442,M=14308\n",
      "lambda=0.797043,m_remaining=726,M=15024\n",
      "lambda=0.798688,m_remaining=10,M=15740\n",
      "lambda=0.800244,m_remaining=0,M=15750\n"
     ]
    }
   ],
   "source": [
    "m_remaining = mtot-m0\n",
    "M = copy(m0)\n",
    "\n",
    "while m_remaining > 0\n",
    "    # modify the distribution slightly by adding a small amount of uniform distribution\n",
    "    lambda = 1 - 1/((M)^(1/6))\n",
    "    \n",
    "    mtemp = min(m_remaining,mbatch)\n",
    "    \n",
    "    m_remaining = m_remaining - mtemp\n",
    "    M += mtemp\n",
    "\n",
    "    # add to the existing set of samples\n",
    "    @printf(\"lambda=%f,m_remaining=%d,M=%d\\n\",lambda,m_remaining,M)\n",
    "end"
   ]
  },
  {
   "cell_type": "code",
   "execution_count": 48,
   "metadata": {},
   "outputs": [
    {
     "data": {
      "text/plain": [
       "0.05"
      ]
     },
     "execution_count": 48,
     "metadata": {},
     "output_type": "execute_result"
    }
   ],
   "source": [
    "M_factor = 0.05"
   ]
  },
  {
   "cell_type": "code",
   "execution_count": 49,
   "metadata": {},
   "outputs": [
    {
     "data": {
      "text/plain": [
       "330750"
      ]
     },
     "execution_count": 49,
     "metadata": {},
     "output_type": "execute_result"
    }
   ],
   "source": [
    "M = Int(floor(((1 + M_factor)*M)/50))*50"
   ]
  },
  {
   "cell_type": "code",
   "execution_count": 59,
   "metadata": {},
   "outputs": [
    {
     "data": {
      "text/plain": [
       "solve_exp_system (generic function with 1 method)"
      ]
     },
     "execution_count": 59,
     "metadata": {},
     "output_type": "execute_result"
    }
   ],
   "source": [
    "function solve_exp_system(β_array::Array,M_array::Array,d_max::Integer)\n",
    "    # Set up the least squares problem\n",
    "    b = log.(M_array)\n",
    "    A = ones(length(β_array),2)\n",
    "    for i=1:length(β_array)\n",
    "        A[i,2] = β_array[i]*d_max\n",
    "    end\n",
    "    x = A\\b\n",
    "    return x\n",
    "end"
   ]
  },
  {
   "cell_type": "code",
   "execution_count": null,
   "metadata": {},
   "outputs": [],
   "source": [
    "# M-Regime \n",
    "β_array = vcat([0.4+0.1*i for i=0:27],[3.5,4.0,4.5,5.0])\n",
    "M_array = readdlm(\"FigE_M_Results.txt\")\n",
    "\n",
    "β_array_US = [1.5,1.6,1.7,2.0,2.2,2.5,2.7]\n",
    "M_array_US = [15750,22050,24000,45000,57500,120000,178650]\n",
    "\n",
    "yticks_array = 10.^(4:6)\n",
    "xticks_array = 0.0:0.5:3.0\n",
    "\n",
    "d_max = 4\n",
    "\n",
    "x = solve_exp_system(β_array[7:end], M_array[7:end], d_max)\n",
    "x_US = solve_exp_system(β_array_US, M_array_US, d_max)\n",
    "\n",
    "c1 = \"#911eb4\" #Purple\n",
    "c2 = \"#3cb44b\" #Green\n",
    "\n",
    "figure(figsize=(7.5,4.5))\n",
    "ax=subplot(111)\n",
    "ax[:spines][\"top\"][:set_color](\"none\") # Remove the top axis boundary\n",
    "ax[:spines][\"right\"][:set_color](\"none\") # Remove the right axis boundary    \n",
    "\n",
    "\n",
    "# Curve Fit\n",
    "end_plot=27\n",
    "semilogy(β_array[7:end_plot],exp(x[1])*exp.(x[2]*β_array[7:end_plot]*d_max),linestyle=\"--\",c=c1,linewidth=2,label=latexstring(\"\\$\\\\exp(\",string(round(x[2],2)),\"\\\\beta d)\\$\"),zorder=1)\n",
    "semilogy(β_array_US,exp(x_US[1])*exp.(x_US[2]*β_array_US*d_max),linestyle=\"--\",c=c2,linewidth=2,label=latexstring(\"\\$\\\\exp(\",string(round(x_US[2],2)),\"\\\\beta d)\\$\"),zorder=1)\n",
    "\n",
    "# Data\n",
    "scatter(β_array[1:end_plot],M_array[1:end_plot],s=30,color=c1,marker=\"s\",edgecolor=\"k\",linewidth=0.5, zorder=2, label=\"GD-RISE\")\n",
    "scatter(β_array_US,M_array_US,s=30,color=c2,marker=\"o\",edgecolor=\"k\",linewidth=0.5, zorder=2, label=\"GD-RISE with AL\")\n",
    "\n",
    "xlabel(L\"\\beta\",fontsize=16)\n",
    "ylabel(L\"m^{\\star}\",fontsize=16)\n",
    "legend(fontsize=14, frameon=false,loc=2)\n",
    "xticks(xticks_array,fontsize=14)\n",
    "yticks(yticks_array, fontsize=14)\n",
    "#grid(\"on\",linestyle=\"dotted\")\n",
    "\n",
    "savefig(\"FigE_M_GDRISE_AL_Results.png\", format=\"png\", dpi=300,bbox_inches=\"tight\")"
   ]
  }
 ],
 "metadata": {
  "kernelspec": {
   "display_name": "Julia 1.0.5",
   "language": "julia",
   "name": "julia-1.0"
  },
  "language_info": {
   "file_extension": ".jl",
   "mimetype": "application/julia",
   "name": "julia",
   "version": "1.0.5"
  }
 },
 "nbformat": 4,
 "nbformat_minor": 4
}
