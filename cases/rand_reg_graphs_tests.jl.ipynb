{
 "cells": [
  {
   "cell_type": "markdown",
   "metadata": {},
   "source": [
    "## Solvers' Testing"
   ]
  },
  {
   "cell_type": "code",
   "execution_count": 1,
   "metadata": {},
   "outputs": [
    {
     "data": {
      "text/plain": [
       "4-element Array{String,1}:\n",
       " \"@\"      \n",
       " \"@v#.#\"  \n",
       " \"@stdlib\"\n",
       " \"../src/\""
      ]
     },
     "execution_count": 1,
     "metadata": {},
     "output_type": "execute_result"
    }
   ],
   "source": [
    "# Add locations of modules\n",
    "push!(LOAD_PATH, \"../src/\")"
   ]
  },
  {
   "cell_type": "markdown",
   "metadata": {},
   "source": [
    "## Random Regular Graphs"
   ]
  },
  {
   "cell_type": "code",
   "execution_count": 2,
   "metadata": {},
   "outputs": [],
   "source": [
    "using Revise\n",
    "import Random"
   ]
  },
  {
   "cell_type": "code",
   "execution_count": 4,
   "metadata": {},
   "outputs": [
    {
     "name": "stderr",
     "output_type": "stream",
     "text": [
      "┌ Info: Precompiling GraphicalModelLearning [73787735-dbe8-5e05-9488-dc58b1b075d0]\n",
      "└ @ Base loading.jl:1192\n",
      "┌ Info: Recompiling stale cache file /Users/gogol/.julia/compiled/v1.0/LightGraphs/Xm08G.ji for LightGraphs [093fc24a-ae57-5d10-9952-331d41423f4d]\n",
      "└ @ Base loading.jl:1190\n"
     ]
    }
   ],
   "source": [
    "using GraphicalModelLearning\n",
    "using LightGraphs\n",
    "#using Junet"
   ]
  },
  {
   "cell_type": "code",
   "execution_count": 5,
   "metadata": {},
   "outputs": [
    {
     "name": "stdout",
     "output_type": "stream",
     "text": [
      "  0.288289 seconds (712.09 k allocations: 36.171 MiB, 2.33% gc time)\n"
     ]
    },
    {
     "data": {
      "text/plain": [
       "{8, 12} undirected simple Int64 graph"
      ]
     },
     "execution_count": 5,
     "metadata": {},
     "output_type": "execute_result"
    }
   ],
   "source": [
    "@time rand_reg_gm = random_regular_graph(8,3)"
   ]
  },
  {
   "cell_type": "code",
   "execution_count": 31,
   "metadata": {},
   "outputs": [
    {
     "name": "stderr",
     "output_type": "stream",
     "text": [
      "┌ Warning: Due to a previously reported error, the running code does not match saved version for the following files:\n",
      "│   /Users/gogol/.julia/packages/StaticArrays/1g9bq/src/inv.jl\n",
      "│   /Users/gogol/.julia/packages/StaticArrays/1g9bq/src/eigen.jl\n",
      "└ @ Revise /Users/gogol/.julia/packages/Revise/2NCCI/src/Revise.jl:625\n"
     ]
    },
    {
     "data": {
      "text/plain": [
       "8×8 SparseArrays.SparseMatrixCSC{Int64,Int64} with 24 stored entries:\n",
       "  [4, 1]  =  1\n",
       "  [6, 1]  =  1\n",
       "  [7, 1]  =  1\n",
       "  [5, 2]  =  1\n",
       "  [6, 2]  =  1\n",
       "  [8, 2]  =  1\n",
       "  [4, 3]  =  1\n",
       "  [6, 3]  =  1\n",
       "  [7, 3]  =  1\n",
       "  [1, 4]  =  1\n",
       "  [3, 4]  =  1\n",
       "  [5, 4]  =  1\n",
       "  [2, 5]  =  1\n",
       "  [4, 5]  =  1\n",
       "  [8, 5]  =  1\n",
       "  [1, 6]  =  1\n",
       "  [2, 6]  =  1\n",
       "  [3, 6]  =  1\n",
       "  [1, 7]  =  1\n",
       "  [3, 7]  =  1\n",
       "  [8, 7]  =  1\n",
       "  [2, 8]  =  1\n",
       "  [5, 8]  =  1\n",
       "  [7, 8]  =  1"
      ]
     },
     "execution_count": 31,
     "metadata": {},
     "output_type": "execute_result"
    }
   ],
   "source": [
    "adj_matrix = adjacency_matrix(rand_reg_gm)"
   ]
  },
  {
   "cell_type": "code",
   "execution_count": 32,
   "metadata": {},
   "outputs": [
    {
     "name": "stderr",
     "output_type": "stream",
     "text": [
      "┌ Warning: Due to a previously reported error, the running code does not match saved version for the following files:\n",
      "│   /Users/gogol/.julia/packages/StaticArrays/1g9bq/src/inv.jl\n",
      "│   /Users/gogol/.julia/packages/StaticArrays/1g9bq/src/eigen.jl\n",
      "└ @ Revise /Users/gogol/.julia/packages/Revise/2NCCI/src/Revise.jl:625\n"
     ]
    },
    {
     "data": {
      "text/plain": [
       "8×8 Array{Int64,2}:\n",
       " 0  0  0  1  0  1  1  0\n",
       " 0  0  0  0  1  1  0  1\n",
       " 0  0  0  1  0  1  1  0\n",
       " 1  0  1  0  1  0  0  0\n",
       " 0  1  0  1  0  0  0  1\n",
       " 1  1  1  0  0  0  0  0\n",
       " 1  0  1  0  0  0  0  1\n",
       " 0  1  0  0  1  0  1  0"
      ]
     },
     "execution_count": 32,
     "metadata": {},
     "output_type": "execute_result"
    }
   ],
   "source": [
    "adj_matrix = Matrix(adj_matrix)"
   ]
  },
  {
   "cell_type": "code",
   "execution_count": 33,
   "metadata": {},
   "outputs": [
    {
     "name": "stderr",
     "output_type": "stream",
     "text": [
      "┌ Warning: Due to a previously reported error, the running code does not match saved version for the following files:\n",
      "│   /Users/gogol/.julia/packages/StaticArrays/1g9bq/src/inv.jl\n",
      "│   /Users/gogol/.julia/packages/StaticArrays/1g9bq/src/eigen.jl\n",
      "└ @ Revise /Users/gogol/.julia/packages/Revise/2NCCI/src/Revise.jl:625\n",
      "┌ Info: assuming spin alphabet\n",
      "└ @ GraphicalModelLearning /Users/gogol/Dropbox (Personal)/Research/LANL/Code/GML_Glauber_Dynamics.jl/src/models.jl:108\n",
      "┌ Info: using Glauber dynamics v1 to generate samples\n",
      "└ @ GraphicalModelLearning /Users/gogol/Dropbox (Personal)/Research/LANL/Code/GML_Glauber_Dynamics.jl/src/sampling.jl:262\n",
      "┌ Info: using Glauber dynamics v1 to generate T-regime samples\n",
      "└ @ GraphicalModelLearning /Users/gogol/Dropbox (Personal)/Research/LANL/Code/GML_Glauber_Dynamics.jl/src/sampling.jl:328\n"
     ]
    },
    {
     "name": "stdout",
     "output_type": "stream",
     "text": [
      "0.000547637\n",
      "0.030056286\n",
      "0.079208523\n"
     ]
    }
   ],
   "source": [
    "# Number of samples\n",
    "n_samples = 10000\n",
    "\n",
    "# Regular sampling\n",
    "model = FactorGraph(adj_matrix)\n",
    "t1 = @elapsed samples1 = sample(model, n_samples)\n",
    "\n",
    "# Sample using the Gibbs Sampler\n",
    "t2 = @elapsed samples_time_series, nodes_updated_time_series = gibbs_sampling(model, n_samples)\n",
    "\n",
    "# T-regime sampling\n",
    "t3 = @elapsed samples_T, samples_mixed = gibbs_sampling(model, n_samples, T_regime())\n",
    "\n",
    "println(t1)\n",
    "println(t2)\n",
    "println(t3)"
   ]
  },
  {
   "cell_type": "code",
   "execution_count": 34,
   "metadata": {},
   "outputs": [
    {
     "name": "stderr",
     "output_type": "stream",
     "text": [
      "┌ Warning: Due to a previously reported error, the running code does not match saved version for the following files:\n",
      "│   /Users/gogol/.julia/packages/StaticArrays/1g9bq/src/inv.jl\n",
      "│   /Users/gogol/.julia/packages/StaticArrays/1g9bq/src/eigen.jl\n",
      "└ @ Revise /Users/gogol/.julia/packages/Revise/2NCCI/src/Revise.jl:625\n"
     ]
    },
    {
     "data": {
      "text/plain": [
       "117-element Array{Float64,1}:\n",
       " 0.0005000500050005    \n",
       " 0.00010001000100010001\n",
       " 0.00010001000100010001\n",
       " 0.00010001000100010001\n",
       " 0.00030003000300030005\n",
       " 0.12041204120412041   \n",
       " 0.00010001000100010001\n",
       " 0.00010001000100010001\n",
       " 0.00010001000100010001\n",
       " 0.00020002000200020003\n",
       " 0.00020002000200020003\n",
       " 0.00020002000200020003\n",
       " 0.00010001000100010001\n",
       " ⋮                     \n",
       " 0.00010001000100010001\n",
       " 0.00010001000100010001\n",
       " 0.00030003000300030005\n",
       " 0.00020002000200020003\n",
       " 0.00020002000200020003\n",
       " 0.00040004000400040005\n",
       " 0.00010001000100010001\n",
       " 0.00010001000100010001\n",
       " 0.00010001000100010001\n",
       " 0.0009000900090009    \n",
       " 0.00010001000100010001\n",
       " 0.0007000700070007    "
      ]
     },
     "execution_count": 34,
     "metadata": {},
     "output_type": "execute_result"
    }
   ],
   "source": [
    "samples_T[:,1]/sum(samples_T[:,1])"
   ]
  },
  {
   "cell_type": "code",
   "execution_count": 19,
   "metadata": {},
   "outputs": [
    {
     "name": "stderr",
     "output_type": "stream",
     "text": [
      "┌ Warning: Due to a previously reported error, the running code does not match saved version for the following files:\n",
      "│   /Users/gogol/.julia/packages/StaticArrays/1g9bq/src/inv.jl\n",
      "│   /Users/gogol/.julia/packages/StaticArrays/1g9bq/src/eigen.jl\n",
      "└ @ Revise /Users/gogol/.julia/packages/Revise/2NCCI/src/Revise.jl:625\n"
     ]
    },
    {
     "data": {
      "text/plain": [
       "170-element Array{Float64,1}:\n",
       " 0.0001\n",
       " 0.0001\n",
       " 0.0007\n",
       " 0.0013\n",
       " 0.0002\n",
       " 0.0009\n",
       " 0.0002\n",
       " 0.0001\n",
       " 0.0001\n",
       " 0.0001\n",
       " 0.0001\n",
       " 0.0002\n",
       " 0.0001\n",
       " ⋮     \n",
       " 0.0001\n",
       " 0.0001\n",
       " 0.0009\n",
       " 0.0009\n",
       " 0.0001\n",
       " 0.0001\n",
       " 0.0002\n",
       " 0.001 \n",
       " 0.0003\n",
       " 0.0001\n",
       " 0.0012\n",
       " 0.0001"
      ]
     },
     "execution_count": 19,
     "metadata": {},
     "output_type": "execute_result"
    }
   ],
   "source": [
    "samples1[:,1]/sum(samples1[:,1])"
   ]
  },
  {
   "cell_type": "markdown",
   "metadata": {},
   "source": [
    "### Learning on iid samples"
   ]
  },
  {
   "cell_type": "code",
   "execution_count": 19,
   "metadata": {
    "scrolled": true
   },
   "outputs": [
    {
     "name": "stdout",
     "output_type": "stream",
     "text": [
      "\n",
      "******************************************************************************\n",
      "This program contains Ipopt, a library for large-scale nonlinear optimization.\n",
      " Ipopt is released as open source code under the Eclipse Public License (EPL).\n",
      "         For more information visit http://projects.coin-or.org/Ipopt\n",
      "******************************************************************************\n",
      "\n",
      "  8.047059 seconds (5.29 M allocations: 268.768 MiB, 1.39% gc time)\n",
      "  0.095808 seconds (64.97 k allocations: 6.232 MiB)\n"
     ]
    },
    {
     "name": "stderr",
     "output_type": "stream",
     "text": [
      "\u001b[1m\u001b[36mINFO: \u001b[39m\u001b[22m\u001b[36musing coordinate gradient solver for RISE\n",
      "\u001b[39m"
     ]
    },
    {
     "name": "stdout",
     "output_type": "stream",
     "text": [
      "  2.584218 seconds (2.16 M allocations: 72.799 MiB, 1.13% gc time)\n"
     ]
    },
    {
     "name": "stderr",
     "output_type": "stream",
     "text": [
      "\u001b[1m\u001b[36mINFO: \u001b[39m\u001b[22m\u001b[36musing coordinate gradient solver for RISE\n",
      "\u001b[39m"
     ]
    },
    {
     "name": "stdout",
     "output_type": "stream",
     "text": [
      "  0.162536 seconds (2.53 M allocations: 45.543 MiB, 9.48% gc time)\n"
     ]
    },
    {
     "name": "stderr",
     "output_type": "stream",
     "text": [
      "\u001b[1m\u001b[36mINFO: \u001b[39m\u001b[22m\u001b[36musing coordinate gradient solver for RPLE\n",
      "\u001b[39m"
     ]
    },
    {
     "name": "stdout",
     "output_type": "stream",
     "text": [
      "  0.420464 seconds (1.92 M allocations: 40.500 MiB, 3.64% gc time)\n"
     ]
    },
    {
     "name": "stderr",
     "output_type": "stream",
     "text": [
      "\u001b[1m\u001b[36mINFO: \u001b[39m\u001b[22m\u001b[36musing coordinate gradient solver for RPLE\n",
      "\u001b[39m"
     ]
    },
    {
     "name": "stdout",
     "output_type": "stream",
     "text": [
      "  0.185423 seconds (2.90 M allocations: 53.846 MiB, 12.45% gc time)\n"
     ]
    },
    {
     "name": "stderr",
     "output_type": "stream",
     "text": [
      "\u001b[1m\u001b[36mINFO: \u001b[39m\u001b[22m\u001b[36musing coordinate gradient solver for logRISE\n",
      "\u001b[39m"
     ]
    },
    {
     "name": "stdout",
     "output_type": "stream",
     "text": [
      "  0.453969 seconds (1.92 M allocations: 38.892 MiB, 3.87% gc time)\n"
     ]
    },
    {
     "name": "stderr",
     "output_type": "stream",
     "text": [
      "\u001b[1m\u001b[36mINFO: \u001b[39m\u001b[22m\u001b[36musing coordinate gradient solver for logRISE\n",
      "\u001b[39m"
     ]
    },
    {
     "name": "stdout",
     "output_type": "stream",
     "text": [
      "  0.162225 seconds (3.66 M allocations: 62.366 MiB, 9.44% gc time)\n",
      "[0.227245 0.919767 1.038 2.50409e-7 0.987622 3.6009e-7 6.8341e-7 9.79434e-7; 0.919767 -0.0985186 0.908888 7.29949e-7 0.0511394 0.735251 1.18592e-6 0.00736873; 1.038 0.908888 -0.115607 1.00851e-7 0.884759 0.313083 0.0852148 6.8941e-7; 2.50409e-7 7.29949e-7 1.00851e-7 -0.0679804 0.241231 1.20144 0.862605 1.01935; 0.987622 0.0511394 0.884759 0.241231 0.0717132 4.39215e-7 0.751784 1.14434e-6; 3.6009e-7 0.735251 0.313083 1.20144 4.39215e-7 0.104493 8.35195e-7 0.85966; 6.8341e-7 1.18592e-6 0.0852148 0.862605 0.751784 8.35195e-7 0.0256249 1.01544; 9.79434e-7 0.00736873 6.8941e-7 1.01935 1.14434e-6 0.85966 1.01544 -0.0960668]\n",
      "[0.0338049 0.641332 1.14101 0.0915603 0.71679 2.52202e-7 0.071581 1.22996e-6; 0.641332 0.0627001 1.32795 0.146807 1.14754e-6 0.8086 2.47552e-7 1.72283e-5; 1.14101 1.32795 0.00138725 1.24131e-6 0.895039 2.70306e-7 2.38754e-7 2.46593e-7; 0.0915603 0.146807 1.24131e-6 0.0967431 5.4848e-7 1.0017 0.68411 1.03425; 0.71679 1.14754e-6 0.895039 5.4848e-7 -0.228712 0.178207 0.858164 0.0539605; 2.52202e-7 0.8086 2.70306e-7 1.0017 0.178207 0.114572 0.33736 0.685049; 0.071581 2.47552e-7 2.38754e-7 0.68411 0.858164 0.33736 -0.00884926 0.969821; 1.22996e-6 1.72283e-5 2.46593e-7 1.03425 0.0539605 0.685049 0.969821 -0.20614]\n",
      "[0.0689051 0.493706 0.785699 0.294064 0.392766 0.0921333 0.436821 0.188166; 0.493706 0.0 0.791101 0.178277 0.334138 0.290403 0.145627 0.305192; 0.785699 0.791101 0.0 0.023251 0.47665 0.401594 0.310694 0.11734; 0.294064 0.178277 0.023251 0.0 0.389349 0.589749 0.814426 0.618404; 0.392766 0.334138 0.47665 0.389349 0.0 0.463086 0.309963 0.1868; 0.0921333 0.290403 0.401594 0.589749 0.463086 0.0 0.36225 0.617491; 0.436821 0.145627 0.310694 0.814426 0.309963 0.36225 0.0 0.363948; 0.188166 0.305192 0.11734 0.618404 0.1868 0.617491 0.363948 0.0]\n",
      "[0.0 0.601012 0.63847 0.432567 0.560747 0.0337579 0.229877 0.10539; 0.601012 0.0 0.651174 0.228852 0.375564 0.573387 0.174784 0.163; 0.63847 0.651174 0.0 0.451859 0.509681 0.163347 0.134326 0.167733; 0.432567 0.228852 0.451859 0.0 0.0681519 0.524443 0.729042 0.687935; 0.560747 0.375564 0.509681 0.0681519 -0.122942 0.21092 0.416397 0.223; 0.0337579 0.573387 0.163347 0.524443 0.21092 0.0 0.432936 0.523855; 0.229877 0.174784 0.134326 0.729042 0.416397 0.432936 0.0 1.00851; 0.10539 0.163 0.167733 0.687935 0.223 0.523855 1.00851 -0.113446]\n",
      "[0.0 0.309528 0.589556 0.0597416 0.616185 0.412846 0.422754 0.332736; 0.309528 0.0 0.478723 0.186584 0.621555 0.192605 0.108845 0.103433; 0.589556 0.478723 0.0 0.0650725 0.61396 0.117963 0.290571 0.0; 0.0597416 0.186584 0.0650725 0.0 0.161126 0.575261 0.359236 0.750868; 0.616185 0.621555 0.61396 0.161126 0.0 0.103981 0.46302 0.100108; 0.412846 0.192605 0.117963 0.575261 0.103981 0.0 0.37179 0.390881; 0.422754 0.108845 0.290571 0.359236 0.46302 0.37179 0.0 0.461049; 0.332736 0.103433 0.0 0.750868 0.100108 0.390881 0.461049 0.0]\n",
      "[0.0 0.544569 0.59922 0.284514 0.522518 0.0219982 0.131666 0.34511; 0.544569 0.0 0.559265 0.280759 0.364797 0.122603 0.37746 0.126137; 0.59922 0.559265 0.0 0.360177 0.464475 0.123723 0.0950363 0.00134925; 0.284514 0.280759 0.360177 -0.0427702 0.0 0.661651 0.774176 0.535994; 0.522518 0.364797 0.464475 0.0 -0.01391 0.379454 0.174181 0.402064; 0.0219982 0.122603 0.123723 0.661651 0.379454 0.0 0.404239 0.512546; 0.131666 0.37746 0.0950363 0.774176 0.174181 0.404239 0.0 0.358475; 0.34511 0.126137 0.00134925 0.535994 0.402064 0.512546 0.358475 -0.0644762]\n",
      "[0.18557 0.687039 0.818 0.0616729 0.607751 0.195241 0.175204 0.0; 0.687039 -0.0145084 0.74012 0.0 0.515674 0.247422 0.399374 0.517282; 0.818 0.74012 -0.0278515 0.0120873 0.733709 0.221321 0.244023 0.305598; 0.0616729 0.0 0.0120873 -0.0124526 0.161119 1.036 0.73445 1.06682; 0.607751 0.515674 0.733709 0.161119 0.0 0.286489 0.146701 0.361815; 0.195241 0.247422 0.221321 1.036 0.286489 0.0501145 0.370305 0.625256; 0.175204 0.399374 0.244023 0.73445 0.146701 0.370305 0.0 0.652193; 0.0 0.517282 0.305598 1.06682 0.361815 0.625256 0.652193 -0.0382342]\n",
      "[0.0158273 0.796966 0.763059 0.0394099 0.662688 0.0496875 0.0747823 0.196267; 0.796966 0.0184243 1.11354 0.0641118 0.246452 0.708273 0.0 0.263812; 0.763059 1.11354 0.0 0.242711 0.554116 0.0357946 0.339801 0.289796; 0.0394099 0.0641118 0.242711 0.0669349 0.0 0.918165 0.60595 0.973471; 0.662688 0.246452 0.554116 0.0 -0.189561 0.262538 0.32507 0.281311; 0.0496875 0.708273 0.0357946 0.918165 0.262538 0.0861925 0.529162 0.766262; 0.0747823 0.0 0.339801 0.60595 0.32507 0.529162 0.0 0.766721; 0.196267 0.263812 0.289796 0.973471 0.281311 0.766262 0.766721 -0.17103]\n"
     ]
    }
   ],
   "source": [
    "# Can the FactorGraph be recovered?\n",
    "@time learned1 = learn(samples1)\n",
    "@time learned2 = learn(samples2)\n",
    "\n",
    "@time learned_cgd_rise1 = learn_cgd(samples1)\n",
    "@time learned_cgd_rise2 = learn_cgd(samples2)\n",
    "\n",
    "@time learned_cgd_rple1 = learn_cgd(samples1, RPLE())\n",
    "@time learned_cgd_rple2 = learn_cgd(samples2, RPLE())\n",
    "\n",
    "@time learned_cgd_logrise1 = learn_cgd(samples1, logRISE())\n",
    "@time learned_cgd_logrise2 = learn_cgd(samples2, logRISE())\n",
    "\n",
    "println(learned1)\n",
    "println(learned2)\n",
    "\n",
    "println(learned_cgd_rise1)\n",
    "println(learned_cgd_rise2)\n",
    "\n",
    "println(learned_cgd_rple1)\n",
    "println(learned_cgd_rple2)\n",
    "\n",
    "println(learned_cgd_logrise1)\n",
    "println(learned_cgd_logrise2)"
   ]
  },
  {
   "cell_type": "code",
   "execution_count": 20,
   "metadata": {},
   "outputs": [
    {
     "name": "stderr",
     "output_type": "stream",
     "text": [
      "\u001b[1m\u001b[36mINFO: \u001b[39m\u001b[22m\u001b[36musing coordinate descent solver for RISE\n",
      "\u001b[39m"
     ]
    },
    {
     "name": "stdout",
     "output_type": "stream",
     "text": [
      "  0.506154 seconds (1.01 M allocations: 25.020 MiB, 3.29% gc time)\n",
      "  0.026592 seconds (839.85 k allocations: 13.280 MiB)\n"
     ]
    },
    {
     "name": "stderr",
     "output_type": "stream",
     "text": [
      "\u001b[1m\u001b[36mINFO: \u001b[39m\u001b[22m\u001b[36musing coordinate descent solver for RISE\n",
      "\u001b[39m"
     ]
    },
    {
     "name": "stdout",
     "output_type": "stream",
     "text": [
      "  0.455566 seconds (1.54 M allocations: 31.679 MiB, 3.63% gc time)\n",
      "  0.074698 seconds (1.97 M allocations: 31.025 MiB, 10.88% gc time)\n"
     ]
    },
    {
     "name": "stderr",
     "output_type": "stream",
     "text": [
      "\u001b[1m\u001b[36mINFO: \u001b[39m\u001b[22m\u001b[36musing coordinate descent solver for logRISE\n",
      "\u001b[39m\u001b[1m\u001b[36mINFO: \u001b[39m\u001b[22m\u001b[36musing coordinate descent solver for logRISE\n",
      "\u001b[39m"
     ]
    },
    {
     "data": {
      "text/plain": [
       "8×8 Array{Float64,2}:\n",
       "  0.0611545   0.7515       1.2258      …   0.302001    -0.0914953 \n",
       "  0.7515      0.103463     1.32034        -0.172457     0.00285716\n",
       "  1.2258      1.32034      0.0281853       0.158962    -0.206997  \n",
       "  0.36289     0.367635     0.00239359      0.562663     0.897943  \n",
       "  0.71081     0.0900269    0.824706        0.689886     0.285437  \n",
       " -0.0356429   0.583505    -0.0495673   …   0.347584     1.07435   \n",
       "  0.302001   -0.172457     0.158962        0.00452694   0.922803  \n",
       " -0.0914953   0.00285716  -0.206997        0.922803    -0.214514  "
      ]
     },
     "execution_count": 20,
     "metadata": {},
     "output_type": "execute_result"
    }
   ],
   "source": [
    "@time learned_cd_rise1 = learn(samples1, RISE(), CD(1e-12))\n",
    "@time learned_cd_rise2 = learn(samples2, RISE(), CD(1e-12))\n",
    "\n",
    "@time learned_cd_rise1 = learn(samples1, logRISE(), CD(1e-12))\n",
    "@time learned_cd_rise2 = learn(samples2, logRISE(), CD(1e-12))\n",
    "\n",
    "#println(learned_cd_rise1)\n",
    "#println(learned_cd_rise2)"
   ]
  },
  {
   "cell_type": "markdown",
   "metadata": {},
   "source": [
    "### Learning on correlated samples -- T-regime"
   ]
  },
  {
   "cell_type": "code",
   "execution_count": 35,
   "metadata": {},
   "outputs": [
    {
     "name": "stderr",
     "output_type": "stream",
     "text": [
      "┌ Warning: Due to a previously reported error, the running code does not match saved version for the following files:\n",
      "│   /Users/gogol/.julia/packages/StaticArrays/1g9bq/src/inv.jl\n",
      "│   /Users/gogol/.julia/packages/StaticArrays/1g9bq/src/eigen.jl\n",
      "└ @ Revise /Users/gogol/.julia/packages/Revise/2NCCI/src/Revise.jl:625\n",
      "┌ Info: assuming spin alphabet\n",
      "└ @ GraphicalModelLearning /Users/gogol/Dropbox (Personal)/Research/LANL/Code/GML_Glauber_Dynamics.jl/src/models.jl:108\n",
      "┌ Info: using Glauber dynamics v1 to generate T-regime samples\n",
      "└ @ GraphicalModelLearning /Users/gogol/Dropbox (Personal)/Research/LANL/Code/GML_Glauber_Dynamics.jl/src/sampling.jl:328\n"
     ]
    },
    {
     "name": "stdout",
     "output_type": "stream",
     "text": [
      "Done sampling"
     ]
    }
   ],
   "source": [
    "using GraphicalModelLearning\n",
    "\n",
    "Random.seed!(0)\n",
    "\n",
    "# Define Graphical Model\n",
    "model = FactorGraph(adj_matrix)\n",
    "n_samples = 10000\n",
    "\n",
    "# Gibbs Samples\n",
    "samples_T, samples_mixed = gibbs_sampling(model, n_samples, T_regime())\n",
    "\n",
    "print(\"Done sampling\")"
   ]
  },
  {
   "cell_type": "code",
   "execution_count": 36,
   "metadata": {},
   "outputs": [
    {
     "name": "stderr",
     "output_type": "stream",
     "text": [
      "┌ Warning: Due to a previously reported error, the running code does not match saved version for the following files:\n",
      "│   /Users/gogol/.julia/packages/StaticArrays/1g9bq/src/inv.jl\n",
      "│   /Users/gogol/.julia/packages/StaticArrays/1g9bq/src/eigen.jl\n",
      "└ @ Revise /Users/gogol/.julia/packages/Revise/2NCCI/src/Revise.jl:625\n"
     ]
    },
    {
     "data": {
      "text/plain": [
       "145×18 Array{Int64,2}:\n",
       "    2  7  -1  -1  -1  -1  -1   1  -1  -1  -1  -1  -1  -1  -1   1  -1  -1\n",
       "    1  1  -1   1  -1  -1   1  -1  -1   1  -1   1  -1  -1   1  -1  -1   1\n",
       "    1  4   1  -1  -1  -1  -1  -1  -1  -1   1  -1  -1  -1  -1  -1  -1  -1\n",
       "    4  4  -1  -1  -1  -1  -1  -1  -1  -1  -1  -1  -1   1  -1  -1  -1  -1\n",
       "    4  3  -1  -1  -1  -1  -1  -1  -1  -1  -1  -1   1  -1  -1  -1  -1  -1\n",
       "    2  6  -1  -1  -1  -1   1  -1  -1  -1  -1  -1  -1  -1   1  -1  -1  -1\n",
       "    5  3  -1  -1  -1  -1  -1  -1   1  -1  -1  -1  -1  -1  -1  -1   1  -1\n",
       "    1  7   1  -1   1  -1  -1   1  -1  -1   1  -1   1  -1  -1   1   1  -1\n",
       "    2  4  -1  -1  -1  -1  -1  -1   1  -1  -1  -1  -1  -1  -1  -1   1  -1\n",
       " 1207  8  -1  -1  -1  -1  -1  -1  -1  -1  -1  -1  -1  -1  -1  -1  -1  -1\n",
       "    1  1  -1  -1  -1  -1   1  -1  -1  -1  -1  -1  -1  -1   1  -1  -1  -1\n",
       "    1  2  -1  -1   1   1  -1   1  -1  -1  -1  -1   1   1  -1   1  -1  -1\n",
       "    5  5  -1  -1   1  -1  -1  -1  -1  -1  -1  -1   1  -1  -1  -1  -1  -1\n",
       "    ⋮                  ⋮                   ⋮                   ⋮        \n",
       "    1  5  -1  -1  -1   1  -1  -1  -1  -1  -1  -1  -1   1   1  -1  -1  -1\n",
       "    1  5  -1   1  -1  -1   1  -1  -1   1  -1   1  -1  -1   1  -1  -1   1\n",
       "    2  6   1  -1   1  -1  -1   1   1  -1   1  -1   1  -1  -1   1   1  -1\n",
       "    2  4  -1  -1  -1  -1  -1   1  -1  -1  -1  -1  -1  -1  -1   1  -1  -1\n",
       "    2  7  -1  -1   1  -1  -1  -1  -1  -1  -1  -1   1  -1  -1  -1   1  -1\n",
       "    1  8  -1  -1  -1   1   1  -1  -1  -1  -1  -1  -1   1   1  -1  -1  -1\n",
       "    4  4  -1  -1   1  -1  -1  -1   1  -1  -1  -1   1  -1  -1  -1   1  -1\n",
       "    1  6   1  -1  -1  -1  -1  -1  -1  -1   1  -1  -1  -1  -1  -1  -1  -1\n",
       "    1  1  -1  -1  -1   1   1  -1  -1  -1   1  -1  -1   1   1  -1  -1  -1\n",
       "    1  6  -1  -1   1   1  -1   1  -1  -1  -1  -1   1   1  -1  -1  -1  -1\n",
       "    1  2  -1  -1  -1  -1  -1   1   1   1  -1   1  -1  -1  -1   1   1   1\n",
       "    7  2  -1  -1  -1   1  -1  -1  -1  -1  -1  -1  -1   1  -1  -1  -1  -1"
      ]
     },
     "execution_count": 36,
     "metadata": {},
     "output_type": "execute_result"
    }
   ],
   "source": [
    "samples_T"
   ]
  },
  {
   "cell_type": "code",
   "execution_count": 37,
   "metadata": {},
   "outputs": [
    {
     "name": "stderr",
     "output_type": "stream",
     "text": [
      "┌ Warning: Due to a previously reported error, the running code does not match saved version for the following files:\n",
      "│   /Users/gogol/.julia/packages/StaticArrays/1g9bq/src/inv.jl\n",
      "│   /Users/gogol/.julia/packages/StaticArrays/1g9bq/src/eigen.jl\n",
      "└ @ Revise /Users/gogol/.julia/packages/Revise/2NCCI/src/Revise.jl:625\n"
     ]
    },
    {
     "data": {
      "text/plain": [
       "27×9 LinearAlgebra.Adjoint{Int64,Array{Int64,2}}:\n",
       "    5   1  -1  -1  -1  -1  -1  -1  -1\n",
       "   19  -1  -1   1  -1  -1  -1   1  -1\n",
       "   24  -1  -1  -1  -1  -1   1  -1  -1\n",
       "    1   1  -1   1  -1  -1   1   1   1\n",
       "   22  -1   1  -1  -1  -1  -1  -1  -1\n",
       "    7   1  -1   1  -1  -1   1   1  -1\n",
       "    4  -1   1  -1  -1  -1   1   1   1\n",
       "    7  -1  -1  -1  -1   1  -1  -1  -1\n",
       " 9709  -1  -1  -1  -1  -1  -1  -1  -1\n",
       "    3  -1  -1  -1  -1  -1  -1  -1   1\n",
       "    2   1  -1  -1   1   1  -1  -1  -1\n",
       "    7  -1   1  -1  -1  -1   1  -1  -1\n",
       "   14  -1   1  -1  -1   1  -1  -1   1\n",
       "    ⋮                   ⋮            \n",
       "   32  -1  -1  -1  -1  -1  -1   1  -1\n",
       "   57  -1  -1  -1   1  -1  -1  -1  -1\n",
       "    7  -1  -1   1   1  -1   1  -1  -1\n",
       "    9  -1  -1  -1   1   1  -1  -1  -1\n",
       "   40  -1  -1   1  -1  -1  -1  -1  -1\n",
       "    2   1  -1   1  -1  -1   1  -1  -1\n",
       "    3  -1   1  -1   1   1  -1  -1   1\n",
       "   12  -1  -1   1  -1  -1   1  -1  -1\n",
       "    2   1  -1  -1  -1  -1   1   1   1\n",
       "    2  -1  -1  -1  -1  -1   1   1   1\n",
       "    4  -1  -1   1   1  -1  -1  -1  -1\n",
       "    3  -1   1  -1  -1   1  -1  -1  -1"
      ]
     },
     "execution_count": 37,
     "metadata": {},
     "output_type": "execute_result"
    }
   ],
   "source": [
    "samples_mixed"
   ]
  },
  {
   "cell_type": "code",
   "execution_count": 38,
   "metadata": {},
   "outputs": [
    {
     "name": "stderr",
     "output_type": "stream",
     "text": [
      "┌ Warning: Due to a previously reported error, the running code does not match saved version for the following files:\n",
      "│   /Users/gogol/.julia/packages/StaticArrays/1g9bq/src/inv.jl\n",
      "│   /Users/gogol/.julia/packages/StaticArrays/1g9bq/src/eigen.jl\n",
      "└ @ Revise /Users/gogol/.julia/packages/Revise/2NCCI/src/Revise.jl:625\n",
      "┌ Info: using JuMP for RISE to learn Glauber dynamics\n",
      "└ @ GraphicalModelLearning /Users/gogol/Dropbox (Personal)/Research/LANL/Code/GML_Glauber_Dynamics.jl/src/GraphicalModelLearning.jl:359\n"
     ]
    },
    {
     "name": "stdout",
     "output_type": "stream",
     "text": [
      "  0.650411 seconds (774.17 k allocations: 38.218 MiB, 4.03% gc time)\n"
     ]
    },
    {
     "data": {
      "text/plain": [
       "8×8 Array{Float64,2}:\n",
       " -1.66617     -1.39832e-8   0.0906876   …   2.8685e-7    0.289621  \n",
       " -1.39832e-8  -1.5635      -2.05481e-8      6.03221e-8   0.877261  \n",
       "  0.0906876   -2.05481e-8  -0.876533        0.961489     3.89371e-7\n",
       "  1.56671e-5   1.44632e-6   0.582279       -1.74247e-8   0.20984   \n",
       "  0.273631     0.775498    -1.10424e-8     -2.61874e-9   0.528934  \n",
       "  0.335892     0.245449     0.931555    …   1.28555e-7   6.41255e-7\n",
       "  2.8685e-7    6.03221e-8   0.961489       -2.16092      5.41278e-7\n",
       "  0.289621     0.877261     3.89371e-7      5.41278e-7  -1.28431   "
      ]
     },
     "execution_count": 38,
     "metadata": {},
     "output_type": "execute_result"
    }
   ],
   "source": [
    "@time learned3 = learn_glauber_dynamics(samples_T, RISE())"
   ]
  },
  {
   "cell_type": "code",
   "execution_count": 40,
   "metadata": {},
   "outputs": [
    {
     "name": "stderr",
     "output_type": "stream",
     "text": [
      "┌ Warning: Due to a previously reported error, the running code does not match saved version for the following files:\n",
      "│   /Users/gogol/.julia/packages/StaticArrays/1g9bq/src/inv.jl\n",
      "│   /Users/gogol/.julia/packages/StaticArrays/1g9bq/src/eigen.jl\n",
      "└ @ Revise /Users/gogol/.julia/packages/Revise/2NCCI/src/Revise.jl:625\n"
     ]
    },
    {
     "data": {
      "text/plain": [
       "1.5667148153007594e-5"
      ]
     },
     "execution_count": 40,
     "metadata": {},
     "output_type": "execute_result"
    }
   ],
   "source": [
    "learned3[1,4]"
   ]
  },
  {
   "cell_type": "code",
   "execution_count": 39,
   "metadata": {},
   "outputs": [
    {
     "name": "stderr",
     "output_type": "stream",
     "text": [
      "┌ Warning: Due to a previously reported error, the running code does not match saved version for the following files:\n",
      "│   /Users/gogol/.julia/packages/StaticArrays/1g9bq/src/inv.jl\n",
      "│   /Users/gogol/.julia/packages/StaticArrays/1g9bq/src/eigen.jl\n",
      "└ @ Revise /Users/gogol/.julia/packages/Revise/2NCCI/src/Revise.jl:625\n"
     ]
    },
    {
     "data": {
      "text/plain": [
       "alphabet: spin\n",
       "vars: 8\n",
       "terms: 12\n"
      ]
     },
     "execution_count": 39,
     "metadata": {},
     "output_type": "execute_result"
    },
    {
     "name": "stdout",
     "output_type": "stream",
     "text": [
      "  (1, 4) => 1\n",
      "  (1, 6) => 1\n",
      "  (1, 7) => 1\n",
      "  (2, 5) => 1\n",
      "  (2, 6) => 1\n",
      "  (2, 8) => 1\n",
      "  (3, 4) => 1\n",
      "  (3, 6) => 1\n",
      "  (3, 7) => 1\n",
      "  (4, 5) => 1\n",
      "  (5, 8) => 1\n",
      "  (7, 8) => 1\n"
     ]
    }
   ],
   "source": [
    "model"
   ]
  },
  {
   "cell_type": "code",
   "execution_count": 9,
   "metadata": {},
   "outputs": [
    {
     "name": "stderr",
     "output_type": "stream",
     "text": [
      "\u001b[1m\u001b[36mINFO: \u001b[39m\u001b[22m\u001b[36musing JuMP for logRISE\n",
      "\u001b[39m"
     ]
    },
    {
     "name": "stdout",
     "output_type": "stream",
     "text": [
      "  0.313465 seconds (114.76 k allocations: 6.823 MiB, 2.70% gc time)\n"
     ]
    },
    {
     "data": {
      "text/plain": [
       "8×8 Array{Float64,2}:\n",
       " -2.14028     -1.58889e-8  -1.25146e-8  …  -1.2846e-8   -4.14576e-8\n",
       " -1.58889e-8  -3.57496     -6.30509e-9     -6.37001e-9  -2.43378e-8\n",
       " -1.25146e-8  -6.30509e-9  -2.17605        -1.01177e-8   0.405864  \n",
       "  0.900082    -6.33267e-9  -9.66594e-9     -1.23705e-8  -2.25825e-8\n",
       " -1.42339e-8  -1.09161e-8  -1.25736e-8     -7.98088e-9  -3.29126e-8\n",
       "  0.411487    -1.16774e-8  -9.43972e-8  …  -4.95636e-9   0.825051  \n",
       " -1.2846e-8   -6.37001e-9  -1.01177e-8     -2.84051     -6.94594e-9\n",
       " -4.14576e-8  -2.43378e-8   0.405864       -6.94594e-9  -2.06763   "
      ]
     },
     "execution_count": 9,
     "metadata": {},
     "output_type": "execute_result"
    }
   ],
   "source": [
    "@time learned3 = learn_glauber_dynamics(samples_T, logRISE())"
   ]
  },
  {
   "cell_type": "code",
   "execution_count": 10,
   "metadata": {},
   "outputs": [
    {
     "name": "stderr",
     "output_type": "stream",
     "text": [
      "\u001b[1m\u001b[36mINFO: \u001b[39m\u001b[22m\u001b[36musing coordinate descent solver for RISE to learn Glauber dyamics\n",
      "\u001b[39m"
     ]
    },
    {
     "name": "stdout",
     "output_type": "stream",
     "text": [
      "  0.607383 seconds (503.11 k allocations: 21.713 MiB, 1.27% gc time)\n"
     ]
    },
    {
     "data": {
      "text/plain": [
       "8×8 Array{Float64,2}:\n",
       " -0.107197   0.0          1.22241    …   0.340173     0.415589   0.0       \n",
       "  0.0       -0.153018     0.0            0.00799899   0.436205   0.00360506\n",
       "  1.22241    0.0         -0.0769112      0.116601     0.323976   0.0858942 \n",
       "  1.38093    1.44171     -0.0285571      0.180543     0.999278   0.0       \n",
       "  0.0       -0.0032805    0.0            0.00285637   1.28094   -0.00283887\n",
       "  0.340173   0.00799899   0.116601   …  -1.17865      0.0        0.457078  \n",
       "  0.415589   0.436205     0.323976       0.0         -0.085957   1.25764   \n",
       "  0.0        0.00360506   0.0858942      0.457078     1.25764   -0.00890197"
      ]
     },
     "execution_count": 10,
     "metadata": {},
     "output_type": "execute_result"
    }
   ],
   "source": [
    "@time learned4 = learn_glauber_dynamics(samples_T, RISE(), CD(1e-12))"
   ]
  },
  {
   "cell_type": "code",
   "execution_count": 11,
   "metadata": {},
   "outputs": [
    {
     "name": "stderr",
     "output_type": "stream",
     "text": [
      "\u001b[1m\u001b[36mINFO: \u001b[39m\u001b[22m\u001b[36musing coordinate descent solver for logRISE to learn Glauber dyamics\n",
      "\u001b[39m"
     ]
    },
    {
     "name": "stdout",
     "output_type": "stream",
     "text": [
      "  0.553011 seconds (581.64 k allocations: 20.930 MiB, 1.37% gc time)\n"
     ]
    },
    {
     "data": {
      "text/plain": [
       "8×8 Array{Float64,2}:\n",
       " -0.0285953  -0.0642272   0.248019   …   0.0553199   1.4514     -0.116781 \n",
       " -0.0642272  -2.1239      0.179769       0.357494    0.0229146   0.940404 \n",
       "  0.248019    0.179769   -0.554528      -0.0716104   0.0         0.49142  \n",
       "  1.1854      0.340155    0.231909       0.0261319   0.0299458   0.0      \n",
       "  0.622822    0.0134102   0.215414      -0.0614097   0.0052145   0.251611 \n",
       "  0.0553199   0.357494   -0.0716104  …  -0.186637    1.31801     0.248352 \n",
       "  1.4514      0.0229146   0.0            1.31801    -2.84051     0.0700877\n",
       " -0.116781    0.940404    0.49142        0.248352    0.0700877  -0.0321256"
      ]
     },
     "execution_count": 11,
     "metadata": {},
     "output_type": "execute_result"
    }
   ],
   "source": [
    "@time learned4 = learn_glauber_dynamics(samples_T, logRISE(), CD(1e-12))"
   ]
  },
  {
   "cell_type": "code",
   "execution_count": 12,
   "metadata": {},
   "outputs": [
    {
     "data": {
      "text/plain": [
       "8×8 Array{Float64,2}:\n",
       " -2.02741     -1.16768e-7  -7.00789e-9  …  -1.09769e-7  -1.87821e-8\n",
       " -1.16768e-7  -3.18771     -3.12858e-8     -2.33222e-8  -2.19874e-7\n",
       " -7.00789e-9  -3.12858e-8  -2.92007        -2.98532e-8   1.3566e-7 \n",
       "  0.265045    -6.33775e-8  -6.13265e-9     -6.00668e-8  -1.14809e-8\n",
       " -5.91102e-9  -2.208e-8    -4.04959e-9     -2.11606e-8  -7.89675e-9\n",
       "  0.506052    -1.93894e-7  -7.94019e-9  …  -1.80874e-7   0.684217  \n",
       " -1.09769e-7  -2.33222e-8  -2.98532e-8     -3.2504      -2.04171e-7\n",
       " -1.87821e-8  -2.19874e-7   1.3566e-7      -2.04171e-7  -1.9471    "
      ]
     },
     "execution_count": 12,
     "metadata": {},
     "output_type": "execute_result"
    }
   ],
   "source": [
    "learned4 = learn(samples_mixed)"
   ]
  },
  {
   "cell_type": "code",
   "execution_count": 30,
   "metadata": {},
   "outputs": [
    {
     "data": {
      "text/plain": [
       "alphabet: spin\n",
       "vars: 8\n",
       "terms: 12\n"
      ]
     },
     "execution_count": 30,
     "metadata": {},
     "output_type": "execute_result"
    },
    {
     "name": "stdout",
     "output_type": "stream",
     "text": [
      "  (1, 2) => 1\n",
      "  (1, 3) => 1\n",
      "  (1, 5) => 1\n",
      "  (2, 3) => 1\n",
      "  (2, 6) => 1\n",
      "  (3, 5) => 1\n",
      "  (4, 6) => 1\n",
      "  (4, 7) => 1\n",
      "  (4, 8) => 1\n",
      "  (5, 7) => 1\n",
      "  (6, 8) => 1\n",
      "  (7, 8) => 1\n"
     ]
    }
   ],
   "source": [
    "model"
   ]
  },
  {
   "cell_type": "code",
   "execution_count": 61,
   "metadata": {},
   "outputs": [
    {
     "name": "stdout",
     "output_type": "stream",
     "text": [
      "  0.011214 seconds (91.09 k allocations: 1.962 MiB)\n"
     ]
    },
    {
     "name": "stderr",
     "output_type": "stream",
     "text": [
      "\u001b[1m\u001b[36mINFO: \u001b[39m\u001b[22m\u001b[36musing coordinate gradient solver for RISE\n",
      "\u001b[39m"
     ]
    },
    {
     "data": {
      "text/plain": [
       "3×3 Array{Float64,2}:\n",
       " 0.0137192   0.856471    0.0612671\n",
       " 0.856471   -0.027355    0.0979819\n",
       " 0.0612671   0.0979819  -0.0173443"
      ]
     },
     "execution_count": 61,
     "metadata": {},
     "output_type": "execute_result"
    }
   ],
   "source": [
    "@time learned4 = learn_glauber_dynamics_cgd(samples_T)"
   ]
  },
  {
   "cell_type": "code",
   "execution_count": 11,
   "metadata": {
    "scrolled": true
   },
   "outputs": [
    {
     "name": "stderr",
     "output_type": "stream",
     "text": [
      "\u001b[1m\u001b[36mINFO: \u001b[39m\u001b[22m\u001b[36musing coordinate gradient solver for RISE\n",
      "\u001b[39m"
     ]
    },
    {
     "name": "stdout",
     "output_type": "stream",
     "text": [
      "  0.018075 seconds (113.89 k allocations: 2.454 MiB)\n"
     ]
    },
    {
     "data": {
      "text/plain": [
       "3×3 Array{Float64,2}:\n",
       " 0.0137234   0.856503    0.0613336\n",
       " 0.856503   -0.0273728   0.0978732\n",
       " 0.0613336   0.0978732  -0.0173494"
      ]
     },
     "execution_count": 11,
     "metadata": {},
     "output_type": "execute_result"
    }
   ],
   "source": [
    "@time learned5 = learn_glauber_dynamics_cgd(samples_T, RISE(), 8.0, 1e-10)"
   ]
  },
  {
   "cell_type": "code",
   "execution_count": 12,
   "metadata": {},
   "outputs": [
    {
     "name": "stdout",
     "output_type": "stream",
     "text": [
      "  0.017757 seconds (129.83 k allocations: 2.797 MiB)\n"
     ]
    },
    {
     "name": "stderr",
     "output_type": "stream",
     "text": [
      "\u001b[1m\u001b[36mINFO: \u001b[39m\u001b[22m\u001b[36musing coordinate gradient solver for RISE\n",
      "\u001b[39m"
     ]
    },
    {
     "data": {
      "text/plain": [
       "3×3 Array{Float64,2}:\n",
       " 0.0137237   0.85651     0.0613362\n",
       " 0.85651    -0.0273761   0.0978637\n",
       " 0.0613362   0.0978637  -0.0173498"
      ]
     },
     "execution_count": 12,
     "metadata": {},
     "output_type": "execute_result"
    }
   ],
   "source": [
    "@time learned5 = learn_glauber_dynamics_cgd(samples_T, RISE(), 8.0, 1e-11)"
   ]
  },
  {
   "cell_type": "code",
   "execution_count": 13,
   "metadata": {},
   "outputs": [
    {
     "name": "stderr",
     "output_type": "stream",
     "text": [
      "\u001b[1m\u001b[36mINFO: \u001b[39m\u001b[22m\u001b[36musing coordinate gradient solver for RPLE\n",
      "\u001b[39m"
     ]
    },
    {
     "name": "stdout",
     "output_type": "stream",
     "text": [
      "  0.317433 seconds (275.36 k allocations: 11.259 MiB, 3.64% gc time)\n"
     ]
    },
    {
     "data": {
      "text/plain": [
       "3×3 Array{Float64,2}:\n",
       " 0.0191458   0.860655   0.0656544\n",
       " 0.860655   -0.030531   0.101443 \n",
       " 0.0656544   0.101443  -0.0236575"
      ]
     },
     "execution_count": 13,
     "metadata": {},
     "output_type": "execute_result"
    }
   ],
   "source": [
    "@time learned5 = learn_glauber_dynamics_cgd(samples_T, RPLE())"
   ]
  },
  {
   "cell_type": "code",
   "execution_count": 14,
   "metadata": {
    "scrolled": true
   },
   "outputs": [
    {
     "name": "stdout",
     "output_type": "stream",
     "text": [
      "  0.022029 seconds (170.83 k allocations: 3.840 MiB)\n"
     ]
    },
    {
     "name": "stderr",
     "output_type": "stream",
     "text": [
      "\u001b[1m\u001b[36mINFO: \u001b[39m\u001b[22m\u001b[36musing coordinate gradient solver for RPLE\n",
      "\u001b[39m"
     ]
    },
    {
     "data": {
      "text/plain": [
       "3×3 Array{Float64,2}:\n",
       " 0.0192199   0.860844    0.0656448\n",
       " 0.860844   -0.0305775   0.101365 \n",
       " 0.0656448   0.101365   -0.0236612"
      ]
     },
     "execution_count": 14,
     "metadata": {},
     "output_type": "execute_result"
    }
   ],
   "source": [
    "@time learned5 = learn_glauber_dynamics_cgd(samples_T, RPLE(), 8.0, 1e-10)"
   ]
  },
  {
   "cell_type": "code",
   "execution_count": 15,
   "metadata": {},
   "outputs": [
    {
     "name": "stderr",
     "output_type": "stream",
     "text": [
      "\u001b[1m\u001b[36mINFO: \u001b[39m\u001b[22m\u001b[36musing coordinate gradient solver for logRISE\n",
      "\u001b[39m"
     ]
    },
    {
     "name": "stdout",
     "output_type": "stream",
     "text": [
      "  0.431719 seconds (381.82 k allocations: 15.108 MiB, 1.86% gc time)\n"
     ]
    },
    {
     "data": {
      "text/plain": [
       "3×3 Array{Float64,2}:\n",
       " 0.00453186   0.848603    0.0532006\n",
       " 0.848603    -0.0189449   0.0907966\n",
       " 0.0532006    0.0907966  -0.0046365"
      ]
     },
     "execution_count": 15,
     "metadata": {},
     "output_type": "execute_result"
    }
   ],
   "source": [
    "@time learned5 = learn_glauber_dynamics_cgd(samples_T, logRISE())"
   ]
  },
  {
   "cell_type": "code",
   "execution_count": 16,
   "metadata": {},
   "outputs": [
    {
     "name": "stdout",
     "output_type": "stream",
     "text": [
      "  0.024551 seconds (245.76 k allocations: 4.840 MiB)\n"
     ]
    },
    {
     "name": "stderr",
     "output_type": "stream",
     "text": [
      "\u001b[1m\u001b[36mINFO: \u001b[39m\u001b[22m\u001b[36musing coordinate gradient solver for logRISE\n",
      "\u001b[39m"
     ]
    },
    {
     "data": {
      "text/plain": [
       "3×3 Array{Float64,2}:\n",
       " 0.00453198   0.848603    0.0533993 \n",
       " 0.848603    -0.0189449   0.0906347 \n",
       " 0.0533993    0.0906347  -0.00464917"
      ]
     },
     "execution_count": 16,
     "metadata": {},
     "output_type": "execute_result"
    }
   ],
   "source": [
    "@time learned5 = learn_glauber_dynamics_cgd(samples_T, logRISE(), 8.0, 1e-10)"
   ]
  },
  {
   "cell_type": "markdown",
   "metadata": {},
   "source": [
    "### Learning on correlated samples -- M-regime"
   ]
  },
  {
   "cell_type": "code",
   "execution_count": 25,
   "metadata": {},
   "outputs": [
    {
     "name": "stderr",
     "output_type": "stream",
     "text": [
      "\u001b[1m\u001b[36mINFO: \u001b[39m\u001b[22m\u001b[36massuming spin alphabet\n",
      "\u001b[39m\u001b[1m\u001b[36mINFO: \u001b[39m\u001b[22m\u001b[36musing Glauber dynamics v1 to generate M-regime samples\n",
      "\u001b[39m"
     ]
    },
    {
     "name": "stdout",
     "output_type": "stream",
     "text": [
      "Done sampling"
     ]
    }
   ],
   "source": [
    "using GraphicalModelLearning\n",
    "\n",
    "srand(0)\n",
    "\n",
    "# Define Graphical Model\n",
    "model = FactorGraph(adj_matrix)\n",
    "\n",
    "n_samples = 10000\n",
    "\n",
    "# Gibbs Samples\n",
    "samples_M, samples_mixed = gibbs_sampling(model, n_samples, M_regime())\n",
    "\n",
    "print(\"Done sampling\")"
   ]
  },
  {
   "cell_type": "code",
   "execution_count": 26,
   "metadata": {},
   "outputs": [
    {
     "data": {
      "text/plain": [
       "9999×42 Array{Int64,2}:\n",
       " 1  14   1   1  -1   1  -1   1  -1  -1  …   1   1   1   1   1  -1  -1   1   1\n",
       " 1   6  -1   1  -1   1  -1   1   1   1     -1   1   1  -1   1   1  -1  -1   1\n",
       " 1   4  -1  -1   1   1  -1   1  -1  -1      1  -1  -1   1  -1   1   1   1   1\n",
       " 1  17   1  -1  -1   1   1  -1   1  -1      1  -1  -1   1  -1   1  -1  -1  -1\n",
       " 1   9   1  -1  -1   1  -1   1  -1  -1      1   1  -1  -1  -1   1   1   1   1\n",
       " 1  19   1   1   1   1  -1   1  -1  -1  …  -1   1   1  -1  -1  -1  -1   1   1\n",
       " 1   2  -1  -1   1   1   1   1  -1  -1      1   1   1   1   1   1  -1  -1  -1\n",
       " 1  13   1  -1  -1   1  -1  -1   1  -1      1  -1   1  -1   1  -1   1  -1  -1\n",
       " 1   5  -1   1  -1   1  -1   1  -1  -1      1  -1  -1   1  -1  -1  -1  -1  -1\n",
       " 1  20   1  -1   1   1   1  -1  -1  -1      1  -1   1  -1  -1  -1  -1  -1  -1\n",
       " 1   4   1  -1  -1   1   1  -1   1   1  …   1  -1   1  -1  -1   1  -1  -1   1\n",
       " 1  13  -1  -1  -1  -1   1   1   1   1      1   1   1   1   1  -1   1  -1  -1\n",
       " 1   7   1  -1   1   1  -1   1  -1   1     -1  -1   1  -1   1   1   1  -1  -1\n",
       " ⋮                   ⋮                  ⋱           ⋮                   ⋮    \n",
       " 1   9   1  -1   1  -1  -1  -1  -1  -1     -1  -1  -1   1   1  -1  -1   1  -1\n",
       " 1  18   1  -1   1   1  -1   1   1  -1      1   1  -1   1  -1   1  -1   1   1\n",
       " 1  19  -1  -1   1  -1  -1  -1  -1  -1     -1  -1   1  -1  -1  -1  -1  -1  -1\n",
       " 1  14   1   1   1   1   1  -1  -1   1  …  -1   1  -1   1  -1   1  -1  -1  -1\n",
       " 1  15   1   1  -1   1   1   1  -1   1      1  -1  -1   1   1   1   1   1   1\n",
       " 1  18  -1  -1   1   1  -1  -1  -1  -1     -1  -1  -1   1   1   1  -1   1  -1\n",
       " 1   8  -1  -1   1  -1  -1  -1   1   1     -1   1  -1  -1   1  -1   1   1  -1\n",
       " 1  15  -1   1   1  -1   1   1  -1   1      1   1  -1   1  -1  -1   1   1  -1\n",
       " 1   5   1   1   1   1  -1   1   1  -1  …   1  -1  -1   1   1  -1  -1   1   1\n",
       " 1   1  -1   1  -1   1  -1  -1   1   1     -1  -1  -1  -1  -1   1  -1  -1   1\n",
       " 1   3   1  -1   1   1   1   1   1  -1     -1   1   1   1   1  -1  -1  -1  -1\n",
       " 1  16   1   1  -1   1   1  -1   1  -1     -1   1   1   1   1  -1   1  -1  -1"
      ]
     },
     "execution_count": 26,
     "metadata": {},
     "output_type": "execute_result"
    }
   ],
   "source": [
    "samples_M"
   ]
  },
  {
   "cell_type": "code",
   "execution_count": 14,
   "metadata": {},
   "outputs": [
    {
     "data": {
      "text/plain": [
       "163×18 Array{Int64,2}:\n",
       "    1  2  -1  -1   1  -1   1   1   1   1  -1  -1   1  -1   1   1   1   1\n",
       "    1  5  -1  -1  -1   1   1  -1  -1  -1  -1  -1  -1   1  -1  -1  -1  -1\n",
       "    5  5  -1   1  -1  -1  -1  -1  -1  -1  -1   1  -1  -1  -1  -1  -1  -1\n",
       "    4  8  -1  -1  -1   1  -1  -1  -1  -1  -1  -1  -1   1  -1  -1  -1  -1\n",
       "    4  7  -1  -1  -1   1  -1  -1  -1  -1  -1  -1  -1   1  -1  -1  -1  -1\n",
       "    9  8   1  -1  -1  -1  -1  -1  -1  -1   1  -1  -1  -1  -1  -1  -1  -1\n",
       "    2  6  -1  -1  -1  -1   1   1   1   1  -1  -1  -1  -1   1   1   1   1\n",
       "    2  1  -1  -1  -1  -1   1  -1  -1  -1  -1  -1  -1  -1   1  -1  -1  -1\n",
       "    2  4  -1  -1  -1  -1  -1  -1  -1   1  -1  -1  -1  -1  -1  -1  -1   1\n",
       "   16  6   1  -1  -1  -1  -1  -1  -1  -1   1  -1  -1  -1  -1  -1  -1  -1\n",
       "    1  7  -1  -1  -1  -1  -1  -1  -1   1  -1  -1  -1  -1  -1  -1   1   1\n",
       "    3  3  -1  -1  -1  -1  -1   1  -1  -1  -1  -1  -1  -1  -1   1  -1  -1\n",
       "    2  8   1  -1  -1  -1  -1  -1  -1  -1   1  -1  -1  -1  -1  -1  -1   1\n",
       "    ⋮                  ⋮                   ⋮                   ⋮        \n",
       " 1179  4  -1  -1  -1  -1  -1  -1  -1  -1  -1  -1  -1  -1  -1  -1  -1  -1\n",
       "   11  5   1  -1  -1  -1  -1  -1  -1  -1   1  -1  -1  -1  -1  -1  -1  -1\n",
       "    1  1  -1   1  -1  -1  -1  -1  -1  -1   1   1  -1  -1  -1  -1  -1  -1\n",
       "    2  7  -1  -1   1  -1  -1  -1  -1  -1  -1  -1   1  -1  -1  -1  -1  -1\n",
       "    4  2  -1  -1  -1  -1  -1  -1   1  -1  -1  -1  -1  -1  -1  -1   1  -1\n",
       "    1  4   1   1  -1   1  -1  -1  -1  -1   1   1  -1   1  -1  -1  -1  -1\n",
       "    3  7   1   1  -1   1  -1  -1  -1  -1   1   1  -1   1  -1  -1  -1  -1\n",
       "    1  1  -1  -1  -1  -1   1   1   1   1  -1  -1  -1  -1   1   1   1   1\n",
       " 1129  7  -1  -1  -1  -1  -1  -1  -1  -1  -1  -1  -1  -1  -1  -1  -1  -1\n",
       "    3  2   1  -1  -1  -1  -1  -1  -1   1   1  -1  -1  -1  -1  -1  -1   1\n",
       "    1  1   1   1  -1  -1  -1  -1  -1  -1  -1   1  -1  -1  -1  -1  -1  -1\n",
       "    2  2  -1  -1  -1  -1   1  -1  -1  -1  -1  -1  -1  -1   1  -1  -1  -1"
      ]
     },
     "execution_count": 14,
     "metadata": {},
     "output_type": "execute_result"
    }
   ],
   "source": [
    "samples_T"
   ]
  },
  {
   "cell_type": "code",
   "execution_count": 34,
   "metadata": {
    "scrolled": true
   },
   "outputs": [
    {
     "data": {
      "text/plain": [
       "256×9 Array{Int64,2}:\n",
       " 28   1   1  -1   1  -1  -1  -1  -1\n",
       " 25  -1   1   1  -1  -1  -1  -1   1\n",
       " 15  -1   1   1   1   1  -1  -1   1\n",
       " 45  -1  -1  -1  -1  -1   1  -1   1\n",
       " 45   1   1   1  -1   1  -1   1   1\n",
       " 54   1  -1   1   1   1  -1  -1  -1\n",
       " 24   1   1  -1  -1  -1  -1  -1   1\n",
       " 42   1  -1  -1   1   1   1   1   1\n",
       " 60   1   1   1   1  -1  -1   1   1\n",
       " 42   1  -1   1   1  -1   1  -1   1\n",
       " 26  -1   1  -1   1  -1  -1   1  -1\n",
       " 47   1  -1  -1   1  -1  -1   1   1\n",
       " 33  -1  -1  -1  -1   1   1  -1   1\n",
       "  ⋮                   ⋮            \n",
       " 41  -1   1   1  -1  -1  -1  -1  -1\n",
       " 38  -1  -1  -1   1   1  -1  -1  -1\n",
       " 31   1  -1  -1   1  -1  -1   1  -1\n",
       " 48   1   1   1  -1   1   1   1  -1\n",
       " 21  -1  -1   1   1   1  -1  -1   1\n",
       " 37  -1   1   1   1   1  -1   1   1\n",
       " 64   1  -1   1  -1   1   1  -1  -1\n",
       " 19  -1  -1   1  -1   1   1   1  -1\n",
       " 94   1   1   1  -1   1  -1  -1  -1\n",
       " 24   1   1  -1   1   1  -1  -1  -1\n",
       " 31  -1   1  -1   1   1  -1   1   1\n",
       " 30  -1  -1  -1   1   1   1  -1  -1"
      ]
     },
     "execution_count": 34,
     "metadata": {},
     "output_type": "execute_result"
    }
   ],
   "source": [
    "samples_mixed"
   ]
  },
  {
   "cell_type": "code",
   "execution_count": 27,
   "metadata": {},
   "outputs": [
    {
     "name": "stderr",
     "output_type": "stream",
     "text": [
      "\u001b[1m\u001b[36mINFO: \u001b[39m\u001b[22m\u001b[36musing JuMP for RISE\n",
      "\u001b[39m"
     ]
    },
    {
     "name": "stdout",
     "output_type": "stream",
     "text": [
      "  2.298626 seconds (2.66 M allocations: 332.616 MiB, 2.69% gc time)\n"
     ]
    },
    {
     "data": {
      "text/plain": [
       "20×20 Array{Float64,2}:\n",
       "  0.0388512    0.00870654   0.0493433   …   0.0279366    0.0527968\n",
       "  0.00870654  -0.0329018    0.987954       -0.0103031   -0.0192396\n",
       "  0.0493433    0.987954     0.112517       -0.018205    -0.0847324\n",
       " -0.00879533  -0.0396294    1.02168e-6      1.09041      0.0864478\n",
       "  1.25811     -0.0621255   -0.0924945      -0.0913268   -0.0340917\n",
       "  1.2056       0.0364846   -0.0337616   …  -0.0970132   -0.0671585\n",
       " -0.0500996    0.955976    -0.0667604      -0.0167749   -0.0620592\n",
       "  0.0142975   -0.0727978   -1.88203e-7     -0.0519345   -0.0551693\n",
       " -0.11876      0.0177317   -0.0308925      -0.0234469    0.0188949\n",
       " -0.0219893    0.0501783    1.04195         0.030186     1.03349  \n",
       "  0.0278061    0.0275522    8.18995e-8  …  -0.0342491   -0.0296666\n",
       " -0.0506231   -0.116577     0.0306901       0.00170977   0.040281 \n",
       " -0.0200388    0.0494355    0.0400623       0.0672602   -0.023851 \n",
       " -0.099498     1.01169      1.04788         1.14959     -0.0289772\n",
       " -0.147852    -0.142099     0.111143        0.0501183    0.951326 \n",
       "  0.0938938    0.0375952    0.0274035   …   0.0413823   -0.097311 \n",
       "  1.12361      0.00386235   4.31359e-7      0.0270321    0.0284673\n",
       "  0.00927705   0.0270072   -0.0354948       0.0418522    0.130577 \n",
       "  0.0279366   -0.0103031   -0.018205       -0.0315101    1.09342  \n",
       "  0.0527968   -0.0192396   -0.0847324       1.09342     -0.0434693"
      ]
     },
     "execution_count": 27,
     "metadata": {},
     "output_type": "execute_result"
    }
   ],
   "source": [
    "@time learned1 = learn_glauber_dynamics(samples_M)"
   ]
  },
  {
   "cell_type": "code",
   "execution_count": 28,
   "metadata": {},
   "outputs": [
    {
     "name": "stderr",
     "output_type": "stream",
     "text": [
      "\u001b[1m\u001b[36mINFO: \u001b[39m\u001b[22m\u001b[36musing JuMP for logRISE\n",
      "\u001b[39m"
     ]
    },
    {
     "name": "stdout",
     "output_type": "stream",
     "text": [
      "  2.185539 seconds (2.34 M allocations: 327.012 MiB, 2.13% gc time)\n"
     ]
    },
    {
     "data": {
      "text/plain": [
       "20×20 Array{Float64,2}:\n",
       "  0.0380276    0.0111148    0.0472118   …   0.0270413    0.0545346\n",
       "  0.0111148   -0.0329318    0.991898       -0.00979286  -0.020563 \n",
       "  0.0472118    0.991898     0.112604       -0.0181718   -0.0845807\n",
       " -0.00675959  -0.0404854    7.93948e-7      1.09507      0.0893189\n",
       "  1.28237     -0.065243    -0.0987432      -0.0955133   -0.0342325\n",
       "  1.22588      0.0408683   -0.0375565   …  -0.10394     -0.0723146\n",
       " -0.0540723    0.954537    -0.0671695      -0.0176145   -0.0613701\n",
       "  0.0170568   -0.0717966   -1.2139e-7      -0.0521993   -0.055916 \n",
       " -0.121054     0.0164132   -0.0323027      -0.0209276    0.0172811\n",
       " -0.0265272    0.0502845    1.04604         0.0301023    1.03973  \n",
       "  0.0306058    0.0274707    1.12535e-8  …  -0.0355832   -0.0295602\n",
       " -0.0543568   -0.117659     0.0314328       0.00221198   0.0425866\n",
       " -0.0229177    0.0509078    0.0433814       0.0697187   -0.028575 \n",
       " -0.100361     1.01371      1.05285         1.15478     -0.0309909\n",
       " -0.148214    -0.14262      0.113337        0.0495185    0.956178 \n",
       "  0.0996278    0.0385277    0.0286358   …   0.043311    -0.0999389\n",
       "  1.1404       0.00158639   4.80267e-7      0.0286985    0.0279943\n",
       "  0.00536713   0.0276025   -0.0371438       0.0424042    0.133418 \n",
       "  0.0270413   -0.00979286  -0.0181718      -0.0320251    1.10196  \n",
       "  0.0545346   -0.020563    -0.0845807       1.10196     -0.0437743"
      ]
     },
     "execution_count": 28,
     "metadata": {},
     "output_type": "execute_result"
    }
   ],
   "source": [
    "@time learned1 = learn_glauber_dynamics(samples_M, logRISE())"
   ]
  },
  {
   "cell_type": "code",
   "execution_count": 29,
   "metadata": {},
   "outputs": [
    {
     "name": "stderr",
     "output_type": "stream",
     "text": [
      "\u001b[1m\u001b[36mINFO: \u001b[39m\u001b[22m\u001b[36musing coordinate descent solver for RISE to learn Glauber dyamics\n",
      "\u001b[39m"
     ]
    },
    {
     "name": "stdout",
     "output_type": "stream",
     "text": [
      "  1.132370 seconds (35.09 M allocations: 552.534 MiB, 4.10% gc time)\n"
     ]
    },
    {
     "data": {
      "text/plain": [
       "20×20 Array{Float64,2}:\n",
       "  0.0348186    0.0           0.0363082    …   0.0282442    0.0447742 \n",
       "  0.0         -0.0384663     0.827353         0.0025406   -0.0195566 \n",
       "  0.0363082    0.827353      0.111036        -0.0203684   -0.074088  \n",
       " -0.0179381   -0.0470819     0.0              1.06794      0.0702621 \n",
       "  1.13054     -0.0545425    -0.0798237       -0.0834131   -0.0286732 \n",
       "  1.09636      0.0363886    -0.0355044    …  -0.0953366   -0.0634357 \n",
       "  1.55867e-5   0.757588     -0.0267063       -0.0184366   -0.00945048\n",
       "  0.0111329   -0.0581917    -0.000488919     -0.0439362   -0.0506859 \n",
       " -0.107705     0.0183929    -0.0226795       -0.0140239    0.0220585 \n",
       " -0.00954398   0.0427391     0.896237        -0.00205667   0.88754   \n",
       "  0.0448057    0.000333148   0.0          …  -0.0252357   -0.00953446\n",
       " -0.00613567  -0.0524408     0.0318867        0.0          0.0399229 \n",
       "  0.0          0.0272305     0.0368113        0.0208234   -0.00409929\n",
       " -0.0965013    0.847761      0.989018         1.10314     -0.0271288 \n",
       " -0.0319303   -0.0262473     0.0887747       -0.00909982   0.764034  \n",
       "  0.0650539    0.0238504     0.0125385    …   0.0380039   -0.0853877 \n",
       "  1.05651     -0.00943943    0.0              0.0227411    0.0179557 \n",
       "  0.0232551    0.027006     -0.0309232        0.0418518    0.121281  \n",
       "  0.0282442    0.0025406    -0.0203684       -0.024323     1.02001   \n",
       "  0.0447742   -0.0195566    -0.074088         1.02001     -0.0491958 "
      ]
     },
     "execution_count": 29,
     "metadata": {},
     "output_type": "execute_result"
    }
   ],
   "source": [
    "@time learned1 = learn_glauber_dynamics(samples_M, RISE(), CD(1e-12))"
   ]
  },
  {
   "cell_type": "code",
   "execution_count": 30,
   "metadata": {},
   "outputs": [
    {
     "name": "stderr",
     "output_type": "stream",
     "text": [
      "\u001b[1m\u001b[36mINFO: \u001b[39m\u001b[22m\u001b[36musing coordinate descent solver for logRISE to learn Glauber dyamics\n",
      "\u001b[39m"
     ]
    },
    {
     "name": "stdout",
     "output_type": "stream",
     "text": [
      "  1.014983 seconds (31.48 M allocations: 496.555 MiB, 3.51% gc time)\n"
     ]
    },
    {
     "data": {
      "text/plain": [
       "20×20 Array{Float64,2}:\n",
       " -0.0115896    0.0          0.042632    …   0.0214284     0.00421458\n",
       "  0.0          0.00478302   0.777157        0.00531416   -0.0125303 \n",
       "  0.042632     0.777157     0.110432       -0.0363778    -0.0872787 \n",
       " -0.0164744   -0.048431     0.0             0.927918      0.0366361 \n",
       "  1.14522     -0.0554818   -0.0929312      -0.0462327     0.0249675 \n",
       "  0.684754    -0.00943529  -0.0178918   …  -0.0121938    -0.00151927\n",
       " -0.0294319    0.67623     -0.0601508      -0.000238544  -0.00763944\n",
       "  0.00682953  -0.0353563    0.0            -0.0344352    -0.0381929 \n",
       " -0.0977649    0.0164118   -0.0292932      -0.0277172     0.00971197\n",
       " -0.021516     0.0489824    0.906263       -0.0161506     0.502371  \n",
       "  0.0279697    0.0272139    0.0         …  -0.0171973    -0.0561746 \n",
       " -0.0409669   -0.0666082    0.0315504      -0.000909184   0.0377637 \n",
       " -0.0117998    0.0261024    0.0207544       0.0455852     0.0       \n",
       " -0.0987739    0.701989     1.03146         0.770319     -0.0409767 \n",
       " -0.136502    -0.0713313    0.105627        0.0542162     0.650162  \n",
       "  0.0603138    0.0205132    0.00595063  …   0.0          -0.0861957 \n",
       "  1.06977     -0.0273914    0.0             0.0430213    -0.0148753 \n",
       "  0.0220266    0.0240973   -0.0343742       0.0423962     0.067432  \n",
       "  0.0214284    0.00531416  -0.0363778      -0.00727867    0.652787  \n",
       "  0.00421458  -0.0125303   -0.0872787       0.652787     -0.127281  "
      ]
     },
     "execution_count": 30,
     "metadata": {},
     "output_type": "execute_result"
    }
   ],
   "source": [
    "@time learned1 = learn_glauber_dynamics(samples_M, logRISE(), CD(1e-12))"
   ]
  },
  {
   "cell_type": "code",
   "execution_count": 43,
   "metadata": {},
   "outputs": [
    {
     "data": {
      "text/plain": [
       "8×8 Array{Float64,2}:\n",
       "  0.00465255    0.0972572     0.0722597    …  -1.91412e-7    0.0042089  \n",
       "  0.0972572    -0.0110511     0.0817736       -0.000895533  -0.0105158  \n",
       "  0.0722597     0.0817736    -0.0068593        6.33638e-7   -0.000545649\n",
       "  0.000324277  -0.00023672   -1.43143e-8       0.0988495     0.0924632  \n",
       "  0.0905073    -0.00939208    0.0884557        0.0970257    -0.0162334  \n",
       " -6.77981e-6    0.0989508    -0.00013462   …  -0.00989138    0.0747338  \n",
       " -1.91412e-7   -0.000895533   6.33638e-7      -0.00560265    0.10102    \n",
       "  0.0042089    -0.0105158    -0.000545649      0.10102      -0.016173   "
      ]
     },
     "execution_count": 43,
     "metadata": {},
     "output_type": "execute_result"
    }
   ],
   "source": [
    "learned2 = learn(samples_mixed)"
   ]
  },
  {
   "cell_type": "code",
   "execution_count": 22,
   "metadata": {},
   "outputs": [
    {
     "name": "stderr",
     "output_type": "stream",
     "text": [
      "\u001b[1m\u001b[36mINFO: \u001b[39m\u001b[22m\u001b[36musing coordinate gradient solver for RISE\n",
      "\u001b[39m"
     ]
    },
    {
     "name": "stdout",
     "output_type": "stream",
     "text": [
      "  0.401343 seconds (15.37 M allocations: 260.008 MiB, 6.56% gc time)\n"
     ]
    },
    {
     "data": {
      "text/plain": [
       "8×8 Array{Float64,2}:\n",
       " -0.0037606    0.723494      0.221074    …   0.00860162   0.00208041\n",
       "  0.723494     0.0           3.86352        76.1176       0.0       \n",
       "  0.221074     3.86352      -5.9029          0.0         -0.00269134\n",
       " -4.77431      8.7595e67  2221.91            0.0161203    0.00762653\n",
       "  0.00324366   0.0482178     1.11858         0.0          0.0       \n",
       "  0.0217352    0.0           0.0         …   0.0          0.0353239 \n",
       "  0.00860162  76.1176        0.0            -0.0744034    0.0353809 \n",
       "  0.00208041   0.0          -0.00269134      0.0353809    0.0       "
      ]
     },
     "execution_count": 22,
     "metadata": {},
     "output_type": "execute_result"
    }
   ],
   "source": [
    "@time learned1 = learn_glauber_dynamics_cgd(samples_M)"
   ]
  },
  {
   "cell_type": "code",
   "execution_count": 66,
   "metadata": {},
   "outputs": [
    {
     "name": "stdout",
     "output_type": "stream",
     "text": [
      "  0.028327 seconds (6.20 k allocations: 397.609 KiB)\n"
     ]
    },
    {
     "data": {
      "text/plain": [
       "3×3 Array{Float64,2}:\n",
       " 0.0132895   0.496226    0.0197846\n",
       " 0.496226   -0.0148107   0.0374478\n",
       " 0.0197846   0.0374478  -0.012612 "
      ]
     },
     "execution_count": 66,
     "metadata": {},
     "output_type": "execute_result"
    }
   ],
   "source": [
    "@time learned2 = learn(samples_mixed)"
   ]
  },
  {
   "cell_type": "markdown",
   "metadata": {},
   "source": [
    "### Large N Graphical Models"
   ]
  },
  {
   "cell_type": "code",
   "execution_count": 50,
   "metadata": {},
   "outputs": [
    {
     "name": "stderr",
     "output_type": "stream",
     "text": [
      "\u001b[1m\u001b[36mINFO: \u001b[39m\u001b[22m\u001b[36massuming spin alphabet\n",
      "\u001b[39m"
     ]
    },
    {
     "name": "stdout",
     "output_type": "stream",
     "text": [
      "  0.044406 seconds (88.44 k allocations: 6.481 MiB)\n"
     ]
    },
    {
     "data": {
      "text/plain": [
       "1009×11 Array{Int64,2}:\n",
       "  12  -1   1  -1  -1   1   1  -1  -1   1  -1\n",
       "  12   1  -1   1   1   1  -1  -1  -1  -1  -1\n",
       " 166  -1   1  -1   1  -1  -1   1  -1  -1  -1\n",
       "   5   1  -1  -1   1  -1  -1  -1   1   1   1\n",
       "  26  -1  -1  -1  -1   1   1  -1   1  -1  -1\n",
       "   7  -1  -1   1   1   1   1   1  -1   1   1\n",
       "  11   1  -1   1   1   1  -1  -1  -1   1  -1\n",
       "   2  -1   1   1   1   1   1  -1  -1   1  -1\n",
       "   2   1  -1  -1   1  -1   1   1  -1   1   1\n",
       " 258   1   1   1   1  -1  -1   1   1   1   1\n",
       "  47  -1   1  -1  -1  -1   1   1  -1   1  -1\n",
       "  70  -1   1  -1  -1  -1   1   1  -1  -1   1\n",
       "  25   1   1  -1  -1   1   1  -1  -1  -1   1\n",
       "   ⋮                   ⋮                   ⋮\n",
       "   4  -1  -1   1   1  -1   1  -1  -1   1   1\n",
       "  10  -1  -1  -1   1   1   1   1  -1  -1   1\n",
       "  11  -1  -1   1  -1   1   1   1   1   1   1\n",
       "  16  -1   1  -1   1  -1   1   1  -1  -1   1\n",
       "   3   1  -1   1  -1   1  -1   1  -1   1  -1\n",
       "  83  -1   1  -1   1   1   1  -1   1  -1  -1\n",
       "   3   1  -1  -1  -1  -1  -1   1  -1   1  -1\n",
       "  24  -1  -1   1  -1  -1   1  -1   1   1  -1\n",
       " 849  -1   1   1  -1  -1  -1  -1  -1  -1  -1\n",
       "  17  -1  -1  -1   1   1  -1   1  -1   1   1\n",
       "  73  -1   1  -1  -1  -1  -1   1  -1   1  -1\n",
       " 348  -1   1  -1   1   1  -1   1   1  -1  -1"
      ]
     },
     "execution_count": 50,
     "metadata": {},
     "output_type": "execute_result"
    }
   ],
   "source": [
    "using GraphicalModelLearning\n",
    "\n",
    "# Create a random graphical model\n",
    "N_spins = 10\n",
    "N_samples = 100000\n",
    "d_max = 3\n",
    "density_gm = d_max/N_spins\n",
    "\n",
    "F1 = sprand(N_spins,N_spins,density_gm)\n",
    "F1 = 0.5*(F1 + transpose(F1))\n",
    "\n",
    "F1 = full(F1)\n",
    "\n",
    "model = FactorGraph(F1)\n",
    "@time samples1 = sample(model, N_samples)"
   ]
  },
  {
   "cell_type": "code",
   "execution_count": 51,
   "metadata": {},
   "outputs": [
    {
     "name": "stdout",
     "output_type": "stream",
     "text": [
      "  1.022895 seconds (1.66 M allocations: 183.636 MiB, 17.60% gc time)\n",
      "  0.876679 seconds (1.66 M allocations: 183.637 MiB, 2.82% gc time)\n"
     ]
    },
    {
     "name": "stderr",
     "output_type": "stream",
     "text": [
      "\u001b[1m\u001b[36mINFO: \u001b[39m\u001b[22m\u001b[36musing coordinate gradient solver for RISE\n",
      "\u001b[39m"
     ]
    },
    {
     "name": "stdout",
     "output_type": "stream",
     "text": [
      "  1.288674 seconds (48.20 M allocations: 806.876 MiB, 6.13% gc time)\n"
     ]
    },
    {
     "name": "stderr",
     "output_type": "stream",
     "text": [
      "\u001b[1m\u001b[36mINFO: \u001b[39m\u001b[22m\u001b[36musing coordinate gradient solver for RISE\n",
      "\u001b[39m"
     ]
    },
    {
     "name": "stdout",
     "output_type": "stream",
     "text": [
      "  1.401945 seconds (55.69 M allocations: 932.224 MiB, 5.79% gc time)\n"
     ]
    },
    {
     "data": {
      "text/plain": [
       "10×10 Array{Float64,2}:\n",
       " 0.00199484  0.0         0.427628   …  0.00865155   0.246083    0.00544317\n",
       " 0.0         0.614433    0.0052952     0.0415487    0.105921    0.00591136\n",
       " 0.427628    0.0052952   0.13687       0.0130668    0.165301    0.0       \n",
       " 0.228291    0.0         0.0           0.453157     0.0607459   0.0576528 \n",
       " 0.215814    0.0468684   0.0           0.166347     0.0338914   0.38767   \n",
       " 0.21193     0.0968438   0.126132   …  0.000451817  0.0         0.0       \n",
       " 0.0702882   0.0         0.0           0.0247585    0.0        -0.0143422 \n",
       " 0.00865155  0.0415487   0.0130668     0.16428      0.235174    0.0612548 \n",
       " 0.246083    0.105921    0.165301      0.235174     0.0761064   0.536904  \n",
       " 0.00544317  0.00591136  0.0           0.0612548    0.536904    0.0       "
      ]
     },
     "execution_count": 51,
     "metadata": {},
     "output_type": "execute_result"
    }
   ],
   "source": [
    "@time learned1 = learn(samples1)\n",
    "@time learned2 = learn(samples1)\n",
    "\n",
    "@time learned_cgd_rise1 = learn_cgd(samples1)\n",
    "@time learned_cgd_rise2 = learn_cgd(samples1)"
   ]
  },
  {
   "cell_type": "code",
   "execution_count": 52,
   "metadata": {},
   "outputs": [
    {
     "data": {
      "text/plain": [
       "10×10 Array{Float64,2}:\n",
       " 0.0        0.0        0.426423  …  0.0        0.250543   0.0      \n",
       " 0.0        0.617477   0.0          0.0        0.113561   0.0      \n",
       " 0.426423   0.0        0.149453     0.0        0.166875   0.0      \n",
       " 0.240953   0.0        0.0          0.439501   0.055724   0.0333312\n",
       " 0.21271    0.0597777  0.0          0.215525   0.0357375  0.417942 \n",
       " 0.216005   0.10439    0.126462  …  0.0        0.0        0.0      \n",
       " 0.0691028  0.0        0.0          0.0297661  0.0        0.0      \n",
       " 0.0        0.0        0.0          0.242806   0.277266   0.0      \n",
       " 0.250543   0.113561   0.166875     0.277266   0.0777402  0.554626 \n",
       " 0.0        0.0        0.0          0.0        0.554626   0.0      "
      ]
     },
     "execution_count": 52,
     "metadata": {},
     "output_type": "execute_result"
    }
   ],
   "source": [
    "F1"
   ]
  },
  {
   "cell_type": "code",
   "execution_count": 43,
   "metadata": {},
   "outputs": [
    {
     "name": "stdout",
     "output_type": "stream",
     "text": [
      "  0.032342 seconds (31.83 k allocations: 3.786 MiB)\n"
     ]
    },
    {
     "name": "stderr",
     "output_type": "stream",
     "text": [
      "\u001b[1m\u001b[33mWARNING: \u001b[39m\u001b[22m\u001b[33msign(A::AbstractArray) is deprecated, use sign.(A) instead.\u001b[39m\n",
      "Stacktrace:\n",
      " [1] \u001b[1mdepwarn\u001b[22m\u001b[22m\u001b[1m(\u001b[22m\u001b[22m::String, ::Symbol\u001b[1m)\u001b[22m\u001b[22m at \u001b[1m./deprecated.jl:70\u001b[22m\u001b[22m\n",
      " [2] \u001b[1msign\u001b[22m\u001b[22m\u001b[1m(\u001b[22m\u001b[22m::Array{Float64,2}\u001b[1m)\u001b[22m\u001b[22m at \u001b[1m./deprecated.jl:57\u001b[22m\u001b[22m\n",
      " [3] \u001b[1minclude_string\u001b[22m\u001b[22m\u001b[1m(\u001b[22m\u001b[22m::String, ::String\u001b[1m)\u001b[22m\u001b[22m at \u001b[1m./loading.jl:522\u001b[22m\u001b[22m\n",
      " [4] \u001b[1mexecute_request\u001b[22m\u001b[22m\u001b[1m(\u001b[22m\u001b[22m::ZMQ.Socket, ::IJulia.Msg\u001b[1m)\u001b[22m\u001b[22m at \u001b[1m/Users/gogol/.julia/v0.6/IJulia/src/execute_request.jl:158\u001b[22m\u001b[22m\n",
      " [5] \u001b[1m(::Compat.#inner#18{Array{Any,1},IJulia.#execute_request,Tuple{ZMQ.Socket,IJulia.Msg}})\u001b[22m\u001b[22m\u001b[1m(\u001b[22m\u001b[22m\u001b[1m)\u001b[22m\u001b[22m at \u001b[1m/Users/gogol/.julia/v0.6/Compat/src/Compat.jl:386\u001b[22m\u001b[22m\n",
      " [6] \u001b[1meventloop\u001b[22m\u001b[22m\u001b[1m(\u001b[22m\u001b[22m::ZMQ.Socket\u001b[1m)\u001b[22m\u001b[22m at \u001b[1m/Users/gogol/.julia/v0.6/IJulia/src/eventloop.jl:8\u001b[22m\u001b[22m\n",
      " [7] \u001b[1m(::IJulia.##14#17)\u001b[22m\u001b[22m\u001b[1m(\u001b[22m\u001b[22m\u001b[1m)\u001b[22m\u001b[22m at \u001b[1m./task.jl:335\u001b[22m\u001b[22m\n",
      "while loading In[43], in expression starting on line 12\n",
      "\u001b[1m\u001b[36mINFO: \u001b[39m\u001b[22m\u001b[36massuming spin alphabet\n",
      "\u001b[39m"
     ]
    },
    {
     "data": {
      "text/plain": [
       "17×11 Array{Int64,2}:\n",
       "     2  -1  -1  -1  -1  -1   1  -1  -1  -1  -1\n",
       "     4  -1   1  -1  -1  -1  -1  -1  -1  -1  -1\n",
       "   239  -1   1   1   1   1   1   1   1   1   1\n",
       "     2  -1  -1  -1  -1   1  -1  -1  -1  -1  -1\n",
       "    38   1   1   1   1   1  -1   1   1   1   1\n",
       "     3   1   1   1   1  -1   1   1   1   1  -1\n",
       "  1849  -1  -1  -1  -1  -1  -1  -1  -1  -1  -1\n",
       "     8   1   1   1   1   1   1  -1   1   1   1\n",
       "    27   1   1  -1   1   1   1   1   1   1   1\n",
       "     1   1   1  -1   1  -1   1   1   1   1   1\n",
       "     4  -1   1  -1   1   1   1   1   1   1   1\n",
       "    25   1   1   1   1  -1   1   1   1   1   1\n",
       " 97759   1   1   1   1   1   1   1   1   1   1\n",
       "     3  -1  -1  -1  -1  -1  -1  -1  -1  -1   1\n",
       "    33   1   1   1   1   1   1   1   1   1  -1\n",
       "     1   1  -1   1   1   1   1   1   1   1   1\n",
       "     2   1  -1  -1  -1  -1  -1  -1  -1  -1  -1"
      ]
     },
     "execution_count": 43,
     "metadata": {},
     "output_type": "execute_result"
    }
   ],
   "source": [
    "using GraphicalModelLearning\n",
    "\n",
    "# Create a random graphical model\n",
    "N_spins = 10\n",
    "N_samples = 100000\n",
    "d_max = 3\n",
    "density_gm = d_max/N_spins\n",
    "\n",
    "F1 = sprand(N_spins,N_spins,density_gm)\n",
    "F1 = 0.5*(F1 + transpose(F1))\n",
    "\n",
    "F1 = sign.(full(F1))\n",
    "\n",
    "model = FactorGraph(F1)\n",
    "@time samples1 = sample(model, N_samples)"
   ]
  },
  {
   "cell_type": "code",
   "execution_count": 44,
   "metadata": {},
   "outputs": [
    {
     "name": "stdout",
     "output_type": "stream",
     "text": [
      "  0.137082 seconds (46.04 k allocations: 4.708 MiB)\n",
      "  0.123117 seconds (46.04 k allocations: 4.708 MiB)\n"
     ]
    },
    {
     "name": "stderr",
     "output_type": "stream",
     "text": [
      "\u001b[1m\u001b[36mINFO: \u001b[39m\u001b[22m\u001b[36musing coordinate gradient solver for RISE\n",
      "\u001b[39m"
     ]
    },
    {
     "name": "stdout",
     "output_type": "stream",
     "text": [
      "  5.567424 seconds (71.29 M allocations: 1.281 GiB, 3.26% gc time)\n"
     ]
    },
    {
     "name": "stderr",
     "output_type": "stream",
     "text": [
      "\u001b[1m\u001b[36mINFO: \u001b[39m\u001b[22m\u001b[36musing coordinate gradient solver for RISE\n",
      "\u001b[39m"
     ]
    },
    {
     "name": "stdout",
     "output_type": "stream",
     "text": [
      "  6.686495 seconds (86.60 M allocations: 1.555 GiB, 3.20% gc time)\n"
     ]
    },
    {
     "data": {
      "text/plain": [
       "10×10 Array{Float64,2}:\n",
       " 0.104432  0.478404  0.36409   0.296252  …  0.739646  0.340798  0.372659\n",
       " 0.478404  1.02587   0.435044  0.433103     0.49594   0.426568  0.345894\n",
       " 0.36409   0.435044  0.487701  0.40621      0.414062  0.500734  0.30407 \n",
       " 0.296252  0.433103  0.40621   0.479149     0.818452  0.578383  0.47726 \n",
       " 0.225612  0.280649  0.680348  0.441969     0.373381  0.729973  0.883473\n",
       " 0.250224  0.962323  0.402798  0.369127  …  0.711565  0.406131  0.25307 \n",
       " 0.262815  0.72944   0.474294  0.434483     0.511948  0.531137  0.33579 \n",
       " 0.739646  0.49594   0.414062  0.818452     0.151754  0.492866  0.606765\n",
       " 0.340798  0.426568  0.500734  0.578383     0.492866  0.136219  0.380493\n",
       " 0.372659  0.345894  0.30407   0.47726      0.606765  0.380493  0.548194"
      ]
     },
     "execution_count": 44,
     "metadata": {},
     "output_type": "execute_result"
    }
   ],
   "source": [
    "@time learned1 = learn(samples1)\n",
    "@time learned2 = learn(samples1)\n",
    "\n",
    "@time learned_cgd_rise1 = learn_cgd(samples1)\n",
    "@time learned_cgd_rise2 = learn_cgd(samples1)\n",
    "\n",
    "#@time learned_sgd_rise1 = learn_sgd(samples1)\n",
    "#@time learned_sgd_rise2 = learn_sgd(samples1)"
   ]
  },
  {
   "cell_type": "code",
   "execution_count": 45,
   "metadata": {},
   "outputs": [
    {
     "data": {
      "text/plain": [
       "10×10 Array{Float64,2}:\n",
       " 0.0  0.0  1.0  1.0  0.0  0.0  1.0  0.0  0.0  0.0\n",
       " 0.0  1.0  0.0  1.0  0.0  0.0  1.0  1.0  1.0  0.0\n",
       " 1.0  0.0  0.0  1.0  1.0  0.0  0.0  1.0  0.0  0.0\n",
       " 1.0  1.0  1.0  0.0  0.0  1.0  1.0  1.0  1.0  0.0\n",
       " 0.0  0.0  1.0  0.0  0.0  1.0  0.0  0.0  1.0  1.0\n",
       " 0.0  0.0  0.0  1.0  1.0  0.0  0.0  1.0  1.0  0.0\n",
       " 1.0  1.0  0.0  1.0  0.0  0.0  0.0  1.0  0.0  1.0\n",
       " 0.0  1.0  1.0  1.0  0.0  1.0  1.0  0.0  1.0  1.0\n",
       " 0.0  1.0  0.0  1.0  1.0  1.0  0.0  1.0  1.0  1.0\n",
       " 0.0  0.0  0.0  0.0  1.0  0.0  1.0  1.0  1.0  0.0"
      ]
     },
     "execution_count": 45,
     "metadata": {},
     "output_type": "execute_result"
    }
   ],
   "source": [
    "F1"
   ]
  },
  {
   "cell_type": "code",
   "execution_count": 48,
   "metadata": {},
   "outputs": [
    {
     "data": {
      "text/plain": [
       "10×10 Array{Float64,2}:\n",
       " 0.363398     0.000152139  0.998232     …  0.269543  0.269543  3.38883e-5 \n",
       " 0.000152139  1.64555      0.000333802     0.637412  0.637639  9.76061e-5 \n",
       " 0.998232     0.000333802  0.829737        0.186376  0.186355  7.22393e-5 \n",
       " 0.269543     0.637412     0.186376        2.17459   2.17097   0.290854   \n",
       " 3.57279e-5   0.000119345  1.14516         0.111397  0.111395  1.3384     \n",
       " 3.36551e-5   0.000110999  0.000107648  …  0.512129  0.512127  4.5451e-5  \n",
       " 0.000179216  0.000862972  0.000196304     0.582907  0.582752  0.000247517\n",
       " 0.269543     0.637412     0.186376        1.98236   2.17313   0.290854   \n",
       " 0.269543     0.637639     0.186355        2.17313   1.98236   0.290853   \n",
       " 3.38883e-5   9.76061e-5   7.22393e-5      0.290854  0.290853  0.858315   "
      ]
     },
     "execution_count": 48,
     "metadata": {},
     "output_type": "execute_result"
    }
   ],
   "source": [
    "learned1"
   ]
  },
  {
   "cell_type": "code",
   "execution_count": 47,
   "metadata": {},
   "outputs": [
    {
     "data": {
      "text/plain": [
       "10×10 Array{Float64,2}:\n",
       " 0.104432  0.478404  0.36409   0.296252  …  0.739646  0.340798  0.372659\n",
       " 0.478404  1.02587   0.435044  0.433103     0.49594   0.426568  0.345894\n",
       " 0.36409   0.435044  0.487701  0.40621      0.414062  0.500734  0.30407 \n",
       " 0.296252  0.433103  0.40621   0.479149     0.818452  0.578383  0.47726 \n",
       " 0.225612  0.280649  0.680348  0.441969     0.373381  0.729973  0.883473\n",
       " 0.250224  0.962323  0.402798  0.369127  …  0.711565  0.406131  0.25307 \n",
       " 0.262815  0.72944   0.474294  0.434483     0.511948  0.531137  0.33579 \n",
       " 0.739646  0.49594   0.414062  0.818452     0.151754  0.492866  0.606765\n",
       " 0.340798  0.426568  0.500734  0.578383     0.492866  0.136219  0.380493\n",
       " 0.372659  0.345894  0.30407   0.47726      0.606765  0.380493  0.548194"
      ]
     },
     "execution_count": 47,
     "metadata": {},
     "output_type": "execute_result"
    }
   ],
   "source": [
    "learned_cgd_rise2"
   ]
  },
  {
   "cell_type": "markdown",
   "metadata": {},
   "source": [
    "### Thresholding Tests"
   ]
  },
  {
   "cell_type": "code",
   "execution_count": 1,
   "metadata": {},
   "outputs": [
    {
     "data": {
      "text/plain": [
       "true"
      ]
     },
     "execution_count": 1,
     "metadata": {},
     "output_type": "execute_result"
    }
   ],
   "source": [
    "[1.0, 1e9] ≈ [0.0, 1e9]"
   ]
  },
  {
   "cell_type": "code",
   "execution_count": 2,
   "metadata": {},
   "outputs": [
    {
     "data": {
      "text/plain": [
       "false"
      ]
     },
     "execution_count": 2,
     "metadata": {},
     "output_type": "execute_result"
    }
   ],
   "source": [
    "all([1.0, 1e9] .≈ [0.0, 1e9])"
   ]
  },
  {
   "cell_type": "code",
   "execution_count": 8,
   "metadata": {},
   "outputs": [
    {
     "data": {
      "text/plain": [
       "assert_correct_gm (generic function with 1 method)"
      ]
     },
     "execution_count": 8,
     "metadata": {},
     "output_type": "execute_result"
    }
   ],
   "source": [
    "function assert_correct_gm(learned_gm::Array, true_gm::Array, τ::Real)\n",
    "    learned_struct_gm = zeros(size(true_gm))\n",
    "    \n",
    "    for i = 1:size(true_gm,1)\n",
    "        for j = 1:size(true_gm,2)\n",
    "            if abs(learned_gm[i,j]) <= τ\n",
    "                learned_struct_gm[i,j] = 0\n",
    "            else\n",
    "                learned_struct_gm[i,j] = sign(learned_gm[i,j])\n",
    "            end\n",
    "        end\n",
    "    end\n",
    "    \n",
    "    true_struct_gm = sign.(true_gm)\n",
    "    \n",
    "    return all(learned_struct_gm .≈ true_struct_gm), learned_struct_gm, true_struct_gm\n",
    "end "
   ]
  },
  {
   "cell_type": "code",
   "execution_count": 9,
   "metadata": {},
   "outputs": [],
   "source": [
    "# Package for creating random regular graph\n",
    "using LightGraphs\n",
    "using GraphicalModelLearning"
   ]
  },
  {
   "cell_type": "code",
   "execution_count": 58,
   "metadata": {},
   "outputs": [
    {
     "data": {
      "text/plain": [
       "true"
      ]
     },
     "execution_count": 58,
     "metadata": {},
     "output_type": "execute_result"
    }
   ],
   "source": [
    "N = 8\n",
    "d = 3\n",
    "β = 0.7\n",
    "α = 0.4\n",
    "\n",
    "rand_reg_gm = random_regular_graph(N,d)\n",
    "temp_adj_matrix = adjacency_matrix(rand_reg_gm)\n",
    "\n",
    "U_temp_adj_matrix = triu(temp_adj_matrix)\n",
    "\n",
    "# adj_matrix is a sparse matrix\n",
    "R, C, V = findnz(U_temp_adj_matrix)\n",
    "V = β*V\n",
    "\n",
    "# indices to be changed to negative β (randperm or randsubseq)\n",
    "# Ref: https://discourse.julialang.org/t/sampling-without-replacement/1073\n",
    "ind_neg_β = randsubseq(1:length(V),0.5)\n",
    "\n",
    "# Also find two random indices to change to +/- α\n",
    "ind_α = randperm(length(V))[1:2]\n",
    "\n",
    "V[ind_neg_β] = -β\n",
    "\n",
    "V[ind_α[1]] = α\n",
    "V[ind_α[2]] = -α\n",
    "\n",
    "U_adj_matrix = sparse(R, C, V, N, N)\n",
    "adj_matrix = U_adj_matrix + U_adj_matrix'\n",
    "adj_matrix = Array(adj_matrix)\n",
    "\n",
    "# choose with equal probability those to be changed to -β\n",
    "# should select random numbers uniformly without replacement\n",
    "# also need to make sure resulting matrix is symmetric\n",
    "issymmetric(adj_matrix)"
   ]
  },
  {
   "cell_type": "code",
   "execution_count": 4,
   "metadata": {},
   "outputs": [
    {
     "data": {
      "text/plain": [
       "spin_glass_model (generic function with 1 method)"
      ]
     },
     "execution_count": 4,
     "metadata": {},
     "output_type": "execute_result"
    }
   ],
   "source": [
    "function spin_glass_model(N::Integer,d::Integer,α::Real,β::Real)\n",
    "    #=\n",
    "    # choose with equal probability those to be changed to -β\n",
    "    # should select random numbers uniformly without replacement\n",
    "    # also need to make sure resulting matrix is symmetric\n",
    "    =#\n",
    "    \n",
    "    rand_reg_gm = random_regular_graph(N,d)\n",
    "    temp_adj_matrix = adjacency_matrix(rand_reg_gm)\n",
    "\n",
    "    U_temp_adj_matrix = triu(temp_adj_matrix)\n",
    "\n",
    "    # adj_matrix is a sparse matrix\n",
    "    R, C, V = findnz(U_temp_adj_matrix)\n",
    "    V = β*V\n",
    "\n",
    "    # indices to be changed to negative β (randperm or randsubseq)\n",
    "    # Ref: https://discourse.julialang.org/t/sampling-without-replacement/1073\n",
    "    ind_neg_β = randsubseq(1:length(V),0.5)\n",
    "\n",
    "    # Also find two random indices to change to +/- α\n",
    "    ind_α = randperm(length(V))[1:2]\n",
    "\n",
    "    V[ind_neg_β] = -β\n",
    "    V[ind_α[1]] = α\n",
    "    V[ind_α[2]] = -α\n",
    "\n",
    "    U_adj_matrix = sparse(R, C, V, N, N)\n",
    "    adj_matrix = U_adj_matrix + U_adj_matrix'\n",
    "    adj_matrix = Array(adj_matrix)\n",
    "    \n",
    "    model = FactorGraph(adj_matrix)\n",
    "    \n",
    "    return adj_matrix, model\n",
    "end"
   ]
  },
  {
   "cell_type": "code",
   "execution_count": 5,
   "metadata": {},
   "outputs": [
    {
     "name": "stderr",
     "output_type": "stream",
     "text": [
      "\u001b[1m\u001b[36mINFO: \u001b[39m\u001b[22m\u001b[36massuming spin alphabet\n",
      "\u001b[39m\u001b[1m\u001b[36mINFO: \u001b[39m\u001b[22m\u001b[36musing Glauber dynamics v1 to generate T-regime samples\n",
      "\u001b[39m"
     ]
    },
    {
     "data": {
      "text/plain": [
       "true"
      ]
     },
     "metadata": {},
     "output_type": "display_data"
    },
    {
     "name": "stderr",
     "output_type": "stream",
     "text": [
      "\u001b[1m\u001b[36mINFO: \u001b[39m\u001b[22m\u001b[36musing coordinate descent solver for RISE to learn Glauber dyamics\n",
      "\u001b[39m"
     ]
    }
   ],
   "source": [
    "# Parameters of the Graphical Model\n",
    "d = 3\n",
    "n_spins = 16\n",
    "α = 0.4\n",
    "β = 0.7\n",
    "\n",
    "# Create random regular graph\n",
    "adj_matrix, model = spin_glass_model(n_spins, d, α, β)\n",
    "\n",
    "# Create samples\n",
    "n_samples = 50000\n",
    "\n",
    "samples_T, samples_mixed = gibbs_sampling(model, n_samples, T_regime())\n",
    "\n",
    "# Learned Model\n",
    "learned_gm = learn_glauber_dynamics(samples_T, RISE(), CD(1e-12))\n",
    "\n",
    "# Assert if structure is good\n",
    "FLAG_correct_struct, learned_struct, true_struct = assert_correct_gm(learned_gm, adj_matrix, α/2)\n",
    "\n",
    "display(FLAG_correct_struct)"
   ]
  },
  {
   "cell_type": "code",
   "execution_count": 104,
   "metadata": {},
   "outputs": [
    {
     "data": {
      "text/plain": [
       "0"
      ]
     },
     "execution_count": 104,
     "metadata": {},
     "output_type": "execute_result"
    }
   ],
   "source": [
    "countnz(true_struct - learned_struct)"
   ]
  },
  {
   "cell_type": "markdown",
   "metadata": {},
   "source": [
    "### Plotting Ferro Lattices"
   ]
  },
  {
   "cell_type": "code",
   "execution_count": 14,
   "metadata": {},
   "outputs": [
    {
     "data": {
      "text/plain": [
       "get_M_opt_glauber_dynamics (generic function with 5 methods)"
      ]
     },
     "execution_count": 14,
     "metadata": {},
     "output_type": "execute_result"
    }
   ],
   "source": [
    "include(\"beta_scaling.jl\")"
   ]
  },
  {
   "cell_type": "code",
   "execution_count": 6,
   "metadata": {},
   "outputs": [
    {
     "data": {
      "image/svg+xml": [
       "<?xml version=\"1.0\" encoding=\"UTF-8\"?>\n",
       "<svg xmlns=\"http://www.w3.org/2000/svg\" xmlns:xlink=\"http://www.w3.org/1999/xlink\" width=\"300pt\" height=\"300pt\" viewBox=\"0 0 300 300\" version=\"1.1\">\n",
       "<g id=\"surface1\">\n",
       "<rect x=\"0\" y=\"0\" width=\"300\" height=\"300\" style=\"fill:rgb(100%,100%,100%);fill-opacity:1;stroke:none;\"/>\n",
       "<path style=\"fill:none;stroke-width:0.5;stroke-linecap:butt;stroke-linejoin:miter;stroke:rgb(50%,50%,50%);stroke-opacity:0.8;stroke-miterlimit:10;\" d=\"M 143.328125 81.386719 L 110.671875 186.613281 \"/>\n",
       "<path style=\"fill:none;stroke-width:0.5;stroke-linecap:butt;stroke-linejoin:miter;stroke:rgb(50%,50%,50%);stroke-opacity:0.8;stroke-miterlimit:10;\" d=\"M 139.792969 73.828125 L 66.207031 43.171875 \"/>\n",
       "<path style=\"fill:none;stroke-width:0.5;stroke-linecap:butt;stroke-linejoin:miter;stroke:rgb(50%,50%,50%);stroke-opacity:0.8;stroke-miterlimit:10;\" d=\"M 150.640625 75.949219 L 250.359375 75.050781 \"/>\n",
       "<path style=\"fill:none;stroke-width:0.5;stroke-linecap:butt;stroke-linejoin:miter;stroke:rgb(50%,50%,50%);stroke-opacity:0.8;stroke-miterlimit:10;\" d=\"M 146.519531 81.433594 L 171.480469 170.566406 \"/>\n",
       "<path style=\"fill:none;stroke-width:0.5;stroke-linecap:butt;stroke-linejoin:miter;stroke:rgb(50%,50%,50%);stroke-opacity:0.8;stroke-miterlimit:10;\" d=\"M 110.671875 186.613281 L 143.328125 81.386719 \"/>\n",
       "<path style=\"fill:none;stroke-width:0.5;stroke-linecap:butt;stroke-linejoin:miter;stroke:rgb(50%,50%,50%);stroke-opacity:0.8;stroke-miterlimit:10;\" d=\"M 104.128906 189.152344 L 24.871094 142.847656 \"/>\n",
       "<path style=\"fill:none;stroke-width:0.5;stroke-linecap:butt;stroke-linejoin:miter;stroke:rgb(50%,50%,50%);stroke-opacity:0.8;stroke-miterlimit:10;\" d=\"M 114.589844 191.222656 L 218.410156 176.777344 \"/>\n",
       "<path style=\"fill:none;stroke-width:0.5;stroke-linecap:butt;stroke-linejoin:miter;stroke:rgb(50%,50%,50%);stroke-opacity:0.8;stroke-miterlimit:10;\" d=\"M 110.597656 197.410156 L 133.402344 274.589844 \"/>\n",
       "<path style=\"fill:none;stroke-width:0.5;stroke-linecap:butt;stroke-linejoin:miter;stroke:rgb(50%,50%,50%);stroke-opacity:0.8;stroke-miterlimit:10;\" d=\"M 24.871094 142.847656 L 104.128906 189.152344 \"/>\n",
       "<path style=\"fill:none;stroke-width:0.5;stroke-linecap:butt;stroke-linejoin:miter;stroke:rgb(50%,50%,50%);stroke-opacity:0.8;stroke-miterlimit:10;\" d=\"M 22.160156 134.789062 L 58.839844 46.210938 \"/>\n",
       "<path style=\"fill:none;stroke-width:0.5;stroke-linecap:butt;stroke-linejoin:miter;stroke:rgb(50%,50%,50%);stroke-opacity:0.8;stroke-miterlimit:10;\" d=\"M 25.613281 139.445312 L 125.386719 129.554688 \"/>\n",
       "<path style=\"fill:none;stroke-width:0.5;stroke-linecap:butt;stroke-linejoin:miter;stroke:rgb(50%,50%,50%);stroke-opacity:0.8;stroke-miterlimit:10;\" d=\"M 21.660156 145.390625 L 46.339844 225.609375 \"/>\n",
       "<path style=\"fill:none;stroke-width:0.5;stroke-linecap:butt;stroke-linejoin:miter;stroke:rgb(50%,50%,50%);stroke-opacity:0.8;stroke-miterlimit:10;\" d=\"M 66.207031 43.171875 L 139.792969 73.828125 \"/>\n",
       "<path style=\"fill:none;stroke-width:0.5;stroke-linecap:butt;stroke-linejoin:miter;stroke:rgb(50%,50%,50%);stroke-opacity:0.8;stroke-miterlimit:10;\" d=\"M 58.839844 46.210938 L 22.160156 134.789062 \"/>\n",
       "<path style=\"fill:none;stroke-width:0.5;stroke-linecap:butt;stroke-linejoin:miter;stroke:rgb(50%,50%,50%);stroke-opacity:0.8;stroke-miterlimit:10;\" d=\"M 66.53125 39.882812 L 159.46875 21.117188 \"/>\n",
       "<path style=\"fill:none;stroke-width:0.5;stroke-linecap:butt;stroke-linejoin:miter;stroke:rgb(50%,50%,50%);stroke-opacity:0.8;stroke-miterlimit:10;\" d=\"M 61.871094 46.574219 L 73.128906 118.425781 \"/>\n",
       "<path style=\"fill:none;stroke-width:0.5;stroke-linecap:butt;stroke-linejoin:miter;stroke:rgb(50%,50%,50%);stroke-opacity:0.8;stroke-miterlimit:10;\" d=\"M 250.359375 75.050781 L 150.640625 75.949219 \"/>\n",
       "<path style=\"fill:none;stroke-width:0.5;stroke-linecap:butt;stroke-linejoin:miter;stroke:rgb(50%,50%,50%);stroke-opacity:0.8;stroke-miterlimit:10;\" d=\"M 254.296875 80.378906 L 225.703125 170.621094 \"/>\n",
       "<path style=\"fill:none;stroke-width:0.5;stroke-linecap:butt;stroke-linejoin:miter;stroke:rgb(50%,50%,50%);stroke-opacity:0.8;stroke-miterlimit:10;\" d=\"M 251.171875 72.082031 L 169.828125 22.917969 \"/>\n",
       "<path style=\"fill:none;stroke-width:0.5;stroke-linecap:butt;stroke-linejoin:miter;stroke:rgb(50%,50%,50%);stroke-opacity:0.8;stroke-miterlimit:10;\" d=\"M 257.484375 80.441406 L 278.515625 157.558594 \"/>\n",
       "<path style=\"fill:none;stroke-width:0.5;stroke-linecap:butt;stroke-linejoin:miter;stroke:rgb(50%,50%,50%);stroke-opacity:0.8;stroke-miterlimit:10;\" d=\"M 218.410156 176.777344 L 114.589844 191.222656 \"/>\n",
       "<path style=\"fill:none;stroke-width:0.5;stroke-linecap:butt;stroke-linejoin:miter;stroke:rgb(50%,50%,50%);stroke-opacity:0.8;stroke-miterlimit:10;\" d=\"M 225.703125 170.621094 L 254.296875 80.378906 \"/>\n",
       "<path style=\"fill:none;stroke-width:0.5;stroke-linecap:butt;stroke-linejoin:miter;stroke:rgb(50%,50%,50%);stroke-opacity:0.8;stroke-miterlimit:10;\" d=\"M 218.964844 173.457031 L 136.035156 131.542969 \"/>\n",
       "<path style=\"fill:none;stroke-width:0.5;stroke-linecap:butt;stroke-linejoin:miter;stroke:rgb(50%,50%,50%);stroke-opacity:0.8;stroke-miterlimit:10;\" d=\"M 225.070312 181.539062 L 239.929688 258.460938 \"/>\n",
       "<path style=\"fill:none;stroke-width:0.5;stroke-linecap:butt;stroke-linejoin:miter;stroke:rgb(50%,50%,50%);stroke-opacity:0.8;stroke-miterlimit:10;\" d=\"M 125.386719 129.554688 L 25.613281 139.445312 \"/>\n",
       "<path style=\"fill:none;stroke-width:0.5;stroke-linecap:butt;stroke-linejoin:miter;stroke:rgb(50%,50%,50%);stroke-opacity:0.8;stroke-miterlimit:10;\" d=\"M 136.035156 131.542969 L 218.964844 173.457031 \"/>\n",
       "<path style=\"fill:none;stroke-width:0.5;stroke-linecap:butt;stroke-linejoin:miter;stroke:rgb(50%,50%,50%);stroke-opacity:0.8;stroke-miterlimit:10;\" d=\"M 132.679688 123.613281 L 163.320312 25.386719 \"/>\n",
       "<path style=\"fill:none;stroke-width:0.5;stroke-linecap:butt;stroke-linejoin:miter;stroke:rgb(50%,50%,50%);stroke-opacity:0.8;stroke-miterlimit:10;\" d=\"M 132.285156 134.492188 L 151.714844 217.507812 \"/>\n",
       "<path style=\"fill:none;stroke-width:0.5;stroke-linecap:butt;stroke-linejoin:miter;stroke:rgb(50%,50%,50%);stroke-opacity:0.8;stroke-miterlimit:10;\" d=\"M 159.46875 21.117188 L 66.53125 39.882812 \"/>\n",
       "<path style=\"fill:none;stroke-width:0.5;stroke-linecap:butt;stroke-linejoin:miter;stroke:rgb(50%,50%,50%);stroke-opacity:0.8;stroke-miterlimit:10;\" d=\"M 169.828125 22.917969 L 251.171875 72.082031 \"/>\n",
       "<path style=\"fill:none;stroke-width:0.5;stroke-linecap:butt;stroke-linejoin:miter;stroke:rgb(50%,50%,50%);stroke-opacity:0.8;stroke-miterlimit:10;\" d=\"M 163.320312 25.386719 L 132.679688 123.613281 \"/>\n",
       "<path style=\"fill:none;stroke-width:0.5;stroke-linecap:butt;stroke-linejoin:miter;stroke:rgb(50%,50%,50%);stroke-opacity:0.8;stroke-miterlimit:10;\" d=\"M 166.730469 25.371094 L 193.269531 107.628906 \"/>\n",
       "<path style=\"fill:none;stroke-width:0.5;stroke-linecap:butt;stroke-linejoin:miter;stroke:rgb(50%,50%,50%);stroke-opacity:0.8;stroke-miterlimit:10;\" d=\"M 278.515625 157.558594 L 257.484375 80.441406 \"/>\n",
       "<path style=\"fill:none;stroke-width:0.5;stroke-linecap:butt;stroke-linejoin:miter;stroke:rgb(50%,50%,50%);stroke-opacity:0.8;stroke-miterlimit:10;\" d=\"M 277.96875 168.261719 L 243.03125 258.738281 \"/>\n",
       "<path style=\"fill:none;stroke-width:0.5;stroke-linecap:butt;stroke-linejoin:miter;stroke:rgb(50%,50%,50%);stroke-opacity:0.8;stroke-miterlimit:10;\" d=\"M 275.136719 160.140625 L 199.863281 115.859375 \"/>\n",
       "<path style=\"fill:none;stroke-width:0.5;stroke-linecap:butt;stroke-linejoin:miter;stroke:rgb(50%,50%,50%);stroke-opacity:0.8;stroke-miterlimit:10;\" d=\"M 274.398438 163.679688 L 178.601562 175.320312 \"/>\n",
       "<path style=\"fill:none;stroke-width:0.5;stroke-linecap:butt;stroke-linejoin:miter;stroke:rgb(50%,50%,50%);stroke-opacity:0.8;stroke-miterlimit:10;\" d=\"M 239.929688 258.460938 L 225.070312 181.539062 \"/>\n",
       "<path style=\"fill:none;stroke-width:0.5;stroke-linecap:butt;stroke-linejoin:miter;stroke:rgb(50%,50%,50%);stroke-opacity:0.8;stroke-miterlimit:10;\" d=\"M 243.03125 258.738281 L 277.96875 168.261719 \"/>\n",
       "<path style=\"fill:none;stroke-width:0.5;stroke-linecap:butt;stroke-linejoin:miter;stroke:rgb(50%,50%,50%);stroke-opacity:0.8;stroke-miterlimit:10;\" d=\"M 235.886719 261.617188 L 158.113281 225.382812 \"/>\n",
       "<path style=\"fill:none;stroke-width:0.5;stroke-linecap:butt;stroke-linejoin:miter;stroke:rgb(50%,50%,50%);stroke-opacity:0.8;stroke-miterlimit:10;\" d=\"M 235.421875 264.84375 L 140.578125 279.15625 \"/>\n",
       "<path style=\"fill:none;stroke-width:0.5;stroke-linecap:butt;stroke-linejoin:miter;stroke:rgb(50%,50%,50%);stroke-opacity:0.8;stroke-miterlimit:10;\" d=\"M 151.714844 217.507812 L 132.285156 134.492188 \"/>\n",
       "<path style=\"fill:none;stroke-width:0.5;stroke-linecap:butt;stroke-linejoin:miter;stroke:rgb(50%,50%,50%);stroke-opacity:0.8;stroke-miterlimit:10;\" d=\"M 158.113281 225.382812 L 235.886719 261.617188 \"/>\n",
       "<path style=\"fill:none;stroke-width:0.5;stroke-linecap:butt;stroke-linejoin:miter;stroke:rgb(50%,50%,50%);stroke-opacity:0.8;stroke-miterlimit:10;\" d=\"M 155.011719 217.730469 L 192.988281 118.269531 \"/>\n",
       "<path style=\"fill:none;stroke-width:0.5;stroke-linecap:butt;stroke-linejoin:miter;stroke:rgb(50%,50%,50%);stroke-opacity:0.8;stroke-miterlimit:10;\" d=\"M 147.375 223.429688 L 53.625 230.570312 \"/>\n",
       "<path style=\"fill:none;stroke-width:0.5;stroke-linecap:butt;stroke-linejoin:miter;stroke:rgb(50%,50%,50%);stroke-opacity:0.8;stroke-miterlimit:10;\" d=\"M 193.269531 107.628906 L 166.730469 25.371094 \"/>\n",
       "<path style=\"fill:none;stroke-width:0.5;stroke-linecap:butt;stroke-linejoin:miter;stroke:rgb(50%,50%,50%);stroke-opacity:0.8;stroke-miterlimit:10;\" d=\"M 199.863281 115.859375 L 275.136719 160.140625 \"/>\n",
       "<path style=\"fill:none;stroke-width:0.5;stroke-linecap:butt;stroke-linejoin:miter;stroke:rgb(50%,50%,50%);stroke-opacity:0.8;stroke-miterlimit:10;\" d=\"M 192.988281 118.269531 L 155.011719 217.730469 \"/>\n",
       "<path style=\"fill:none;stroke-width:0.5;stroke-linecap:butt;stroke-linejoin:miter;stroke:rgb(50%,50%,50%);stroke-opacity:0.8;stroke-miterlimit:10;\" d=\"M 189.382812 113.511719 L 79.617188 123.488281 \"/>\n",
       "<path style=\"fill:none;stroke-width:0.5;stroke-linecap:butt;stroke-linejoin:miter;stroke:rgb(50%,50%,50%);stroke-opacity:0.8;stroke-miterlimit:10;\" d=\"M 171.480469 170.566406 L 146.519531 81.433594 \"/>\n",
       "<path style=\"fill:none;stroke-width:0.5;stroke-linecap:butt;stroke-linejoin:miter;stroke:rgb(50%,50%,50%);stroke-opacity:0.8;stroke-miterlimit:10;\" d=\"M 178.601562 175.320312 L 274.398438 163.679688 \"/>\n",
       "<path style=\"fill:none;stroke-width:0.5;stroke-linecap:butt;stroke-linejoin:miter;stroke:rgb(50%,50%,50%);stroke-opacity:0.8;stroke-miterlimit:10;\" d=\"M 171.0625 181.300781 L 136.9375 274.699219 \"/>\n",
       "<path style=\"fill:none;stroke-width:0.5;stroke-linecap:butt;stroke-linejoin:miter;stroke:rgb(50%,50%,50%);stroke-opacity:0.8;stroke-miterlimit:10;\" d=\"M 168.003906 173.375 L 78.996094 126.625 \"/>\n",
       "<path style=\"fill:none;stroke-width:0.5;stroke-linecap:butt;stroke-linejoin:miter;stroke:rgb(50%,50%,50%);stroke-opacity:0.8;stroke-miterlimit:10;\" d=\"M 133.402344 274.589844 L 110.597656 197.410156 \"/>\n",
       "<path style=\"fill:none;stroke-width:0.5;stroke-linecap:butt;stroke-linejoin:miter;stroke:rgb(50%,50%,50%);stroke-opacity:0.8;stroke-miterlimit:10;\" d=\"M 140.578125 279.15625 L 235.421875 264.84375 \"/>\n",
       "<path style=\"fill:none;stroke-width:0.5;stroke-linecap:butt;stroke-linejoin:miter;stroke:rgb(50%,50%,50%);stroke-opacity:0.8;stroke-miterlimit:10;\" d=\"M 136.9375 274.699219 L 171.0625 181.300781 \"/>\n",
       "<path style=\"fill:none;stroke-width:0.5;stroke-linecap:butt;stroke-linejoin:miter;stroke:rgb(50%,50%,50%);stroke-opacity:0.8;stroke-miterlimit:10;\" d=\"M 130.085938 277.230469 L 52.914062 233.769531 \"/>\n",
       "<path style=\"fill:none;stroke-width:0.5;stroke-linecap:butt;stroke-linejoin:miter;stroke:rgb(50%,50%,50%);stroke-opacity:0.8;stroke-miterlimit:10;\" d=\"M 46.339844 225.609375 L 21.660156 145.390625 \"/>\n",
       "<path style=\"fill:none;stroke-width:0.5;stroke-linecap:butt;stroke-linejoin:miter;stroke:rgb(50%,50%,50%);stroke-opacity:0.8;stroke-miterlimit:10;\" d=\"M 53.625 230.570312 L 147.375 223.429688 \"/>\n",
       "<path style=\"fill:none;stroke-width:0.5;stroke-linecap:butt;stroke-linejoin:miter;stroke:rgb(50%,50%,50%);stroke-opacity:0.8;stroke-miterlimit:10;\" d=\"M 52.914062 233.769531 L 130.085938 277.230469 \"/>\n",
       "<path style=\"fill:none;stroke-width:0.5;stroke-linecap:butt;stroke-linejoin:miter;stroke:rgb(50%,50%,50%);stroke-opacity:0.8;stroke-miterlimit:10;\" d=\"M 49.332031 225.519531 L 72.667969 129.480469 \"/>\n",
       "<path style=\"fill:none;stroke-width:0.5;stroke-linecap:butt;stroke-linejoin:miter;stroke:rgb(50%,50%,50%);stroke-opacity:0.8;stroke-miterlimit:10;\" d=\"M 73.128906 118.425781 L 61.871094 46.574219 \"/>\n",
       "<path style=\"fill:none;stroke-width:0.5;stroke-linecap:butt;stroke-linejoin:miter;stroke:rgb(50%,50%,50%);stroke-opacity:0.8;stroke-miterlimit:10;\" d=\"M 79.617188 123.488281 L 189.382812 113.511719 \"/>\n",
       "<path style=\"fill:none;stroke-width:0.5;stroke-linecap:butt;stroke-linejoin:miter;stroke:rgb(50%,50%,50%);stroke-opacity:0.8;stroke-miterlimit:10;\" d=\"M 78.996094 126.625 L 168.003906 173.375 \"/>\n",
       "<path style=\"fill:none;stroke-width:0.5;stroke-linecap:butt;stroke-linejoin:miter;stroke:rgb(50%,50%,50%);stroke-opacity:0.8;stroke-miterlimit:10;\" d=\"M 72.667969 129.480469 L 49.332031 225.519531 \"/>\n",
       "<path style=\"fill-rule:nonzero;fill:rgb(100%,100%,100%);fill-opacity:0.8;stroke-width:2;stroke-linecap:butt;stroke-linejoin:miter;stroke:rgb(0%,0%,0%);stroke-opacity:0.8;stroke-miterlimit:10;\" d=\"M 150.640625 76 C 150.640625 79.117188 148.117188 81.640625 145 81.640625 C 141.882812 81.640625 139.359375 79.117188 139.359375 76 C 139.359375 72.882812 141.882812 70.359375 145 70.359375 C 148.117188 70.359375 150.640625 72.882812 150.640625 76 \"/>\n",
       "<path style=\"fill-rule:nonzero;fill:rgb(100%,100%,100%);fill-opacity:0.8;stroke-width:2;stroke-linecap:butt;stroke-linejoin:miter;stroke:rgb(0%,0%,0%);stroke-opacity:0.8;stroke-miterlimit:10;\" d=\"M 114.640625 192 C 114.640625 195.117188 112.117188 197.640625 109 197.640625 C 105.882812 197.640625 103.359375 195.117188 103.359375 192 C 103.359375 188.882812 105.882812 186.359375 109 186.359375 C 112.117188 186.359375 114.640625 188.882812 114.640625 192 \"/>\n",
       "<path style=\"fill-rule:nonzero;fill:rgb(100%,100%,100%);fill-opacity:0.8;stroke-width:2;stroke-linecap:butt;stroke-linejoin:miter;stroke:rgb(0%,0%,0%);stroke-opacity:0.8;stroke-miterlimit:10;\" d=\"M 25.640625 140 C 25.640625 143.117188 23.117188 145.640625 20 145.640625 C 16.882812 145.640625 14.359375 143.117188 14.359375 140 C 14.359375 136.882812 16.882812 134.359375 20 134.359375 C 23.117188 134.359375 25.640625 136.882812 25.640625 140 \"/>\n",
       "<path style=\"fill-rule:nonzero;fill:rgb(100%,100%,100%);fill-opacity:0.8;stroke-width:2;stroke-linecap:butt;stroke-linejoin:miter;stroke:rgb(0%,0%,0%);stroke-opacity:0.8;stroke-miterlimit:10;\" d=\"M 66.640625 41 C 66.640625 44.117188 64.117188 46.640625 61 46.640625 C 57.882812 46.640625 55.359375 44.117188 55.359375 41 C 55.359375 37.882812 57.882812 35.359375 61 35.359375 C 64.117188 35.359375 66.640625 37.882812 66.640625 41 \"/>\n",
       "<path style=\"fill-rule:nonzero;fill:rgb(100%,100%,100%);fill-opacity:0.8;stroke-width:2;stroke-linecap:butt;stroke-linejoin:miter;stroke:rgb(0%,0%,0%);stroke-opacity:0.8;stroke-miterlimit:10;\" d=\"M 261.640625 75 C 261.640625 78.117188 259.117188 80.640625 256 80.640625 C 252.882812 80.640625 250.359375 78.117188 250.359375 75 C 250.359375 71.882812 252.882812 69.359375 256 69.359375 C 259.117188 69.359375 261.640625 71.882812 261.640625 75 \"/>\n",
       "<path style=\"fill-rule:nonzero;fill:rgb(100%,100%,100%);fill-opacity:0.8;stroke-width:2;stroke-linecap:butt;stroke-linejoin:miter;stroke:rgb(0%,0%,0%);stroke-opacity:0.8;stroke-miterlimit:10;\" d=\"M 229.640625 176 C 229.640625 179.117188 227.117188 181.640625 224 181.640625 C 220.882812 181.640625 218.359375 179.117188 218.359375 176 C 218.359375 172.882812 220.882812 170.359375 224 170.359375 C 227.117188 170.359375 229.640625 172.882812 229.640625 176 \"/>\n",
       "<path style=\"fill-rule:nonzero;fill:rgb(100%,100%,100%);fill-opacity:0.8;stroke-width:2;stroke-linecap:butt;stroke-linejoin:miter;stroke:rgb(0%,0%,0%);stroke-opacity:0.8;stroke-miterlimit:10;\" d=\"M 136.640625 129 C 136.640625 132.117188 134.117188 134.640625 131 134.640625 C 127.882812 134.640625 125.359375 132.117188 125.359375 129 C 125.359375 125.882812 127.882812 123.359375 131 123.359375 C 134.117188 123.359375 136.640625 125.882812 136.640625 129 \"/>\n",
       "<path style=\"fill-rule:nonzero;fill:rgb(100%,100%,100%);fill-opacity:0.8;stroke-width:2;stroke-linecap:butt;stroke-linejoin:miter;stroke:rgb(0%,0%,0%);stroke-opacity:0.8;stroke-miterlimit:10;\" d=\"M 170.640625 20 C 170.640625 23.117188 168.117188 25.640625 165 25.640625 C 161.882812 25.640625 159.359375 23.117188 159.359375 20 C 159.359375 16.882812 161.882812 14.359375 165 14.359375 C 168.117188 14.359375 170.640625 16.882812 170.640625 20 \"/>\n",
       "<path style=\"fill-rule:nonzero;fill:rgb(100%,100%,100%);fill-opacity:0.8;stroke-width:2;stroke-linecap:butt;stroke-linejoin:miter;stroke:rgb(0%,0%,0%);stroke-opacity:0.8;stroke-miterlimit:10;\" d=\"M 285.640625 163 C 285.640625 166.117188 283.117188 168.640625 280 168.640625 C 276.882812 168.640625 274.359375 166.117188 274.359375 163 C 274.359375 159.882812 276.882812 157.359375 280 157.359375 C 283.117188 157.359375 285.640625 159.882812 285.640625 163 \"/>\n",
       "<path style=\"fill-rule:nonzero;fill:rgb(100%,100%,100%);fill-opacity:0.8;stroke-width:2;stroke-linecap:butt;stroke-linejoin:miter;stroke:rgb(0%,0%,0%);stroke-opacity:0.8;stroke-miterlimit:10;\" d=\"M 246.640625 264 C 246.640625 267.117188 244.117188 269.640625 241 269.640625 C 237.882812 269.640625 235.359375 267.117188 235.359375 264 C 235.359375 260.882812 237.882812 258.359375 241 258.359375 C 244.117188 258.359375 246.640625 260.882812 246.640625 264 \"/>\n",
       "<path style=\"fill-rule:nonzero;fill:rgb(100%,100%,100%);fill-opacity:0.8;stroke-width:2;stroke-linecap:butt;stroke-linejoin:miter;stroke:rgb(0%,0%,0%);stroke-opacity:0.8;stroke-miterlimit:10;\" d=\"M 158.640625 223 C 158.640625 226.117188 156.117188 228.640625 153 228.640625 C 149.882812 228.640625 147.359375 226.117188 147.359375 223 C 147.359375 219.882812 149.882812 217.359375 153 217.359375 C 156.117188 217.359375 158.640625 219.882812 158.640625 223 \"/>\n",
       "<path style=\"fill-rule:nonzero;fill:rgb(100%,100%,100%);fill-opacity:0.8;stroke-width:2;stroke-linecap:butt;stroke-linejoin:miter;stroke:rgb(0%,0%,0%);stroke-opacity:0.8;stroke-miterlimit:10;\" d=\"M 200.640625 113 C 200.640625 116.117188 198.117188 118.640625 195 118.640625 C 191.882812 118.640625 189.359375 116.117188 189.359375 113 C 189.359375 109.882812 191.882812 107.359375 195 107.359375 C 198.117188 107.359375 200.640625 109.882812 200.640625 113 \"/>\n",
       "<path style=\"fill-rule:nonzero;fill:rgb(100%,100%,100%);fill-opacity:0.8;stroke-width:2;stroke-linecap:butt;stroke-linejoin:miter;stroke:rgb(0%,0%,0%);stroke-opacity:0.8;stroke-miterlimit:10;\" d=\"M 178.640625 176 C 178.640625 179.117188 176.117188 181.640625 173 181.640625 C 169.882812 181.640625 167.359375 179.117188 167.359375 176 C 167.359375 172.882812 169.882812 170.359375 173 170.359375 C 176.117188 170.359375 178.640625 172.882812 178.640625 176 \"/>\n",
       "<path style=\"fill-rule:nonzero;fill:rgb(100%,100%,100%);fill-opacity:0.8;stroke-width:2;stroke-linecap:butt;stroke-linejoin:miter;stroke:rgb(0%,0%,0%);stroke-opacity:0.8;stroke-miterlimit:10;\" d=\"M 140.640625 280 C 140.640625 283.117188 138.117188 285.640625 135 285.640625 C 131.882812 285.640625 129.359375 283.117188 129.359375 280 C 129.359375 276.882812 131.882812 274.359375 135 274.359375 C 138.117188 274.359375 140.640625 276.882812 140.640625 280 \"/>\n",
       "<path style=\"fill-rule:nonzero;fill:rgb(100%,100%,100%);fill-opacity:0.8;stroke-width:2;stroke-linecap:butt;stroke-linejoin:miter;stroke:rgb(0%,0%,0%);stroke-opacity:0.8;stroke-miterlimit:10;\" d=\"M 53.640625 231 C 53.640625 234.117188 51.117188 236.640625 48 236.640625 C 44.882812 236.640625 42.359375 234.117188 42.359375 231 C 42.359375 227.882812 44.882812 225.359375 48 225.359375 C 51.117188 225.359375 53.640625 227.882812 53.640625 231 \"/>\n",
       "<path style=\"fill-rule:nonzero;fill:rgb(100%,100%,100%);fill-opacity:0.8;stroke-width:2;stroke-linecap:butt;stroke-linejoin:miter;stroke:rgb(0%,0%,0%);stroke-opacity:0.8;stroke-miterlimit:10;\" d=\"M 79.640625 124 C 79.640625 127.117188 77.117188 129.640625 74 129.640625 C 70.882812 129.640625 68.359375 127.117188 68.359375 124 C 68.359375 120.882812 70.882812 118.359375 74 118.359375 C 77.117188 118.359375 79.640625 120.882812 79.640625 124 \"/>\n",
       "</g>\n",
       "</svg>\n"
      ]
     },
     "metadata": {},
     "output_type": "display_data"
    }
   ],
   "source": [
    "adj_matrix, struct_adj_matrix = ferro_lattice(16,0.4,0.7)\n",
    "gm = Junet.Graph(struct_adj_matrix,directed=false)\n",
    "\n",
    "plot(gm, size=(300,300), layout=layout_fruchterman_reingold(gm), node_color=\"white\", node_border_color=\"black\",\n",
    "        node_border_width=2)"
   ]
  },
  {
   "cell_type": "code",
   "execution_count": 37,
   "metadata": {},
   "outputs": [
    {
     "data": {
      "text/plain": [
       "non_periodic_lattice (generic function with 1 method)"
      ]
     },
     "execution_count": 37,
     "metadata": {},
     "output_type": "execute_result"
    }
   ],
   "source": [
    "# create a non periodic lattice of size (m,n) for plotting purposes\n",
    "function non_periodic_lattice(adj_matrix_gm::Array, m::Integer,n::Integer)\n",
    "    # Map of the nodes in the plotted gm\n",
    "    node_map_plot = Array{Int64,2}(m,n)\n",
    "    n_spins = m*n\n",
    "    adj_matrix_plot = zeros(n_spins,n_spins)\n",
    "    node_map_plot[1:n_spins] = 1:n_spins\n",
    "    \n",
    "    # Map of the indices in the plotted map to the original map\n",
    "    values_map_plot = Array{Int64,2}(m,n)\n",
    "    values_map_plot[2:m-1,2:n-1] = 1:((m-2)*(n-2))\n",
    "    \n",
    "    # Specify edges between nodes at the boundary to be removed\n",
    "    boundary_nodes = vcat(node_map_plot[:,1],node_map_plot[:,n],node_map_plot[1,2:n-1],node_map_plot[m,2:n-1])\n",
    "    corner_nodes = [1,m,m*(n-1)+1,m*n]\n",
    "    \n",
    "    # Apply periodicity\n",
    "    values_map_plot[2:(m-1),1] = copy(values_map_plot[2:(m-1),(n-1)])\n",
    "    values_map_plot[2:(m-1),n] = copy(values_map_plot[2:(m-1),2])\n",
    "    values_map_plot[1,2:(n-1)] = copy(values_map_plot[(m-1),2:(n-1)])\n",
    "    values_map_plot[m,2:(n-1)] = copy(values_map_plot[2,2:(n-1)])\n",
    "    values_map_plot[corner_nodes] = 0\n",
    "    \n",
    "    # Create edges\n",
    "    for i = 1:(m*n)\n",
    "        if !(i in corner_nodes)\n",
    "            # top\n",
    "            if ((i-1) % m) != 0 && !((i-1) in corner_nodes)\n",
    "                adj_matrix_plot[i,i-1] = adj_matrix[values_map_plot[i],values_map_plot[i-1]]\n",
    "            end\n",
    "            # bottom\n",
    "            if ((i+1) % m) != 1 && !((i+1) in corner_nodes)\n",
    "                adj_matrix_plot[i,i+1] = adj_matrix[values_map_plot[i],values_map_plot[i+1]]\n",
    "            end\n",
    "            # right\n",
    "            if (i+m) <= n_spins && !((i+m) in corner_nodes)\n",
    "                adj_matrix_plot[i,i+m] = adj_matrix[values_map_plot[i],values_map_plot[i+m]]\n",
    "            end\n",
    "            # left\n",
    "            if (i-m) > 0 && !((i-m) in corner_nodes)\n",
    "                adj_matrix_plot[i,i-m] = adj_matrix[values_map_plot[i],values_map_plot[i-m]]\n",
    "            end\n",
    "        end\n",
    "    end\n",
    "    for i in boundary_nodes\n",
    "        for j in boundary_nodes\n",
    "            adj_matrix_plot[i,j] = 0\n",
    "        end\n",
    "    end\n",
    "    \n",
    "    struct_adj_matrix_plot = sign.(abs.(adj_matrix_plot))\n",
    "    \n",
    "    return adj_matrix_plot, struct_adj_matrix_plot\n",
    "end"
   ]
  },
  {
   "cell_type": "code",
   "execution_count": 32,
   "metadata": {},
   "outputs": [
    {
     "ename": "LoadError",
     "evalue": "\u001b[91mMethodError: no method matching start(::Void)\u001b[0m\nClosest candidates are:\n  start(\u001b[91m::SimpleVector\u001b[39m) at essentials.jl:258\n  start(\u001b[91m::Base.MethodList\u001b[39m) at reflection.jl:560\n  start(\u001b[91m::ExponentialBackOff\u001b[39m) at error.jl:107\n  ...\u001b[39m",
     "output_type": "error",
     "traceback": [
      "\u001b[91mMethodError: no method matching start(::Void)\u001b[0m\nClosest candidates are:\n  start(\u001b[91m::SimpleVector\u001b[39m) at essentials.jl:258\n  start(\u001b[91m::Base.MethodList\u001b[39m) at reflection.jl:560\n  start(\u001b[91m::ExponentialBackOff\u001b[39m) at error.jl:107\n  ...\u001b[39m",
      "",
      "Stacktrace:",
      " [1] \u001b[1m#writedlm#18\u001b[22m\u001b[22m\u001b[1m(\u001b[22m\u001b[22m::Array{Any,1}, ::Function, ::IOStream, ::Void, ::Char\u001b[1m)\u001b[22m\u001b[22m at \u001b[1m./datafmt.jl:673\u001b[22m\u001b[22m",
      " [2] \u001b[1m#writedlm#22\u001b[22m\u001b[22m at \u001b[1m./datafmt.jl:698\u001b[22m\u001b[22m [inlined]",
      " [3] \u001b[1mwritedlm\u001b[22m\u001b[22m\u001b[1m(\u001b[22m\u001b[22m::IOStream, ::Void\u001b[1m)\u001b[22m\u001b[22m at \u001b[1m./datafmt.jl:698\u001b[22m\u001b[22m",
      " [4] \u001b[1mopen\u001b[22m\u001b[22m\u001b[1m(\u001b[22m\u001b[22m::##29#30, ::String, ::String\u001b[1m)\u001b[22m\u001b[22m at \u001b[1m./iostream.jl:152\u001b[22m\u001b[22m"
     ]
    }
   ],
   "source": [
    "adj_matrix, struct_adj_matrix = ferro_lattice(16,0.4,0.7,true)\n",
    "a = draw_periodic_lattice(adj_matrix,4,4,0.4,0.7,\"ferro_lattice_impurity_gm.eps\")\n",
    "open(\"delim_file.txt\", \"w\") do io\n",
    "   writedlm(io, a)\n",
    "end\n",
    "display(issymmetric(a))"
   ]
  },
  {
   "cell_type": "code",
   "execution_count": 39,
   "metadata": {},
   "outputs": [
    {
     "data": {
      "text/plain": [
       "16×16 SparseMatrixCSC{Float64,Int64} with 64 stored entries:\n",
       "  [2 ,  1]  =  0.7\n",
       "  [4 ,  1]  =  0.7\n",
       "  [5 ,  1]  =  0.7\n",
       "  [13,  1]  =  0.7\n",
       "  [1 ,  2]  =  0.7\n",
       "  [3 ,  2]  =  0.7\n",
       "  [6 ,  2]  =  0.7\n",
       "  [14,  2]  =  0.7\n",
       "  [2 ,  3]  =  0.7\n",
       "  [4 ,  3]  =  -0.4\n",
       "  ⋮\n",
       "  [10, 14]  =  0.7\n",
       "  [13, 14]  =  0.7\n",
       "  [15, 14]  =  0.7\n",
       "  [3 , 15]  =  0.7\n",
       "  [11, 15]  =  0.7\n",
       "  [14, 15]  =  0.7\n",
       "  [16, 15]  =  0.7\n",
       "  [4 , 16]  =  0.7\n",
       "  [12, 16]  =  0.7\n",
       "  [13, 16]  =  0.7\n",
       "  [15, 16]  =  0.7"
      ]
     },
     "execution_count": 39,
     "metadata": {},
     "output_type": "execute_result"
    }
   ],
   "source": [
    "sparse(adj_matrix)"
   ]
  },
  {
   "cell_type": "code",
   "execution_count": 18,
   "metadata": {},
   "outputs": [
    {
     "data": {
      "text/plain": [
       "draw_periodic_lattice (generic function with 1 method)"
      ]
     },
     "execution_count": 18,
     "metadata": {},
     "output_type": "execute_result"
    }
   ],
   "source": [
    "function draw_periodic_lattice(adj_matrix::Array, m::Integer, n::Integer, α::Real, β::Real)\n",
    "    # Get the graph that Junet can plot\n",
    "    adj_matrix_junet, struct_adj_matrix_junet = non_periodic_lattice(adj_matrix,m+2,n+2)\n",
    "    \n",
    "    # Create Junet Graph\n",
    "    gm = Junet.Graph(struct_adj_matrix_junet,directed=false)\n",
    "    \n",
    "    # Layout\n",
    "    N = nodecount(gm)\n",
    "    x = Array{Float64,1}(N)\n",
    "    y = Array{Float64,1}(N)\n",
    "    \n",
    "    node_map_gm = zeros(m+2,n+2)\n",
    "    node_map_gm[1:N] = 1:N\n",
    "    \n",
    "    for i=1:N\n",
    "        y[i], x[i] = ind2sub(node_map_gm,find(isequal(i),node_map_gm)[1])\n",
    "        if i in node_map_gm[:,1]\n",
    "            x[i] += 0.3\n",
    "        elseif i in node_map_gm[:,n+2]\n",
    "            x[i] += -0.3\n",
    "        elseif i in node_map_gm[1,:]\n",
    "            y[i] += +0.3\n",
    "        elseif i in node_map_gm[m+2,:]\n",
    "            y[i] += -0.3\n",
    "        end\n",
    "    end\n",
    "    \n",
    "    # Decide node border colors\n",
    "    node_border_colors_gm = Array{String,1}(N)\n",
    "    for i=1:N\n",
    "        if (i % (m+2) == 1) || (i % (m+2) == 0) || (i <= m+2) || (i >= (m+2)*(n+1))\n",
    "            node_border_colors_gm[i] = \"white\"\n",
    "        else\n",
    "            node_border_colors_gm[i] = \"black\"\n",
    "        end\n",
    "    end\n",
    "    \n",
    "    plot(gm, size=(300,300), layout=(x,y), node_color=\"white\", node_border_color=node_border_colors_gm,\n",
    "        node_border_width=2, edge_color=[edge_color_spin_glass_gm(i, adj_matrix_junet, α, β) for i = 1:edgecount(gm)], \n",
    "        edge_width=2)\n",
    "    \n",
    "    return adj_matrix_junet\n",
    "end"
   ]
  },
  {
   "cell_type": "code",
   "execution_count": 10,
   "metadata": {},
   "outputs": [
    {
     "data": {
      "text/plain": [
       "16×16 SparseMatrixCSC{Float64,Int64} with 32 stored entries:\n",
       "  [1 ,  2]  =  0.7\n",
       "  [2 ,  3]  =  0.7\n",
       "  [1 ,  4]  =  0.7\n",
       "  [3 ,  4]  =  -0.4\n",
       "  [1 ,  5]  =  0.7\n",
       "  [2 ,  6]  =  0.7\n",
       "  [5 ,  6]  =  0.7\n",
       "  [3 ,  7]  =  0.7\n",
       "  [6 ,  7]  =  0.7\n",
       "  [4 ,  8]  =  0.7\n",
       "  ⋮\n",
       "  [9 , 13]  =  0.7\n",
       "  [2 , 14]  =  0.7\n",
       "  [10, 14]  =  0.7\n",
       "  [13, 14]  =  0.7\n",
       "  [3 , 15]  =  0.7\n",
       "  [11, 15]  =  0.7\n",
       "  [14, 15]  =  0.7\n",
       "  [4 , 16]  =  0.7\n",
       "  [12, 16]  =  0.7\n",
       "  [13, 16]  =  0.7\n",
       "  [15, 16]  =  0.7"
      ]
     },
     "execution_count": 10,
     "metadata": {},
     "output_type": "execute_result"
    }
   ],
   "source": [
    "triu(sparse(adj_matrix))"
   ]
  },
  {
   "cell_type": "code",
   "execution_count": 2,
   "metadata": {},
   "outputs": [
    {
     "data": {
      "text/plain": [
       "get_M_opt_glauber_dynamics (generic function with 5 methods)"
      ]
     },
     "execution_count": 2,
     "metadata": {},
     "output_type": "execute_result"
    }
   ],
   "source": [
    "using GraphicalModelLearning\n",
    "using LightGraphs\n",
    "using Cairo\n",
    "using Junet\n",
    "\n",
    "include(\"beta_scaling.jl\")"
   ]
  },
  {
   "cell_type": "code",
   "execution_count": 3,
   "metadata": {},
   "outputs": [
    {
     "data": {
      "text/plain": [
       "0.7"
      ]
     },
     "execution_count": 3,
     "metadata": {},
     "output_type": "execute_result"
    }
   ],
   "source": [
    "N = 16\n",
    "d = 3\n",
    "α = 0.4\n",
    "β = 0.7"
   ]
  },
  {
   "cell_type": "code",
   "execution_count": 4,
   "metadata": {},
   "outputs": [
    {
     "data": {
      "image/svg+xml": [
       "<?xml version=\"1.0\" encoding=\"UTF-8\"?>\n",
       "<svg xmlns=\"http://www.w3.org/2000/svg\" xmlns:xlink=\"http://www.w3.org/1999/xlink\" width=\"300pt\" height=\"300pt\" viewBox=\"0 0 300 300\" version=\"1.1\">\n",
       "<g id=\"surface1\">\n",
       "<rect x=\"0\" y=\"0\" width=\"300\" height=\"300\" style=\"fill:rgb(100%,100%,100%);fill-opacity:1;stroke:none;\"/>\n",
       "<path style=\"fill:none;stroke-width:2;stroke-linecap:butt;stroke-linejoin:miter;stroke:rgb(100%,0%,0%);stroke-opacity:0.8;stroke-miterlimit:10;\" d=\"M 155.929688 125.523438 L 123.070312 109.476562 \"/>\n",
       "<path style=\"fill:none;stroke-width:2;stroke-linecap:butt;stroke-linejoin:miter;stroke:rgb(100%,0%,0%);stroke-opacity:0.8;stroke-miterlimit:10;\" d=\"M 161.285156 122.367188 L 165.714844 34.632812 \"/>\n",
       "<path style=\"fill:none;stroke-width:2;stroke-linecap:butt;stroke-linejoin:miter;stroke:rgb(100%,0%,0%);stroke-opacity:0.8;stroke-miterlimit:10;\" d=\"M 160.300781 133.597656 L 148.699219 226.402344 \"/>\n",
       "<path style=\"fill:none;stroke-width:2;stroke-linecap:butt;stroke-linejoin:miter;stroke:rgb(100%,0%,0%);stroke-opacity:0.8;stroke-miterlimit:10;\" d=\"M 221.789062 26.980469 L 265.210938 54.019531 \"/>\n",
       "<path style=\"fill:none;stroke-width:2;stroke-linecap:butt;stroke-linejoin:miter;stroke:rgb(100%,0%,0%);stroke-opacity:0.8;stroke-miterlimit:10;\" d=\"M 217.613281 29.609375 L 224.386719 91.390625 \"/>\n",
       "<path style=\"fill:none;stroke-width:2;stroke-linecap:butt;stroke-linejoin:miter;stroke:rgb(100%,0%,0%);stroke-opacity:0.8;stroke-miterlimit:10;\" d=\"M 211.746094 26.050781 L 117.253906 62.949219 \"/>\n",
       "<path style=\"fill:none;stroke-width:2;stroke-linecap:butt;stroke-linejoin:miter;stroke:rgb(100%,0%,0%);stroke-opacity:0.8;stroke-miterlimit:10;\" d=\"M 265.210938 54.019531 L 221.789062 26.980469 \"/>\n",
       "<path style=\"fill:none;stroke-width:2;stroke-linecap:butt;stroke-linejoin:miter;stroke:rgb(100%,0%,0%);stroke-opacity:0.8;stroke-miterlimit:10;\" d=\"M 270.535156 62.617188 L 279.464844 156.382812 \"/>\n",
       "<path style=\"fill:none;stroke-width:2;stroke-linecap:butt;stroke-linejoin:miter;stroke:rgb(100%,0%,0%);stroke-opacity:0.8;stroke-miterlimit:10;\" d=\"M 264.550781 55.535156 L 171.449219 30.464844 \"/>\n",
       "<path style=\"fill:none;stroke-width:2;stroke-linecap:butt;stroke-linejoin:miter;stroke:rgb(100%,0%,0%);stroke-opacity:0.8;stroke-miterlimit:10;\" d=\"M 279.464844 156.382812 L 270.535156 62.617188 \"/>\n",
       "<path style=\"fill:none;stroke-width:2;stroke-linecap:butt;stroke-linejoin:miter;stroke:rgb(0%,100%,100%);stroke-opacity:0.8;stroke-miterlimit:10;\" d=\"M 276.355469 157.691406 L 228.644531 101.308594 \"/>\n",
       "<path style=\"fill:none;stroke-width:2;stroke-linecap:butt;stroke-linejoin:miter;stroke:rgb(100%,0%,0%);stroke-opacity:0.8;stroke-miterlimit:10;\" d=\"M 276.945312 166.746094 L 218.054688 258.253906 \"/>\n",
       "<path style=\"fill:none;stroke-width:2;stroke-linecap:butt;stroke-linejoin:miter;stroke:rgb(100%,0%,0%);stroke-opacity:0.8;stroke-miterlimit:10;\" d=\"M 224.386719 91.390625 L 217.613281 29.609375 \"/>\n",
       "<path style=\"fill:none;stroke-width:2;stroke-linecap:butt;stroke-linejoin:miter;stroke:rgb(0%,100%,100%);stroke-opacity:0.8;stroke-miterlimit:10;\" d=\"M 228.644531 101.308594 L 276.355469 157.691406 \"/>\n",
       "<path style=\"fill:none;stroke-width:2;stroke-linecap:butt;stroke-linejoin:miter;stroke:rgb(100%,0%,0%);stroke-opacity:0.8;stroke-miterlimit:10;\" d=\"M 219.382812 97.523438 L 123.617188 106.476562 \"/>\n",
       "<path style=\"fill:none;stroke-width:2;stroke-linecap:butt;stroke-linejoin:miter;stroke:rgb(100%,0%,0%);stroke-opacity:0.8;stroke-miterlimit:10;\" d=\"M 99.640625 276.417969 L 24.359375 214.582031 \"/>\n",
       "<path style=\"fill:none;stroke-width:2;stroke-linecap:butt;stroke-linejoin:miter;stroke:rgb(100%,0%,0%);stroke-opacity:0.8;stroke-miterlimit:10;\" d=\"M 109.578125 279.144531 L 209.421875 263.855469 \"/>\n",
       "<path style=\"fill:none;stroke-width:2;stroke-linecap:butt;stroke-linejoin:miter;stroke:rgb(100%,0%,0%);stroke-opacity:0.8;stroke-miterlimit:10;\" d=\"M 107.8125 275.839844 L 144.1875 236.160156 \"/>\n",
       "<path style=\"fill:none;stroke-width:2;stroke-linecap:butt;stroke-linejoin:miter;stroke:rgb(100%,0%,0%);stroke-opacity:0.8;stroke-miterlimit:10;\" d=\"M 123.070312 109.476562 L 155.929688 125.523438 \"/>\n",
       "<path style=\"fill:none;stroke-width:2;stroke-linecap:butt;stroke-linejoin:miter;stroke:rgb(100%,0%,0%);stroke-opacity:0.8;stroke-miterlimit:10;\" d=\"M 123.617188 106.476562 L 219.382812 97.523438 \"/>\n",
       "<path style=\"fill:none;stroke-width:2;stroke-linecap:butt;stroke-linejoin:miter;stroke:rgb(100%,0%,0%);stroke-opacity:0.8;stroke-miterlimit:10;\" d=\"M 112.363281 107.230469 L 25.636719 110.769531 \"/>\n",
       "<path style=\"fill:none;stroke-width:2;stroke-linecap:butt;stroke-linejoin:miter;stroke:rgb(100%,0%,0%);stroke-opacity:0.8;stroke-miterlimit:10;\" d=\"M 24.359375 214.582031 L 99.640625 276.417969 \"/>\n",
       "<path style=\"fill:none;stroke-width:2;stroke-linecap:butt;stroke-linejoin:miter;stroke:rgb(100%,0%,0%);stroke-opacity:0.8;stroke-miterlimit:10;\" d=\"M 20 205.359375 L 20 116.640625 \"/>\n",
       "<path style=\"fill:none;stroke-width:2;stroke-linecap:butt;stroke-linejoin:miter;stroke:rgb(100%,0%,0%);stroke-opacity:0.8;stroke-miterlimit:10;\" d=\"M 25.167969 208.738281 L 78.832031 185.261719 \"/>\n",
       "<path style=\"fill:none;stroke-width:2;stroke-linecap:butt;stroke-linejoin:miter;stroke:rgb(100%,0%,0%);stroke-opacity:0.8;stroke-miterlimit:10;\" d=\"M 25.636719 110.769531 L 112.363281 107.230469 \"/>\n",
       "<path style=\"fill:none;stroke-width:2;stroke-linecap:butt;stroke-linejoin:miter;stroke:rgb(100%,0%,0%);stroke-opacity:0.8;stroke-miterlimit:10;\" d=\"M 20 116.640625 L 20 205.359375 \"/>\n",
       "<path style=\"fill:none;stroke-width:2;stroke-linecap:butt;stroke-linejoin:miter;stroke:rgb(100%,0%,0%);stroke-opacity:0.8;stroke-miterlimit:10;\" d=\"M 22.363281 105.878906 L 59.636719 25.121094 \"/>\n",
       "<path style=\"fill:none;stroke-width:2;stroke-linecap:butt;stroke-linejoin:miter;stroke:rgb(100%,0%,0%);stroke-opacity:0.8;stroke-miterlimit:10;\" d=\"M 117.253906 62.949219 L 211.746094 26.050781 \"/>\n",
       "<path style=\"fill:none;stroke-width:2;stroke-linecap:butt;stroke-linejoin:miter;stroke:rgb(100%,0%,0%);stroke-opacity:0.8;stroke-miterlimit:10;\" d=\"M 107.804688 61.226562 L 66.195312 23.773438 \"/>\n",
       "<path style=\"fill:none;stroke-width:2;stroke-linecap:butt;stroke-linejoin:miter;stroke:rgb(100%,0%,0%);stroke-opacity:0.8;stroke-miterlimit:10;\" d=\"M 110.699219 70.488281 L 85.300781 177.511719 \"/>\n",
       "<path style=\"fill:none;stroke-width:2;stroke-linecap:butt;stroke-linejoin:miter;stroke:rgb(100%,0%,0%);stroke-opacity:0.8;stroke-miterlimit:10;\" d=\"M 218.054688 258.253906 L 276.945312 166.746094 \"/>\n",
       "<path style=\"fill:none;stroke-width:2;stroke-linecap:butt;stroke-linejoin:miter;stroke:rgb(100%,0%,0%);stroke-opacity:0.8;stroke-miterlimit:10;\" d=\"M 209.421875 263.855469 L 109.578125 279.144531 \"/>\n",
       "<path style=\"fill:none;stroke-width:2;stroke-linecap:butt;stroke-linejoin:miter;stroke:rgb(100%,0%,0%);stroke-opacity:0.8;stroke-miterlimit:10;\" d=\"M 209.511719 264.308594 L 157.488281 276.691406 \"/>\n",
       "<path style=\"fill:none;stroke-width:2;stroke-linecap:butt;stroke-linejoin:miter;stroke:rgb(100%,0%,0%);stroke-opacity:0.8;stroke-miterlimit:10;\" d=\"M 157.488281 276.691406 L 209.511719 264.308594 \"/>\n",
       "<path style=\"fill:none;stroke-width:2;stroke-linecap:butt;stroke-linejoin:miter;stroke:rgb(100%,0%,0%);stroke-opacity:0.8;stroke-miterlimit:10;\" d=\"M 151.511719 272.378906 L 148.488281 237.621094 \"/>\n",
       "<path style=\"fill:none;stroke-width:2;stroke-linecap:butt;stroke-linejoin:miter;stroke:rgb(100%,0%,0%);stroke-opacity:0.8;stroke-miterlimit:10;\" d=\"M 148.714844 273.414062 L 87.285156 187.585938 \"/>\n",
       "<path style=\"fill:none;stroke-width:2;stroke-linecap:butt;stroke-linejoin:miter;stroke:rgb(100%,0%,0%);stroke-opacity:0.8;stroke-miterlimit:10;\" d=\"M 165.714844 34.632812 L 161.285156 122.367188 \"/>\n",
       "<path style=\"fill:none;stroke-width:2;stroke-linecap:butt;stroke-linejoin:miter;stroke:rgb(100%,0%,0%);stroke-opacity:0.8;stroke-miterlimit:10;\" d=\"M 171.449219 30.464844 L 264.550781 55.535156 \"/>\n",
       "<path style=\"fill:none;stroke-width:2;stroke-linecap:butt;stroke-linejoin:miter;stroke:rgb(100%,0%,0%);stroke-opacity:0.8;stroke-miterlimit:10;\" d=\"M 160.378906 28.511719 L 67.621094 20.488281 \"/>\n",
       "<path style=\"fill:none;stroke-width:2;stroke-linecap:butt;stroke-linejoin:miter;stroke:rgb(100%,0%,0%);stroke-opacity:0.8;stroke-miterlimit:10;\" d=\"M 148.699219 226.402344 L 160.300781 133.597656 \"/>\n",
       "<path style=\"fill:none;stroke-width:2;stroke-linecap:butt;stroke-linejoin:miter;stroke:rgb(100%,0%,0%);stroke-opacity:0.8;stroke-miterlimit:10;\" d=\"M 144.1875 236.160156 L 107.8125 275.839844 \"/>\n",
       "<path style=\"fill:none;stroke-width:2;stroke-linecap:butt;stroke-linejoin:miter;stroke:rgb(100%,0%,0%);stroke-opacity:0.8;stroke-miterlimit:10;\" d=\"M 148.488281 237.621094 L 151.511719 272.378906 \"/>\n",
       "<path style=\"fill:none;stroke-width:2;stroke-linecap:butt;stroke-linejoin:miter;stroke:rgb(100%,0%,0%);stroke-opacity:0.8;stroke-miterlimit:10;\" d=\"M 59.636719 25.121094 L 22.363281 105.878906 \"/>\n",
       "<path style=\"fill:none;stroke-width:2;stroke-linecap:butt;stroke-linejoin:miter;stroke:rgb(100%,0%,0%);stroke-opacity:0.8;stroke-miterlimit:10;\" d=\"M 66.195312 23.773438 L 107.804688 61.226562 \"/>\n",
       "<path style=\"fill:none;stroke-width:2;stroke-linecap:butt;stroke-linejoin:miter;stroke:rgb(100%,0%,0%);stroke-opacity:0.8;stroke-miterlimit:10;\" d=\"M 67.621094 20.488281 L 160.378906 28.511719 \"/>\n",
       "<path style=\"fill:none;stroke-width:2;stroke-linecap:butt;stroke-linejoin:miter;stroke:rgb(100%,0%,0%);stroke-opacity:0.8;stroke-miterlimit:10;\" d=\"M 78.832031 185.261719 L 25.167969 208.738281 \"/>\n",
       "<path style=\"fill:none;stroke-width:2;stroke-linecap:butt;stroke-linejoin:miter;stroke:rgb(100%,0%,0%);stroke-opacity:0.8;stroke-miterlimit:10;\" d=\"M 85.300781 177.511719 L 110.699219 70.488281 \"/>\n",
       "<path style=\"fill:none;stroke-width:2;stroke-linecap:butt;stroke-linejoin:miter;stroke:rgb(100%,0%,0%);stroke-opacity:0.8;stroke-miterlimit:10;\" d=\"M 87.285156 187.585938 L 148.714844 273.414062 \"/>\n",
       "<path style=\"fill-rule:nonzero;fill:rgb(100%,100%,100%);fill-opacity:0.8;stroke-width:2;stroke-linecap:butt;stroke-linejoin:miter;stroke:rgb(0%,0%,0%);stroke-opacity:0.8;stroke-miterlimit:10;\" d=\"M 166.640625 128 C 166.640625 131.117188 164.117188 133.640625 161 133.640625 C 157.882812 133.640625 155.359375 131.117188 155.359375 128 C 155.359375 124.882812 157.882812 122.359375 161 122.359375 C 164.117188 122.359375 166.640625 124.882812 166.640625 128 \"/>\n",
       "<path style=\"fill-rule:nonzero;fill:rgb(100%,100%,100%);fill-opacity:0.8;stroke-width:2;stroke-linecap:butt;stroke-linejoin:miter;stroke:rgb(0%,0%,0%);stroke-opacity:0.8;stroke-miterlimit:10;\" d=\"M 222.640625 24 C 222.640625 27.117188 220.117188 29.640625 217 29.640625 C 213.882812 29.640625 211.359375 27.117188 211.359375 24 C 211.359375 20.882812 213.882812 18.359375 217 18.359375 C 220.117188 18.359375 222.640625 20.882812 222.640625 24 \"/>\n",
       "<path style=\"fill-rule:nonzero;fill:rgb(100%,100%,100%);fill-opacity:0.8;stroke-width:2;stroke-linecap:butt;stroke-linejoin:miter;stroke:rgb(0%,0%,0%);stroke-opacity:0.8;stroke-miterlimit:10;\" d=\"M 275.640625 57 C 275.640625 60.117188 273.117188 62.640625 270 62.640625 C 266.882812 62.640625 264.359375 60.117188 264.359375 57 C 264.359375 53.882812 266.882812 51.359375 270 51.359375 C 273.117188 51.359375 275.640625 53.882812 275.640625 57 \"/>\n",
       "<path style=\"fill-rule:nonzero;fill:rgb(100%,100%,100%);fill-opacity:0.8;stroke-width:2;stroke-linecap:butt;stroke-linejoin:miter;stroke:rgb(0%,0%,0%);stroke-opacity:0.8;stroke-miterlimit:10;\" d=\"M 285.640625 162 C 285.640625 165.117188 283.117188 167.640625 280 167.640625 C 276.882812 167.640625 274.359375 165.117188 274.359375 162 C 274.359375 158.882812 276.882812 156.359375 280 156.359375 C 283.117188 156.359375 285.640625 158.882812 285.640625 162 \"/>\n",
       "<path style=\"fill-rule:nonzero;fill:rgb(100%,100%,100%);fill-opacity:0.8;stroke-width:2;stroke-linecap:butt;stroke-linejoin:miter;stroke:rgb(0%,0%,0%);stroke-opacity:0.8;stroke-miterlimit:10;\" d=\"M 230.640625 97 C 230.640625 100.117188 228.117188 102.640625 225 102.640625 C 221.882812 102.640625 219.359375 100.117188 219.359375 97 C 219.359375 93.882812 221.882812 91.359375 225 91.359375 C 228.117188 91.359375 230.640625 93.882812 230.640625 97 \"/>\n",
       "<path style=\"fill-rule:nonzero;fill:rgb(100%,100%,100%);fill-opacity:0.8;stroke-width:2;stroke-linecap:butt;stroke-linejoin:miter;stroke:rgb(0%,0%,0%);stroke-opacity:0.8;stroke-miterlimit:10;\" d=\"M 109.640625 280 C 109.640625 283.117188 107.117188 285.640625 104 285.640625 C 100.882812 285.640625 98.359375 283.117188 98.359375 280 C 98.359375 276.882812 100.882812 274.359375 104 274.359375 C 107.117188 274.359375 109.640625 276.882812 109.640625 280 \"/>\n",
       "<path style=\"fill-rule:nonzero;fill:rgb(100%,100%,100%);fill-opacity:0.8;stroke-width:2;stroke-linecap:butt;stroke-linejoin:miter;stroke:rgb(0%,0%,0%);stroke-opacity:0.8;stroke-miterlimit:10;\" d=\"M 123.640625 107 C 123.640625 110.117188 121.117188 112.640625 118 112.640625 C 114.882812 112.640625 112.359375 110.117188 112.359375 107 C 112.359375 103.882812 114.882812 101.359375 118 101.359375 C 121.117188 101.359375 123.640625 103.882812 123.640625 107 \"/>\n",
       "<path style=\"fill-rule:nonzero;fill:rgb(100%,100%,100%);fill-opacity:0.8;stroke-width:2;stroke-linecap:butt;stroke-linejoin:miter;stroke:rgb(0%,0%,0%);stroke-opacity:0.8;stroke-miterlimit:10;\" d=\"M 25.640625 211 C 25.640625 214.117188 23.117188 216.640625 20 216.640625 C 16.882812 216.640625 14.359375 214.117188 14.359375 211 C 14.359375 207.882812 16.882812 205.359375 20 205.359375 C 23.117188 205.359375 25.640625 207.882812 25.640625 211 \"/>\n",
       "<path style=\"fill-rule:nonzero;fill:rgb(100%,100%,100%);fill-opacity:0.8;stroke-width:2;stroke-linecap:butt;stroke-linejoin:miter;stroke:rgb(0%,0%,0%);stroke-opacity:0.8;stroke-miterlimit:10;\" d=\"M 25.640625 111 C 25.640625 114.117188 23.117188 116.640625 20 116.640625 C 16.882812 116.640625 14.359375 114.117188 14.359375 111 C 14.359375 107.882812 16.882812 105.359375 20 105.359375 C 23.117188 105.359375 25.640625 107.882812 25.640625 111 \"/>\n",
       "<path style=\"fill-rule:nonzero;fill:rgb(100%,100%,100%);fill-opacity:0.8;stroke-width:2;stroke-linecap:butt;stroke-linejoin:miter;stroke:rgb(0%,0%,0%);stroke-opacity:0.8;stroke-miterlimit:10;\" d=\"M 117.640625 65 C 117.640625 68.117188 115.117188 70.640625 112 70.640625 C 108.882812 70.640625 106.359375 68.117188 106.359375 65 C 106.359375 61.882812 108.882812 59.359375 112 59.359375 C 115.117188 59.359375 117.640625 61.882812 117.640625 65 \"/>\n",
       "<path style=\"fill-rule:nonzero;fill:rgb(100%,100%,100%);fill-opacity:0.8;stroke-width:2;stroke-linecap:butt;stroke-linejoin:miter;stroke:rgb(0%,0%,0%);stroke-opacity:0.8;stroke-miterlimit:10;\" d=\"M 220.640625 263 C 220.640625 266.117188 218.117188 268.640625 215 268.640625 C 211.882812 268.640625 209.359375 266.117188 209.359375 263 C 209.359375 259.882812 211.882812 257.359375 215 257.359375 C 218.117188 257.359375 220.640625 259.882812 220.640625 263 \"/>\n",
       "<path style=\"fill-rule:nonzero;fill:rgb(100%,100%,100%);fill-opacity:0.8;stroke-width:2;stroke-linecap:butt;stroke-linejoin:miter;stroke:rgb(0%,0%,0%);stroke-opacity:0.8;stroke-miterlimit:10;\" d=\"M 157.640625 278 C 157.640625 281.117188 155.117188 283.640625 152 283.640625 C 148.882812 283.640625 146.359375 281.117188 146.359375 278 C 146.359375 274.882812 148.882812 272.359375 152 272.359375 C 155.117188 272.359375 157.640625 274.882812 157.640625 278 \"/>\n",
       "<path style=\"fill-rule:nonzero;fill:rgb(100%,100%,100%);fill-opacity:0.8;stroke-width:2;stroke-linecap:butt;stroke-linejoin:miter;stroke:rgb(0%,0%,0%);stroke-opacity:0.8;stroke-miterlimit:10;\" d=\"M 171.640625 29 C 171.640625 32.117188 169.117188 34.640625 166 34.640625 C 162.882812 34.640625 160.359375 32.117188 160.359375 29 C 160.359375 25.882812 162.882812 23.359375 166 23.359375 C 169.117188 23.359375 171.640625 25.882812 171.640625 29 \"/>\n",
       "<path style=\"fill-rule:nonzero;fill:rgb(100%,100%,100%);fill-opacity:0.8;stroke-width:2;stroke-linecap:butt;stroke-linejoin:miter;stroke:rgb(0%,0%,0%);stroke-opacity:0.8;stroke-miterlimit:10;\" d=\"M 153.640625 232 C 153.640625 235.117188 151.117188 237.640625 148 237.640625 C 144.882812 237.640625 142.359375 235.117188 142.359375 232 C 142.359375 228.882812 144.882812 226.359375 148 226.359375 C 151.117188 226.359375 153.640625 228.882812 153.640625 232 \"/>\n",
       "<path style=\"fill-rule:nonzero;fill:rgb(100%,100%,100%);fill-opacity:0.8;stroke-width:2;stroke-linecap:butt;stroke-linejoin:miter;stroke:rgb(0%,0%,0%);stroke-opacity:0.8;stroke-miterlimit:10;\" d=\"M 67.640625 20 C 67.640625 23.117188 65.117188 25.640625 62 25.640625 C 58.882812 25.640625 56.359375 23.117188 56.359375 20 C 56.359375 16.882812 58.882812 14.359375 62 14.359375 C 65.117188 14.359375 67.640625 16.882812 67.640625 20 \"/>\n",
       "<path style=\"fill-rule:nonzero;fill:rgb(100%,100%,100%);fill-opacity:0.8;stroke-width:2;stroke-linecap:butt;stroke-linejoin:miter;stroke:rgb(0%,0%,0%);stroke-opacity:0.8;stroke-miterlimit:10;\" d=\"M 89.640625 183 C 89.640625 186.117188 87.117188 188.640625 84 188.640625 C 80.882812 188.640625 78.359375 186.117188 78.359375 183 C 78.359375 179.882812 80.882812 177.359375 84 177.359375 C 87.117188 177.359375 89.640625 179.882812 89.640625 183 \"/>\n",
       "</g>\n",
       "</svg>\n"
      ]
     },
     "metadata": {},
     "output_type": "display_data"
    }
   ],
   "source": [
    "adj_matrix, struct_adj_matrix = ferro_random_regular_model(N,d,α,β,true)\n",
    "gm = Junet.Graph(struct_adj_matrix,directed=false)\n",
    "\n",
    "plot(gm, size=(300,300), layout=layout_fruchterman_reingold(gm), node_color=\"white\", node_border_color=\"black\",\n",
    "    node_border_width=2, edge_color=[edge_color_gm(i, adj_matrix, α, β) for i = 1:edgecount(gm)],\n",
    "    edge_width=2)"
   ]
  },
  {
   "cell_type": "code",
   "execution_count": 6,
   "metadata": {},
   "outputs": [
    {
     "data": {
      "image/svg+xml": [
       "<?xml version=\"1.0\" encoding=\"UTF-8\"?>\n",
       "<svg xmlns=\"http://www.w3.org/2000/svg\" xmlns:xlink=\"http://www.w3.org/1999/xlink\" width=\"300pt\" height=\"300pt\" viewBox=\"0 0 300 300\" version=\"1.1\">\n",
       "<g id=\"surface5\">\n",
       "<rect x=\"0\" y=\"0\" width=\"300\" height=\"300\" style=\"fill:rgb(100%,100%,100%);fill-opacity:1;stroke:none;\"/>\n",
       "<path style=\"fill:none;stroke-width:2;stroke-linecap:butt;stroke-linejoin:miter;stroke:rgb(0%,0%,100%);stroke-opacity:0.8;stroke-miterlimit:10;\" d=\"M 255.722656 245.058594 L 277.277344 205.941406 \"/>\n",
       "<path style=\"fill:none;stroke-width:2;stroke-linecap:butt;stroke-linejoin:miter;stroke:rgb(100%,0%,0%);stroke-opacity:0.8;stroke-miterlimit:10;\" d=\"M 247.90625 252.425781 L 195.09375 277.574219 \"/>\n",
       "<path style=\"fill:none;stroke-width:2;stroke-linecap:butt;stroke-linejoin:miter;stroke:rgb(100%,0%,0%);stroke-opacity:0.8;stroke-miterlimit:10;\" d=\"M 253.148438 244.359375 L 255.851562 140.640625 \"/>\n",
       "<path style=\"fill:none;stroke-width:2;stroke-linecap:butt;stroke-linejoin:miter;stroke:rgb(0%,0%,100%);stroke-opacity:0.8;stroke-miterlimit:10;\" d=\"M 71.484375 83.421875 L 100.515625 105.578125 \"/>\n",
       "<path style=\"fill:none;stroke-width:2;stroke-linecap:butt;stroke-linejoin:miter;stroke:rgb(100%,0%,0%);stroke-opacity:0.8;stroke-miterlimit:10;\" d=\"M 63.945312 84.742188 L 23.054688 148.257812 \"/>\n",
       "<path style=\"fill:none;stroke-width:2;stroke-linecap:butt;stroke-linejoin:miter;stroke:rgb(100%,0%,0%);stroke-opacity:0.8;stroke-miterlimit:10;\" d=\"M 70.773438 75.804688 L 117.226562 24.195312 \"/>\n",
       "<path style=\"fill:none;stroke-width:2;stroke-linecap:butt;stroke-linejoin:miter;stroke:rgb(100%,0%,0%);stroke-opacity:0.8;stroke-miterlimit:10;\" d=\"M 163.886719 206.316406 L 188.113281 274.683594 \"/>\n",
       "<path style=\"fill:none;stroke-width:2;stroke-linecap:butt;stroke-linejoin:miter;stroke:rgb(100%,0%,0%);stroke-opacity:0.8;stroke-miterlimit:10;\" d=\"M 167.636719 200.804688 L 214.363281 199.195312 \"/>\n",
       "<path style=\"fill:none;stroke-width:2;stroke-linecap:butt;stroke-linejoin:miter;stroke:rgb(0%,0%,100%);stroke-opacity:0.8;stroke-miterlimit:10;\" d=\"M 159.027344 196.203125 L 107.972656 113.796875 \"/>\n",
       "<path style=\"fill:none;stroke-width:2;stroke-linecap:butt;stroke-linejoin:miter;stroke:rgb(0%,0%,100%);stroke-opacity:0.8;stroke-miterlimit:10;\" d=\"M 277.277344 205.941406 L 255.722656 245.058594 \"/>\n",
       "<path style=\"fill:none;stroke-width:2;stroke-linecap:butt;stroke-linejoin:miter;stroke:rgb(100%,0%,0%);stroke-opacity:0.8;stroke-miterlimit:10;\" d=\"M 274.359375 200.8125 L 225.640625 199.1875 \"/>\n",
       "<path style=\"fill:none;stroke-width:2;stroke-linecap:butt;stroke-linejoin:miter;stroke:rgb(100%,0%,0%);stroke-opacity:0.8;stroke-miterlimit:10;\" d=\"M 278.070312 195.699219 L 257.929688 140.300781 \"/>\n",
       "<path style=\"fill:none;stroke-width:2;stroke-linecap:butt;stroke-linejoin:miter;stroke:rgb(100%,0%,0%);stroke-opacity:0.8;stroke-miterlimit:10;\" d=\"M 133.894531 247.808594 L 185.105469 277.191406 \"/>\n",
       "<path style=\"fill:none;stroke-width:2;stroke-linecap:butt;stroke-linejoin:miter;stroke:rgb(100%,0%,0%);stroke-opacity:0.8;stroke-miterlimit:10;\" d=\"M 132.117188 240.296875 L 180.882812 166.703125 \"/>\n",
       "<path style=\"fill:none;stroke-width:2;stroke-linecap:butt;stroke-linejoin:miter;stroke:rgb(100%,0%,0%);stroke-opacity:0.8;stroke-miterlimit:10;\" d=\"M 124.011719 242.367188 L 61.988281 209.632812 \"/>\n",
       "<path style=\"fill:none;stroke-width:2;stroke-linecap:butt;stroke-linejoin:miter;stroke:rgb(100%,0%,0%);stroke-opacity:0.8;stroke-miterlimit:10;\" d=\"M 25.367188 105.605469 L 20.632812 147.394531 \"/>\n",
       "<path style=\"fill:none;stroke-width:2;stroke-linecap:butt;stroke-linejoin:miter;stroke:rgb(0%,0%,100%);stroke-opacity:0.8;stroke-miterlimit:10;\" d=\"M 29.039062 95.246094 L 68.960938 32.753906 \"/>\n",
       "<path style=\"fill:none;stroke-width:2;stroke-linecap:butt;stroke-linejoin:miter;stroke:rgb(100%,0%,0%);stroke-opacity:0.8;stroke-miterlimit:10;\" d=\"M 27.570312 105.417969 L 55.429688 201.582031 \"/>\n",
       "<path style=\"fill:none;stroke-width:2;stroke-linecap:butt;stroke-linejoin:miter;stroke:rgb(0%,0%,100%);stroke-opacity:0.8;stroke-miterlimit:10;\" d=\"M 198.738281 70.226562 L 252.261719 130.773438 \"/>\n",
       "<path style=\"fill:none;stroke-width:2;stroke-linecap:butt;stroke-linejoin:miter;stroke:rgb(100%,0%,0%);stroke-opacity:0.8;stroke-miterlimit:10;\" d=\"M 194.359375 71.605469 L 184.640625 156.394531 \"/>\n",
       "<path style=\"fill:none;stroke-width:2;stroke-linecap:butt;stroke-linejoin:miter;stroke:rgb(0%,0%,100%);stroke-opacity:0.8;stroke-miterlimit:10;\" d=\"M 190.207031 63.019531 L 125.792969 22.980469 \"/>\n",
       "<path style=\"fill:none;stroke-width:2;stroke-linecap:butt;stroke-linejoin:miter;stroke:rgb(100%,0%,0%);stroke-opacity:0.8;stroke-miterlimit:10;\" d=\"M 195.09375 277.574219 L 247.90625 252.425781 \"/>\n",
       "<path style=\"fill:none;stroke-width:2;stroke-linecap:butt;stroke-linejoin:miter;stroke:rgb(100%,0%,0%);stroke-opacity:0.8;stroke-miterlimit:10;\" d=\"M 188.113281 274.683594 L 163.886719 206.316406 \"/>\n",
       "<path style=\"fill:none;stroke-width:2;stroke-linecap:butt;stroke-linejoin:miter;stroke:rgb(100%,0%,0%);stroke-opacity:0.8;stroke-miterlimit:10;\" d=\"M 185.105469 277.191406 L 133.894531 247.808594 \"/>\n",
       "<path style=\"fill:none;stroke-width:2;stroke-linecap:butt;stroke-linejoin:miter;stroke:rgb(100%,0%,0%);stroke-opacity:0.8;stroke-miterlimit:10;\" d=\"M 214.363281 199.195312 L 167.636719 200.804688 \"/>\n",
       "<path style=\"fill:none;stroke-width:2;stroke-linecap:butt;stroke-linejoin:miter;stroke:rgb(100%,0%,0%);stroke-opacity:0.8;stroke-miterlimit:10;\" d=\"M 225.640625 199.1875 L 274.359375 200.8125 \"/>\n",
       "<path style=\"fill:none;stroke-width:2;stroke-linecap:butt;stroke-linejoin:miter;stroke:rgb(0%,0%,100%);stroke-opacity:0.8;stroke-miterlimit:10;\" d=\"M 216.066406 194.957031 L 187.933594 166.042969 \"/>\n",
       "<path style=\"fill:none;stroke-width:2;stroke-linecap:butt;stroke-linejoin:miter;stroke:rgb(0%,0%,100%);stroke-opacity:0.8;stroke-miterlimit:10;\" d=\"M 100.515625 105.578125 L 71.484375 83.421875 \"/>\n",
       "<path style=\"fill:none;stroke-width:2;stroke-linecap:butt;stroke-linejoin:miter;stroke:rgb(0%,0%,100%);stroke-opacity:0.8;stroke-miterlimit:10;\" d=\"M 107.972656 113.796875 L 159.027344 196.203125 \"/>\n",
       "<path style=\"fill:none;stroke-width:2;stroke-linecap:butt;stroke-linejoin:miter;stroke:rgb(0%,0%,100%);stroke-opacity:0.8;stroke-miterlimit:10;\" d=\"M 102.871094 103.773438 L 74.128906 33.226562 \"/>\n",
       "<path style=\"fill:none;stroke-width:2;stroke-linecap:butt;stroke-linejoin:miter;stroke:rgb(100%,0%,0%);stroke-opacity:0.8;stroke-miterlimit:10;\" d=\"M 255.851562 140.640625 L 253.148438 244.359375 \"/>\n",
       "<path style=\"fill:none;stroke-width:2;stroke-linecap:butt;stroke-linejoin:miter;stroke:rgb(100%,0%,0%);stroke-opacity:0.8;stroke-miterlimit:10;\" d=\"M 257.929688 140.300781 L 278.070312 195.699219 \"/>\n",
       "<path style=\"fill:none;stroke-width:2;stroke-linecap:butt;stroke-linejoin:miter;stroke:rgb(0%,0%,100%);stroke-opacity:0.8;stroke-miterlimit:10;\" d=\"M 252.261719 130.773438 L 198.738281 70.226562 \"/>\n",
       "<path style=\"fill:none;stroke-width:2;stroke-linecap:butt;stroke-linejoin:miter;stroke:rgb(100%,0%,0%);stroke-opacity:0.8;stroke-miterlimit:10;\" d=\"M 180.882812 166.703125 L 132.117188 240.296875 \"/>\n",
       "<path style=\"fill:none;stroke-width:2;stroke-linecap:butt;stroke-linejoin:miter;stroke:rgb(100%,0%,0%);stroke-opacity:0.8;stroke-miterlimit:10;\" d=\"M 184.640625 156.394531 L 194.359375 71.605469 \"/>\n",
       "<path style=\"fill:none;stroke-width:2;stroke-linecap:butt;stroke-linejoin:miter;stroke:rgb(0%,0%,100%);stroke-opacity:0.8;stroke-miterlimit:10;\" d=\"M 187.933594 166.042969 L 216.066406 194.957031 \"/>\n",
       "<path style=\"fill:none;stroke-width:2;stroke-linecap:butt;stroke-linejoin:miter;stroke:rgb(100%,0%,0%);stroke-opacity:0.8;stroke-miterlimit:10;\" d=\"M 23.054688 148.257812 L 63.945312 84.742188 \"/>\n",
       "<path style=\"fill:none;stroke-width:2;stroke-linecap:butt;stroke-linejoin:miter;stroke:rgb(100%,0%,0%);stroke-opacity:0.8;stroke-miterlimit:10;\" d=\"M 20.632812 147.394531 L 25.367188 105.605469 \"/>\n",
       "<path style=\"fill:none;stroke-width:2;stroke-linecap:butt;stroke-linejoin:miter;stroke:rgb(100%,64.705882%,0%);stroke-opacity:0.8;stroke-miterlimit:10;\" d=\"M 23.1875 157.652344 L 53.8125 202.347656 \"/>\n",
       "<path style=\"fill:none;stroke-width:2;stroke-linecap:butt;stroke-linejoin:miter;stroke:rgb(100%,0%,0%);stroke-opacity:0.8;stroke-miterlimit:10;\" d=\"M 117.226562 24.195312 L 70.773438 75.804688 \"/>\n",
       "<path style=\"fill:none;stroke-width:2;stroke-linecap:butt;stroke-linejoin:miter;stroke:rgb(0%,0%,100%);stroke-opacity:0.8;stroke-miterlimit:10;\" d=\"M 125.792969 22.980469 L 190.207031 63.019531 \"/>\n",
       "<path style=\"fill:none;stroke-width:2;stroke-linecap:butt;stroke-linejoin:miter;stroke:rgb(0%,100%,100%);stroke-opacity:0.8;stroke-miterlimit:10;\" d=\"M 115.433594 20.910156 L 77.566406 27.089844 \"/>\n",
       "<path style=\"fill:none;stroke-width:2;stroke-linecap:butt;stroke-linejoin:miter;stroke:rgb(0%,0%,100%);stroke-opacity:0.8;stroke-miterlimit:10;\" d=\"M 68.960938 32.753906 L 29.039062 95.246094 \"/>\n",
       "<path style=\"fill:none;stroke-width:2;stroke-linecap:butt;stroke-linejoin:miter;stroke:rgb(0%,0%,100%);stroke-opacity:0.8;stroke-miterlimit:10;\" d=\"M 74.128906 33.226562 L 102.871094 103.773438 \"/>\n",
       "<path style=\"fill:none;stroke-width:2;stroke-linecap:butt;stroke-linejoin:miter;stroke:rgb(0%,100%,100%);stroke-opacity:0.8;stroke-miterlimit:10;\" d=\"M 77.566406 27.089844 L 115.433594 20.910156 \"/>\n",
       "<path style=\"fill:none;stroke-width:2;stroke-linecap:butt;stroke-linejoin:miter;stroke:rgb(100%,0%,0%);stroke-opacity:0.8;stroke-miterlimit:10;\" d=\"M 61.988281 209.632812 L 124.011719 242.367188 \"/>\n",
       "<path style=\"fill:none;stroke-width:2;stroke-linecap:butt;stroke-linejoin:miter;stroke:rgb(100%,0%,0%);stroke-opacity:0.8;stroke-miterlimit:10;\" d=\"M 55.429688 201.582031 L 27.570312 105.417969 \"/>\n",
       "<path style=\"fill:none;stroke-width:2;stroke-linecap:butt;stroke-linejoin:miter;stroke:rgb(100%,64.705882%,0%);stroke-opacity:0.8;stroke-miterlimit:10;\" d=\"M 53.8125 202.347656 L 23.1875 157.652344 \"/>\n",
       "<path style=\"fill-rule:nonzero;fill:rgb(100%,100%,100%);fill-opacity:0.8;stroke-width:2;stroke-linecap:butt;stroke-linejoin:miter;stroke:rgb(0%,0%,0%);stroke-opacity:0.8;stroke-miterlimit:10;\" d=\"M 258.640625 250 C 258.640625 253.117188 256.117188 255.640625 253 255.640625 C 249.882812 255.640625 247.359375 253.117188 247.359375 250 C 247.359375 246.882812 249.882812 244.359375 253 244.359375 C 256.117188 244.359375 258.640625 246.882812 258.640625 250 \"/>\n",
       "<path style=\"fill-rule:nonzero;fill:rgb(100%,100%,100%);fill-opacity:0.8;stroke-width:2;stroke-linecap:butt;stroke-linejoin:miter;stroke:rgb(0%,0%,0%);stroke-opacity:0.8;stroke-miterlimit:10;\" d=\"M 72.640625 80 C 72.640625 83.117188 70.117188 85.640625 67 85.640625 C 63.882812 85.640625 61.359375 83.117188 61.359375 80 C 61.359375 76.882812 63.882812 74.359375 67 74.359375 C 70.117188 74.359375 72.640625 76.882812 72.640625 80 \"/>\n",
       "<path style=\"fill-rule:nonzero;fill:rgb(100%,100%,100%);fill-opacity:0.8;stroke-width:2;stroke-linecap:butt;stroke-linejoin:miter;stroke:rgb(0%,0%,0%);stroke-opacity:0.8;stroke-miterlimit:10;\" d=\"M 167.640625 201 C 167.640625 204.117188 165.117188 206.640625 162 206.640625 C 158.882812 206.640625 156.359375 204.117188 156.359375 201 C 156.359375 197.882812 158.882812 195.359375 162 195.359375 C 165.117188 195.359375 167.640625 197.882812 167.640625 201 \"/>\n",
       "<path style=\"fill-rule:nonzero;fill:rgb(100%,100%,100%);fill-opacity:0.8;stroke-width:2;stroke-linecap:butt;stroke-linejoin:miter;stroke:rgb(0%,0%,0%);stroke-opacity:0.8;stroke-miterlimit:10;\" d=\"M 285.640625 201 C 285.640625 204.117188 283.117188 206.640625 280 206.640625 C 276.882812 206.640625 274.359375 204.117188 274.359375 201 C 274.359375 197.882812 276.882812 195.359375 280 195.359375 C 283.117188 195.359375 285.640625 197.882812 285.640625 201 \"/>\n",
       "<path style=\"fill-rule:nonzero;fill:rgb(100%,100%,100%);fill-opacity:0.8;stroke-width:2;stroke-linecap:butt;stroke-linejoin:miter;stroke:rgb(0%,0%,0%);stroke-opacity:0.8;stroke-miterlimit:10;\" d=\"M 134.640625 245 C 134.640625 248.117188 132.117188 250.640625 129 250.640625 C 125.882812 250.640625 123.359375 248.117188 123.359375 245 C 123.359375 241.882812 125.882812 239.359375 129 239.359375 C 132.117188 239.359375 134.640625 241.882812 134.640625 245 \"/>\n",
       "<path style=\"fill-rule:nonzero;fill:rgb(100%,100%,100%);fill-opacity:0.8;stroke-width:2;stroke-linecap:butt;stroke-linejoin:miter;stroke:rgb(0%,0%,0%);stroke-opacity:0.8;stroke-miterlimit:10;\" d=\"M 31.640625 100 C 31.640625 103.117188 29.117188 105.640625 26 105.640625 C 22.882812 105.640625 20.359375 103.117188 20.359375 100 C 20.359375 96.882812 22.882812 94.359375 26 94.359375 C 29.117188 94.359375 31.640625 96.882812 31.640625 100 \"/>\n",
       "<path style=\"fill-rule:nonzero;fill:rgb(100%,100%,100%);fill-opacity:0.8;stroke-width:2;stroke-linecap:butt;stroke-linejoin:miter;stroke:rgb(0%,0%,0%);stroke-opacity:0.8;stroke-miterlimit:10;\" d=\"M 200.640625 66 C 200.640625 69.117188 198.117188 71.640625 195 71.640625 C 191.882812 71.640625 189.359375 69.117188 189.359375 66 C 189.359375 62.882812 191.882812 60.359375 195 60.359375 C 198.117188 60.359375 200.640625 62.882812 200.640625 66 \"/>\n",
       "<path style=\"fill-rule:nonzero;fill:rgb(100%,100%,100%);fill-opacity:0.8;stroke-width:2;stroke-linecap:butt;stroke-linejoin:miter;stroke:rgb(0%,0%,0%);stroke-opacity:0.8;stroke-miterlimit:10;\" d=\"M 195.640625 280 C 195.640625 283.117188 193.117188 285.640625 190 285.640625 C 186.882812 285.640625 184.359375 283.117188 184.359375 280 C 184.359375 276.882812 186.882812 274.359375 190 274.359375 C 193.117188 274.359375 195.640625 276.882812 195.640625 280 \"/>\n",
       "<path style=\"fill-rule:nonzero;fill:rgb(100%,100%,100%);fill-opacity:0.8;stroke-width:2;stroke-linecap:butt;stroke-linejoin:miter;stroke:rgb(0%,0%,0%);stroke-opacity:0.8;stroke-miterlimit:10;\" d=\"M 225.640625 199 C 225.640625 202.117188 223.117188 204.640625 220 204.640625 C 216.882812 204.640625 214.359375 202.117188 214.359375 199 C 214.359375 195.882812 216.882812 193.359375 220 193.359375 C 223.117188 193.359375 225.640625 195.882812 225.640625 199 \"/>\n",
       "<path style=\"fill-rule:nonzero;fill:rgb(100%,100%,100%);fill-opacity:0.8;stroke-width:2;stroke-linecap:butt;stroke-linejoin:miter;stroke:rgb(0%,0%,0%);stroke-opacity:0.8;stroke-miterlimit:10;\" d=\"M 110.640625 109 C 110.640625 112.117188 108.117188 114.640625 105 114.640625 C 101.882812 114.640625 99.359375 112.117188 99.359375 109 C 99.359375 105.882812 101.882812 103.359375 105 103.359375 C 108.117188 103.359375 110.640625 105.882812 110.640625 109 \"/>\n",
       "<path style=\"fill-rule:nonzero;fill:rgb(100%,100%,100%);fill-opacity:0.8;stroke-width:2;stroke-linecap:butt;stroke-linejoin:miter;stroke:rgb(0%,0%,0%);stroke-opacity:0.8;stroke-miterlimit:10;\" d=\"M 261.640625 135 C 261.640625 138.117188 259.117188 140.640625 256 140.640625 C 252.882812 140.640625 250.359375 138.117188 250.359375 135 C 250.359375 131.882812 252.882812 129.359375 256 129.359375 C 259.117188 129.359375 261.640625 131.882812 261.640625 135 \"/>\n",
       "<path style=\"fill-rule:nonzero;fill:rgb(100%,100%,100%);fill-opacity:0.8;stroke-width:2;stroke-linecap:butt;stroke-linejoin:miter;stroke:rgb(0%,0%,0%);stroke-opacity:0.8;stroke-miterlimit:10;\" d=\"M 189.640625 162 C 189.640625 165.117188 187.117188 167.640625 184 167.640625 C 180.882812 167.640625 178.359375 165.117188 178.359375 162 C 178.359375 158.882812 180.882812 156.359375 184 156.359375 C 187.117188 156.359375 189.640625 158.882812 189.640625 162 \"/>\n",
       "<path style=\"fill-rule:nonzero;fill:rgb(100%,100%,100%);fill-opacity:0.8;stroke-width:2;stroke-linecap:butt;stroke-linejoin:miter;stroke:rgb(0%,0%,0%);stroke-opacity:0.8;stroke-miterlimit:10;\" d=\"M 25.640625 153 C 25.640625 156.117188 23.117188 158.640625 20 158.640625 C 16.882812 158.640625 14.359375 156.117188 14.359375 153 C 14.359375 149.882812 16.882812 147.359375 20 147.359375 C 23.117188 147.359375 25.640625 149.882812 25.640625 153 \"/>\n",
       "<path style=\"fill-rule:nonzero;fill:rgb(100%,100%,100%);fill-opacity:0.8;stroke-width:2;stroke-linecap:butt;stroke-linejoin:miter;stroke:rgb(0%,0%,0%);stroke-opacity:0.8;stroke-miterlimit:10;\" d=\"M 126.640625 20 C 126.640625 23.117188 124.117188 25.640625 121 25.640625 C 117.882812 25.640625 115.359375 23.117188 115.359375 20 C 115.359375 16.882812 117.882812 14.359375 121 14.359375 C 124.117188 14.359375 126.640625 16.882812 126.640625 20 \"/>\n",
       "<path style=\"fill-rule:nonzero;fill:rgb(100%,100%,100%);fill-opacity:0.8;stroke-width:2;stroke-linecap:butt;stroke-linejoin:miter;stroke:rgb(0%,0%,0%);stroke-opacity:0.8;stroke-miterlimit:10;\" d=\"M 77.640625 28 C 77.640625 31.117188 75.117188 33.640625 72 33.640625 C 68.882812 33.640625 66.359375 31.117188 66.359375 28 C 66.359375 24.882812 68.882812 22.359375 72 22.359375 C 75.117188 22.359375 77.640625 24.882812 77.640625 28 \"/>\n",
       "<path style=\"fill-rule:nonzero;fill:rgb(100%,100%,100%);fill-opacity:0.8;stroke-width:2;stroke-linecap:butt;stroke-linejoin:miter;stroke:rgb(0%,0%,0%);stroke-opacity:0.8;stroke-miterlimit:10;\" d=\"M 62.640625 207 C 62.640625 210.117188 60.117188 212.640625 57 212.640625 C 53.882812 212.640625 51.359375 210.117188 51.359375 207 C 51.359375 203.882812 53.882812 201.359375 57 201.359375 C 60.117188 201.359375 62.640625 203.882812 62.640625 207 \"/>\n",
       "</g>\n",
       "</svg>\n"
      ]
     },
     "metadata": {},
     "output_type": "display_data"
    }
   ],
   "source": [
    "adj_matrix, struct_adj_matrix = spin_glass_random_regular_model(N,d,α,β)\n",
    "gm = Junet.Graph(struct_adj_matrix,directed=false)\n",
    "\n",
    "plot(gm, size=(300,300), layout=layout_fruchterman_reingold(gm), node_color=\"white\", node_border_color=\"black\",\n",
    "    node_border_width=2, edge_color=[edge_color_gm(i, adj_matrix, α, β) for i = 1:edgecount(gm)],\n",
    "    edge_width=2)"
   ]
  },
  {
   "cell_type": "code",
   "execution_count": 63,
   "metadata": {},
   "outputs": [
    {
     "data": {
      "text/plain": [
       "replace_beta_spin_glass (generic function with 1 method)"
      ]
     },
     "execution_count": 63,
     "metadata": {},
     "output_type": "execute_result"
    }
   ],
   "source": [
    "function replace_beta_spin_glass(adj_matrix::Array, α::Real, β::Real)\n",
    "    mod_adj_matrix = deepcopy(adj_matrix)\n",
    "    \n",
    "    # Find values greater than α\n",
    "    ind_β = find(adj_matrix.>α)\n",
    "    mod_adj_matrix[ind_β] = β\n",
    "\n",
    "    # Find values smaller than -α\n",
    "    ind_neg_β = find(adj_matrix.<-α)\n",
    "    mod_adj_matrix[ind_neg_β] = -β\n",
    "    \n",
    "    return mod_adj_matrix\n",
    "end"
   ]
  },
  {
   "cell_type": "code",
   "execution_count": 8,
   "metadata": {},
   "outputs": [
    {
     "data": {
      "image/svg+xml": [
       "<?xml version=\"1.0\" encoding=\"UTF-8\"?>\n",
       "<svg xmlns=\"http://www.w3.org/2000/svg\" xmlns:xlink=\"http://www.w3.org/1999/xlink\" width=\"300pt\" height=\"300pt\" viewBox=\"0 0 300 300\" version=\"1.1\">\n",
       "<g id=\"surface9\">\n",
       "<rect x=\"0\" y=\"0\" width=\"300\" height=\"300\" style=\"fill:rgb(100%,100%,100%);fill-opacity:1;stroke:none;\"/>\n",
       "<path style=\"fill:none;stroke-width:2;stroke-linecap:butt;stroke-linejoin:miter;stroke:rgb(0%,0%,100%);stroke-opacity:0.8;stroke-miterlimit:10;\" d=\"M 44.144531 50.867188 L 22.855469 87.132812 \"/>\n",
       "<path style=\"fill:none;stroke-width:2;stroke-linecap:butt;stroke-linejoin:miter;stroke:rgb(100%,0%,0%);stroke-opacity:0.8;stroke-miterlimit:10;\" d=\"M 52.25 43.933594 L 107.75 22.066406 \"/>\n",
       "<path style=\"fill:none;stroke-width:2;stroke-linecap:butt;stroke-linejoin:miter;stroke:rgb(100%,0%,0%);stroke-opacity:0.8;stroke-miterlimit:10;\" d=\"M 46.703125 51.632812 L 41.296875 154.367188 \"/>\n",
       "<path style=\"fill:none;stroke-width:2;stroke-linecap:butt;stroke-linejoin:miter;stroke:rgb(0%,0%,100%);stroke-opacity:0.8;stroke-miterlimit:10;\" d=\"M 224.78125 225.25 L 197.21875 200.75 \"/>\n",
       "<path style=\"fill:none;stroke-width:2;stroke-linecap:butt;stroke-linejoin:miter;stroke:rgb(100%,0%,0%);stroke-opacity:0.8;stroke-miterlimit:10;\" d=\"M 232.386719 224.488281 L 276.613281 165.511719 \"/>\n",
       "<path style=\"fill:none;stroke-width:2;stroke-linecap:butt;stroke-linejoin:miter;stroke:rgb(100%,0%,0%);stroke-opacity:0.8;stroke-miterlimit:10;\" d=\"M 224.796875 232.761719 L 176.203125 276.238281 \"/>\n",
       "<path style=\"fill:none;stroke-width:2;stroke-linecap:butt;stroke-linejoin:miter;stroke:rgb(100%,0%,0%);stroke-opacity:0.8;stroke-miterlimit:10;\" d=\"M 136.296875 93.621094 L 114.703125 25.378906 \"/>\n",
       "<path style=\"fill:none;stroke-width:2;stroke-linecap:butt;stroke-linejoin:miter;stroke:rgb(100%,0%,0%);stroke-opacity:0.8;stroke-miterlimit:10;\" d=\"M 132.367188 98.714844 L 84.632812 96.285156 \"/>\n",
       "<path style=\"fill:none;stroke-width:2;stroke-linecap:butt;stroke-linejoin:miter;stroke:rgb(0%,0%,100%);stroke-opacity:0.8;stroke-miterlimit:10;\" d=\"M 140.761719 103.921875 L 190.238281 192.078125 \"/>\n",
       "<path style=\"fill:none;stroke-width:2;stroke-linecap:butt;stroke-linejoin:miter;stroke:rgb(0%,0%,100%);stroke-opacity:0.8;stroke-miterlimit:10;\" d=\"M 22.855469 87.132812 L 44.144531 50.867188 \"/>\n",
       "<path style=\"fill:none;stroke-width:2;stroke-linecap:butt;stroke-linejoin:miter;stroke:rgb(100%,0%,0%);stroke-opacity:0.8;stroke-miterlimit:10;\" d=\"M 25.628906 92.382812 L 73.371094 95.617188 \"/>\n",
       "<path style=\"fill:none;stroke-width:2;stroke-linecap:butt;stroke-linejoin:miter;stroke:rgb(100%,0%,0%);stroke-opacity:0.8;stroke-miterlimit:10;\" d=\"M 21.664062 97.390625 L 39.335938 154.609375 \"/>\n",
       "<path style=\"fill:none;stroke-width:2;stroke-linecap:butt;stroke-linejoin:miter;stroke:rgb(100%,0%,0%);stroke-opacity:0.8;stroke-miterlimit:10;\" d=\"M 169.246094 55.960938 L 117.753906 23.039062 \"/>\n",
       "<path style=\"fill:none;stroke-width:2;stroke-linecap:butt;stroke-linejoin:miter;stroke:rgb(100%,0%,0%);stroke-opacity:0.8;stroke-miterlimit:10;\" d=\"M 170.578125 63.484375 L 119.421875 130.515625 \"/>\n",
       "<path style=\"fill:none;stroke-width:2;stroke-linecap:butt;stroke-linejoin:miter;stroke:rgb(100%,0%,0%);stroke-opacity:0.8;stroke-miterlimit:10;\" d=\"M 178.746094 62.050781 L 239.253906 100.949219 \"/>\n",
       "<path style=\"fill:none;stroke-width:2;stroke-linecap:butt;stroke-linejoin:miter;stroke:rgb(100%,0%,0%);stroke-opacity:0.8;stroke-miterlimit:10;\" d=\"M 272.875 206.425781 L 279.125 166.574219 \"/>\n",
       "<path style=\"fill:none;stroke-width:2;stroke-linecap:butt;stroke-linejoin:miter;stroke:rgb(0%,0%,100%);stroke-opacity:0.8;stroke-miterlimit:10;\" d=\"M 268.792969 216.640625 L 228.207031 275.359375 \"/>\n",
       "<path style=\"fill:none;stroke-width:2;stroke-linecap:butt;stroke-linejoin:miter;stroke:rgb(100%,0%,0%);stroke-opacity:0.8;stroke-miterlimit:10;\" d=\"M 270.585938 206.539062 L 245.414062 109.460938 \"/>\n",
       "<path style=\"fill:none;stroke-width:2;stroke-linecap:butt;stroke-linejoin:miter;stroke:rgb(0%,0%,100%);stroke-opacity:0.8;stroke-miterlimit:10;\" d=\"M 95.308594 222.734375 L 44.691406 164.265625 \"/>\n",
       "<path style=\"fill:none;stroke-width:2;stroke-linecap:butt;stroke-linejoin:miter;stroke:rgb(100%,0%,0%);stroke-opacity:0.8;stroke-miterlimit:10;\" d=\"M 100.023438 221.453125 L 114.976562 140.546875 \"/>\n",
       "<path style=\"fill:none;stroke-width:2;stroke-linecap:butt;stroke-linejoin:miter;stroke:rgb(0%,0%,100%);stroke-opacity:0.8;stroke-miterlimit:10;\" d=\"M 103.566406 230.316406 L 167.433594 276.683594 \"/>\n",
       "<path style=\"fill:none;stroke-width:2;stroke-linecap:butt;stroke-linejoin:miter;stroke:rgb(100%,0%,0%);stroke-opacity:0.8;stroke-miterlimit:10;\" d=\"M 107.75 22.066406 L 52.25 43.933594 \"/>\n",
       "<path style=\"fill:none;stroke-width:2;stroke-linecap:butt;stroke-linejoin:miter;stroke:rgb(100%,0%,0%);stroke-opacity:0.8;stroke-miterlimit:10;\" d=\"M 114.703125 25.378906 L 136.296875 93.621094 \"/>\n",
       "<path style=\"fill:none;stroke-width:2;stroke-linecap:butt;stroke-linejoin:miter;stroke:rgb(100%,0%,0%);stroke-opacity:0.8;stroke-miterlimit:10;\" d=\"M 117.753906 23.039062 L 169.246094 55.960938 \"/>\n",
       "<path style=\"fill:none;stroke-width:2;stroke-linecap:butt;stroke-linejoin:miter;stroke:rgb(100%,0%,0%);stroke-opacity:0.8;stroke-miterlimit:10;\" d=\"M 84.632812 96.285156 L 132.367188 98.714844 \"/>\n",
       "<path style=\"fill:none;stroke-width:2;stroke-linecap:butt;stroke-linejoin:miter;stroke:rgb(100%,0%,0%);stroke-opacity:0.8;stroke-miterlimit:10;\" d=\"M 73.371094 95.617188 L 25.628906 92.382812 \"/>\n",
       "<path style=\"fill:none;stroke-width:2;stroke-linecap:butt;stroke-linejoin:miter;stroke:rgb(0%,0%,100%);stroke-opacity:0.8;stroke-miterlimit:10;\" d=\"M 82.882812 100.09375 L 112.117188 130.90625 \"/>\n",
       "<path style=\"fill:none;stroke-width:2;stroke-linecap:butt;stroke-linejoin:miter;stroke:rgb(0%,0%,100%);stroke-opacity:0.8;stroke-miterlimit:10;\" d=\"M 197.21875 200.75 L 224.78125 225.25 \"/>\n",
       "<path style=\"fill:none;stroke-width:2;stroke-linecap:butt;stroke-linejoin:miter;stroke:rgb(0%,0%,100%);stroke-opacity:0.8;stroke-miterlimit:10;\" d=\"M 190.238281 192.078125 L 140.761719 103.921875 \"/>\n",
       "<path style=\"fill:none;stroke-width:2;stroke-linecap:butt;stroke-linejoin:miter;stroke:rgb(0%,0%,100%);stroke-opacity:0.8;stroke-miterlimit:10;\" d=\"M 195.03125 202.265625 L 222.96875 274.734375 \"/>\n",
       "<path style=\"fill:none;stroke-width:2;stroke-linecap:butt;stroke-linejoin:miter;stroke:rgb(100%,0%,0%);stroke-opacity:0.8;stroke-miterlimit:10;\" d=\"M 41.296875 154.367188 L 46.703125 51.632812 \"/>\n",
       "<path style=\"fill:none;stroke-width:2;stroke-linecap:butt;stroke-linejoin:miter;stroke:rgb(100%,0%,0%);stroke-opacity:0.8;stroke-miterlimit:10;\" d=\"M 39.335938 154.609375 L 21.664062 97.390625 \"/>\n",
       "<path style=\"fill:none;stroke-width:2;stroke-linecap:butt;stroke-linejoin:miter;stroke:rgb(0%,0%,100%);stroke-opacity:0.8;stroke-miterlimit:10;\" d=\"M 44.691406 164.265625 L 95.308594 222.734375 \"/>\n",
       "<path style=\"fill:none;stroke-width:2;stroke-linecap:butt;stroke-linejoin:miter;stroke:rgb(100%,0%,0%);stroke-opacity:0.8;stroke-miterlimit:10;\" d=\"M 119.421875 130.515625 L 170.578125 63.484375 \"/>\n",
       "<path style=\"fill:none;stroke-width:2;stroke-linecap:butt;stroke-linejoin:miter;stroke:rgb(100%,0%,0%);stroke-opacity:0.8;stroke-miterlimit:10;\" d=\"M 114.976562 140.546875 L 100.023438 221.453125 \"/>\n",
       "<path style=\"fill:none;stroke-width:2;stroke-linecap:butt;stroke-linejoin:miter;stroke:rgb(0%,0%,100%);stroke-opacity:0.8;stroke-miterlimit:10;\" d=\"M 112.117188 130.90625 L 82.882812 100.09375 \"/>\n",
       "<path style=\"fill:none;stroke-width:2;stroke-linecap:butt;stroke-linejoin:miter;stroke:rgb(100%,0%,0%);stroke-opacity:0.8;stroke-miterlimit:10;\" d=\"M 276.613281 165.511719 L 232.386719 224.488281 \"/>\n",
       "<path style=\"fill:none;stroke-width:2;stroke-linecap:butt;stroke-linejoin:miter;stroke:rgb(100%,0%,0%);stroke-opacity:0.8;stroke-miterlimit:10;\" d=\"M 279.125 166.574219 L 272.875 206.425781 \"/>\n",
       "<path style=\"fill:none;stroke-width:2;stroke-linecap:butt;stroke-linejoin:miter;stroke:rgb(100%,64.705882%,0%);stroke-opacity:0.8;stroke-miterlimit:10;\" d=\"M 276.988281 156.230469 L 247.011719 108.769531 \"/>\n",
       "<path style=\"fill:none;stroke-width:2;stroke-linecap:butt;stroke-linejoin:miter;stroke:rgb(100%,0%,0%);stroke-opacity:0.8;stroke-miterlimit:10;\" d=\"M 176.203125 276.238281 L 224.796875 232.761719 \"/>\n",
       "<path style=\"fill:none;stroke-width:2;stroke-linecap:butt;stroke-linejoin:miter;stroke:rgb(0%,0%,100%);stroke-opacity:0.8;stroke-miterlimit:10;\" d=\"M 167.433594 276.683594 L 103.566406 230.316406 \"/>\n",
       "<path style=\"fill:none;stroke-width:2;stroke-linecap:butt;stroke-linejoin:miter;stroke:rgb(0%,100%,100%);stroke-opacity:0.8;stroke-miterlimit:10;\" d=\"M 177.640625 280 L 219.359375 280 \"/>\n",
       "<path style=\"fill:none;stroke-width:2;stroke-linecap:butt;stroke-linejoin:miter;stroke:rgb(0%,0%,100%);stroke-opacity:0.8;stroke-miterlimit:10;\" d=\"M 228.207031 275.359375 L 268.792969 216.640625 \"/>\n",
       "<path style=\"fill:none;stroke-width:2;stroke-linecap:butt;stroke-linejoin:miter;stroke:rgb(0%,0%,100%);stroke-opacity:0.8;stroke-miterlimit:10;\" d=\"M 222.96875 274.734375 L 195.03125 202.265625 \"/>\n",
       "<path style=\"fill:none;stroke-width:2;stroke-linecap:butt;stroke-linejoin:miter;stroke:rgb(0%,100%,100%);stroke-opacity:0.8;stroke-miterlimit:10;\" d=\"M 219.359375 280 L 177.640625 280 \"/>\n",
       "<path style=\"fill:none;stroke-width:2;stroke-linecap:butt;stroke-linejoin:miter;stroke:rgb(100%,0%,0%);stroke-opacity:0.8;stroke-miterlimit:10;\" d=\"M 239.253906 100.949219 L 178.746094 62.050781 \"/>\n",
       "<path style=\"fill:none;stroke-width:2;stroke-linecap:butt;stroke-linejoin:miter;stroke:rgb(100%,0%,0%);stroke-opacity:0.8;stroke-miterlimit:10;\" d=\"M 245.414062 109.460938 L 270.585938 206.539062 \"/>\n",
       "<path style=\"fill:none;stroke-width:2;stroke-linecap:butt;stroke-linejoin:miter;stroke:rgb(100%,64.705882%,0%);stroke-opacity:0.8;stroke-miterlimit:10;\" d=\"M 247.011719 108.769531 L 276.988281 156.230469 \"/>\n",
       "<path style=\"fill-rule:nonzero;fill:rgb(100%,100%,100%);fill-opacity:0.8;stroke-width:2;stroke-linecap:butt;stroke-linejoin:miter;stroke:rgb(0%,0%,0%);stroke-opacity:0.8;stroke-miterlimit:10;\" d=\"M 52.640625 46 C 52.640625 49.117188 50.117188 51.640625 47 51.640625 C 43.882812 51.640625 41.359375 49.117188 41.359375 46 C 41.359375 42.882812 43.882812 40.359375 47 40.359375 C 50.117188 40.359375 52.640625 42.882812 52.640625 46 \"/>\n",
       "<path style=\"fill-rule:nonzero;fill:rgb(100%,100%,100%);fill-opacity:0.8;stroke-width:2;stroke-linecap:butt;stroke-linejoin:miter;stroke:rgb(0%,0%,0%);stroke-opacity:0.8;stroke-miterlimit:10;\" d=\"M 234.640625 229 C 234.640625 232.117188 232.117188 234.640625 229 234.640625 C 225.882812 234.640625 223.359375 232.117188 223.359375 229 C 223.359375 225.882812 225.882812 223.359375 229 223.359375 C 232.117188 223.359375 234.640625 225.882812 234.640625 229 \"/>\n",
       "<path style=\"fill-rule:nonzero;fill:rgb(100%,100%,100%);fill-opacity:0.8;stroke-width:2;stroke-linecap:butt;stroke-linejoin:miter;stroke:rgb(0%,0%,0%);stroke-opacity:0.8;stroke-miterlimit:10;\" d=\"M 143.640625 99 C 143.640625 102.117188 141.117188 104.640625 138 104.640625 C 134.882812 104.640625 132.359375 102.117188 132.359375 99 C 132.359375 95.882812 134.882812 93.359375 138 93.359375 C 141.117188 93.359375 143.640625 95.882812 143.640625 99 \"/>\n",
       "<path style=\"fill-rule:nonzero;fill:rgb(100%,100%,100%);fill-opacity:0.8;stroke-width:2;stroke-linecap:butt;stroke-linejoin:miter;stroke:rgb(0%,0%,0%);stroke-opacity:0.8;stroke-miterlimit:10;\" d=\"M 25.640625 92 C 25.640625 95.117188 23.117188 97.640625 20 97.640625 C 16.882812 97.640625 14.359375 95.117188 14.359375 92 C 14.359375 88.882812 16.882812 86.359375 20 86.359375 C 23.117188 86.359375 25.640625 88.882812 25.640625 92 \"/>\n",
       "<path style=\"fill-rule:nonzero;fill:rgb(100%,100%,100%);fill-opacity:0.8;stroke-width:2;stroke-linecap:butt;stroke-linejoin:miter;stroke:rgb(0%,0%,0%);stroke-opacity:0.8;stroke-miterlimit:10;\" d=\"M 179.640625 59 C 179.640625 62.117188 177.117188 64.640625 174 64.640625 C 170.882812 64.640625 168.359375 62.117188 168.359375 59 C 168.359375 55.882812 170.882812 53.359375 174 53.359375 C 177.117188 53.359375 179.640625 55.882812 179.640625 59 \"/>\n",
       "<path style=\"fill-rule:nonzero;fill:rgb(100%,100%,100%);fill-opacity:0.8;stroke-width:2;stroke-linecap:butt;stroke-linejoin:miter;stroke:rgb(0%,0%,0%);stroke-opacity:0.8;stroke-miterlimit:10;\" d=\"M 277.640625 212 C 277.640625 215.117188 275.117188 217.640625 272 217.640625 C 268.882812 217.640625 266.359375 215.117188 266.359375 212 C 266.359375 208.882812 268.882812 206.359375 272 206.359375 C 275.117188 206.359375 277.640625 208.882812 277.640625 212 \"/>\n",
       "<path style=\"fill-rule:nonzero;fill:rgb(100%,100%,100%);fill-opacity:0.8;stroke-width:2;stroke-linecap:butt;stroke-linejoin:miter;stroke:rgb(0%,0%,0%);stroke-opacity:0.8;stroke-miterlimit:10;\" d=\"M 104.640625 227 C 104.640625 230.117188 102.117188 232.640625 99 232.640625 C 95.882812 232.640625 93.359375 230.117188 93.359375 227 C 93.359375 223.882812 95.882812 221.359375 99 221.359375 C 102.117188 221.359375 104.640625 223.882812 104.640625 227 \"/>\n",
       "<path style=\"fill-rule:nonzero;fill:rgb(100%,100%,100%);fill-opacity:0.8;stroke-width:2;stroke-linecap:butt;stroke-linejoin:miter;stroke:rgb(0%,0%,0%);stroke-opacity:0.8;stroke-miterlimit:10;\" d=\"M 118.640625 20 C 118.640625 23.117188 116.117188 25.640625 113 25.640625 C 109.882812 25.640625 107.359375 23.117188 107.359375 20 C 107.359375 16.882812 109.882812 14.359375 113 14.359375 C 116.117188 14.359375 118.640625 16.882812 118.640625 20 \"/>\n",
       "<path style=\"fill-rule:nonzero;fill:rgb(100%,100%,100%);fill-opacity:0.8;stroke-width:2;stroke-linecap:butt;stroke-linejoin:miter;stroke:rgb(0%,0%,0%);stroke-opacity:0.8;stroke-miterlimit:10;\" d=\"M 84.640625 96 C 84.640625 99.117188 82.117188 101.640625 79 101.640625 C 75.882812 101.640625 73.359375 99.117188 73.359375 96 C 73.359375 92.882812 75.882812 90.359375 79 90.359375 C 82.117188 90.359375 84.640625 92.882812 84.640625 96 \"/>\n",
       "<path style=\"fill-rule:nonzero;fill:rgb(100%,100%,100%);fill-opacity:0.8;stroke-width:2;stroke-linecap:butt;stroke-linejoin:miter;stroke:rgb(0%,0%,0%);stroke-opacity:0.8;stroke-miterlimit:10;\" d=\"M 198.640625 197 C 198.640625 200.117188 196.117188 202.640625 193 202.640625 C 189.882812 202.640625 187.359375 200.117188 187.359375 197 C 187.359375 193.882812 189.882812 191.359375 193 191.359375 C 196.117188 191.359375 198.640625 193.882812 198.640625 197 \"/>\n",
       "<path style=\"fill-rule:nonzero;fill:rgb(100%,100%,100%);fill-opacity:0.8;stroke-width:2;stroke-linecap:butt;stroke-linejoin:miter;stroke:rgb(0%,0%,0%);stroke-opacity:0.8;stroke-miterlimit:10;\" d=\"M 46.640625 160 C 46.640625 163.117188 44.117188 165.640625 41 165.640625 C 37.882812 165.640625 35.359375 163.117188 35.359375 160 C 35.359375 156.882812 37.882812 154.359375 41 154.359375 C 44.117188 154.359375 46.640625 156.882812 46.640625 160 \"/>\n",
       "<path style=\"fill-rule:nonzero;fill:rgb(100%,100%,100%);fill-opacity:0.8;stroke-width:2;stroke-linecap:butt;stroke-linejoin:miter;stroke:rgb(0%,0%,0%);stroke-opacity:0.8;stroke-miterlimit:10;\" d=\"M 121.640625 135 C 121.640625 138.117188 119.117188 140.640625 116 140.640625 C 112.882812 140.640625 110.359375 138.117188 110.359375 135 C 110.359375 131.882812 112.882812 129.359375 116 129.359375 C 119.117188 129.359375 121.640625 131.882812 121.640625 135 \"/>\n",
       "<path style=\"fill-rule:nonzero;fill:rgb(100%,100%,100%);fill-opacity:0.8;stroke-width:2;stroke-linecap:butt;stroke-linejoin:miter;stroke:rgb(0%,0%,0%);stroke-opacity:0.8;stroke-miterlimit:10;\" d=\"M 285.640625 161 C 285.640625 164.117188 283.117188 166.640625 280 166.640625 C 276.882812 166.640625 274.359375 164.117188 274.359375 161 C 274.359375 157.882812 276.882812 155.359375 280 155.359375 C 283.117188 155.359375 285.640625 157.882812 285.640625 161 \"/>\n",
       "<path style=\"fill-rule:nonzero;fill:rgb(100%,100%,100%);fill-opacity:0.8;stroke-width:2;stroke-linecap:butt;stroke-linejoin:miter;stroke:rgb(0%,0%,0%);stroke-opacity:0.8;stroke-miterlimit:10;\" d=\"M 177.640625 280 C 177.640625 283.117188 175.117188 285.640625 172 285.640625 C 168.882812 285.640625 166.359375 283.117188 166.359375 280 C 166.359375 276.882812 168.882812 274.359375 172 274.359375 C 175.117188 274.359375 177.640625 276.882812 177.640625 280 \"/>\n",
       "<path style=\"fill-rule:nonzero;fill:rgb(100%,100%,100%);fill-opacity:0.8;stroke-width:2;stroke-linecap:butt;stroke-linejoin:miter;stroke:rgb(0%,0%,0%);stroke-opacity:0.8;stroke-miterlimit:10;\" d=\"M 230.640625 280 C 230.640625 283.117188 228.117188 285.640625 225 285.640625 C 221.882812 285.640625 219.359375 283.117188 219.359375 280 C 219.359375 276.882812 221.882812 274.359375 225 274.359375 C 228.117188 274.359375 230.640625 276.882812 230.640625 280 \"/>\n",
       "<path style=\"fill-rule:nonzero;fill:rgb(100%,100%,100%);fill-opacity:0.8;stroke-width:2;stroke-linecap:butt;stroke-linejoin:miter;stroke:rgb(0%,0%,0%);stroke-opacity:0.8;stroke-miterlimit:10;\" d=\"M 249.640625 104 C 249.640625 107.117188 247.117188 109.640625 244 109.640625 C 240.882812 109.640625 238.359375 107.117188 238.359375 104 C 238.359375 100.882812 240.882812 98.359375 244 98.359375 C 247.117188 98.359375 249.640625 100.882812 249.640625 104 \"/>\n",
       "</g>\n",
       "</svg>\n"
      ]
     },
     "metadata": {},
     "output_type": "display_data"
    }
   ],
   "source": [
    "adj_matrix2 = replace_beta_gm(adj_matrix,α,0.9)\n",
    "gm = Junet.Graph(struct_adj_matrix,directed=false)\n",
    "\n",
    "plot(gm, size=(300,300), layout=layout_fruchterman_reingold(gm), node_color=\"white\", node_border_color=\"black\",\n",
    "    node_border_width=2, edge_color=[edge_color_gm(i, adj_matrix2, α, 0.9) for i = 1:edgecount(gm)],\n",
    "    edge_width=2)"
   ]
  },
  {
   "cell_type": "code",
   "execution_count": 9,
   "metadata": {},
   "outputs": [],
   "source": [
    "writedlm(\"spin_glass_random_regular_adj_matrix.txt\",adj_matrix)"
   ]
  },
  {
   "cell_type": "code",
   "execution_count": 19,
   "metadata": {},
   "outputs": [
    {
     "data": {
      "image/svg+xml": [
       "<?xml version=\"1.0\" encoding=\"UTF-8\"?>\n",
       "<svg xmlns=\"http://www.w3.org/2000/svg\" xmlns:xlink=\"http://www.w3.org/1999/xlink\" width=\"300pt\" height=\"300pt\" viewBox=\"0 0 300 300\" version=\"1.1\">\n",
       "<g id=\"surface21\">\n",
       "<rect x=\"0\" y=\"0\" width=\"300\" height=\"300\" style=\"fill:rgb(100%,100%,100%);fill-opacity:1;stroke:none;\"/>\n",
       "<path style=\"fill:none;stroke-width:2;stroke-linecap:butt;stroke-linejoin:miter;stroke:rgb(100%,0%,0%);stroke-opacity:0.8;stroke-miterlimit:10;\" d=\"M 223.523438 24.40625 L 276.476562 90.59375 \"/>\n",
       "<path style=\"fill:none;stroke-width:2;stroke-linecap:butt;stroke-linejoin:miter;stroke:rgb(100%,64.705882%,0%);stroke-opacity:0.8;stroke-miterlimit:10;\" d=\"M 217.527344 25.070312 L 182.472656 96.929688 \"/>\n",
       "<path style=\"fill:none;stroke-width:2;stroke-linecap:butt;stroke-linejoin:miter;stroke:rgb(100%,0%,0%);stroke-opacity:0.8;stroke-miterlimit:10;\" d=\"M 214.359375 20.1875 L 135.640625 22.8125 \"/>\n",
       "<path style=\"fill:none;stroke-width:2;stroke-linecap:butt;stroke-linejoin:miter;stroke:rgb(100%,0%,0%);stroke-opacity:0.8;stroke-miterlimit:10;\" d=\"M 278.261719 132.363281 L 279.738281 100.636719 \"/>\n",
       "<path style=\"fill:none;stroke-width:2;stroke-linecap:butt;stroke-linejoin:miter;stroke:rgb(100%,0%,0%);stroke-opacity:0.8;stroke-miterlimit:10;\" d=\"M 277.78125 143.636719 L 274.21875 236.363281 \"/>\n",
       "<path style=\"fill:none;stroke-width:2;stroke-linecap:butt;stroke-linejoin:miter;stroke:rgb(100%,0%,0%);stroke-opacity:0.8;stroke-miterlimit:10;\" d=\"M 273.847656 134.179688 L 195.152344 61.820312 \"/>\n",
       "<path style=\"fill:none;stroke-width:2;stroke-linecap:butt;stroke-linejoin:miter;stroke:rgb(100%,0%,0%);stroke-opacity:0.8;stroke-miterlimit:10;\" d=\"M 137.382812 260.460938 L 44.617188 251.539062 \"/>\n",
       "<path style=\"fill:none;stroke-width:2;stroke-linecap:butt;stroke-linejoin:miter;stroke:rgb(100%,0%,0%);stroke-opacity:0.8;stroke-miterlimit:10;\" d=\"M 146.757812 256.792969 L 189.242188 209.207031 \"/>\n",
       "<path style=\"fill:none;stroke-width:2;stroke-linecap:butt;stroke-linejoin:miter;stroke:rgb(100%,0%,0%);stroke-opacity:0.8;stroke-miterlimit:10;\" d=\"M 147.902344 258.207031 L 231.097656 210.792969 \"/>\n",
       "<path style=\"fill:none;stroke-width:2;stroke-linecap:butt;stroke-linejoin:miter;stroke:rgb(100%,0%,0%);stroke-opacity:0.8;stroke-miterlimit:10;\" d=\"M 21.085938 159.535156 L 37.914062 245.464844 \"/>\n",
       "<path style=\"fill:none;stroke-width:2;stroke-linecap:butt;stroke-linejoin:miter;stroke:rgb(100%,0%,0%);stroke-opacity:0.8;stroke-miterlimit:10;\" d=\"M 24.308594 150.355469 L 54.691406 124.644531 \"/>\n",
       "<path style=\"fill:none;stroke-width:2;stroke-linecap:butt;stroke-linejoin:miter;stroke:rgb(100%,0%,0%);stroke-opacity:0.8;stroke-miterlimit:10;\" d=\"M 24.292969 150.339844 L 96.707031 88.660156 \"/>\n",
       "<path style=\"fill:none;stroke-width:2;stroke-linecap:butt;stroke-linejoin:miter;stroke:rgb(100%,0%,0%);stroke-opacity:0.8;stroke-miterlimit:10;\" d=\"M 276.476562 90.59375 L 223.523438 24.40625 \"/>\n",
       "<path style=\"fill:none;stroke-width:2;stroke-linecap:butt;stroke-linejoin:miter;stroke:rgb(100%,0%,0%);stroke-opacity:0.8;stroke-miterlimit:10;\" d=\"M 279.738281 100.636719 L 278.261719 132.363281 \"/>\n",
       "<path style=\"fill:none;stroke-width:2;stroke-linecap:butt;stroke-linejoin:miter;stroke:rgb(100%,0%,0%);stroke-opacity:0.8;stroke-miterlimit:10;\" d=\"M 277.953125 100.257812 L 238.046875 202.742188 \"/>\n",
       "<path style=\"fill:none;stroke-width:2;stroke-linecap:butt;stroke-linejoin:miter;stroke:rgb(100%,0%,0%);stroke-opacity:0.8;stroke-miterlimit:10;\" d=\"M 274.21875 236.363281 L 277.78125 143.636719 \"/>\n",
       "<path style=\"fill:none;stroke-width:2;stroke-linecap:butt;stroke-linejoin:miter;stroke:rgb(100%,0%,0%);stroke-opacity:0.8;stroke-miterlimit:10;\" d=\"M 268.867188 239.65625 L 198.132812 207.34375 \"/>\n",
       "<path style=\"fill:none;stroke-width:2;stroke-linecap:butt;stroke-linejoin:miter;stroke:rgb(100%,0%,0%);stroke-opacity:0.8;stroke-miterlimit:10;\" d=\"M 268.941406 244.496094 L 202.058594 277.503906 \"/>\n",
       "<path style=\"fill:none;stroke-width:2;stroke-linecap:butt;stroke-linejoin:miter;stroke:rgb(100%,64.705882%,0%);stroke-opacity:0.8;stroke-miterlimit:10;\" d=\"M 182.472656 96.929688 L 217.527344 25.070312 \"/>\n",
       "<path style=\"fill:none;stroke-width:2;stroke-linecap:butt;stroke-linejoin:miter;stroke:rgb(100%,0%,0%);stroke-opacity:0.8;stroke-miterlimit:10;\" d=\"M 180.707031 107.597656 L 192.292969 199.402344 \"/>\n",
       "<path style=\"fill:none;stroke-width:2;stroke-linecap:butt;stroke-linejoin:miter;stroke:rgb(100%,0%,0%);stroke-opacity:0.8;stroke-miterlimit:10;\" d=\"M 174.484375 100.8125 L 106.515625 86.1875 \"/>\n",
       "<path style=\"fill:none;stroke-width:2;stroke-linecap:butt;stroke-linejoin:miter;stroke:rgb(100%,0%,0%);stroke-opacity:0.8;stroke-miterlimit:10;\" d=\"M 44.617188 251.539062 L 137.382812 260.460938 \"/>\n",
       "<path style=\"fill:none;stroke-width:2;stroke-linecap:butt;stroke-linejoin:miter;stroke:rgb(100%,0%,0%);stroke-opacity:0.8;stroke-miterlimit:10;\" d=\"M 37.914062 245.464844 L 21.085938 159.535156 \"/>\n",
       "<path style=\"fill:none;stroke-width:2;stroke-linecap:butt;stroke-linejoin:miter;stroke:rgb(100%,0%,0%);stroke-opacity:0.8;stroke-miterlimit:10;\" d=\"M 44.34375 249.1875 L 86.65625 234.8125 \"/>\n",
       "<path style=\"fill:none;stroke-width:2;stroke-linecap:butt;stroke-linejoin:miter;stroke:rgb(100%,0%,0%);stroke-opacity:0.8;stroke-miterlimit:10;\" d=\"M 189.242188 209.207031 L 146.757812 256.792969 \"/>\n",
       "<path style=\"fill:none;stroke-width:2;stroke-linecap:butt;stroke-linejoin:miter;stroke:rgb(100%,0%,0%);stroke-opacity:0.8;stroke-miterlimit:10;\" d=\"M 198.132812 207.34375 L 268.867188 239.65625 \"/>\n",
       "<path style=\"fill:none;stroke-width:2;stroke-linecap:butt;stroke-linejoin:miter;stroke:rgb(100%,0%,0%);stroke-opacity:0.8;stroke-miterlimit:10;\" d=\"M 192.292969 199.402344 L 180.707031 107.597656 \"/>\n",
       "<path style=\"fill:none;stroke-width:2;stroke-linecap:butt;stroke-linejoin:miter;stroke:rgb(100%,0%,0%);stroke-opacity:0.8;stroke-miterlimit:10;\" d=\"M 202.058594 277.503906 L 268.941406 244.496094 \"/>\n",
       "<path style=\"fill:none;stroke-width:2;stroke-linecap:butt;stroke-linejoin:miter;stroke:rgb(100%,0%,0%);stroke-opacity:0.8;stroke-miterlimit:10;\" d=\"M 199.6875 275.039062 L 233.3125 212.960938 \"/>\n",
       "<path style=\"fill:none;stroke-width:2;stroke-linecap:butt;stroke-linejoin:miter;stroke:rgb(100%,0%,0%);stroke-opacity:0.8;stroke-miterlimit:10;\" d=\"M 191.851562 277.695312 L 97.148438 235.304688 \"/>\n",
       "<path style=\"fill:none;stroke-width:2;stroke-linecap:butt;stroke-linejoin:miter;stroke:rgb(100%,0%,0%);stroke-opacity:0.8;stroke-miterlimit:10;\" d=\"M 195.152344 61.820312 L 273.847656 134.179688 \"/>\n",
       "<path style=\"fill:none;stroke-width:2;stroke-linecap:butt;stroke-linejoin:miter;stroke:rgb(100%,0%,0%);stroke-opacity:0.8;stroke-miterlimit:10;\" d=\"M 186.105469 55.191406 L 134.894531 25.808594 \"/>\n",
       "<path style=\"fill:none;stroke-width:2;stroke-linecap:butt;stroke-linejoin:miter;stroke:rgb(100%,0%,0%);stroke-opacity:0.8;stroke-miterlimit:10;\" d=\"M 185.597656 59.621094 L 106.402344 83.378906 \"/>\n",
       "<path style=\"fill:none;stroke-width:2;stroke-linecap:butt;stroke-linejoin:miter;stroke:rgb(100%,0%,0%);stroke-opacity:0.8;stroke-miterlimit:10;\" d=\"M 231.097656 210.792969 L 147.902344 258.207031 \"/>\n",
       "<path style=\"fill:none;stroke-width:2;stroke-linecap:butt;stroke-linejoin:miter;stroke:rgb(100%,0%,0%);stroke-opacity:0.8;stroke-miterlimit:10;\" d=\"M 238.046875 202.742188 L 277.953125 100.257812 \"/>\n",
       "<path style=\"fill:none;stroke-width:2;stroke-linecap:butt;stroke-linejoin:miter;stroke:rgb(100%,0%,0%);stroke-opacity:0.8;stroke-miterlimit:10;\" d=\"M 233.3125 212.960938 L 199.6875 275.039062 \"/>\n",
       "<path style=\"fill:none;stroke-width:2;stroke-linecap:butt;stroke-linejoin:miter;stroke:rgb(100%,0%,0%);stroke-opacity:0.8;stroke-miterlimit:10;\" d=\"M 86.65625 234.8125 L 44.34375 249.1875 \"/>\n",
       "<path style=\"fill:none;stroke-width:2;stroke-linecap:butt;stroke-linejoin:miter;stroke:rgb(100%,0%,0%);stroke-opacity:0.8;stroke-miterlimit:10;\" d=\"M 97.148438 235.304688 L 191.851562 277.695312 \"/>\n",
       "<path style=\"fill:none;stroke-width:2;stroke-linecap:butt;stroke-linejoin:miter;stroke:rgb(100%,0%,0%);stroke-opacity:0.8;stroke-miterlimit:10;\" d=\"M 90.40625 227.589844 L 60.59375 126.410156 \"/>\n",
       "<path style=\"fill:none;stroke-width:2;stroke-linecap:butt;stroke-linejoin:miter;stroke:rgb(100%,0%,0%);stroke-opacity:0.8;stroke-miterlimit:10;\" d=\"M 135.640625 22.8125 L 214.359375 20.1875 \"/>\n",
       "<path style=\"fill:none;stroke-width:2;stroke-linecap:butt;stroke-linejoin:miter;stroke:rgb(100%,0%,0%);stroke-opacity:0.8;stroke-miterlimit:10;\" d=\"M 134.894531 25.808594 L 186.105469 55.191406 \"/>\n",
       "<path style=\"fill:none;stroke-width:2;stroke-linecap:butt;stroke-linejoin:miter;stroke:rgb(100%,0%,0%);stroke-opacity:0.8;stroke-miterlimit:10;\" d=\"M 126.691406 27.570312 L 62.308594 116.429688 \"/>\n",
       "<path style=\"fill:none;stroke-width:2;stroke-linecap:butt;stroke-linejoin:miter;stroke:rgb(100%,0%,0%);stroke-opacity:0.8;stroke-miterlimit:10;\" d=\"M 54.691406 124.644531 L 24.308594 150.355469 \"/>\n",
       "<path style=\"fill:none;stroke-width:2;stroke-linecap:butt;stroke-linejoin:miter;stroke:rgb(100%,0%,0%);stroke-opacity:0.8;stroke-miterlimit:10;\" d=\"M 60.59375 126.410156 L 90.40625 227.589844 \"/>\n",
       "<path style=\"fill:none;stroke-width:2;stroke-linecap:butt;stroke-linejoin:miter;stroke:rgb(100%,0%,0%);stroke-opacity:0.8;stroke-miterlimit:10;\" d=\"M 62.308594 116.429688 L 126.691406 27.570312 \"/>\n",
       "<path style=\"fill:none;stroke-width:2;stroke-linecap:butt;stroke-linejoin:miter;stroke:rgb(100%,0%,0%);stroke-opacity:0.8;stroke-miterlimit:10;\" d=\"M 96.707031 88.660156 L 24.292969 150.339844 \"/>\n",
       "<path style=\"fill:none;stroke-width:2;stroke-linecap:butt;stroke-linejoin:miter;stroke:rgb(100%,0%,0%);stroke-opacity:0.8;stroke-miterlimit:10;\" d=\"M 106.515625 86.1875 L 174.484375 100.8125 \"/>\n",
       "<path style=\"fill:none;stroke-width:2;stroke-linecap:butt;stroke-linejoin:miter;stroke:rgb(100%,0%,0%);stroke-opacity:0.8;stroke-miterlimit:10;\" d=\"M 106.402344 83.378906 L 185.597656 59.621094 \"/>\n",
       "<path style=\"fill-rule:nonzero;fill:rgb(100%,100%,100%);fill-opacity:0.8;stroke-width:2;stroke-linecap:butt;stroke-linejoin:miter;stroke:rgb(0%,0%,0%);stroke-opacity:0.8;stroke-miterlimit:10;\" d=\"M 225.640625 20 C 225.640625 23.117188 223.117188 25.640625 220 25.640625 C 216.882812 25.640625 214.359375 23.117188 214.359375 20 C 214.359375 16.882812 216.882812 14.359375 220 14.359375 C 223.117188 14.359375 225.640625 16.882812 225.640625 20 \"/>\n",
       "<path style=\"fill-rule:nonzero;fill:rgb(100%,100%,100%);fill-opacity:0.8;stroke-width:2;stroke-linecap:butt;stroke-linejoin:miter;stroke:rgb(0%,0%,0%);stroke-opacity:0.8;stroke-miterlimit:10;\" d=\"M 283.640625 138 C 283.640625 141.117188 281.117188 143.640625 278 143.640625 C 274.882812 143.640625 272.359375 141.117188 272.359375 138 C 272.359375 134.882812 274.882812 132.359375 278 132.359375 C 281.117188 132.359375 283.640625 134.882812 283.640625 138 \"/>\n",
       "<path style=\"fill-rule:nonzero;fill:rgb(100%,100%,100%);fill-opacity:0.8;stroke-width:2;stroke-linecap:butt;stroke-linejoin:miter;stroke:rgb(0%,0%,0%);stroke-opacity:0.8;stroke-miterlimit:10;\" d=\"M 148.640625 261 C 148.640625 264.117188 146.117188 266.640625 143 266.640625 C 139.882812 266.640625 137.359375 264.117188 137.359375 261 C 137.359375 257.882812 139.882812 255.359375 143 255.359375 C 146.117188 255.359375 148.640625 257.882812 148.640625 261 \"/>\n",
       "<path style=\"fill-rule:nonzero;fill:rgb(100%,100%,100%);fill-opacity:0.8;stroke-width:2;stroke-linecap:butt;stroke-linejoin:miter;stroke:rgb(0%,0%,0%);stroke-opacity:0.8;stroke-miterlimit:10;\" d=\"M 25.640625 154 C 25.640625 157.117188 23.117188 159.640625 20 159.640625 C 16.882812 159.640625 14.359375 157.117188 14.359375 154 C 14.359375 150.882812 16.882812 148.359375 20 148.359375 C 23.117188 148.359375 25.640625 150.882812 25.640625 154 \"/>\n",
       "<path style=\"fill-rule:nonzero;fill:rgb(100%,100%,100%);fill-opacity:0.8;stroke-width:2;stroke-linecap:butt;stroke-linejoin:miter;stroke:rgb(0%,0%,0%);stroke-opacity:0.8;stroke-miterlimit:10;\" d=\"M 285.640625 95 C 285.640625 98.117188 283.117188 100.640625 280 100.640625 C 276.882812 100.640625 274.359375 98.117188 274.359375 95 C 274.359375 91.882812 276.882812 89.359375 280 89.359375 C 283.117188 89.359375 285.640625 91.882812 285.640625 95 \"/>\n",
       "<path style=\"fill-rule:nonzero;fill:rgb(100%,100%,100%);fill-opacity:0.8;stroke-width:2;stroke-linecap:butt;stroke-linejoin:miter;stroke:rgb(0%,0%,0%);stroke-opacity:0.8;stroke-miterlimit:10;\" d=\"M 279.640625 242 C 279.640625 245.117188 277.117188 247.640625 274 247.640625 C 270.882812 247.640625 268.359375 245.117188 268.359375 242 C 268.359375 238.882812 270.882812 236.359375 274 236.359375 C 277.117188 236.359375 279.640625 238.882812 279.640625 242 \"/>\n",
       "<path style=\"fill-rule:nonzero;fill:rgb(100%,100%,100%);fill-opacity:0.8;stroke-width:2;stroke-linecap:butt;stroke-linejoin:miter;stroke:rgb(0%,0%,0%);stroke-opacity:0.8;stroke-miterlimit:10;\" d=\"M 185.640625 102 C 185.640625 105.117188 183.117188 107.640625 180 107.640625 C 176.882812 107.640625 174.359375 105.117188 174.359375 102 C 174.359375 98.882812 176.882812 96.359375 180 96.359375 C 183.117188 96.359375 185.640625 98.882812 185.640625 102 \"/>\n",
       "<path style=\"fill-rule:nonzero;fill:rgb(100%,100%,100%);fill-opacity:0.8;stroke-width:2;stroke-linecap:butt;stroke-linejoin:miter;stroke:rgb(0%,0%,0%);stroke-opacity:0.8;stroke-miterlimit:10;\" d=\"M 44.640625 251 C 44.640625 254.117188 42.117188 256.640625 39 256.640625 C 35.882812 256.640625 33.359375 254.117188 33.359375 251 C 33.359375 247.882812 35.882812 245.359375 39 245.359375 C 42.117188 245.359375 44.640625 247.882812 44.640625 251 \"/>\n",
       "<path style=\"fill-rule:nonzero;fill:rgb(100%,100%,100%);fill-opacity:0.8;stroke-width:2;stroke-linecap:butt;stroke-linejoin:miter;stroke:rgb(0%,0%,0%);stroke-opacity:0.8;stroke-miterlimit:10;\" d=\"M 198.640625 205 C 198.640625 208.117188 196.117188 210.640625 193 210.640625 C 189.882812 210.640625 187.359375 208.117188 187.359375 205 C 187.359375 201.882812 189.882812 199.359375 193 199.359375 C 196.117188 199.359375 198.640625 201.882812 198.640625 205 \"/>\n",
       "<path style=\"fill-rule:nonzero;fill:rgb(100%,100%,100%);fill-opacity:0.8;stroke-width:2;stroke-linecap:butt;stroke-linejoin:miter;stroke:rgb(0%,0%,0%);stroke-opacity:0.8;stroke-miterlimit:10;\" d=\"M 202.640625 280 C 202.640625 283.117188 200.117188 285.640625 197 285.640625 C 193.882812 285.640625 191.359375 283.117188 191.359375 280 C 191.359375 276.882812 193.882812 274.359375 197 274.359375 C 200.117188 274.359375 202.640625 276.882812 202.640625 280 \"/>\n",
       "<path style=\"fill-rule:nonzero;fill:rgb(100%,100%,100%);fill-opacity:0.8;stroke-width:2;stroke-linecap:butt;stroke-linejoin:miter;stroke:rgb(0%,0%,0%);stroke-opacity:0.8;stroke-miterlimit:10;\" d=\"M 196.640625 58 C 196.640625 61.117188 194.117188 63.640625 191 63.640625 C 187.882812 63.640625 185.359375 61.117188 185.359375 58 C 185.359375 54.882812 187.882812 52.359375 191 52.359375 C 194.117188 52.359375 196.640625 54.882812 196.640625 58 \"/>\n",
       "<path style=\"fill-rule:nonzero;fill:rgb(100%,100%,100%);fill-opacity:0.8;stroke-width:2;stroke-linecap:butt;stroke-linejoin:miter;stroke:rgb(0%,0%,0%);stroke-opacity:0.8;stroke-miterlimit:10;\" d=\"M 241.640625 208 C 241.640625 211.117188 239.117188 213.640625 236 213.640625 C 232.882812 213.640625 230.359375 211.117188 230.359375 208 C 230.359375 204.882812 232.882812 202.359375 236 202.359375 C 239.117188 202.359375 241.640625 204.882812 241.640625 208 \"/>\n",
       "<path style=\"fill-rule:nonzero;fill:rgb(100%,100%,100%);fill-opacity:0.8;stroke-width:2;stroke-linecap:butt;stroke-linejoin:miter;stroke:rgb(0%,0%,0%);stroke-opacity:0.8;stroke-miterlimit:10;\" d=\"M 97.640625 233 C 97.640625 236.117188 95.117188 238.640625 92 238.640625 C 88.882812 238.640625 86.359375 236.117188 86.359375 233 C 86.359375 229.882812 88.882812 227.359375 92 227.359375 C 95.117188 227.359375 97.640625 229.882812 97.640625 233 \"/>\n",
       "<path style=\"fill-rule:nonzero;fill:rgb(100%,100%,100%);fill-opacity:0.8;stroke-width:2;stroke-linecap:butt;stroke-linejoin:miter;stroke:rgb(0%,0%,0%);stroke-opacity:0.8;stroke-miterlimit:10;\" d=\"M 135.640625 23 C 135.640625 26.117188 133.117188 28.640625 130 28.640625 C 126.882812 28.640625 124.359375 26.117188 124.359375 23 C 124.359375 19.882812 126.882812 17.359375 130 17.359375 C 133.117188 17.359375 135.640625 19.882812 135.640625 23 \"/>\n",
       "<path style=\"fill-rule:nonzero;fill:rgb(100%,100%,100%);fill-opacity:0.8;stroke-width:2;stroke-linecap:butt;stroke-linejoin:miter;stroke:rgb(0%,0%,0%);stroke-opacity:0.8;stroke-miterlimit:10;\" d=\"M 64.640625 121 C 64.640625 124.117188 62.117188 126.640625 59 126.640625 C 55.882812 126.640625 53.359375 124.117188 53.359375 121 C 53.359375 117.882812 55.882812 115.359375 59 115.359375 C 62.117188 115.359375 64.640625 117.882812 64.640625 121 \"/>\n",
       "<path style=\"fill-rule:nonzero;fill:rgb(100%,100%,100%);fill-opacity:0.8;stroke-width:2;stroke-linecap:butt;stroke-linejoin:miter;stroke:rgb(0%,0%,0%);stroke-opacity:0.8;stroke-miterlimit:10;\" d=\"M 106.640625 85 C 106.640625 88.117188 104.117188 90.640625 101 90.640625 C 97.882812 90.640625 95.359375 88.117188 95.359375 85 C 95.359375 81.882812 97.882812 79.359375 101 79.359375 C 104.117188 79.359375 106.640625 81.882812 106.640625 85 \"/>\n",
       "</g>\n",
       "</svg>\n"
      ]
     },
     "metadata": {},
     "output_type": "display_data"
    }
   ],
   "source": [
    "adj_matrix3, struct_adj_matrix3 = ferro_random_regular_model(N,d,α,β)\n",
    "gm = Junet.Graph(struct_adj_matrix3,directed=false)\n",
    "\n",
    "plot(gm, size=(300,300), layout=layout_fruchterman_reingold(gm), node_color=\"white\", node_border_color=\"black\",\n",
    "    node_border_width=2, edge_color=[edge_color_gm(i, adj_matrix3, α, β) for i = 1:edgecount(gm)],\n",
    "    edge_width=2)"
   ]
  },
  {
   "cell_type": "code",
   "execution_count": 20,
   "metadata": {},
   "outputs": [],
   "source": [
    "adj_matrix3, struct_adj_matrix3 = ferro_random_regular_model(24,4,0.4,0.7,true)\n",
    "gm = Junet.Graph(struct_adj_matrix3,directed=false)\n",
    "\n",
    "plot(gm, size=(300,300), layout=layout_fruchterman_reingold(gm), node_color=\"white\", node_border_color=\"black\",\n",
    "    node_border_width=2, edge_color=\"black\", edge_width=2,format=:eps, file=\"example_spin_system.eps\")"
   ]
  },
  {
   "cell_type": "code",
   "execution_count": 23,
   "metadata": {},
   "outputs": [],
   "source": [
    "file_plot_gm = \"test1.eps\"\n",
    "#adj_matrix, struct_adj_matrix = ferro_lattice(N,α,β,true)\n",
    "adj_matrix, struct_adj_matrix = spin_glass_lattice(N,α,β)\n",
    "m = n = Int(sqrt(N))\n",
    "draw_periodic_lattice(adj_matrix,m,n,α,β,file_plot_gm)"
   ]
  },
  {
   "cell_type": "code",
   "execution_count": 12,
   "metadata": {},
   "outputs": [],
   "source": [
    "adj_matrix = [0.0 0.9 0.1; 0.9 0.0 0.1; 0.1 0.1 0.0]\n",
    "gm = Junet.Graph(0.5*sign.(adj_matrix),directed=false)\n",
    "\n",
    "plot(gm, size=(300,300), layout=layout_fruchterman_reingold(gm), node_color=\"white\", node_border_color=\"black\",\n",
    "        node_border_width=3, edge_width=3, edge_color=\"black\",format=:eps, file=\"three_spin_system.eps\")"
   ]
  },
  {
   "cell_type": "code",
   "execution_count": null,
   "metadata": {},
   "outputs": [],
   "source": []
  }
 ],
 "metadata": {
  "kernelspec": {
   "display_name": "Julia 1.0.5",
   "language": "julia",
   "name": "julia-1.0"
  },
  "language_info": {
   "file_extension": ".jl",
   "mimetype": "application/julia",
   "name": "julia",
   "version": "1.0.5"
  }
 },
 "nbformat": 4,
 "nbformat_minor": 2
}
