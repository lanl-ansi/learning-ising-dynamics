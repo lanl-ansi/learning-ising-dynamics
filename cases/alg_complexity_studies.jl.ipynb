{
 "cells": [
  {
   "cell_type": "markdown",
   "metadata": {},
   "source": [
    "## Algorithm Complexity Studies"
   ]
  },
  {
   "cell_type": "code",
   "execution_count": 1,
   "metadata": {},
   "outputs": [
    {
     "data": {
      "text/plain": [
       "3-element Array{Any,1}:\n",
       " \"/Applications/Julia-0.6.app/Contents/Resources/julia/local/share/julia/site/v0.6\"\n",
       " \"/Applications/Julia-0.6.app/Contents/Resources/julia/share/julia/site/v0.6\"      \n",
       " \"../src/\"                                                                         "
      ]
     },
     "execution_count": 1,
     "metadata": {},
     "output_type": "execute_result"
    }
   ],
   "source": [
    "# Add locations of modules\n",
    "push!(LOAD_PATH, \"../src/\")"
   ]
  },
  {
   "cell_type": "markdown",
   "metadata": {},
   "source": [
    "## Ipopt"
   ]
  },
  {
   "cell_type": "code",
   "execution_count": 2,
   "metadata": {},
   "outputs": [
    {
     "name": "stderr",
     "output_type": "stream",
     "text": [
      "\u001b[1m\u001b[36mINFO: \u001b[39m\u001b[22m\u001b[36mRecompiling stale cache file /Users/gogol/.julia/lib/v0.6/TranscodingStreams.ji for module TranscodingStreams.\n",
      "\u001b[39m\u001b[1m\u001b[36mINFO: \u001b[39m\u001b[22m\u001b[36mRecompiling stale cache file /Users/gogol/.julia/lib/v0.6/LightGraphs.ji for module LightGraphs.\n",
      "\u001b[39m\u001b[1m\u001b[36mINFO: \u001b[39m\u001b[22m\u001b[36mRecompiling stale cache file /Users/gogol/.julia/lib/v0.6/DiffResults.ji for module DiffResults.\n",
      "\u001b[39m\u001b[1m\u001b[36mINFO: \u001b[39m\u001b[22m\u001b[36mRecompiling stale cache file /Users/gogol/.julia/lib/v0.6/GraphicalModelLearning.ji for module GraphicalModelLearning.\n",
      "\u001b[39m\n",
      "WARNING: deprecated syntax \"inner constructor FactorGraph(...) around /Users/gogol/Dropbox (Personal)/Research/LANL/Code/GraphicalModelLearning/src/models.jl:13\".\n",
      "Use \"FactorGraph{T}(...) where T\" instead.\n"
     ]
    }
   ],
   "source": [
    "# Package for creating random regular graph\n",
    "using LightGraphs\n",
    "using GraphicalModelLearning"
   ]
  },
  {
   "cell_type": "code",
   "execution_count": 3,
   "metadata": {},
   "outputs": [
    {
     "data": {
      "text/plain": [
       "3"
      ]
     },
     "execution_count": 3,
     "metadata": {},
     "output_type": "execute_result"
    }
   ],
   "source": [
    "# Define parameters of run\n",
    "n_spins_array = [8*i for i in 1:2]\n",
    "n_samples_array = [10000*i for i in 1:5]\n",
    "\n",
    "# Parameters of the Graphical Model\n",
    "d = 3"
   ]
  },
  {
   "cell_type": "code",
   "execution_count": 4,
   "metadata": {},
   "outputs": [
    {
     "data": {
      "text/plain": [
       "benchmark_gml (generic function with 1 method)"
      ]
     },
     "execution_count": 4,
     "metadata": {},
     "output_type": "execute_result"
    }
   ],
   "source": [
    "# Define functions to do timing tests\n",
    "function benchmark_gml(samples::Array, Ntrial::Integer, learning_method::GMLFormulation, learning_algo::GMLMethod)\n",
    "    t_algo = Array{Float64,1}(Ntrial)\n",
    "    for i = 1:Ntrial\n",
    "        t_algo[i] = @elapsed learn_glauber_dynamics(samples, learning_method, learning_algo)\n",
    "    end\n",
    "\n",
    "    return median(t_algo)\n",
    "end"
   ]
  },
  {
   "cell_type": "code",
   "execution_count": 30,
   "metadata": {},
   "outputs": [
    {
     "name": "stdout",
     "output_type": "stream",
     "text": [
      "n_spins = 1\n",
      "n_samples = 1\n"
     ]
    },
    {
     "name": "stderr",
     "output_type": "stream",
     "text": [
      "\u001b[1m\u001b[36mINFO: \u001b[39m\u001b[22m\u001b[36massuming spin alphabet\n",
      "\u001b[39m\u001b[1m\u001b[36mINFO: \u001b[39m\u001b[22m\u001b[36musing Glauber dynamics v1 to generate T-regime samples\n",
      "\u001b[39m\u001b[1m\u001b[36mINFO: \u001b[39m\u001b[22m\u001b[36musing JuMP for RISE\n",
      "\u001b[39m\u001b[1m\u001b[36mINFO: \u001b[39m\u001b[22m\u001b[36musing JuMP for RISE\n",
      "\u001b[39m\u001b[1m\u001b[36mINFO: \u001b[39m\u001b[22m\u001b[36musing JuMP for RISE\n",
      "\u001b[39m\u001b[1m\u001b[36mINFO: \u001b[39m\u001b[22m\u001b[36musing JuMP for RISE\n",
      "\u001b[39m\u001b[1m\u001b[36mINFO: \u001b[39m\u001b[22m\u001b[36musing JuMP for RISE\n",
      "\u001b[39m\u001b[1m\u001b[36mINFO: \u001b[39m\u001b[22m\u001b[36musing JuMP for RISE\n",
      "\u001b[39m\u001b[1m\u001b[36mINFO: \u001b[39m\u001b[22m\u001b[36musing JuMP for RISE\n",
      "\u001b[39m\u001b[1m\u001b[36mINFO: \u001b[39m\u001b[22m\u001b[36musing JuMP for RISE\n",
      "\u001b[39m\u001b[1m\u001b[36mINFO: \u001b[39m\u001b[22m\u001b[36musing JuMP for RISE\n",
      "\u001b[39m\u001b[1m\u001b[36mINFO: \u001b[39m\u001b[22m\u001b[36musing JuMP for RISE\n",
      "\u001b[39m\u001b[1m\u001b[36mINFO: \u001b[39m\u001b[22m\u001b[36musing coordinate descent solver for RISE to learn Glauber dyamics\n",
      "\u001b[39m\u001b[1m\u001b[36mINFO: \u001b[39m\u001b[22m\u001b[36musing coordinate descent solver for RISE to learn Glauber dyamics\n",
      "\u001b[39m\u001b[1m\u001b[36mINFO: \u001b[39m\u001b[22m\u001b[36musing coordinate descent solver for RISE to learn Glauber dyamics\n",
      "\u001b[39m\u001b[1m\u001b[36mINFO: \u001b[39m\u001b[22m\u001b[36musing coordinate descent solver for RISE to learn Glauber dyamics\n",
      "\u001b[39m\u001b[1m\u001b[36mINFO: \u001b[39m\u001b[22m\u001b[36musing coordinate descent solver for RISE to learn Glauber dyamics\n",
      "\u001b[39m\u001b[1m\u001b[36mINFO: \u001b[39m\u001b[22m\u001b[36musing coordinate descent solver for RISE to learn Glauber dyamics\n",
      "\u001b[39m\u001b[1m\u001b[36mINFO: \u001b[39m\u001b[22m\u001b[36musing coordinate descent solver for RISE to learn Glauber dyamics\n",
      "\u001b[39m\u001b[1m\u001b[36mINFO: \u001b[39m\u001b[22m\u001b[36musing coordinate descent solver for RISE to learn Glauber dyamics\n",
      "\u001b[39m"
     ]
    },
    {
     "name": "stdout",
     "output_type": "stream",
     "text": [
      "Time for ipopt = 0.1003548355\n",
      "Time for CD = 0.032594885000000004\n",
      "n_samples = 2\n"
     ]
    },
    {
     "name": "stderr",
     "output_type": "stream",
     "text": [
      "\u001b[1m\u001b[36mINFO: \u001b[39m\u001b[22m\u001b[36musing coordinate descent solver for RISE to learn Glauber dyamics\n",
      "\u001b[39m\u001b[1m\u001b[36mINFO: \u001b[39m\u001b[22m\u001b[36musing coordinate descent solver for RISE to learn Glauber dyamics\n",
      "\u001b[39m\u001b[1m\u001b[36mINFO: \u001b[39m\u001b[22m\u001b[36massuming spin alphabet\n",
      "\u001b[39m\u001b[1m\u001b[36mINFO: \u001b[39m\u001b[22m\u001b[36musing Glauber dynamics v1 to generate T-regime samples\n",
      "\u001b[39m\u001b[1m\u001b[36mINFO: \u001b[39m\u001b[22m\u001b[36musing JuMP for RISE\n",
      "\u001b[39m\u001b[1m\u001b[36mINFO: \u001b[39m\u001b[22m\u001b[36musing JuMP for RISE\n",
      "\u001b[39m\u001b[1m\u001b[36mINFO: \u001b[39m\u001b[22m\u001b[36musing JuMP for RISE\n",
      "\u001b[39m\u001b[1m\u001b[36mINFO: \u001b[39m\u001b[22m\u001b[36musing JuMP for RISE\n",
      "\u001b[39m\u001b[1m\u001b[36mINFO: \u001b[39m\u001b[22m\u001b[36musing JuMP for RISE\n",
      "\u001b[39m\u001b[1m\u001b[36mINFO: \u001b[39m\u001b[22m\u001b[36musing JuMP for RISE\n",
      "\u001b[39m\u001b[1m\u001b[36mINFO: \u001b[39m\u001b[22m\u001b[36musing JuMP for RISE\n",
      "\u001b[39m\u001b[1m\u001b[36mINFO: \u001b[39m\u001b[22m\u001b[36musing JuMP for RISE\n",
      "\u001b[39m\u001b[1m\u001b[36mINFO: \u001b[39m\u001b[22m\u001b[36musing JuMP for RISE\n",
      "\u001b[39m\u001b[1m\u001b[36mINFO: \u001b[39m\u001b[22m\u001b[36musing JuMP for RISE\n",
      "\u001b[39m\u001b[1m\u001b[36mINFO: \u001b[39m\u001b[22m\u001b[36musing coordinate descent solver for RISE to learn Glauber dyamics\n",
      "\u001b[39m\u001b[1m\u001b[36mINFO: \u001b[39m\u001b[22m\u001b[36musing coordinate descent solver for RISE to learn Glauber dyamics\n",
      "\u001b[39m\u001b[1m\u001b[36mINFO: \u001b[39m\u001b[22m\u001b[36musing coordinate descent solver for RISE to learn Glauber dyamics\n",
      "\u001b[39m\u001b[1m\u001b[36mINFO: \u001b[39m\u001b[22m\u001b[36musing coordinate descent solver for RISE to learn Glauber dyamics\n",
      "\u001b[39m\u001b[1m\u001b[36mINFO: \u001b[39m\u001b[22m\u001b[36musing coordinate descent solver for RISE to learn Glauber dyamics\n",
      "\u001b[39m\u001b[1m\u001b[36mINFO: \u001b[39m\u001b[22m\u001b[36musing coordinate descent solver for RISE to learn Glauber dyamics\n",
      "\u001b[39m\u001b[1m\u001b[36mINFO: \u001b[39m\u001b[22m\u001b[36musing coordinate descent solver for RISE to learn Glauber dyamics\n",
      "\u001b[39m\u001b[1m\u001b[36mINFO: \u001b[39m\u001b[22m\u001b[36musing coordinate descent solver for RISE to learn Glauber dyamics\n",
      "\u001b[39m"
     ]
    },
    {
     "name": "stdout",
     "output_type": "stream",
     "text": [
      "Time for ipopt = 0.103886407\n",
      "Time for CD = 0.054138405\n",
      "n_samples = 3\n"
     ]
    },
    {
     "name": "stderr",
     "output_type": "stream",
     "text": [
      "\u001b[1m\u001b[36mINFO: \u001b[39m\u001b[22m\u001b[36musing coordinate descent solver for RISE to learn Glauber dyamics\n",
      "\u001b[39m\u001b[1m\u001b[36mINFO: \u001b[39m\u001b[22m\u001b[36musing coordinate descent solver for RISE to learn Glauber dyamics\n",
      "\u001b[39m\u001b[1m\u001b[36mINFO: \u001b[39m\u001b[22m\u001b[36massuming spin alphabet\n",
      "\u001b[39m\u001b[1m\u001b[36mINFO: \u001b[39m\u001b[22m\u001b[36musing Glauber dynamics v1 to generate T-regime samples\n",
      "\u001b[39m\u001b[1m\u001b[36mINFO: \u001b[39m\u001b[22m\u001b[36musing JuMP for RISE\n",
      "\u001b[39m\u001b[1m\u001b[36mINFO: \u001b[39m\u001b[22m\u001b[36musing JuMP for RISE\n",
      "\u001b[39m\u001b[1m\u001b[36mINFO: \u001b[39m\u001b[22m\u001b[36musing JuMP for RISE\n",
      "\u001b[39m\u001b[1m\u001b[36mINFO: \u001b[39m\u001b[22m\u001b[36musing JuMP for RISE\n",
      "\u001b[39m\u001b[1m\u001b[36mINFO: \u001b[39m\u001b[22m\u001b[36musing JuMP for RISE\n",
      "\u001b[39m\u001b[1m\u001b[36mINFO: \u001b[39m\u001b[22m\u001b[36musing JuMP for RISE\n",
      "\u001b[39m\u001b[1m\u001b[36mINFO: \u001b[39m\u001b[22m\u001b[36musing JuMP for RISE\n",
      "\u001b[39m\u001b[1m\u001b[36mINFO: \u001b[39m\u001b[22m\u001b[36musing JuMP for RISE\n",
      "\u001b[39m\u001b[1m\u001b[36mINFO: \u001b[39m\u001b[22m\u001b[36musing JuMP for RISE\n",
      "\u001b[39m\u001b[1m\u001b[36mINFO: \u001b[39m\u001b[22m\u001b[36musing JuMP for RISE\n",
      "\u001b[39m\u001b[1m\u001b[36mINFO: \u001b[39m\u001b[22m\u001b[36musing coordinate descent solver for RISE to learn Glauber dyamics\n",
      "\u001b[39m\u001b[1m\u001b[36mINFO: \u001b[39m\u001b[22m\u001b[36musing coordinate descent solver for RISE to learn Glauber dyamics\n",
      "\u001b[39m\u001b[1m\u001b[36mINFO: \u001b[39m\u001b[22m\u001b[36musing coordinate descent solver for RISE to learn Glauber dyamics\n",
      "\u001b[39m\u001b[1m\u001b[36mINFO: \u001b[39m\u001b[22m\u001b[36musing coordinate descent solver for RISE to learn Glauber dyamics\n",
      "\u001b[39m\u001b[1m\u001b[36mINFO: \u001b[39m\u001b[22m\u001b[36musing coordinate descent solver for RISE to learn Glauber dyamics\n",
      "\u001b[39m\u001b[1m\u001b[36mINFO: \u001b[39m\u001b[22m\u001b[36musing coordinate descent solver for RISE to learn Glauber dyamics\n",
      "\u001b[39m\u001b[1m\u001b[36mINFO: \u001b[39m\u001b[22m\u001b[36musing coordinate descent solver for RISE to learn Glauber dyamics\n",
      "\u001b[39m\u001b[1m\u001b[36mINFO: \u001b[39m\u001b[22m\u001b[36musing coordinate descent solver for RISE to learn Glauber dyamics\n",
      "\u001b[39m\u001b[1m\u001b[36mINFO: \u001b[39m\u001b[22m\u001b[36musing coordinate descent solver for RISE to learn Glauber dyamics\n",
      "\u001b[39m\u001b[1m\u001b[36mINFO: \u001b[39m\u001b[22m\u001b[36musing coordinate descent solver for RISE to learn Glauber dyamics\n",
      "\u001b[39m"
     ]
    },
    {
     "name": "stdout",
     "output_type": "stream",
     "text": [
      "Time for ipopt = 0.1155540305\n",
      "Time for CD = 0.12151291\n",
      "n_samples = 4\n"
     ]
    },
    {
     "name": "stderr",
     "output_type": "stream",
     "text": [
      "\u001b[1m\u001b[36mINFO: \u001b[39m\u001b[22m\u001b[36massuming spin alphabet\n",
      "\u001b[39m\u001b[1m\u001b[36mINFO: \u001b[39m\u001b[22m\u001b[36musing Glauber dynamics v1 to generate T-regime samples\n",
      "\u001b[39m\u001b[1m\u001b[36mINFO: \u001b[39m\u001b[22m\u001b[36musing JuMP for RISE\n",
      "\u001b[39m\u001b[1m\u001b[36mINFO: \u001b[39m\u001b[22m\u001b[36musing JuMP for RISE\n",
      "\u001b[39m\u001b[1m\u001b[36mINFO: \u001b[39m\u001b[22m\u001b[36musing JuMP for RISE\n",
      "\u001b[39m\u001b[1m\u001b[36mINFO: \u001b[39m\u001b[22m\u001b[36musing JuMP for RISE\n",
      "\u001b[39m\u001b[1m\u001b[36mINFO: \u001b[39m\u001b[22m\u001b[36musing JuMP for RISE\n",
      "\u001b[39m\u001b[1m\u001b[36mINFO: \u001b[39m\u001b[22m\u001b[36musing JuMP for RISE\n",
      "\u001b[39m\u001b[1m\u001b[36mINFO: \u001b[39m\u001b[22m\u001b[36musing JuMP for RISE\n",
      "\u001b[39m\u001b[1m\u001b[36mINFO: \u001b[39m\u001b[22m\u001b[36musing JuMP for RISE\n",
      "\u001b[39m\u001b[1m\u001b[36mINFO: \u001b[39m\u001b[22m\u001b[36musing JuMP for RISE\n",
      "\u001b[39m\u001b[1m\u001b[36mINFO: \u001b[39m\u001b[22m\u001b[36musing JuMP for RISE\n",
      "\u001b[39m\u001b[1m\u001b[36mINFO: \u001b[39m\u001b[22m\u001b[36musing coordinate descent solver for RISE to learn Glauber dyamics\n",
      "\u001b[39m\u001b[1m\u001b[36mINFO: \u001b[39m\u001b[22m\u001b[36musing coordinate descent solver for RISE to learn Glauber dyamics\n",
      "\u001b[39m\u001b[1m\u001b[36mINFO: \u001b[39m\u001b[22m\u001b[36musing coordinate descent solver for RISE to learn Glauber dyamics\n",
      "\u001b[39m\u001b[1m\u001b[36mINFO: \u001b[39m\u001b[22m\u001b[36musing coordinate descent solver for RISE to learn Glauber dyamics\n",
      "\u001b[39m\u001b[1m\u001b[36mINFO: \u001b[39m\u001b[22m\u001b[36musing coordinate descent solver for RISE to learn Glauber dyamics\n",
      "\u001b[39m\u001b[1m\u001b[36mINFO: \u001b[39m\u001b[22m\u001b[36musing coordinate descent solver for RISE to learn Glauber dyamics\n",
      "\u001b[39m\u001b[1m\u001b[36mINFO: \u001b[39m\u001b[22m\u001b[36musing coordinate descent solver for RISE to learn Glauber dyamics\n",
      "\u001b[39m\u001b[1m\u001b[36mINFO: \u001b[39m\u001b[22m\u001b[36musing coordinate descent solver for RISE to learn Glauber dyamics\n",
      "\u001b[39m\u001b[1m\u001b[36mINFO: \u001b[39m\u001b[22m\u001b[36musing coordinate descent solver for RISE to learn Glauber dyamics\n",
      "\u001b[39m\u001b[1m\u001b[36mINFO: \u001b[39m\u001b[22m\u001b[36musing coordinate descent solver for RISE to learn Glauber dyamics\n",
      "\u001b[39m"
     ]
    },
    {
     "name": "stdout",
     "output_type": "stream",
     "text": [
      "Time for ipopt = 0.0973372425\n",
      "Time for CD = 0.0435172235\n",
      "n_samples = 5\n"
     ]
    },
    {
     "name": "stderr",
     "output_type": "stream",
     "text": [
      "\u001b[1m\u001b[36mINFO: \u001b[39m\u001b[22m\u001b[36massuming spin alphabet\n",
      "\u001b[39m\u001b[1m\u001b[36mINFO: \u001b[39m\u001b[22m\u001b[36musing Glauber dynamics v1 to generate T-regime samples\n",
      "\u001b[39m\u001b[1m\u001b[36mINFO: \u001b[39m\u001b[22m\u001b[36musing JuMP for RISE\n",
      "\u001b[39m\u001b[1m\u001b[36mINFO: \u001b[39m\u001b[22m\u001b[36musing JuMP for RISE\n",
      "\u001b[39m\u001b[1m\u001b[36mINFO: \u001b[39m\u001b[22m\u001b[36musing JuMP for RISE\n",
      "\u001b[39m\u001b[1m\u001b[36mINFO: \u001b[39m\u001b[22m\u001b[36musing JuMP for RISE\n",
      "\u001b[39m\u001b[1m\u001b[36mINFO: \u001b[39m\u001b[22m\u001b[36musing JuMP for RISE\n",
      "\u001b[39m\u001b[1m\u001b[36mINFO: \u001b[39m\u001b[22m\u001b[36musing JuMP for RISE\n",
      "\u001b[39m\u001b[1m\u001b[36mINFO: \u001b[39m\u001b[22m\u001b[36musing JuMP for RISE\n",
      "\u001b[39m\u001b[1m\u001b[36mINFO: \u001b[39m\u001b[22m\u001b[36musing JuMP for RISE\n",
      "\u001b[39m\u001b[1m\u001b[36mINFO: \u001b[39m\u001b[22m\u001b[36musing JuMP for RISE\n",
      "\u001b[39m\u001b[1m\u001b[36mINFO: \u001b[39m\u001b[22m\u001b[36musing JuMP for RISE\n",
      "\u001b[39m\u001b[1m\u001b[36mINFO: \u001b[39m\u001b[22m\u001b[36musing coordinate descent solver for RISE to learn Glauber dyamics\n",
      "\u001b[39m\u001b[1m\u001b[36mINFO: \u001b[39m\u001b[22m\u001b[36musing coordinate descent solver for RISE to learn Glauber dyamics\n",
      "\u001b[39m\u001b[1m\u001b[36mINFO: \u001b[39m\u001b[22m\u001b[36musing coordinate descent solver for RISE to learn Glauber dyamics\n",
      "\u001b[39m\u001b[1m\u001b[36mINFO: \u001b[39m\u001b[22m\u001b[36musing coordinate descent solver for RISE to learn Glauber dyamics\n",
      "\u001b[39m\u001b[1m\u001b[36mINFO: \u001b[39m\u001b[22m\u001b[36musing coordinate descent solver for RISE to learn Glauber dyamics\n",
      "\u001b[39m\u001b[1m\u001b[36mINFO: \u001b[39m\u001b[22m\u001b[36musing coordinate descent solver for RISE to learn Glauber dyamics\n",
      "\u001b[39m\u001b[1m\u001b[36mINFO: \u001b[39m\u001b[22m\u001b[36musing coordinate descent solver for RISE to learn Glauber dyamics\n",
      "\u001b[39m\u001b[1m\u001b[36mINFO: \u001b[39m\u001b[22m\u001b[36musing coordinate descent solver for RISE to learn Glauber dyamics\n",
      "\u001b[39m\u001b[1m\u001b[36mINFO: \u001b[39m\u001b[22m\u001b[36musing coordinate descent solver for RISE to learn Glauber dyamics\n",
      "\u001b[39m\u001b[1m\u001b[36mINFO: \u001b[39m\u001b[22m\u001b[36musing coordinate descent solver for RISE to learn Glauber dyamics\n",
      "\u001b[39m"
     ]
    },
    {
     "name": "stdout",
     "output_type": "stream",
     "text": [
      "Time for ipopt = 0.1106420175\n",
      "Time for CD = 0.042083299000000005\n",
      "n_spins = 2\n",
      "n_samples = 1\n"
     ]
    },
    {
     "name": "stderr",
     "output_type": "stream",
     "text": [
      "\u001b[1m\u001b[36mINFO: \u001b[39m\u001b[22m\u001b[36massuming spin alphabet\n",
      "\u001b[39m\u001b[1m\u001b[36mINFO: \u001b[39m\u001b[22m\u001b[36musing Glauber dynamics v1 to generate T-regime samples\n",
      "\u001b[39m\u001b[1m\u001b[36mINFO: \u001b[39m\u001b[22m\u001b[36musing JuMP for RISE\n",
      "\u001b[39m\u001b[1m\u001b[36mINFO: \u001b[39m\u001b[22m\u001b[36musing JuMP for RISE\n",
      "\u001b[39m\u001b[1m\u001b[36mINFO: \u001b[39m\u001b[22m\u001b[36musing JuMP for RISE\n",
      "\u001b[39m\u001b[1m\u001b[36mINFO: \u001b[39m\u001b[22m\u001b[36musing JuMP for RISE\n",
      "\u001b[39m\u001b[1m\u001b[36mINFO: \u001b[39m\u001b[22m\u001b[36musing JuMP for RISE\n",
      "\u001b[39m\u001b[1m\u001b[36mINFO: \u001b[39m\u001b[22m\u001b[36musing JuMP for RISE\n",
      "\u001b[39m\u001b[1m\u001b[36mINFO: \u001b[39m\u001b[22m\u001b[36musing JuMP for RISE\n",
      "\u001b[39m\u001b[1m\u001b[36mINFO: \u001b[39m\u001b[22m\u001b[36musing JuMP for RISE\n",
      "\u001b[39m\u001b[1m\u001b[36mINFO: \u001b[39m\u001b[22m\u001b[36musing JuMP for RISE\n",
      "\u001b[39m\u001b[1m\u001b[36mINFO: \u001b[39m\u001b[22m\u001b[36musing JuMP for RISE\n",
      "\u001b[39m\u001b[1m\u001b[36mINFO: \u001b[39m\u001b[22m\u001b[36musing coordinate descent solver for RISE to learn Glauber dyamics\n",
      "\u001b[39m\u001b[1m\u001b[36mINFO: \u001b[39m\u001b[22m\u001b[36musing coordinate descent solver for RISE to learn Glauber dyamics\n",
      "\u001b[39m\u001b[1m\u001b[36mINFO: \u001b[39m\u001b[22m\u001b[36musing coordinate descent solver for RISE to learn Glauber dyamics\n",
      "\u001b[39m\u001b[1m\u001b[36mINFO: \u001b[39m\u001b[22m\u001b[36musing coordinate descent solver for RISE to learn Glauber dyamics\n",
      "\u001b[39m\u001b[1m\u001b[36mINFO: \u001b[39m\u001b[22m\u001b[36musing coordinate descent solver for RISE to learn Glauber dyamics\n",
      "\u001b[39m\u001b[1m\u001b[36mINFO: \u001b[39m\u001b[22m\u001b[36musing coordinate descent solver for RISE to learn Glauber dyamics\n",
      "\u001b[39m\u001b[1m\u001b[36mINFO: \u001b[39m\u001b[22m\u001b[36musing coordinate descent solver for RISE to learn Glauber dyamics\n",
      "\u001b[39m\u001b[1m\u001b[36mINFO: \u001b[39m\u001b[22m\u001b[36musing coordinate descent solver for RISE to learn Glauber dyamics\n",
      "\u001b[39m"
     ]
    },
    {
     "name": "stdout",
     "output_type": "stream",
     "text": [
      "Time for ipopt = 0.2591812445\n",
      "Time for CD = 0.039224431500000004\n",
      "n_samples = 2\n"
     ]
    },
    {
     "name": "stderr",
     "output_type": "stream",
     "text": [
      "\u001b[1m\u001b[36mINFO: \u001b[39m\u001b[22m\u001b[36musing coordinate descent solver for RISE to learn Glauber dyamics\n",
      "\u001b[39m\u001b[1m\u001b[36mINFO: \u001b[39m\u001b[22m\u001b[36musing coordinate descent solver for RISE to learn Glauber dyamics\n",
      "\u001b[39m\u001b[1m\u001b[36mINFO: \u001b[39m\u001b[22m\u001b[36massuming spin alphabet\n",
      "\u001b[39m\u001b[1m\u001b[36mINFO: \u001b[39m\u001b[22m\u001b[36musing Glauber dynamics v1 to generate T-regime samples\n",
      "\u001b[39m\u001b[1m\u001b[36mINFO: \u001b[39m\u001b[22m\u001b[36musing JuMP for RISE\n",
      "\u001b[39m\u001b[1m\u001b[36mINFO: \u001b[39m\u001b[22m\u001b[36musing JuMP for RISE\n",
      "\u001b[39m\u001b[1m\u001b[36mINFO: \u001b[39m\u001b[22m\u001b[36musing JuMP for RISE\n",
      "\u001b[39m\u001b[1m\u001b[36mINFO: \u001b[39m\u001b[22m\u001b[36musing JuMP for RISE\n",
      "\u001b[39m\u001b[1m\u001b[36mINFO: \u001b[39m\u001b[22m\u001b[36musing JuMP for RISE\n",
      "\u001b[39m\u001b[1m\u001b[36mINFO: \u001b[39m\u001b[22m\u001b[36musing JuMP for RISE\n",
      "\u001b[39m\u001b[1m\u001b[36mINFO: \u001b[39m\u001b[22m\u001b[36musing JuMP for RISE\n",
      "\u001b[39m\u001b[1m\u001b[36mINFO: \u001b[39m\u001b[22m\u001b[36musing JuMP for RISE\n",
      "\u001b[39m\u001b[1m\u001b[36mINFO: \u001b[39m\u001b[22m\u001b[36musing JuMP for RISE\n",
      "\u001b[39m\u001b[1m\u001b[36mINFO: \u001b[39m\u001b[22m\u001b[36musing JuMP for RISE\n",
      "\u001b[39m\u001b[1m\u001b[36mINFO: \u001b[39m\u001b[22m\u001b[36musing coordinate descent solver for RISE to learn Glauber dyamics\n",
      "\u001b[39m\u001b[1m\u001b[36mINFO: \u001b[39m\u001b[22m\u001b[36musing coordinate descent solver for RISE to learn Glauber dyamics\n",
      "\u001b[39m\u001b[1m\u001b[36mINFO: \u001b[39m\u001b[22m\u001b[36musing coordinate descent solver for RISE to learn Glauber dyamics\n",
      "\u001b[39m\u001b[1m\u001b[36mINFO: \u001b[39m\u001b[22m\u001b[36musing coordinate descent solver for RISE to learn Glauber dyamics\n",
      "\u001b[39m\u001b[1m\u001b[36mINFO: \u001b[39m\u001b[22m\u001b[36musing coordinate descent solver for RISE to learn Glauber dyamics\n",
      "\u001b[39m\u001b[1m\u001b[36mINFO: \u001b[39m\u001b[22m\u001b[36musing coordinate descent solver for RISE to learn Glauber dyamics\n",
      "\u001b[39m\u001b[1m\u001b[36mINFO: \u001b[39m\u001b[22m\u001b[36musing coordinate descent solver for RISE to learn Glauber dyamics\n",
      "\u001b[39m\u001b[1m\u001b[36mINFO: \u001b[39m\u001b[22m\u001b[36musing coordinate descent solver for RISE to learn Glauber dyamics\n",
      "\u001b[39m"
     ]
    },
    {
     "name": "stdout",
     "output_type": "stream",
     "text": [
      "Time for ipopt = 0.289720351\n",
      "Time for CD = 0.0613787105\n",
      "n_samples = 3\n"
     ]
    },
    {
     "name": "stderr",
     "output_type": "stream",
     "text": [
      "\u001b[1m\u001b[36mINFO: \u001b[39m\u001b[22m\u001b[36musing coordinate descent solver for RISE to learn Glauber dyamics\n",
      "\u001b[39m\u001b[1m\u001b[36mINFO: \u001b[39m\u001b[22m\u001b[36musing coordinate descent solver for RISE to learn Glauber dyamics\n",
      "\u001b[39m\u001b[1m\u001b[36mINFO: \u001b[39m\u001b[22m\u001b[36massuming spin alphabet\n",
      "\u001b[39m\u001b[1m\u001b[36mINFO: \u001b[39m\u001b[22m\u001b[36musing Glauber dynamics v1 to generate T-regime samples\n",
      "\u001b[39m\u001b[1m\u001b[36mINFO: \u001b[39m\u001b[22m\u001b[36musing JuMP for RISE\n",
      "\u001b[39m\u001b[1m\u001b[36mINFO: \u001b[39m\u001b[22m\u001b[36musing JuMP for RISE\n",
      "\u001b[39m\u001b[1m\u001b[36mINFO: \u001b[39m\u001b[22m\u001b[36musing JuMP for RISE\n",
      "\u001b[39m\u001b[1m\u001b[36mINFO: \u001b[39m\u001b[22m\u001b[36musing JuMP for RISE\n",
      "\u001b[39m\u001b[1m\u001b[36mINFO: \u001b[39m\u001b[22m\u001b[36musing JuMP for RISE\n",
      "\u001b[39m\u001b[1m\u001b[36mINFO: \u001b[39m\u001b[22m\u001b[36musing JuMP for RISE\n",
      "\u001b[39m\u001b[1m\u001b[36mINFO: \u001b[39m\u001b[22m\u001b[36musing JuMP for RISE\n",
      "\u001b[39m\u001b[1m\u001b[36mINFO: \u001b[39m\u001b[22m\u001b[36musing JuMP for RISE\n",
      "\u001b[39m\u001b[1m\u001b[36mINFO: \u001b[39m\u001b[22m\u001b[36musing JuMP for RISE\n",
      "\u001b[39m\u001b[1m\u001b[36mINFO: \u001b[39m\u001b[22m\u001b[36musing JuMP for RISE\n",
      "\u001b[39m\u001b[1m\u001b[36mINFO: \u001b[39m\u001b[22m\u001b[36musing coordinate descent solver for RISE to learn Glauber dyamics\n",
      "\u001b[39m\u001b[1m\u001b[36mINFO: \u001b[39m\u001b[22m\u001b[36musing coordinate descent solver for RISE to learn Glauber dyamics\n",
      "\u001b[39m\u001b[1m\u001b[36mINFO: \u001b[39m\u001b[22m\u001b[36musing coordinate descent solver for RISE to learn Glauber dyamics\n",
      "\u001b[39m\u001b[1m\u001b[36mINFO: \u001b[39m\u001b[22m\u001b[36musing coordinate descent solver for RISE to learn Glauber dyamics\n",
      "\u001b[39m\u001b[1m\u001b[36mINFO: \u001b[39m\u001b[22m\u001b[36musing coordinate descent solver for RISE to learn Glauber dyamics\n",
      "\u001b[39m\u001b[1m\u001b[36mINFO: \u001b[39m\u001b[22m\u001b[36musing coordinate descent solver for RISE to learn Glauber dyamics\n",
      "\u001b[39m\u001b[1m\u001b[36mINFO: \u001b[39m\u001b[22m\u001b[36musing coordinate descent solver for RISE to learn Glauber dyamics\n",
      "\u001b[39m\u001b[1m\u001b[36mINFO: \u001b[39m\u001b[22m\u001b[36musing coordinate descent solver for RISE to learn Glauber dyamics\n",
      "\u001b[39m"
     ]
    },
    {
     "name": "stdout",
     "output_type": "stream",
     "text": [
      "Time for ipopt = 0.2171784145\n",
      "Time for CD = 0.043615812500000004\n",
      "n_samples = 4\n"
     ]
    },
    {
     "name": "stderr",
     "output_type": "stream",
     "text": [
      "\u001b[1m\u001b[36mINFO: \u001b[39m\u001b[22m\u001b[36musing coordinate descent solver for RISE to learn Glauber dyamics\n",
      "\u001b[39m\u001b[1m\u001b[36mINFO: \u001b[39m\u001b[22m\u001b[36musing coordinate descent solver for RISE to learn Glauber dyamics\n",
      "\u001b[39m\u001b[1m\u001b[36mINFO: \u001b[39m\u001b[22m\u001b[36massuming spin alphabet\n",
      "\u001b[39m\u001b[1m\u001b[36mINFO: \u001b[39m\u001b[22m\u001b[36musing Glauber dynamics v1 to generate T-regime samples\n",
      "\u001b[39m\u001b[1m\u001b[36mINFO: \u001b[39m\u001b[22m\u001b[36musing JuMP for RISE\n",
      "\u001b[39m\u001b[1m\u001b[36mINFO: \u001b[39m\u001b[22m\u001b[36musing JuMP for RISE\n",
      "\u001b[39m\u001b[1m\u001b[36mINFO: \u001b[39m\u001b[22m\u001b[36musing JuMP for RISE\n",
      "\u001b[39m\u001b[1m\u001b[36mINFO: \u001b[39m\u001b[22m\u001b[36musing JuMP for RISE\n",
      "\u001b[39m\u001b[1m\u001b[36mINFO: \u001b[39m\u001b[22m\u001b[36musing JuMP for RISE\n",
      "\u001b[39m\u001b[1m\u001b[36mINFO: \u001b[39m\u001b[22m\u001b[36musing JuMP for RISE\n",
      "\u001b[39m\u001b[1m\u001b[36mINFO: \u001b[39m\u001b[22m\u001b[36musing JuMP for RISE\n",
      "\u001b[39m\u001b[1m\u001b[36mINFO: \u001b[39m\u001b[22m\u001b[36musing JuMP for RISE\n",
      "\u001b[39m\u001b[1m\u001b[36mINFO: \u001b[39m\u001b[22m\u001b[36musing JuMP for RISE\n",
      "\u001b[39m\u001b[1m\u001b[36mINFO: \u001b[39m\u001b[22m\u001b[36musing JuMP for RISE\n",
      "\u001b[39m\u001b[1m\u001b[36mINFO: \u001b[39m\u001b[22m\u001b[36musing coordinate descent solver for RISE to learn Glauber dyamics\n",
      "\u001b[39m\u001b[1m\u001b[36mINFO: \u001b[39m\u001b[22m\u001b[36musing coordinate descent solver for RISE to learn Glauber dyamics\n",
      "\u001b[39m\u001b[1m\u001b[36mINFO: \u001b[39m\u001b[22m\u001b[36musing coordinate descent solver for RISE to learn Glauber dyamics\n",
      "\u001b[39m\u001b[1m\u001b[36mINFO: \u001b[39m\u001b[22m\u001b[36musing coordinate descent solver for RISE to learn Glauber dyamics\n",
      "\u001b[39m\u001b[1m\u001b[36mINFO: \u001b[39m\u001b[22m\u001b[36musing coordinate descent solver for RISE to learn Glauber dyamics\n",
      "\u001b[39m\u001b[1m\u001b[36mINFO: \u001b[39m\u001b[22m\u001b[36musing coordinate descent solver for RISE to learn Glauber dyamics\n",
      "\u001b[39m\u001b[1m\u001b[36mINFO: \u001b[39m\u001b[22m\u001b[36musing coordinate descent solver for RISE to learn Glauber dyamics\n",
      "\u001b[39m\u001b[1m\u001b[36mINFO: \u001b[39m\u001b[22m\u001b[36musing coordinate descent solver for RISE to learn Glauber dyamics\n",
      "\u001b[39m\u001b[1m\u001b[36mINFO: \u001b[39m\u001b[22m\u001b[36musing coordinate descent solver for RISE to learn Glauber dyamics\n",
      "\u001b[39m\u001b[1m\u001b[36mINFO: \u001b[39m\u001b[22m\u001b[36musing coordinate descent solver for RISE to learn Glauber dyamics\n",
      "\u001b[39m"
     ]
    },
    {
     "name": "stdout",
     "output_type": "stream",
     "text": [
      "Time for ipopt = 0.36995281999999996\n",
      "Time for CD = 0.0948197405\n",
      "n_samples = 5\n"
     ]
    },
    {
     "name": "stderr",
     "output_type": "stream",
     "text": [
      "\u001b[1m\u001b[36mINFO: \u001b[39m\u001b[22m\u001b[36massuming spin alphabet\n",
      "\u001b[39m\u001b[1m\u001b[36mINFO: \u001b[39m\u001b[22m\u001b[36musing Glauber dynamics v1 to generate T-regime samples\n",
      "\u001b[39m\u001b[1m\u001b[36mINFO: \u001b[39m\u001b[22m\u001b[36musing JuMP for RISE\n",
      "\u001b[39m\u001b[1m\u001b[36mINFO: \u001b[39m\u001b[22m\u001b[36musing JuMP for RISE\n",
      "\u001b[39m\u001b[1m\u001b[36mINFO: \u001b[39m\u001b[22m\u001b[36musing JuMP for RISE\n",
      "\u001b[39m\u001b[1m\u001b[36mINFO: \u001b[39m\u001b[22m\u001b[36musing JuMP for RISE\n",
      "\u001b[39m\u001b[1m\u001b[36mINFO: \u001b[39m\u001b[22m\u001b[36musing JuMP for RISE\n",
      "\u001b[39m\u001b[1m\u001b[36mINFO: \u001b[39m\u001b[22m\u001b[36musing JuMP for RISE\n",
      "\u001b[39m\u001b[1m\u001b[36mINFO: \u001b[39m\u001b[22m\u001b[36musing JuMP for RISE\n",
      "\u001b[39m\u001b[1m\u001b[36mINFO: \u001b[39m\u001b[22m\u001b[36musing JuMP for RISE\n",
      "\u001b[39m\u001b[1m\u001b[36mINFO: \u001b[39m\u001b[22m\u001b[36musing JuMP for RISE\n",
      "\u001b[39m\u001b[1m\u001b[36mINFO: \u001b[39m\u001b[22m\u001b[36musing JuMP for RISE\n",
      "\u001b[39m\u001b[1m\u001b[36mINFO: \u001b[39m\u001b[22m\u001b[36musing coordinate descent solver for RISE to learn Glauber dyamics\n",
      "\u001b[39m\u001b[1m\u001b[36mINFO: \u001b[39m\u001b[22m\u001b[36musing coordinate descent solver for RISE to learn Glauber dyamics\n",
      "\u001b[39m\u001b[1m\u001b[36mINFO: \u001b[39m\u001b[22m\u001b[36musing coordinate descent solver for RISE to learn Glauber dyamics\n",
      "\u001b[39m\u001b[1m\u001b[36mINFO: \u001b[39m\u001b[22m\u001b[36musing coordinate descent solver for RISE to learn Glauber dyamics\n",
      "\u001b[39m\u001b[1m\u001b[36mINFO: \u001b[39m\u001b[22m\u001b[36musing coordinate descent solver for RISE to learn Glauber dyamics\n",
      "\u001b[39m\u001b[1m\u001b[36mINFO: \u001b[39m\u001b[22m\u001b[36musing coordinate descent solver for RISE to learn Glauber dyamics\n",
      "\u001b[39m\u001b[1m\u001b[36mINFO: \u001b[39m\u001b[22m\u001b[36musing coordinate descent solver for RISE to learn Glauber dyamics\n",
      "\u001b[39m\u001b[1m\u001b[36mINFO: \u001b[39m\u001b[22m\u001b[36musing coordinate descent solver for RISE to learn Glauber dyamics\n",
      "\u001b[39m"
     ]
    },
    {
     "name": "stdout",
     "output_type": "stream",
     "text": [
      "Time for ipopt = 0.2734259875\n",
      "Time for CD = 0.052407996\n",
      "n_spins = 3\n",
      "n_samples = 1\n"
     ]
    },
    {
     "name": "stderr",
     "output_type": "stream",
     "text": [
      "\u001b[1m\u001b[36mINFO: \u001b[39m\u001b[22m\u001b[36musing coordinate descent solver for RISE to learn Glauber dyamics\n",
      "\u001b[39m\u001b[1m\u001b[36mINFO: \u001b[39m\u001b[22m\u001b[36musing coordinate descent solver for RISE to learn Glauber dyamics\n",
      "\u001b[39m\u001b[1m\u001b[36mINFO: \u001b[39m\u001b[22m\u001b[36massuming spin alphabet\n",
      "\u001b[39m\u001b[1m\u001b[36mINFO: \u001b[39m\u001b[22m\u001b[36musing Glauber dynamics v1 to generate T-regime samples\n",
      "\u001b[39m\u001b[1m\u001b[36mINFO: \u001b[39m\u001b[22m\u001b[36musing JuMP for RISE\n",
      "\u001b[39m\u001b[1m\u001b[36mINFO: \u001b[39m\u001b[22m\u001b[36musing JuMP for RISE\n",
      "\u001b[39m\u001b[1m\u001b[36mINFO: \u001b[39m\u001b[22m\u001b[36musing JuMP for RISE\n",
      "\u001b[39m\u001b[1m\u001b[36mINFO: \u001b[39m\u001b[22m\u001b[36musing JuMP for RISE\n",
      "\u001b[39m\u001b[1m\u001b[36mINFO: \u001b[39m\u001b[22m\u001b[36musing JuMP for RISE\n",
      "\u001b[39m\u001b[1m\u001b[36mINFO: \u001b[39m\u001b[22m\u001b[36musing JuMP for RISE\n",
      "\u001b[39m\u001b[1m\u001b[36mINFO: \u001b[39m\u001b[22m\u001b[36musing JuMP for RISE\n",
      "\u001b[39m\u001b[1m\u001b[36mINFO: \u001b[39m\u001b[22m\u001b[36musing JuMP for RISE\n",
      "\u001b[39m\u001b[1m\u001b[36mINFO: \u001b[39m\u001b[22m\u001b[36musing JuMP for RISE\n",
      "\u001b[39m\u001b[1m\u001b[36mINFO: \u001b[39m\u001b[22m\u001b[36musing JuMP for RISE\n",
      "\u001b[39m\u001b[1m\u001b[36mINFO: \u001b[39m\u001b[22m\u001b[36musing coordinate descent solver for RISE to learn Glauber dyamics\n",
      "\u001b[39m\u001b[1m\u001b[36mINFO: \u001b[39m\u001b[22m\u001b[36musing coordinate descent solver for RISE to learn Glauber dyamics\n",
      "\u001b[39m\u001b[1m\u001b[36mINFO: \u001b[39m\u001b[22m\u001b[36musing coordinate descent solver for RISE to learn Glauber dyamics\n",
      "\u001b[39m\u001b[1m\u001b[36mINFO: \u001b[39m\u001b[22m\u001b[36musing coordinate descent solver for RISE to learn Glauber dyamics\n",
      "\u001b[39m\u001b[1m\u001b[36mINFO: \u001b[39m\u001b[22m\u001b[36musing coordinate descent solver for RISE to learn Glauber dyamics\n",
      "\u001b[39m\u001b[1m\u001b[36mINFO: \u001b[39m\u001b[22m\u001b[36musing coordinate descent solver for RISE to learn Glauber dyamics\n",
      "\u001b[39m\u001b[1m\u001b[36mINFO: \u001b[39m\u001b[22m\u001b[36musing coordinate descent solver for RISE to learn Glauber dyamics\n",
      "\u001b[39m\u001b[1m\u001b[36mINFO: \u001b[39m\u001b[22m\u001b[36musing coordinate descent solver for RISE to learn Glauber dyamics\n",
      "\u001b[39m\u001b[1m\u001b[36mINFO: \u001b[39m\u001b[22m\u001b[36musing coordinate descent solver for RISE to learn Glauber dyamics\n",
      "\u001b[39m\u001b[1m\u001b[36mINFO: \u001b[39m\u001b[22m\u001b[36musing coordinate descent solver for RISE to learn Glauber dyamics\n",
      "\u001b[39m"
     ]
    },
    {
     "name": "stdout",
     "output_type": "stream",
     "text": [
      "Time for ipopt = 0.45164193350000004\n",
      "Time for CD = 0.0229270255\n",
      "n_samples = 2\n"
     ]
    },
    {
     "name": "stderr",
     "output_type": "stream",
     "text": [
      "\u001b[1m\u001b[36mINFO: \u001b[39m\u001b[22m\u001b[36massuming spin alphabet\n",
      "\u001b[39m\u001b[1m\u001b[36mINFO: \u001b[39m\u001b[22m\u001b[36musing Glauber dynamics v1 to generate T-regime samples\n",
      "\u001b[39m\u001b[1m\u001b[36mINFO: \u001b[39m\u001b[22m\u001b[36musing JuMP for RISE\n",
      "\u001b[39m\u001b[1m\u001b[36mINFO: \u001b[39m\u001b[22m\u001b[36musing JuMP for RISE\n",
      "\u001b[39m\u001b[1m\u001b[36mINFO: \u001b[39m\u001b[22m\u001b[36musing JuMP for RISE\n",
      "\u001b[39m\u001b[1m\u001b[36mINFO: \u001b[39m\u001b[22m\u001b[36musing JuMP for RISE\n",
      "\u001b[39m\u001b[1m\u001b[36mINFO: \u001b[39m\u001b[22m\u001b[36musing JuMP for RISE\n",
      "\u001b[39m\u001b[1m\u001b[36mINFO: \u001b[39m\u001b[22m\u001b[36musing JuMP for RISE\n",
      "\u001b[39m\u001b[1m\u001b[36mINFO: \u001b[39m\u001b[22m\u001b[36musing JuMP for RISE\n",
      "\u001b[39m\u001b[1m\u001b[36mINFO: \u001b[39m\u001b[22m\u001b[36musing JuMP for RISE\n",
      "\u001b[39m\u001b[1m\u001b[36mINFO: \u001b[39m\u001b[22m\u001b[36musing JuMP for RISE\n",
      "\u001b[39m\u001b[1m\u001b[36mINFO: \u001b[39m\u001b[22m\u001b[36musing JuMP for RISE\n",
      "\u001b[39m\u001b[1m\u001b[36mINFO: \u001b[39m\u001b[22m\u001b[36musing coordinate descent solver for RISE to learn Glauber dyamics\n",
      "\u001b[39m\u001b[1m\u001b[36mINFO: \u001b[39m\u001b[22m\u001b[36musing coordinate descent solver for RISE to learn Glauber dyamics\n",
      "\u001b[39m\u001b[1m\u001b[36mINFO: \u001b[39m\u001b[22m\u001b[36musing coordinate descent solver for RISE to learn Glauber dyamics\n",
      "\u001b[39m\u001b[1m\u001b[36mINFO: \u001b[39m\u001b[22m\u001b[36musing coordinate descent solver for RISE to learn Glauber dyamics\n",
      "\u001b[39m\u001b[1m\u001b[36mINFO: \u001b[39m\u001b[22m\u001b[36musing coordinate descent solver for RISE to learn Glauber dyamics\n",
      "\u001b[39m\u001b[1m\u001b[36mINFO: \u001b[39m\u001b[22m\u001b[36musing coordinate descent solver for RISE to learn Glauber dyamics\n",
      "\u001b[39m\u001b[1m\u001b[36mINFO: \u001b[39m\u001b[22m\u001b[36musing coordinate descent solver for RISE to learn Glauber dyamics\n",
      "\u001b[39m\u001b[1m\u001b[36mINFO: \u001b[39m\u001b[22m\u001b[36musing coordinate descent solver for RISE to learn Glauber dyamics\n",
      "\u001b[39m"
     ]
    },
    {
     "name": "stdout",
     "output_type": "stream",
     "text": [
      "Time for ipopt = 0.5148170544999999\n",
      "Time for CD = 0.0309047445\n",
      "n_samples = 3\n"
     ]
    },
    {
     "name": "stderr",
     "output_type": "stream",
     "text": [
      "\u001b[1m\u001b[36mINFO: \u001b[39m\u001b[22m\u001b[36musing coordinate descent solver for RISE to learn Glauber dyamics\n",
      "\u001b[39m\u001b[1m\u001b[36mINFO: \u001b[39m\u001b[22m\u001b[36musing coordinate descent solver for RISE to learn Glauber dyamics\n",
      "\u001b[39m\u001b[1m\u001b[36mINFO: \u001b[39m\u001b[22m\u001b[36massuming spin alphabet\n",
      "\u001b[39m\u001b[1m\u001b[36mINFO: \u001b[39m\u001b[22m\u001b[36musing Glauber dynamics v1 to generate T-regime samples\n",
      "\u001b[39m\u001b[1m\u001b[36mINFO: \u001b[39m\u001b[22m\u001b[36musing JuMP for RISE\n",
      "\u001b[39m\u001b[1m\u001b[36mINFO: \u001b[39m\u001b[22m\u001b[36musing JuMP for RISE\n",
      "\u001b[39m\u001b[1m\u001b[36mINFO: \u001b[39m\u001b[22m\u001b[36musing JuMP for RISE\n",
      "\u001b[39m\u001b[1m\u001b[36mINFO: \u001b[39m\u001b[22m\u001b[36musing JuMP for RISE\n",
      "\u001b[39m\u001b[1m\u001b[36mINFO: \u001b[39m\u001b[22m\u001b[36musing JuMP for RISE\n",
      "\u001b[39m\u001b[1m\u001b[36mINFO: \u001b[39m\u001b[22m\u001b[36musing JuMP for RISE\n",
      "\u001b[39m\u001b[1m\u001b[36mINFO: \u001b[39m\u001b[22m\u001b[36musing JuMP for RISE\n",
      "\u001b[39m\u001b[1m\u001b[36mINFO: \u001b[39m\u001b[22m\u001b[36musing JuMP for RISE\n",
      "\u001b[39m\u001b[1m\u001b[36mINFO: \u001b[39m\u001b[22m\u001b[36musing JuMP for RISE\n",
      "\u001b[39m\u001b[1m\u001b[36mINFO: \u001b[39m\u001b[22m\u001b[36musing JuMP for RISE\n",
      "\u001b[39m\u001b[1m\u001b[36mINFO: \u001b[39m\u001b[22m\u001b[36musing coordinate descent solver for RISE to learn Glauber dyamics\n",
      "\u001b[39m\u001b[1m\u001b[36mINFO: \u001b[39m\u001b[22m\u001b[36musing coordinate descent solver for RISE to learn Glauber dyamics\n",
      "\u001b[39m\u001b[1m\u001b[36mINFO: \u001b[39m\u001b[22m\u001b[36musing coordinate descent solver for RISE to learn Glauber dyamics\n",
      "\u001b[39m\u001b[1m\u001b[36mINFO: \u001b[39m\u001b[22m\u001b[36musing coordinate descent solver for RISE to learn Glauber dyamics\n",
      "\u001b[39m\u001b[1m\u001b[36mINFO: \u001b[39m\u001b[22m\u001b[36musing coordinate descent solver for RISE to learn Glauber dyamics\n",
      "\u001b[39m\u001b[1m\u001b[36mINFO: \u001b[39m\u001b[22m\u001b[36musing coordinate descent solver for RISE to learn Glauber dyamics\n",
      "\u001b[39m\u001b[1m\u001b[36mINFO: \u001b[39m\u001b[22m\u001b[36musing coordinate descent solver for RISE to learn Glauber dyamics\n",
      "\u001b[39m\u001b[1m\u001b[36mINFO: \u001b[39m\u001b[22m\u001b[36musing coordinate descent solver for RISE to learn Glauber dyamics\n",
      "\u001b[39m\u001b[1m\u001b[36mINFO: \u001b[39m\u001b[22m\u001b[36musing coordinate descent solver for RISE to learn Glauber dyamics\n",
      "\u001b[39m\u001b[1m\u001b[36mINFO: \u001b[39m\u001b[22m\u001b[36musing coordinate descent solver for RISE to learn Glauber dyamics\n",
      "\u001b[39m"
     ]
    },
    {
     "name": "stdout",
     "output_type": "stream",
     "text": [
      "Time for ipopt = 0.5368993035\n",
      "Time for CD = 0.0754352445\n",
      "n_samples = 4\n"
     ]
    },
    {
     "name": "stderr",
     "output_type": "stream",
     "text": [
      "\u001b[1m\u001b[36mINFO: \u001b[39m\u001b[22m\u001b[36massuming spin alphabet\n",
      "\u001b[39m\u001b[1m\u001b[36mINFO: \u001b[39m\u001b[22m\u001b[36musing Glauber dynamics v1 to generate T-regime samples\n",
      "\u001b[39m\u001b[1m\u001b[36mINFO: \u001b[39m\u001b[22m\u001b[36musing JuMP for RISE\n",
      "\u001b[39m\u001b[1m\u001b[36mINFO: \u001b[39m\u001b[22m\u001b[36musing JuMP for RISE\n",
      "\u001b[39m\u001b[1m\u001b[36mINFO: \u001b[39m\u001b[22m\u001b[36musing JuMP for RISE\n",
      "\u001b[39m\u001b[1m\u001b[36mINFO: \u001b[39m\u001b[22m\u001b[36musing JuMP for RISE\n",
      "\u001b[39m\u001b[1m\u001b[36mINFO: \u001b[39m\u001b[22m\u001b[36musing JuMP for RISE\n",
      "\u001b[39m\u001b[1m\u001b[36mINFO: \u001b[39m\u001b[22m\u001b[36musing JuMP for RISE\n",
      "\u001b[39m\u001b[1m\u001b[36mINFO: \u001b[39m\u001b[22m\u001b[36musing JuMP for RISE\n",
      "\u001b[39m\u001b[1m\u001b[36mINFO: \u001b[39m\u001b[22m\u001b[36musing JuMP for RISE\n",
      "\u001b[39m\u001b[1m\u001b[36mINFO: \u001b[39m\u001b[22m\u001b[36musing JuMP for RISE\n",
      "\u001b[39m\u001b[1m\u001b[36mINFO: \u001b[39m\u001b[22m\u001b[36musing JuMP for RISE\n",
      "\u001b[39m\u001b[1m\u001b[36mINFO: \u001b[39m\u001b[22m\u001b[36musing coordinate descent solver for RISE to learn Glauber dyamics\n",
      "\u001b[39m\u001b[1m\u001b[36mINFO: \u001b[39m\u001b[22m\u001b[36musing coordinate descent solver for RISE to learn Glauber dyamics\n",
      "\u001b[39m\u001b[1m\u001b[36mINFO: \u001b[39m\u001b[22m\u001b[36musing coordinate descent solver for RISE to learn Glauber dyamics\n",
      "\u001b[39m\u001b[1m\u001b[36mINFO: \u001b[39m\u001b[22m\u001b[36musing coordinate descent solver for RISE to learn Glauber dyamics\n",
      "\u001b[39m\u001b[1m\u001b[36mINFO: \u001b[39m\u001b[22m\u001b[36musing coordinate descent solver for RISE to learn Glauber dyamics\n",
      "\u001b[39m\u001b[1m\u001b[36mINFO: \u001b[39m\u001b[22m\u001b[36musing coordinate descent solver for RISE to learn Glauber dyamics\n",
      "\u001b[39m\u001b[1m\u001b[36mINFO: \u001b[39m\u001b[22m\u001b[36musing coordinate descent solver for RISE to learn Glauber dyamics\n",
      "\u001b[39m\u001b[1m\u001b[36mINFO: \u001b[39m\u001b[22m\u001b[36musing coordinate descent solver for RISE to learn Glauber dyamics\n",
      "\u001b[39m\u001b[1m\u001b[36mINFO: \u001b[39m\u001b[22m\u001b[36musing coordinate descent solver for RISE to learn Glauber dyamics\n",
      "\u001b[39m\u001b[1m\u001b[36mINFO: \u001b[39m\u001b[22m\u001b[36musing coordinate descent solver for RISE to learn Glauber dyamics\n",
      "\u001b[39m"
     ]
    },
    {
     "name": "stdout",
     "output_type": "stream",
     "text": [
      "Time for ipopt = 0.8761744225\n",
      "Time for CD = 0.17573494550000002\n",
      "n_samples = 5\n"
     ]
    },
    {
     "name": "stderr",
     "output_type": "stream",
     "text": [
      "\u001b[1m\u001b[36mINFO: \u001b[39m\u001b[22m\u001b[36massuming spin alphabet\n",
      "\u001b[39m\u001b[1m\u001b[36mINFO: \u001b[39m\u001b[22m\u001b[36musing Glauber dynamics v1 to generate T-regime samples\n",
      "\u001b[39m\u001b[1m\u001b[36mINFO: \u001b[39m\u001b[22m\u001b[36musing JuMP for RISE\n",
      "\u001b[39m\u001b[1m\u001b[36mINFO: \u001b[39m\u001b[22m\u001b[36musing JuMP for RISE\n",
      "\u001b[39m\u001b[1m\u001b[36mINFO: \u001b[39m\u001b[22m\u001b[36musing JuMP for RISE\n",
      "\u001b[39m\u001b[1m\u001b[36mINFO: \u001b[39m\u001b[22m\u001b[36musing JuMP for RISE\n",
      "\u001b[39m\u001b[1m\u001b[36mINFO: \u001b[39m\u001b[22m\u001b[36musing JuMP for RISE\n",
      "\u001b[39m\u001b[1m\u001b[36mINFO: \u001b[39m\u001b[22m\u001b[36musing JuMP for RISE\n",
      "\u001b[39m\u001b[1m\u001b[36mINFO: \u001b[39m\u001b[22m\u001b[36musing JuMP for RISE\n",
      "\u001b[39m\u001b[1m\u001b[36mINFO: \u001b[39m\u001b[22m\u001b[36musing JuMP for RISE\n",
      "\u001b[39m\u001b[1m\u001b[36mINFO: \u001b[39m\u001b[22m\u001b[36musing JuMP for RISE\n",
      "\u001b[39m\u001b[1m\u001b[36mINFO: \u001b[39m\u001b[22m\u001b[36musing JuMP for RISE\n",
      "\u001b[39m\u001b[1m\u001b[36mINFO: \u001b[39m\u001b[22m\u001b[36musing coordinate descent solver for RISE to learn Glauber dyamics\n",
      "\u001b[39m\u001b[1m\u001b[36mINFO: \u001b[39m\u001b[22m\u001b[36musing coordinate descent solver for RISE to learn Glauber dyamics\n",
      "\u001b[39m\u001b[1m\u001b[36mINFO: \u001b[39m\u001b[22m\u001b[36musing coordinate descent solver for RISE to learn Glauber dyamics\n",
      "\u001b[39m\u001b[1m\u001b[36mINFO: \u001b[39m\u001b[22m\u001b[36musing coordinate descent solver for RISE to learn Glauber dyamics\n",
      "\u001b[39m\u001b[1m\u001b[36mINFO: \u001b[39m\u001b[22m\u001b[36musing coordinate descent solver for RISE to learn Glauber dyamics\n",
      "\u001b[39m\u001b[1m\u001b[36mINFO: \u001b[39m\u001b[22m\u001b[36musing coordinate descent solver for RISE to learn Glauber dyamics\n",
      "\u001b[39m\u001b[1m\u001b[36mINFO: \u001b[39m\u001b[22m\u001b[36musing coordinate descent solver for RISE to learn Glauber dyamics\n",
      "\u001b[39m\u001b[1m\u001b[36mINFO: \u001b[39m\u001b[22m\u001b[36musing coordinate descent solver for RISE to learn Glauber dyamics\n",
      "\u001b[39m\u001b[1m\u001b[36mINFO: \u001b[39m\u001b[22m\u001b[36musing coordinate descent solver for RISE to learn Glauber dyamics\n",
      "\u001b[39m\u001b[1m\u001b[36mINFO: \u001b[39m\u001b[22m\u001b[36musing coordinate descent solver for RISE to learn Glauber dyamics\n",
      "\u001b[39m"
     ]
    },
    {
     "name": "stdout",
     "output_type": "stream",
     "text": [
      "Time for ipopt = 0.6832552285\n",
      "Time for CD = 0.16715211400000002\n",
      "n_spins = 4\n",
      "n_samples = 1\n"
     ]
    },
    {
     "name": "stderr",
     "output_type": "stream",
     "text": [
      "\u001b[1m\u001b[36mINFO: \u001b[39m\u001b[22m\u001b[36massuming spin alphabet\n",
      "\u001b[39m\u001b[1m\u001b[36mINFO: \u001b[39m\u001b[22m\u001b[36musing Glauber dynamics v1 to generate T-regime samples\n",
      "\u001b[39m"
     ]
    },
    {
     "ename": "LoadError",
     "evalue": "\u001b[91mInterruptException:\u001b[39m",
     "output_type": "error",
     "traceback": [
      "\u001b[91mInterruptException:\u001b[39m",
      "",
      "Stacktrace:",
      " [1] \u001b[1mdec\u001b[22m\u001b[22m\u001b[1m(\u001b[22m\u001b[22m::UInt64, ::Int64, ::Bool\u001b[1m)\u001b[22m\u001b[22m at \u001b[1m./intfuncs.jl:532\u001b[22m\u001b[22m",
      " [2] \u001b[1mshow\u001b[22m\u001b[22m\u001b[1m(\u001b[22m\u001b[22m::IOContext{Base.AbstractIOBuffer{Array{UInt8,1}}}, ::Int64\u001b[1m)\u001b[22m\u001b[22m at \u001b[1m./show.jl:259\u001b[22m\u001b[22m",
      " [3] \u001b[1mshow_delim_array\u001b[22m\u001b[22m\u001b[1m(\u001b[22m\u001b[22m::IOContext{Base.AbstractIOBuffer{Array{UInt8,1}}}, ::Array{Int64,1}, ::String, ::String, ::String, ::Bool, ::Int64, ::Int64\u001b[1m)\u001b[22m\u001b[22m at \u001b[1m./show.jl:352\u001b[22m\u001b[22m",
      " [4] \u001b[1mshow_delim_array\u001b[22m\u001b[22m\u001b[1m(\u001b[22m\u001b[22m::IOContext{Base.AbstractIOBuffer{Array{UInt8,1}}}, ::Array{Int64,1}, ::String, ::String, ::String, ::Bool\u001b[1m)\u001b[22m\u001b[22m at \u001b[1m./show.jl:338\u001b[22m\u001b[22m",
      " [5] \u001b[1mshow_vector\u001b[22m\u001b[22m\u001b[1m(\u001b[22m\u001b[22m::Base.AbstractIOBuffer{Array{UInt8,1}}, ::Array{Int64,1}, ::String, ::String\u001b[1m)\u001b[22m\u001b[22m at \u001b[1m./show.jl:1759\u001b[22m\u001b[22m",
      " [6] \u001b[1m#showarray#263\u001b[22m\u001b[22m\u001b[1m(\u001b[22m\u001b[22m::Bool, ::Function, ::Base.AbstractIOBuffer{Array{UInt8,1}}, ::Array{Int64,1}, ::Bool\u001b[1m)\u001b[22m\u001b[22m at \u001b[1m./show.jl:1676\u001b[22m\u001b[22m",
      " [7] \u001b[1mprint\u001b[22m\u001b[22m\u001b[1m(\u001b[22m\u001b[22m::Base.AbstractIOBuffer{Array{UInt8,1}}, ::Array{Int64,1}\u001b[1m)\u001b[22m\u001b[22m at \u001b[1m./strings/io.jl:29\u001b[22m\u001b[22m",
      " [8] \u001b[1m#print_to_string#229\u001b[22m\u001b[22m\u001b[1m(\u001b[22m\u001b[22m::Void, ::Function, ::Array{Int64,1}, ::Vararg{Array{Int64,1},N} where N\u001b[1m)\u001b[22m\u001b[22m at \u001b[1m./strings/io.jl:102\u001b[22m\u001b[22m",
      " [9] \u001b[1mgibbs_sampling_ising\u001b[22m\u001b[22m\u001b[1m(\u001b[22m\u001b[22m::GraphicalModelLearning.FactorGraph{Int64}, ::Int64, ::GraphicalModelLearning.T_regime\u001b[1m)\u001b[22m\u001b[22m at \u001b[1m/Users/gogol/Dropbox (Personal)/Research/LANL/Code/GraphicalModelLearning/src/sampling.jl:246\u001b[22m\u001b[22m",
      " [10] \u001b[1mgibbs_sampling\u001b[22m\u001b[22m\u001b[1m(\u001b[22m\u001b[22m::GraphicalModelLearning.FactorGraph{Int64}, ::Int64, ::GraphicalModelLearning.T_regime\u001b[1m)\u001b[22m\u001b[22m at \u001b[1m/Users/gogol/Dropbox (Personal)/Research/LANL/Code/GraphicalModelLearning/src/sampling.jl:455\u001b[22m\u001b[22m",
      " [11] \u001b[1mmacro expansion\u001b[22m\u001b[22m at \u001b[1m./In[30]:22\u001b[22m\u001b[22m [inlined]",
      " [12] \u001b[1manonymous\u001b[22m\u001b[22m at \u001b[1m./<missing>:?\u001b[22m\u001b[22m"
     ]
    }
   ],
   "source": [
    "## Start benchmarking\n",
    "t_ipopt = Array{Float64,2}(length(n_spins_array),length(n_samples_array))\n",
    "t_cd = Array{Float64,2}(length(n_spins_array),length(n_samples_array))\n",
    "\n",
    "Ntrial = 10\n",
    "\n",
    "for i = 1:length(n_spins_array)\n",
    "    println(\"n_spins = \", i)\n",
    "    for j = 1:length(n_samples_array)\n",
    "        println(\"n_samples = \", j)\n",
    "        \n",
    "        n_spins = n_spins_array[i]\n",
    "        n_samples = n_samples_array[j]\n",
    "        \n",
    "        # Create random regular graph\n",
    "        rand_reg_gm = random_regular_graph(n_spins,d)\n",
    "        adj_matrix = adjacency_matrix(rand_reg_gm)\n",
    "        adj_matrix = full(adj_matrix)\n",
    "        model = FactorGraph(adj_matrix)\n",
    "        \n",
    "        # Create samples\n",
    "        samples_T, samples_mixed = gibbs_sampling(model, n_samples, T_regime())\n",
    "        \n",
    "        # Benchmarking\n",
    "        t_ipopt[i,j] = benchmark_gml(samples_T, Ntrial, RISE(), NLP())\n",
    "        t_cd[i,j] = benchmark_gml(samples_T, Ntrial, RISE(), CD(1e-12))\n",
    "        \n",
    "        println(\"Time for ipopt = \", t_ipopt[i,j])\n",
    "        println(\"Time for CD = \", t_cd[i,j])\n",
    "    end\n",
    "end"
   ]
  },
  {
   "cell_type": "code",
   "execution_count": 31,
   "metadata": {},
   "outputs": [
    {
     "data": {
      "text/plain": [
       "5×5 Array{Float64,2}:\n",
       " 0.100355      0.103886      0.115554      0.0973372     0.110642    \n",
       " 0.259181      0.28972       0.217178      0.369953      0.273426    \n",
       " 0.451642      0.514817      0.536899      0.876174      0.683255    \n",
       " 2.42092e-322  0.0           2.16661e-314  4.94066e-324  1.10795e-312\n",
       " 9.88131e-324  2.16661e-314  4.94066e-324  2.42092e-322  1.05133e-153"
      ]
     },
     "metadata": {},
     "output_type": "display_data"
    }
   ],
   "source": [
    "display(t_ipopt)"
   ]
  },
  {
   "cell_type": "code",
   "execution_count": 32,
   "metadata": {},
   "outputs": [
    {
     "data": {
      "text/plain": [
       "5×5 Array{Float64,2}:\n",
       " 0.0325949     0.0541384       0.121513      0.0435172     0.0420833   \n",
       " 0.0392244     0.0613787       0.0436158     0.0948197     0.052408    \n",
       " 0.022927      0.0309047       0.0754352     0.175735      0.167152    \n",
       " 2.16661e-314  4.94066e-324    2.16849e-314  0.0           2.16661e-314\n",
       " 9.88131e-324  1.10795e-312  NaN             2.16661e-314  4.94066e-324"
      ]
     },
     "metadata": {},
     "output_type": "display_data"
    }
   ],
   "source": [
    "display(t_cd)"
   ]
  },
  {
   "cell_type": "code",
   "execution_count": 33,
   "metadata": {},
   "outputs": [
    {
     "ename": "LoadError",
     "evalue": "\u001b[91mArgumentError: Module PyPlot not found in current path.\nRun `Pkg.add(\"PyPlot\")` to install the PyPlot package.\u001b[39m",
     "output_type": "error",
     "traceback": [
      "\u001b[91mArgumentError: Module PyPlot not found in current path.\nRun `Pkg.add(\"PyPlot\")` to install the PyPlot package.\u001b[39m",
      "",
      "Stacktrace:",
      " [1] \u001b[1m_require\u001b[22m\u001b[22m\u001b[1m(\u001b[22m\u001b[22m::Symbol\u001b[1m)\u001b[22m\u001b[22m at \u001b[1m./loading.jl:435\u001b[22m\u001b[22m",
      " [2] \u001b[1mrequire\u001b[22m\u001b[22m\u001b[1m(\u001b[22m\u001b[22m::Symbol\u001b[1m)\u001b[22m\u001b[22m at \u001b[1m./loading.jl:405\u001b[22m\u001b[22m"
     ]
    }
   ],
   "source": [
    "# Plot the convergence behavior and the solution.\n",
    "using PyPlot\n",
    "\n",
    "line_type = [\"b-\",\"r-\",\"g-\",\"c-\",\"k-\"]\n",
    "figure(figsize=(15,5))\n",
    "for i = 1:length(n_spins_array)\n",
    "    semilogy(n_samples_array, , line_type[i])\n",
    "end\n",
    "title(\"Ipopt\")\n",
    "xlabel(\"M\")\n",
    "ylabel(\"t [s]\")\n",
    "#legend([\"Reference\", \"Implementation\"], loc=\"upper right\")"
   ]
  },
  {
   "cell_type": "code",
   "execution_count": null,
   "metadata": {},
   "outputs": [],
   "source": []
  }
 ],
 "metadata": {
  "kernelspec": {
   "display_name": "Julia 0.6.2",
   "language": "julia",
   "name": "julia-0.6"
  },
  "language_info": {
   "file_extension": ".jl",
   "mimetype": "application/julia",
   "name": "julia",
   "version": "0.6.2"
  }
 },
 "nbformat": 4,
 "nbformat_minor": 2
}
