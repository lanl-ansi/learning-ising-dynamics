{
 "cells": [
  {
   "cell_type": "markdown",
   "metadata": {},
   "source": [
    "## Solvers' Testing"
   ]
  },
  {
   "cell_type": "code",
   "execution_count": 1,
   "metadata": {},
   "outputs": [
    {
     "data": {
      "text/plain": [
       "3-element Array{Any,1}:\n",
       " \"/Applications/Julia-0.6.app/Contents/Resources/julia/local/share/julia/site/v0.6\"\n",
       " \"/Applications/Julia-0.6.app/Contents/Resources/julia/share/julia/site/v0.6\"      \n",
       " \"../src/\"                                                                         "
      ]
     },
     "execution_count": 1,
     "metadata": {},
     "output_type": "execute_result"
    }
   ],
   "source": [
    "# Add locations of modules\n",
    "push!(LOAD_PATH, \"../src/\")"
   ]
  },
  {
   "cell_type": "markdown",
   "metadata": {},
   "source": [
    "## Coordinate Descent"
   ]
  },
  {
   "cell_type": "markdown",
   "metadata": {},
   "source": [
    "## Test 1"
   ]
  },
  {
   "cell_type": "code",
   "execution_count": 2,
   "metadata": {},
   "outputs": [
    {
     "name": "stderr",
     "output_type": "stream",
     "text": [
      "\u001b[1m\u001b[36mINFO: \u001b[39m\u001b[22m\u001b[36mRecompiling stale cache file /Users/gogol/.julia/lib/v0.6/GraphicalModelLearning.ji for module GraphicalModelLearning.\n",
      "\u001b[39m\n",
      "WARNING: deprecated syntax \"inner constructor FactorGraph(...) around /Users/gogol/Dropbox (Personal)/Research/LANL/Code/GraphicalModelLearning/src/models.jl:13\".\n",
      "Use \"FactorGraph{T}(...) where T\" instead.\n",
      "\u001b[1m\u001b[36mINFO: \u001b[39m\u001b[22m\u001b[36massuming spin alphabet\n",
      "\u001b[39m\u001b[1m\u001b[36mINFO: \u001b[39m\u001b[22m\u001b[36musing Glauber dynamics v1 to generate samples\n",
      "\u001b[39mWARNING: using StatsBase.sample in module Main conflicts with an existing identifier.\n"
     ]
    },
    {
     "data": {
      "text/plain": [
       "8×4 Array{Int64,2}:\n",
       " 1309  -1  -1  -1\n",
       "  820  -1  -1   1\n",
       " 1306   1   1   1\n",
       "  182  -1   1  -1\n",
       "  848   1   1  -1\n",
       "  180   1  -1   1\n",
       "  180  -1   1   1\n",
       "  176   1  -1  -1"
      ]
     },
     "execution_count": 2,
     "metadata": {},
     "output_type": "execute_result"
    }
   ],
   "source": [
    "using GraphicalModelLearning\n",
    "\n",
    "srand(0)\n",
    "\n",
    "# Sample considering a simple factor graph\n",
    "model = FactorGraph([0.0 0.9 0.1; 0.9 0.0 0.1; 0.1 0.1 0.0])\n",
    "#model = FactorGraph([0.4 0.9 0.1; 0.9 0.4 0.1; 0.1 0.1 0.4])\n",
    "samples1 = sample(model, 5000)\n",
    "\n",
    "# Sample using the Gibbs Sampler\n",
    "n_samples = 100000\n",
    "samples_time_series, nodes_updated_time_series = gibbs_sampling(model, n_samples)\n",
    "\n",
    "# Every mth sample after burn in (Determining when burn-in happens?)\n",
    "t_burn_in = 50000\n",
    "m_samples = 10\n",
    "\n",
    "samples_iid = samples_time_series[t_burn_in:m_samples:n_samples,:]\n",
    "\n",
    "# Compare samples against those produced by direct method\n",
    "using StatsBase\n",
    "raw_binning = countmap(samples_iid)\n",
    "samples2 = [ vcat(raw_binning[i], 2*digits(i, 2, model.varible_count)-1) for i in keys(raw_binning)]\n",
    "samples2 = hcat(samples2...)'\n",
    "\n",
    "# Other trends to check samples after a long time are decorrelated and belong to the stationary distribution"
   ]
  },
  {
   "cell_type": "code",
   "execution_count": 3,
   "metadata": {},
   "outputs": [
    {
     "data": {
      "text/plain": [
       "8-element Array{Float64,1}:\n",
       " 0.261748 \n",
       " 0.163967 \n",
       " 0.261148 \n",
       " 0.0363927\n",
       " 0.169566 \n",
       " 0.0359928\n",
       " 0.0359928\n",
       " 0.035193 "
      ]
     },
     "execution_count": 3,
     "metadata": {},
     "output_type": "execute_result"
    }
   ],
   "source": [
    "samples2[:,1]/sum(samples2[:,1])"
   ]
  },
  {
   "cell_type": "code",
   "execution_count": 4,
   "metadata": {},
   "outputs": [
    {
     "data": {
      "text/plain": [
       "8-element Array{Float64,1}:\n",
       " 0.2614\n",
       " 0.1668\n",
       " 0.2532\n",
       " 0.0362\n",
       " 0.1786\n",
       " 0.0354\n",
       " 0.0348\n",
       " 0.0336"
      ]
     },
     "execution_count": 4,
     "metadata": {},
     "output_type": "execute_result"
    }
   ],
   "source": [
    "samples1[:,1]/sum(samples1[:,1])"
   ]
  },
  {
   "cell_type": "markdown",
   "metadata": {},
   "source": [
    "### Learning on iid samples"
   ]
  },
  {
   "cell_type": "code",
   "execution_count": 5,
   "metadata": {
    "scrolled": true
   },
   "outputs": [
    {
     "name": "stdout",
     "output_type": "stream",
     "text": [
      "\n",
      "******************************************************************************\n",
      "This program contains Ipopt, a library for large-scale nonlinear optimization.\n",
      " Ipopt is released as open source code under the Eclipse Public License (EPL).\n",
      "         For more information visit http://projects.coin-or.org/Ipopt\n",
      "******************************************************************************\n",
      "\n",
      "  7.718836 seconds (5.18 M allocations: 260.354 MiB, 1.27% gc time)\n",
      "  0.019887 seconds (5.27 k allocations: 363.656 KiB)\n"
     ]
    },
    {
     "name": "stderr",
     "output_type": "stream",
     "text": [
      "\u001b[1m\u001b[36mINFO: \u001b[39m\u001b[22m\u001b[36musing coordinate gradient solver for RISE\n",
      "\u001b[39m"
     ]
    },
    {
     "name": "stdout",
     "output_type": "stream",
     "text": [
      "  2.475346 seconds (1.00 M allocations: 52.261 MiB, 0.79% gc time)\n",
      "  0.001544 seconds (6.55 k allocations: 159.938 KiB)\n"
     ]
    },
    {
     "name": "stderr",
     "output_type": "stream",
     "text": [
      "\u001b[1m\u001b[36mINFO: \u001b[39m\u001b[22m\u001b[36musing coordinate gradient solver for RISE\n",
      "\u001b[39m\u001b[1m\u001b[36mINFO: \u001b[39m\u001b[22m\u001b[36musing coordinate gradient solver for RPLE\n",
      "\u001b[39m"
     ]
    },
    {
     "name": "stdout",
     "output_type": "stream",
     "text": [
      "  0.321572 seconds (188.65 k allocations: 8.759 MiB, 2.36% gc time)\n",
      "  0.006880 seconds (30.98 k allocations: 809.281 KiB)\n"
     ]
    },
    {
     "name": "stderr",
     "output_type": "stream",
     "text": [
      "\u001b[1m\u001b[36mINFO: \u001b[39m\u001b[22m\u001b[36musing coordinate gradient solver for RPLE\n",
      "\u001b[39m\u001b[1m\u001b[36mINFO: \u001b[39m\u001b[22m\u001b[36musing coordinate gradient solver for logRISE\n",
      "\u001b[39m"
     ]
    },
    {
     "name": "stdout",
     "output_type": "stream",
     "text": [
      "  0.340720 seconds (186.64 k allocations: 9.437 MiB)\n",
      "  0.001670 seconds (9.52 k allocations: 208.656 KiB)\n"
     ]
    },
    {
     "name": "stderr",
     "output_type": "stream",
     "text": [
      "\u001b[1m\u001b[36mINFO: \u001b[39m\u001b[22m\u001b[36musing coordinate gradient solver for logRISE\n",
      "\u001b[39m"
     ]
    },
    {
     "name": "stdout",
     "output_type": "stream",
     "text": [
      "[-0.00385463 0.880962 0.0986432; 0.880962 0.00991948 0.0762026; 0.0986432 0.0762026 -0.0209155]\n",
      "[-0.000826041 0.863831 0.104378; 0.863831 0.00735092 0.0961333; 0.104378 0.0961333 -0.0071306]\n",
      "[0.0 0.553234 0.115521; 0.553234 0.0 0.101588; 0.115521 0.101588 -0.00780131]\n",
      "[0.0 0.82061 0.0830133; 0.82061 0.0 0.120779; 0.0830133 0.120779 0.0]\n",
      "[0.0 0.674117 0.119962; 0.674117 0.0 0.0801117; 0.119962 0.0801117 -0.0142314]\n",
      "[0.0 0.691204 0.129965; 0.691204 0.0 0.100219; 0.129965 0.100219 -0.000428487]\n",
      "[0.0 0.669624 0.108235; 0.669624 0.0 0.0791189; 0.108235 0.0791189 0.0]\n",
      "[0.0 0.805056 0.0994766; 0.805056 0.0 0.105919; 0.0994766 0.105919 0.0]\n"
     ]
    }
   ],
   "source": [
    "# Can the FactorGraph be recovered?\n",
    "@time learned1 = learn(samples1)\n",
    "@time learned2 = learn(samples2)\n",
    "\n",
    "@time learned_cgd_rise1 = learn_cgd(samples1)\n",
    "@time learned_cgd_rise2 = learn_cgd(samples2)\n",
    "\n",
    "@time learned_cgd_rple1 = learn_cgd(samples1, RPLE())\n",
    "@time learned_cgd_rple2 = learn_cgd(samples2, RPLE())\n",
    "\n",
    "@time learned_cgd_logrise1 = learn_cgd(samples1, logRISE())\n",
    "@time learned_cgd_logrise2 = learn_cgd(samples2, logRISE())\n",
    "\n",
    "println(learned1)\n",
    "println(learned2)\n",
    "\n",
    "println(learned_cgd_rise1)\n",
    "println(learned_cgd_rise2)\n",
    "\n",
    "println(learned_cgd_rple1)\n",
    "println(learned_cgd_rple2)\n",
    "\n",
    "println(learned_cgd_logrise1)\n",
    "println(learned_cgd_logrise2)"
   ]
  },
  {
   "cell_type": "code",
   "execution_count": 5,
   "metadata": {},
   "outputs": [
    {
     "name": "stderr",
     "output_type": "stream",
     "text": [
      "\u001b[1m\u001b[36mINFO: \u001b[39m\u001b[22m\u001b[36musing coordinate descent solver for RISE\n",
      "\u001b[39m"
     ]
    },
    {
     "name": "stdout",
     "output_type": "stream",
     "text": [
      "  0.671387 seconds (424.58 k allocations: 20.727 MiB, 1.30% gc time)\n",
      "  0.000718 seconds (16.33 k allocations: 289.219 KiB)\n"
     ]
    },
    {
     "name": "stderr",
     "output_type": "stream",
     "text": [
      "\u001b[1m\u001b[36mINFO: \u001b[39m\u001b[22m\u001b[36musing coordinate descent solver for RISE\n",
      "\u001b[39m"
     ]
    },
    {
     "name": "stdout",
     "output_type": "stream",
     "text": [
      "  0.391253 seconds (237.72 k allocations: 11.212 MiB)\n",
      "  0.001147 seconds (19.34 k allocations: 341.500 KiB)\n"
     ]
    },
    {
     "name": "stderr",
     "output_type": "stream",
     "text": [
      "\u001b[1m\u001b[36mINFO: \u001b[39m\u001b[22m\u001b[36musing coordinate descent solver for logRISE\n",
      "\u001b[39m\u001b[1m\u001b[36mINFO: \u001b[39m\u001b[22m\u001b[36musing coordinate descent solver for logRISE\n",
      "\u001b[39m"
     ]
    },
    {
     "data": {
      "text/plain": [
       "3×3 Array{Float64,2}:\n",
       " -0.000790879  0.857271     0.0966116\n",
       "  0.857271     0.00732506   0.0897174\n",
       "  0.0966116    0.0897174   -0.0070327"
      ]
     },
     "execution_count": 5,
     "metadata": {},
     "output_type": "execute_result"
    }
   ],
   "source": [
    "@time learned_cd_rise1 = learn(samples1, RISE(), CD(1e-12))\n",
    "@time learned_cd_rise2 = learn(samples2, RISE(), CD(1e-12))\n",
    "\n",
    "@time learned_cd_rise1 = learn(samples1, logRISE(), CD(1e-12))\n",
    "@time learned_cd_rise2 = learn(samples2, logRISE(), CD(1e-12))\n",
    "\n",
    "#println(learned_cd_rise1)\n",
    "#println(learned_cd_rise2)"
   ]
  },
  {
   "cell_type": "markdown",
   "metadata": {},
   "source": [
    "### Learning on correlated samples -- T-regime"
   ]
  },
  {
   "cell_type": "code",
   "execution_count": 2,
   "metadata": {},
   "outputs": [
    {
     "name": "stderr",
     "output_type": "stream",
     "text": [
      "\u001b[1m\u001b[36mINFO: \u001b[39m\u001b[22m\u001b[36mRecompiling stale cache file /Users/gogol/.julia/lib/v0.6/GraphicalModelLearning.ji for module GraphicalModelLearning.\n",
      "\u001b[39m\n",
      "WARNING: deprecated syntax \"inner constructor FactorGraph(...) around /Users/gogol/Dropbox (Personal)/Research/LANL/Code/GraphicalModelLearning/src/models.jl:13\".\n",
      "Use \"FactorGraph{T}(...) where T\" instead.\n",
      "\u001b[1m\u001b[36mINFO: \u001b[39m\u001b[22m\u001b[36massuming spin alphabet\n",
      "\u001b[39m\u001b[1m\u001b[36mINFO: \u001b[39m\u001b[22m\u001b[36musing Glauber dynamics v1 to generate T-regime samples\n",
      "\u001b[39m"
     ]
    },
    {
     "name": "stdout",
     "output_type": "stream",
     "text": [
      "Done sampling"
     ]
    }
   ],
   "source": [
    "using GraphicalModelLearning\n",
    "\n",
    "srand(0)\n",
    "\n",
    "# Define Graphical Model\n",
    "model = FactorGraph([0.0 0.9 0.1; 0.9 0.0 0.1; 0.1 0.1 0.0])\n",
    "#model = FactorGraph([0.0 0.9; 0.9 0.0])\n",
    "#model = FactorGraph([0.4 0.9 0.1; 0.9 0.4 0.1; 0.1 0.1 0.4])\n",
    "\n",
    "n_samples = 5000\n",
    "# Plain sampling\n",
    "samples1 = sample(model, n_samples)\n",
    "\n",
    "# Gibbs Samples\n",
    "samples_T, samples_mixed = gibbs_sampling(model, n_samples, T_regime())\n",
    "#gibbs_output = gibbs_sampling(model, n_samples, T_regime())\n",
    "#samples_T = gibbs_output[1]\n",
    "#samples_mixed = gibbs_output[2]\n",
    "print(\"Done sampling\")"
   ]
  },
  {
   "cell_type": "code",
   "execution_count": 3,
   "metadata": {},
   "outputs": [
    {
     "data": {
      "text/plain": [
       "48×8 Array{Int64,2}:\n",
       "  54  1   1  -1   1  -1  -1   1\n",
       "  45  2   1   1  -1   1  -1  -1\n",
       "  37  3   1  -1   1   1  -1   1\n",
       "  45  2  -1  -1   1  -1   1   1\n",
       "  55  1   1   1   1  -1   1   1\n",
       "  10  1   1  -1   1   1  -1   1\n",
       " 182  3  -1  -1   1  -1  -1  -1\n",
       "  48  1  -1  -1   1   1  -1   1\n",
       " 352  1  -1  -1  -1  -1  -1  -1\n",
       " 182  3   1   1  -1   1   1   1\n",
       "  35  3  -1   1   1  -1   1   1\n",
       "  47  1   1   1  -1  -1   1  -1\n",
       " 339  1   1   1   1   1   1   1\n",
       "   ⋮                  ⋮        \n",
       " 126  3   1   1  -1   1   1  -1\n",
       " 114  3  -1  -1   1  -1  -1   1\n",
       "  39  1  -1   1  -1   1   1  -1\n",
       "   5  1  -1   1   1  -1   1   1\n",
       "  27  3  -1   1  -1  -1   1   1\n",
       "  64  1  -1  -1  -1   1  -1  -1\n",
       "   7  1  -1   1  -1  -1   1  -1\n",
       "  55  1  -1   1   1   1   1   1\n",
       "  47  2  -1   1   1  -1  -1   1\n",
       "  60  2   1  -1  -1   1   1  -1\n",
       "  29  3   1  -1  -1   1  -1   1\n",
       "  10  1   1  -1  -1   1  -1  -1"
      ]
     },
     "execution_count": 3,
     "metadata": {},
     "output_type": "execute_result"
    }
   ],
   "source": [
    "samples_T"
   ]
  },
  {
   "cell_type": "code",
   "execution_count": 4,
   "metadata": {},
   "outputs": [
    {
     "data": {
      "text/plain": [
       "8×4 Array{Int64,2}:\n",
       " 1323  -1  -1  -1\n",
       "  842  -1  -1   1\n",
       " 1214   1   1   1\n",
       "  164  -1   1  -1\n",
       "  888   1   1  -1\n",
       "  189   1  -1   1\n",
       "  174  -1   1   1\n",
       "  206   1  -1  -1"
      ]
     },
     "execution_count": 4,
     "metadata": {},
     "output_type": "execute_result"
    }
   ],
   "source": [
    "samples_mixed"
   ]
  },
  {
   "cell_type": "code",
   "execution_count": 5,
   "metadata": {},
   "outputs": [
    {
     "name": "stderr",
     "output_type": "stream",
     "text": [
      "\u001b[1m\u001b[36mINFO: \u001b[39m\u001b[22m\u001b[36musing JuMP for RISE\n",
      "\u001b[39m"
     ]
    },
    {
     "name": "stdout",
     "output_type": "stream",
     "text": [
      "\n",
      "******************************************************************************\n",
      "This program contains Ipopt, a library for large-scale nonlinear optimization.\n",
      " Ipopt is released as open source code under the Eclipse Public License (EPL).\n",
      "         For more information visit http://projects.coin-or.org/Ipopt\n",
      "******************************************************************************\n",
      "\n",
      "  7.855883 seconds (5.29 M allocations: 267.146 MiB, 1.34% gc time)\n"
     ]
    },
    {
     "data": {
      "text/plain": [
       "3×3 Array{Float64,2}:\n",
       " 0.0300259   0.857774    0.051578 \n",
       " 0.857774   -0.0392253   0.0903428\n",
       " 0.051578    0.0903428  -0.0326325"
      ]
     },
     "execution_count": 5,
     "metadata": {},
     "output_type": "execute_result"
    }
   ],
   "source": [
    "@time learned3 = learn_glauber_dynamics(samples_T, RISE())"
   ]
  },
  {
   "cell_type": "code",
   "execution_count": 6,
   "metadata": {},
   "outputs": [
    {
     "name": "stdout",
     "output_type": "stream",
     "text": [
      "  0.262247 seconds (98.31 k allocations: 5.002 MiB)\n"
     ]
    },
    {
     "name": "stderr",
     "output_type": "stream",
     "text": [
      "\u001b[1m\u001b[36mINFO: \u001b[39m\u001b[22m\u001b[36musing JuMP for logRISE\n",
      "\u001b[39m"
     ]
    },
    {
     "data": {
      "text/plain": [
       "3×3 Array{Float64,2}:\n",
       " 0.0295788   0.851016    0.0443866\n",
       " 0.851016   -0.0391159   0.0833681\n",
       " 0.0443866   0.0833681  -0.0328581"
      ]
     },
     "execution_count": 6,
     "metadata": {},
     "output_type": "execute_result"
    }
   ],
   "source": [
    "@time learned3 = learn_glauber_dynamics(samples_T, logRISE())"
   ]
  },
  {
   "cell_type": "code",
   "execution_count": 7,
   "metadata": {},
   "outputs": [
    {
     "name": "stderr",
     "output_type": "stream",
     "text": [
      "\u001b[1m\u001b[36mINFO: \u001b[39m\u001b[22m\u001b[36musing coordinate descent solver for RISE to learn Glauber dyamics\n",
      "\u001b[39m"
     ]
    },
    {
     "name": "stdout",
     "output_type": "stream",
     "text": [
      "  0.602921 seconds (413.70 k allocations: 19.933 MiB, 1.40% gc time)\n"
     ]
    },
    {
     "data": {
      "text/plain": [
       "3×3 Array{Float64,2}:\n",
       " 0.0300259   0.857774    0.051655 \n",
       " 0.857774   -0.0392252   0.0902334\n",
       " 0.051655    0.0902334  -0.032638 "
      ]
     },
     "execution_count": 7,
     "metadata": {},
     "output_type": "execute_result"
    }
   ],
   "source": [
    "@time learned4 = learn_glauber_dynamics(samples_T, RISE(), CD(1e-12))"
   ]
  },
  {
   "cell_type": "code",
   "execution_count": 10,
   "metadata": {},
   "outputs": [
    {
     "name": "stderr",
     "output_type": "stream",
     "text": [
      "\u001b[1m\u001b[36mINFO: \u001b[39m\u001b[22m\u001b[36musing coordinate descent solver for logRISE to learn Glauber dyamics\n",
      "\u001b[39m"
     ]
    },
    {
     "name": "stdout",
     "output_type": "stream",
     "text": [
      "  0.532190 seconds (364.20 k allocations: 16.879 MiB, 1.68% gc time)\n"
     ]
    },
    {
     "data": {
      "text/plain": [
       "3×3 Array{Float64,2}:\n",
       " 0.0295788   0.851016    0.0443828\n",
       " 0.851016   -0.0391159   0.0833734\n",
       " 0.0443828   0.0833734  -0.0328578"
      ]
     },
     "execution_count": 10,
     "metadata": {},
     "output_type": "execute_result"
    }
   ],
   "source": [
    "@time learned4 = learn_glauber_dynamics(samples_T, logRISE(), CD(1e-12))"
   ]
  },
  {
   "cell_type": "code",
   "execution_count": 9,
   "metadata": {},
   "outputs": [
    {
     "data": {
      "text/plain": [
       "3×3 Array{Float64,2}:\n",
       " 0.0319933   0.856709    0.0661006\n",
       " 0.856709   -0.0437774   0.100655 \n",
       " 0.0661006   0.100655   -0.0307446"
      ]
     },
     "execution_count": 9,
     "metadata": {},
     "output_type": "execute_result"
    }
   ],
   "source": [
    "learned4 = learn(samples_mixed)"
   ]
  },
  {
   "cell_type": "code",
   "execution_count": 61,
   "metadata": {},
   "outputs": [
    {
     "name": "stdout",
     "output_type": "stream",
     "text": [
      "  0.011214 seconds (91.09 k allocations: 1.962 MiB)\n"
     ]
    },
    {
     "name": "stderr",
     "output_type": "stream",
     "text": [
      "\u001b[1m\u001b[36mINFO: \u001b[39m\u001b[22m\u001b[36musing coordinate gradient solver for RISE\n",
      "\u001b[39m"
     ]
    },
    {
     "data": {
      "text/plain": [
       "3×3 Array{Float64,2}:\n",
       " 0.0137192   0.856471    0.0612671\n",
       " 0.856471   -0.027355    0.0979819\n",
       " 0.0612671   0.0979819  -0.0173443"
      ]
     },
     "execution_count": 61,
     "metadata": {},
     "output_type": "execute_result"
    }
   ],
   "source": [
    "@time learned4 = learn_glauber_dynamics_cgd(samples_T)"
   ]
  },
  {
   "cell_type": "code",
   "execution_count": 11,
   "metadata": {
    "scrolled": true
   },
   "outputs": [
    {
     "name": "stderr",
     "output_type": "stream",
     "text": [
      "\u001b[1m\u001b[36mINFO: \u001b[39m\u001b[22m\u001b[36musing coordinate gradient solver for RISE\n",
      "\u001b[39m"
     ]
    },
    {
     "name": "stdout",
     "output_type": "stream",
     "text": [
      "  0.018075 seconds (113.89 k allocations: 2.454 MiB)\n"
     ]
    },
    {
     "data": {
      "text/plain": [
       "3×3 Array{Float64,2}:\n",
       " 0.0137234   0.856503    0.0613336\n",
       " 0.856503   -0.0273728   0.0978732\n",
       " 0.0613336   0.0978732  -0.0173494"
      ]
     },
     "execution_count": 11,
     "metadata": {},
     "output_type": "execute_result"
    }
   ],
   "source": [
    "@time learned5 = learn_glauber_dynamics_cgd(samples_T, RISE(), 8.0, 1e-10)"
   ]
  },
  {
   "cell_type": "code",
   "execution_count": 12,
   "metadata": {},
   "outputs": [
    {
     "name": "stdout",
     "output_type": "stream",
     "text": [
      "  0.017757 seconds (129.83 k allocations: 2.797 MiB)\n"
     ]
    },
    {
     "name": "stderr",
     "output_type": "stream",
     "text": [
      "\u001b[1m\u001b[36mINFO: \u001b[39m\u001b[22m\u001b[36musing coordinate gradient solver for RISE\n",
      "\u001b[39m"
     ]
    },
    {
     "data": {
      "text/plain": [
       "3×3 Array{Float64,2}:\n",
       " 0.0137237   0.85651     0.0613362\n",
       " 0.85651    -0.0273761   0.0978637\n",
       " 0.0613362   0.0978637  -0.0173498"
      ]
     },
     "execution_count": 12,
     "metadata": {},
     "output_type": "execute_result"
    }
   ],
   "source": [
    "@time learned5 = learn_glauber_dynamics_cgd(samples_T, RISE(), 8.0, 1e-11)"
   ]
  },
  {
   "cell_type": "code",
   "execution_count": 13,
   "metadata": {},
   "outputs": [
    {
     "name": "stderr",
     "output_type": "stream",
     "text": [
      "\u001b[1m\u001b[36mINFO: \u001b[39m\u001b[22m\u001b[36musing coordinate gradient solver for RPLE\n",
      "\u001b[39m"
     ]
    },
    {
     "name": "stdout",
     "output_type": "stream",
     "text": [
      "  0.317433 seconds (275.36 k allocations: 11.259 MiB, 3.64% gc time)\n"
     ]
    },
    {
     "data": {
      "text/plain": [
       "3×3 Array{Float64,2}:\n",
       " 0.0191458   0.860655   0.0656544\n",
       " 0.860655   -0.030531   0.101443 \n",
       " 0.0656544   0.101443  -0.0236575"
      ]
     },
     "execution_count": 13,
     "metadata": {},
     "output_type": "execute_result"
    }
   ],
   "source": [
    "@time learned5 = learn_glauber_dynamics_cgd(samples_T, RPLE())"
   ]
  },
  {
   "cell_type": "code",
   "execution_count": 14,
   "metadata": {
    "scrolled": true
   },
   "outputs": [
    {
     "name": "stdout",
     "output_type": "stream",
     "text": [
      "  0.022029 seconds (170.83 k allocations: 3.840 MiB)\n"
     ]
    },
    {
     "name": "stderr",
     "output_type": "stream",
     "text": [
      "\u001b[1m\u001b[36mINFO: \u001b[39m\u001b[22m\u001b[36musing coordinate gradient solver for RPLE\n",
      "\u001b[39m"
     ]
    },
    {
     "data": {
      "text/plain": [
       "3×3 Array{Float64,2}:\n",
       " 0.0192199   0.860844    0.0656448\n",
       " 0.860844   -0.0305775   0.101365 \n",
       " 0.0656448   0.101365   -0.0236612"
      ]
     },
     "execution_count": 14,
     "metadata": {},
     "output_type": "execute_result"
    }
   ],
   "source": [
    "@time learned5 = learn_glauber_dynamics_cgd(samples_T, RPLE(), 8.0, 1e-10)"
   ]
  },
  {
   "cell_type": "code",
   "execution_count": 15,
   "metadata": {},
   "outputs": [
    {
     "name": "stderr",
     "output_type": "stream",
     "text": [
      "\u001b[1m\u001b[36mINFO: \u001b[39m\u001b[22m\u001b[36musing coordinate gradient solver for logRISE\n",
      "\u001b[39m"
     ]
    },
    {
     "name": "stdout",
     "output_type": "stream",
     "text": [
      "  0.431719 seconds (381.82 k allocations: 15.108 MiB, 1.86% gc time)\n"
     ]
    },
    {
     "data": {
      "text/plain": [
       "3×3 Array{Float64,2}:\n",
       " 0.00453186   0.848603    0.0532006\n",
       " 0.848603    -0.0189449   0.0907966\n",
       " 0.0532006    0.0907966  -0.0046365"
      ]
     },
     "execution_count": 15,
     "metadata": {},
     "output_type": "execute_result"
    }
   ],
   "source": [
    "@time learned5 = learn_glauber_dynamics_cgd(samples_T, logRISE())"
   ]
  },
  {
   "cell_type": "code",
   "execution_count": 16,
   "metadata": {},
   "outputs": [
    {
     "name": "stdout",
     "output_type": "stream",
     "text": [
      "  0.024551 seconds (245.76 k allocations: 4.840 MiB)\n"
     ]
    },
    {
     "name": "stderr",
     "output_type": "stream",
     "text": [
      "\u001b[1m\u001b[36mINFO: \u001b[39m\u001b[22m\u001b[36musing coordinate gradient solver for logRISE\n",
      "\u001b[39m"
     ]
    },
    {
     "data": {
      "text/plain": [
       "3×3 Array{Float64,2}:\n",
       " 0.00453198   0.848603    0.0533993 \n",
       " 0.848603    -0.0189449   0.0906347 \n",
       " 0.0533993    0.0906347  -0.00464917"
      ]
     },
     "execution_count": 16,
     "metadata": {},
     "output_type": "execute_result"
    }
   ],
   "source": [
    "@time learned5 = learn_glauber_dynamics_cgd(samples_T, logRISE(), 8.0, 1e-10)"
   ]
  },
  {
   "cell_type": "markdown",
   "metadata": {},
   "source": [
    "### Learning on correlated samples -- M-regime"
   ]
  },
  {
   "cell_type": "code",
   "execution_count": 2,
   "metadata": {},
   "outputs": [
    {
     "name": "stderr",
     "output_type": "stream",
     "text": [
      "\u001b[1m\u001b[36mINFO: \u001b[39m\u001b[22m\u001b[36mRecompiling stale cache file /Users/gogol/.julia/lib/v0.6/GraphicalModelLearning.ji for module GraphicalModelLearning.\n",
      "\u001b[39m\n",
      "WARNING: deprecated syntax \"inner constructor FactorGraph(...) around /Users/gogol/Dropbox (Personal)/Research/LANL/Code/GraphicalModelLearning/src/models.jl:13\".\n",
      "Use \"FactorGraph{T}(...) where T\" instead.\n",
      "\u001b[1m\u001b[36mINFO: \u001b[39m\u001b[22m\u001b[36massuming spin alphabet\n",
      "\u001b[39m\u001b[1m\u001b[36mINFO: \u001b[39m\u001b[22m\u001b[36musing Glauber dynamics v1 to generate M-regime samples\n",
      "\u001b[39m"
     ]
    },
    {
     "name": "stdout",
     "output_type": "stream",
     "text": [
      "Done sampling"
     ]
    }
   ],
   "source": [
    "using GraphicalModelLearning\n",
    "\n",
    "srand(0)\n",
    "\n",
    "# Define Graphical Model\n",
    "model = FactorGraph([0.0 0.9 0.1; 0.9 0.0 0.1; 0.1 0.1 0.0])\n",
    "#model = FactorGraph([0.4 0.9 0.1; 0.9 0.4 0.1; 0.1 0.1 0.4])\n",
    "#model = FactorGraph([0.0 0.3 0.2; 0.3 0.0 0.4; 0.2 0.4 0.0])\n",
    "\n",
    "n_samples = 10000\n",
    "# Plain sampling\n",
    "samples1 = sample(model, n_samples)\n",
    "\n",
    "# Gibbs Samples\n",
    "samples_M, samples_mixed = gibbs_sampling(model, n_samples, M_regime())\n",
    "#gibbs_output = gibbs_sampling(model, n_samples, T_regime())\n",
    "#samples_T = gibbs_output[1]\n",
    "#samples_mixed = gibbs_output[2]\n",
    "print(\"Done sampling\")"
   ]
  },
  {
   "cell_type": "code",
   "execution_count": 3,
   "metadata": {},
   "outputs": [
    {
     "data": {
      "text/plain": [
       "48×8 Array{Int64,2}:\n",
       " 211  3  -1   1   1  -1   1  -1\n",
       " 268  3  -1  -1  -1  -1  -1  -1\n",
       "  49  2   1  -1   1   1  -1   1\n",
       "  53  2  -1   1  -1  -1   1  -1\n",
       " 198  3   1  -1  -1   1  -1  -1\n",
       "  57  2   1   1   1   1  -1   1\n",
       " 151  3   1   1   1   1   1  -1\n",
       "  65  1   1   1  -1  -1   1  -1\n",
       " 380  1   1  -1   1  -1  -1   1\n",
       " 262  3  -1  -1   1  -1  -1  -1\n",
       " 336  1  -1   1  -1   1   1  -1\n",
       "  49  1   1   1   1  -1   1   1\n",
       " 368  2  -1  -1   1  -1  -1   1\n",
       "   ⋮                  ⋮        \n",
       " 172  3  -1  -1  -1  -1  -1   1\n",
       "  55  1  -1   1   1  -1   1   1\n",
       " 344  1  -1   1   1   1   1   1\n",
       "  52  1  -1  -1  -1   1  -1  -1\n",
       " 226  3   1   1   1   1   1   1\n",
       "  72  2   1  -1  -1   1  -1  -1\n",
       "  64  2  -1   1   1  -1   1   1\n",
       "  56  1   1  -1  -1   1  -1  -1\n",
       " 197  3  -1   1  -1  -1   1  -1\n",
       " 224  3  -1   1   1  -1   1   1\n",
       " 347  1  -1  -1   1  -1  -1   1\n",
       " 222  3   1  -1   1   1  -1  -1"
      ]
     },
     "execution_count": 3,
     "metadata": {},
     "output_type": "execute_result"
    }
   ],
   "source": [
    "samples_M"
   ]
  },
  {
   "cell_type": "code",
   "execution_count": 13,
   "metadata": {},
   "outputs": [
    {
     "data": {
      "text/plain": [
       "48×8 Array{Int64,2}:\n",
       "  25  3  -1   1   1  -1   1  -1\n",
       " 301  3  -1  -1  -1  -1  -1  -1\n",
       "  10  2   1  -1   1   1  -1   1\n",
       "   8  2  -1   1  -1  -1   1  -1\n",
       "  43  3   1  -1  -1   1  -1  -1\n",
       "  55  2   1   1   1   1  -1   1\n",
       " 175  3   1   1   1   1   1  -1\n",
       "  47  1   1   1  -1  -1   1  -1\n",
       "  54  1   1  -1   1  -1  -1   1\n",
       " 182  3  -1  -1   1  -1  -1  -1\n",
       "  39  1  -1   1  -1   1   1  -1\n",
       "  55  1   1   1   1  -1   1   1\n",
       " 219  2  -1  -1   1  -1  -1   1\n",
       "   ⋮                  ⋮        \n",
       " 175  3  -1  -1  -1  -1  -1   1\n",
       "   5  1  -1   1   1  -1   1   1\n",
       "  55  1  -1   1   1   1   1   1\n",
       "  64  1  -1  -1  -1   1  -1  -1\n",
       " 250  3   1   1   1   1   1   1\n",
       "  14  2   1  -1  -1   1  -1  -1\n",
       "   7  2  -1   1   1  -1   1   1\n",
       "  10  1   1  -1  -1   1  -1  -1\n",
       "  31  3  -1   1  -1  -1   1  -1\n",
       "  35  3  -1   1   1  -1   1   1\n",
       " 233  1  -1  -1   1  -1  -1   1\n",
       "  30  3   1  -1   1   1  -1  -1"
      ]
     },
     "execution_count": 13,
     "metadata": {},
     "output_type": "execute_result"
    }
   ],
   "source": [
    "samples_T"
   ]
  },
  {
   "cell_type": "code",
   "execution_count": 4,
   "metadata": {
    "scrolled": true
   },
   "outputs": [
    {
     "data": {
      "text/plain": [
       "8×4 Array{Int64,2}:\n",
       " 2030  -1  -1  -1\n",
       " 1808  -1  -1   1\n",
       " 1889   1   1   1\n",
       "  652  -1   1  -1\n",
       " 1621   1   1  -1\n",
       "  663   1  -1   1\n",
       "  672  -1   1   1\n",
       "  665   1  -1  -1"
      ]
     },
     "execution_count": 4,
     "metadata": {},
     "output_type": "execute_result"
    }
   ],
   "source": [
    "samples_mixed"
   ]
  },
  {
   "cell_type": "code",
   "execution_count": 5,
   "metadata": {},
   "outputs": [
    {
     "name": "stderr",
     "output_type": "stream",
     "text": [
      "\u001b[1m\u001b[36mINFO: \u001b[39m\u001b[22m\u001b[36musing JuMP for RISE\n",
      "\u001b[39m"
     ]
    },
    {
     "name": "stdout",
     "output_type": "stream",
     "text": [
      "\n",
      "******************************************************************************\n",
      "This program contains Ipopt, a library for large-scale nonlinear optimization.\n",
      " Ipopt is released as open source code under the Eclipse Public License (EPL).\n",
      "         For more information visit http://projects.coin-or.org/Ipopt\n",
      "******************************************************************************\n",
      "\n",
      "  7.603142 seconds (5.26 M allocations: 264.256 MiB, 1.33% gc time)\n"
     ]
    },
    {
     "data": {
      "text/plain": [
       "3×3 Array{Float64,2}:\n",
       " -0.0136387   0.869581   0.0746245 \n",
       "  0.869581   -0.0220767  0.0874464 \n",
       "  0.0746245   0.0874464  0.00346713"
      ]
     },
     "execution_count": 5,
     "metadata": {},
     "output_type": "execute_result"
    }
   ],
   "source": [
    "@time learned1 = learn_glauber_dynamics(samples_M)"
   ]
  },
  {
   "cell_type": "code",
   "execution_count": 6,
   "metadata": {},
   "outputs": [
    {
     "name": "stdout",
     "output_type": "stream",
     "text": [
      "  0.260733 seconds (98.14 k allocations: 4.995 MiB)\n"
     ]
    },
    {
     "name": "stderr",
     "output_type": "stream",
     "text": [
      "\u001b[1m\u001b[36mINFO: \u001b[39m\u001b[22m\u001b[36musing JuMP for logRISE\n",
      "\u001b[39m"
     ]
    },
    {
     "data": {
      "text/plain": [
       "3×3 Array{Float64,2}:\n",
       " -0.0137665   0.863962   0.0671916 \n",
       "  0.863962   -0.0221965  0.0801299 \n",
       "  0.0671916   0.0801299  0.00310045"
      ]
     },
     "execution_count": 6,
     "metadata": {},
     "output_type": "execute_result"
    }
   ],
   "source": [
    "@time learned1 = learn_glauber_dynamics(samples_M, logRISE())"
   ]
  },
  {
   "cell_type": "code",
   "execution_count": 13,
   "metadata": {},
   "outputs": [
    {
     "name": "stdout",
     "output_type": "stream",
     "text": [
      "  0.001472 seconds (24.70 k allocations: 429.656 KiB)\n"
     ]
    },
    {
     "name": "stderr",
     "output_type": "stream",
     "text": [
      "\u001b[1m\u001b[36mINFO: \u001b[39m\u001b[22m\u001b[36musing coordinate descent solver for RISE to learn Glauber dyamics\n",
      "\u001b[39m"
     ]
    },
    {
     "data": {
      "text/plain": [
       "3×3 Array{Float64,2}:\n",
       " -0.0136387   0.869581   0.0746245 \n",
       "  0.869581   -0.0220767  0.0874464 \n",
       "  0.0746245   0.0874464  0.00346711"
      ]
     },
     "execution_count": 13,
     "metadata": {},
     "output_type": "execute_result"
    }
   ],
   "source": [
    "@time learned1 = learn_glauber_dynamics(samples_M, RISE(), CD(1e-12))"
   ]
  },
  {
   "cell_type": "code",
   "execution_count": 14,
   "metadata": {},
   "outputs": [
    {
     "name": "stdout",
     "output_type": "stream",
     "text": [
      "  0.001329 seconds (21.01 k allocations: 367.844 KiB)\n"
     ]
    },
    {
     "name": "stderr",
     "output_type": "stream",
     "text": [
      "\u001b[1m\u001b[36mINFO: \u001b[39m\u001b[22m\u001b[36musing coordinate descent solver for logRISE to learn Glauber dyamics\n",
      "\u001b[39m"
     ]
    },
    {
     "data": {
      "text/plain": [
       "3×3 Array{Float64,2}:\n",
       " -0.0137665   0.863962   0.0671915 \n",
       "  0.863962   -0.0221965  0.0801298 \n",
       "  0.0671915   0.0801298  0.00310044"
      ]
     },
     "execution_count": 14,
     "metadata": {},
     "output_type": "execute_result"
    }
   ],
   "source": [
    "@time learned1 = learn_glauber_dynamics(samples_M, logRISE(), CD(1e-12))"
   ]
  },
  {
   "cell_type": "code",
   "execution_count": 13,
   "metadata": {},
   "outputs": [
    {
     "data": {
      "text/plain": [
       "3×3 Array{Float64,2}:\n",
       " -0.0219749   0.497947   0.0213356 \n",
       "  0.497947   -0.0235339  0.0296025 \n",
       "  0.0213356   0.0296025  0.00821935"
      ]
     },
     "execution_count": 13,
     "metadata": {},
     "output_type": "execute_result"
    }
   ],
   "source": [
    "learned2 = learn(samples_mixed)"
   ]
  },
  {
   "cell_type": "code",
   "execution_count": 67,
   "metadata": {},
   "outputs": [
    {
     "name": "stdout",
     "output_type": "stream",
     "text": [
      "  0.002986 seconds (18.16 k allocations: 399.094 KiB)\n"
     ]
    },
    {
     "name": "stderr",
     "output_type": "stream",
     "text": [
      "\u001b[1m\u001b[36mINFO: \u001b[39m\u001b[22m\u001b[36musing coordinate gradient solver for RISE\n",
      "\u001b[39m"
     ]
    },
    {
     "data": {
      "text/plain": [
       "3×3 Array{Float64,2}:\n",
       " 0.0         0.182647   0.00922189\n",
       " 0.182647    0.0        0.0208984 \n",
       " 0.00922189  0.0208984  0.0       "
      ]
     },
     "execution_count": 67,
     "metadata": {},
     "output_type": "execute_result"
    }
   ],
   "source": [
    "@time learned1 = learn_glauber_dynamics_cgd(samples_M)"
   ]
  },
  {
   "cell_type": "code",
   "execution_count": 66,
   "metadata": {},
   "outputs": [
    {
     "name": "stdout",
     "output_type": "stream",
     "text": [
      "  0.028327 seconds (6.20 k allocations: 397.609 KiB)\n"
     ]
    },
    {
     "data": {
      "text/plain": [
       "3×3 Array{Float64,2}:\n",
       " 0.0132895   0.496226    0.0197846\n",
       " 0.496226   -0.0148107   0.0374478\n",
       " 0.0197846   0.0374478  -0.012612 "
      ]
     },
     "execution_count": 66,
     "metadata": {},
     "output_type": "execute_result"
    }
   ],
   "source": [
    "@time learned2 = learn(samples_mixed)"
   ]
  },
  {
   "cell_type": "markdown",
   "metadata": {},
   "source": [
    "### Large N Graphical Models"
   ]
  },
  {
   "cell_type": "code",
   "execution_count": 50,
   "metadata": {},
   "outputs": [
    {
     "name": "stderr",
     "output_type": "stream",
     "text": [
      "\u001b[1m\u001b[36mINFO: \u001b[39m\u001b[22m\u001b[36massuming spin alphabet\n",
      "\u001b[39m"
     ]
    },
    {
     "name": "stdout",
     "output_type": "stream",
     "text": [
      "  0.044406 seconds (88.44 k allocations: 6.481 MiB)\n"
     ]
    },
    {
     "data": {
      "text/plain": [
       "1009×11 Array{Int64,2}:\n",
       "  12  -1   1  -1  -1   1   1  -1  -1   1  -1\n",
       "  12   1  -1   1   1   1  -1  -1  -1  -1  -1\n",
       " 166  -1   1  -1   1  -1  -1   1  -1  -1  -1\n",
       "   5   1  -1  -1   1  -1  -1  -1   1   1   1\n",
       "  26  -1  -1  -1  -1   1   1  -1   1  -1  -1\n",
       "   7  -1  -1   1   1   1   1   1  -1   1   1\n",
       "  11   1  -1   1   1   1  -1  -1  -1   1  -1\n",
       "   2  -1   1   1   1   1   1  -1  -1   1  -1\n",
       "   2   1  -1  -1   1  -1   1   1  -1   1   1\n",
       " 258   1   1   1   1  -1  -1   1   1   1   1\n",
       "  47  -1   1  -1  -1  -1   1   1  -1   1  -1\n",
       "  70  -1   1  -1  -1  -1   1   1  -1  -1   1\n",
       "  25   1   1  -1  -1   1   1  -1  -1  -1   1\n",
       "   ⋮                   ⋮                   ⋮\n",
       "   4  -1  -1   1   1  -1   1  -1  -1   1   1\n",
       "  10  -1  -1  -1   1   1   1   1  -1  -1   1\n",
       "  11  -1  -1   1  -1   1   1   1   1   1   1\n",
       "  16  -1   1  -1   1  -1   1   1  -1  -1   1\n",
       "   3   1  -1   1  -1   1  -1   1  -1   1  -1\n",
       "  83  -1   1  -1   1   1   1  -1   1  -1  -1\n",
       "   3   1  -1  -1  -1  -1  -1   1  -1   1  -1\n",
       "  24  -1  -1   1  -1  -1   1  -1   1   1  -1\n",
       " 849  -1   1   1  -1  -1  -1  -1  -1  -1  -1\n",
       "  17  -1  -1  -1   1   1  -1   1  -1   1   1\n",
       "  73  -1   1  -1  -1  -1  -1   1  -1   1  -1\n",
       " 348  -1   1  -1   1   1  -1   1   1  -1  -1"
      ]
     },
     "execution_count": 50,
     "metadata": {},
     "output_type": "execute_result"
    }
   ],
   "source": [
    "using GraphicalModelLearning\n",
    "\n",
    "# Create a random graphical model\n",
    "N_spins = 10\n",
    "N_samples = 100000\n",
    "d_max = 3\n",
    "density_gm = d_max/N_spins\n",
    "\n",
    "F1 = sprand(N_spins,N_spins,density_gm)\n",
    "F1 = 0.5*(F1 + transpose(F1))\n",
    "\n",
    "F1 = full(F1)\n",
    "\n",
    "model = FactorGraph(F1)\n",
    "@time samples1 = sample(model, N_samples)"
   ]
  },
  {
   "cell_type": "code",
   "execution_count": 51,
   "metadata": {},
   "outputs": [
    {
     "name": "stdout",
     "output_type": "stream",
     "text": [
      "  1.022895 seconds (1.66 M allocations: 183.636 MiB, 17.60% gc time)\n",
      "  0.876679 seconds (1.66 M allocations: 183.637 MiB, 2.82% gc time)\n"
     ]
    },
    {
     "name": "stderr",
     "output_type": "stream",
     "text": [
      "\u001b[1m\u001b[36mINFO: \u001b[39m\u001b[22m\u001b[36musing coordinate gradient solver for RISE\n",
      "\u001b[39m"
     ]
    },
    {
     "name": "stdout",
     "output_type": "stream",
     "text": [
      "  1.288674 seconds (48.20 M allocations: 806.876 MiB, 6.13% gc time)\n"
     ]
    },
    {
     "name": "stderr",
     "output_type": "stream",
     "text": [
      "\u001b[1m\u001b[36mINFO: \u001b[39m\u001b[22m\u001b[36musing coordinate gradient solver for RISE\n",
      "\u001b[39m"
     ]
    },
    {
     "name": "stdout",
     "output_type": "stream",
     "text": [
      "  1.401945 seconds (55.69 M allocations: 932.224 MiB, 5.79% gc time)\n"
     ]
    },
    {
     "data": {
      "text/plain": [
       "10×10 Array{Float64,2}:\n",
       " 0.00199484  0.0         0.427628   …  0.00865155   0.246083    0.00544317\n",
       " 0.0         0.614433    0.0052952     0.0415487    0.105921    0.00591136\n",
       " 0.427628    0.0052952   0.13687       0.0130668    0.165301    0.0       \n",
       " 0.228291    0.0         0.0           0.453157     0.0607459   0.0576528 \n",
       " 0.215814    0.0468684   0.0           0.166347     0.0338914   0.38767   \n",
       " 0.21193     0.0968438   0.126132   …  0.000451817  0.0         0.0       \n",
       " 0.0702882   0.0         0.0           0.0247585    0.0        -0.0143422 \n",
       " 0.00865155  0.0415487   0.0130668     0.16428      0.235174    0.0612548 \n",
       " 0.246083    0.105921    0.165301      0.235174     0.0761064   0.536904  \n",
       " 0.00544317  0.00591136  0.0           0.0612548    0.536904    0.0       "
      ]
     },
     "execution_count": 51,
     "metadata": {},
     "output_type": "execute_result"
    }
   ],
   "source": [
    "@time learned1 = learn(samples1)\n",
    "@time learned2 = learn(samples1)\n",
    "\n",
    "@time learned_cgd_rise1 = learn_cgd(samples1)\n",
    "@time learned_cgd_rise2 = learn_cgd(samples1)"
   ]
  },
  {
   "cell_type": "code",
   "execution_count": 52,
   "metadata": {},
   "outputs": [
    {
     "data": {
      "text/plain": [
       "10×10 Array{Float64,2}:\n",
       " 0.0        0.0        0.426423  …  0.0        0.250543   0.0      \n",
       " 0.0        0.617477   0.0          0.0        0.113561   0.0      \n",
       " 0.426423   0.0        0.149453     0.0        0.166875   0.0      \n",
       " 0.240953   0.0        0.0          0.439501   0.055724   0.0333312\n",
       " 0.21271    0.0597777  0.0          0.215525   0.0357375  0.417942 \n",
       " 0.216005   0.10439    0.126462  …  0.0        0.0        0.0      \n",
       " 0.0691028  0.0        0.0          0.0297661  0.0        0.0      \n",
       " 0.0        0.0        0.0          0.242806   0.277266   0.0      \n",
       " 0.250543   0.113561   0.166875     0.277266   0.0777402  0.554626 \n",
       " 0.0        0.0        0.0          0.0        0.554626   0.0      "
      ]
     },
     "execution_count": 52,
     "metadata": {},
     "output_type": "execute_result"
    }
   ],
   "source": [
    "F1"
   ]
  },
  {
   "cell_type": "code",
   "execution_count": 43,
   "metadata": {},
   "outputs": [
    {
     "name": "stdout",
     "output_type": "stream",
     "text": [
      "  0.032342 seconds (31.83 k allocations: 3.786 MiB)\n"
     ]
    },
    {
     "name": "stderr",
     "output_type": "stream",
     "text": [
      "\u001b[1m\u001b[33mWARNING: \u001b[39m\u001b[22m\u001b[33msign(A::AbstractArray) is deprecated, use sign.(A) instead.\u001b[39m\n",
      "Stacktrace:\n",
      " [1] \u001b[1mdepwarn\u001b[22m\u001b[22m\u001b[1m(\u001b[22m\u001b[22m::String, ::Symbol\u001b[1m)\u001b[22m\u001b[22m at \u001b[1m./deprecated.jl:70\u001b[22m\u001b[22m\n",
      " [2] \u001b[1msign\u001b[22m\u001b[22m\u001b[1m(\u001b[22m\u001b[22m::Array{Float64,2}\u001b[1m)\u001b[22m\u001b[22m at \u001b[1m./deprecated.jl:57\u001b[22m\u001b[22m\n",
      " [3] \u001b[1minclude_string\u001b[22m\u001b[22m\u001b[1m(\u001b[22m\u001b[22m::String, ::String\u001b[1m)\u001b[22m\u001b[22m at \u001b[1m./loading.jl:522\u001b[22m\u001b[22m\n",
      " [4] \u001b[1mexecute_request\u001b[22m\u001b[22m\u001b[1m(\u001b[22m\u001b[22m::ZMQ.Socket, ::IJulia.Msg\u001b[1m)\u001b[22m\u001b[22m at \u001b[1m/Users/gogol/.julia/v0.6/IJulia/src/execute_request.jl:158\u001b[22m\u001b[22m\n",
      " [5] \u001b[1m(::Compat.#inner#18{Array{Any,1},IJulia.#execute_request,Tuple{ZMQ.Socket,IJulia.Msg}})\u001b[22m\u001b[22m\u001b[1m(\u001b[22m\u001b[22m\u001b[1m)\u001b[22m\u001b[22m at \u001b[1m/Users/gogol/.julia/v0.6/Compat/src/Compat.jl:386\u001b[22m\u001b[22m\n",
      " [6] \u001b[1meventloop\u001b[22m\u001b[22m\u001b[1m(\u001b[22m\u001b[22m::ZMQ.Socket\u001b[1m)\u001b[22m\u001b[22m at \u001b[1m/Users/gogol/.julia/v0.6/IJulia/src/eventloop.jl:8\u001b[22m\u001b[22m\n",
      " [7] \u001b[1m(::IJulia.##14#17)\u001b[22m\u001b[22m\u001b[1m(\u001b[22m\u001b[22m\u001b[1m)\u001b[22m\u001b[22m at \u001b[1m./task.jl:335\u001b[22m\u001b[22m\n",
      "while loading In[43], in expression starting on line 12\n",
      "\u001b[1m\u001b[36mINFO: \u001b[39m\u001b[22m\u001b[36massuming spin alphabet\n",
      "\u001b[39m"
     ]
    },
    {
     "data": {
      "text/plain": [
       "17×11 Array{Int64,2}:\n",
       "     2  -1  -1  -1  -1  -1   1  -1  -1  -1  -1\n",
       "     4  -1   1  -1  -1  -1  -1  -1  -1  -1  -1\n",
       "   239  -1   1   1   1   1   1   1   1   1   1\n",
       "     2  -1  -1  -1  -1   1  -1  -1  -1  -1  -1\n",
       "    38   1   1   1   1   1  -1   1   1   1   1\n",
       "     3   1   1   1   1  -1   1   1   1   1  -1\n",
       "  1849  -1  -1  -1  -1  -1  -1  -1  -1  -1  -1\n",
       "     8   1   1   1   1   1   1  -1   1   1   1\n",
       "    27   1   1  -1   1   1   1   1   1   1   1\n",
       "     1   1   1  -1   1  -1   1   1   1   1   1\n",
       "     4  -1   1  -1   1   1   1   1   1   1   1\n",
       "    25   1   1   1   1  -1   1   1   1   1   1\n",
       " 97759   1   1   1   1   1   1   1   1   1   1\n",
       "     3  -1  -1  -1  -1  -1  -1  -1  -1  -1   1\n",
       "    33   1   1   1   1   1   1   1   1   1  -1\n",
       "     1   1  -1   1   1   1   1   1   1   1   1\n",
       "     2   1  -1  -1  -1  -1  -1  -1  -1  -1  -1"
      ]
     },
     "execution_count": 43,
     "metadata": {},
     "output_type": "execute_result"
    }
   ],
   "source": [
    "using GraphicalModelLearning\n",
    "\n",
    "# Create a random graphical model\n",
    "N_spins = 10\n",
    "N_samples = 100000\n",
    "d_max = 3\n",
    "density_gm = d_max/N_spins\n",
    "\n",
    "F1 = sprand(N_spins,N_spins,density_gm)\n",
    "F1 = 0.5*(F1 + transpose(F1))\n",
    "\n",
    "F1 = sign.(full(F1))\n",
    "\n",
    "model = FactorGraph(F1)\n",
    "@time samples1 = sample(model, N_samples)"
   ]
  },
  {
   "cell_type": "code",
   "execution_count": 44,
   "metadata": {},
   "outputs": [
    {
     "name": "stdout",
     "output_type": "stream",
     "text": [
      "  0.137082 seconds (46.04 k allocations: 4.708 MiB)\n",
      "  0.123117 seconds (46.04 k allocations: 4.708 MiB)\n"
     ]
    },
    {
     "name": "stderr",
     "output_type": "stream",
     "text": [
      "\u001b[1m\u001b[36mINFO: \u001b[39m\u001b[22m\u001b[36musing coordinate gradient solver for RISE\n",
      "\u001b[39m"
     ]
    },
    {
     "name": "stdout",
     "output_type": "stream",
     "text": [
      "  5.567424 seconds (71.29 M allocations: 1.281 GiB, 3.26% gc time)\n"
     ]
    },
    {
     "name": "stderr",
     "output_type": "stream",
     "text": [
      "\u001b[1m\u001b[36mINFO: \u001b[39m\u001b[22m\u001b[36musing coordinate gradient solver for RISE\n",
      "\u001b[39m"
     ]
    },
    {
     "name": "stdout",
     "output_type": "stream",
     "text": [
      "  6.686495 seconds (86.60 M allocations: 1.555 GiB, 3.20% gc time)\n"
     ]
    },
    {
     "data": {
      "text/plain": [
       "10×10 Array{Float64,2}:\n",
       " 0.104432  0.478404  0.36409   0.296252  …  0.739646  0.340798  0.372659\n",
       " 0.478404  1.02587   0.435044  0.433103     0.49594   0.426568  0.345894\n",
       " 0.36409   0.435044  0.487701  0.40621      0.414062  0.500734  0.30407 \n",
       " 0.296252  0.433103  0.40621   0.479149     0.818452  0.578383  0.47726 \n",
       " 0.225612  0.280649  0.680348  0.441969     0.373381  0.729973  0.883473\n",
       " 0.250224  0.962323  0.402798  0.369127  …  0.711565  0.406131  0.25307 \n",
       " 0.262815  0.72944   0.474294  0.434483     0.511948  0.531137  0.33579 \n",
       " 0.739646  0.49594   0.414062  0.818452     0.151754  0.492866  0.606765\n",
       " 0.340798  0.426568  0.500734  0.578383     0.492866  0.136219  0.380493\n",
       " 0.372659  0.345894  0.30407   0.47726      0.606765  0.380493  0.548194"
      ]
     },
     "execution_count": 44,
     "metadata": {},
     "output_type": "execute_result"
    }
   ],
   "source": [
    "@time learned1 = learn(samples1)\n",
    "@time learned2 = learn(samples1)\n",
    "\n",
    "@time learned_cgd_rise1 = learn_cgd(samples1)\n",
    "@time learned_cgd_rise2 = learn_cgd(samples1)\n",
    "\n",
    "#@time learned_sgd_rise1 = learn_sgd(samples1)\n",
    "#@time learned_sgd_rise2 = learn_sgd(samples1)"
   ]
  },
  {
   "cell_type": "code",
   "execution_count": 45,
   "metadata": {},
   "outputs": [
    {
     "data": {
      "text/plain": [
       "10×10 Array{Float64,2}:\n",
       " 0.0  0.0  1.0  1.0  0.0  0.0  1.0  0.0  0.0  0.0\n",
       " 0.0  1.0  0.0  1.0  0.0  0.0  1.0  1.0  1.0  0.0\n",
       " 1.0  0.0  0.0  1.0  1.0  0.0  0.0  1.0  0.0  0.0\n",
       " 1.0  1.0  1.0  0.0  0.0  1.0  1.0  1.0  1.0  0.0\n",
       " 0.0  0.0  1.0  0.0  0.0  1.0  0.0  0.0  1.0  1.0\n",
       " 0.0  0.0  0.0  1.0  1.0  0.0  0.0  1.0  1.0  0.0\n",
       " 1.0  1.0  0.0  1.0  0.0  0.0  0.0  1.0  0.0  1.0\n",
       " 0.0  1.0  1.0  1.0  0.0  1.0  1.0  0.0  1.0  1.0\n",
       " 0.0  1.0  0.0  1.0  1.0  1.0  0.0  1.0  1.0  1.0\n",
       " 0.0  0.0  0.0  0.0  1.0  0.0  1.0  1.0  1.0  0.0"
      ]
     },
     "execution_count": 45,
     "metadata": {},
     "output_type": "execute_result"
    }
   ],
   "source": [
    "F1"
   ]
  },
  {
   "cell_type": "code",
   "execution_count": 48,
   "metadata": {},
   "outputs": [
    {
     "data": {
      "text/plain": [
       "10×10 Array{Float64,2}:\n",
       " 0.363398     0.000152139  0.998232     …  0.269543  0.269543  3.38883e-5 \n",
       " 0.000152139  1.64555      0.000333802     0.637412  0.637639  9.76061e-5 \n",
       " 0.998232     0.000333802  0.829737        0.186376  0.186355  7.22393e-5 \n",
       " 0.269543     0.637412     0.186376        2.17459   2.17097   0.290854   \n",
       " 3.57279e-5   0.000119345  1.14516         0.111397  0.111395  1.3384     \n",
       " 3.36551e-5   0.000110999  0.000107648  …  0.512129  0.512127  4.5451e-5  \n",
       " 0.000179216  0.000862972  0.000196304     0.582907  0.582752  0.000247517\n",
       " 0.269543     0.637412     0.186376        1.98236   2.17313   0.290854   \n",
       " 0.269543     0.637639     0.186355        2.17313   1.98236   0.290853   \n",
       " 3.38883e-5   9.76061e-5   7.22393e-5      0.290854  0.290853  0.858315   "
      ]
     },
     "execution_count": 48,
     "metadata": {},
     "output_type": "execute_result"
    }
   ],
   "source": [
    "learned1"
   ]
  },
  {
   "cell_type": "code",
   "execution_count": 47,
   "metadata": {},
   "outputs": [
    {
     "data": {
      "text/plain": [
       "10×10 Array{Float64,2}:\n",
       " 0.104432  0.478404  0.36409   0.296252  …  0.739646  0.340798  0.372659\n",
       " 0.478404  1.02587   0.435044  0.433103     0.49594   0.426568  0.345894\n",
       " 0.36409   0.435044  0.487701  0.40621      0.414062  0.500734  0.30407 \n",
       " 0.296252  0.433103  0.40621   0.479149     0.818452  0.578383  0.47726 \n",
       " 0.225612  0.280649  0.680348  0.441969     0.373381  0.729973  0.883473\n",
       " 0.250224  0.962323  0.402798  0.369127  …  0.711565  0.406131  0.25307 \n",
       " 0.262815  0.72944   0.474294  0.434483     0.511948  0.531137  0.33579 \n",
       " 0.739646  0.49594   0.414062  0.818452     0.151754  0.492866  0.606765\n",
       " 0.340798  0.426568  0.500734  0.578383     0.492866  0.136219  0.380493\n",
       " 0.372659  0.345894  0.30407   0.47726      0.606765  0.380493  0.548194"
      ]
     },
     "execution_count": 47,
     "metadata": {},
     "output_type": "execute_result"
    }
   ],
   "source": [
    "learned_cgd_rise2"
   ]
  }
 ],
 "metadata": {
  "kernelspec": {
   "display_name": "Julia 0.6.2",
   "language": "julia",
   "name": "julia-0.6"
  },
  "language_info": {
   "file_extension": ".jl",
   "mimetype": "application/julia",
   "name": "julia",
   "version": "0.6.2"
  }
 },
 "nbformat": 4,
 "nbformat_minor": 2
}
